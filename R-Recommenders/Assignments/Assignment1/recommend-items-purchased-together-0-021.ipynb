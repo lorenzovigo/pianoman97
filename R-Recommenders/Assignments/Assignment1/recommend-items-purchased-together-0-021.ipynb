{
 "cells": [
  {
   "cell_type": "markdown",
   "id": "fc4ede0b",
   "metadata": {
    "papermill": {
     "duration": 0.015986,
     "end_time": "2022-02-21T03:22:10.236893",
     "exception": false,
     "start_time": "2022-02-21T03:22:10.220907",
     "status": "completed"
    },
    "tags": []
   },
   "source": [
    "# Recommend Items Frequently Purchased Together\n",
    "This notebook demonstrates how recommending items that are frequently purchased together is effective. The current best scoring public notebook [here][1] recommends to customers those customers' last purchases and scores public LB 0.020. In this notebook here, we will begin with that idea and add recommending items that are frequently purchased together with a customers' previous purchaes. This notebook improves the LB and scores LB 0.021. This notebook's strategy is as follows:\n",
    "* recommend items previously purchased [idea here][1]\n",
    "* recommend items that are bought together with previous purchases [idea here][2]\n",
    "* recommend popular items [idea here][1]\n",
    "\n",
    "[1]: https://www.kaggle.com/hengzheng/time-is-our-best-friend-v2\n",
    "[2]: https://www.kaggle.com/cdeotte/customers-who-bought-this-frequently-buy-this"
   ]
  },
  {
   "cell_type": "markdown",
   "id": "96254c58",
   "metadata": {
    "papermill": {
     "duration": 0.012793,
     "end_time": "2022-02-21T03:22:10.265076",
     "exception": false,
     "start_time": "2022-02-21T03:22:10.252283",
     "status": "completed"
    },
    "tags": []
   },
   "source": [
    "# RAPIDS cuDF\n",
    "We will use RAPIDS cuDF for fast dataframe operations"
   ]
  },
  {
   "cell_type": "code",
   "execution_count": 4,
   "id": "6f358e05",
   "metadata": {
    "execution": {
     "iopub.execute_input": "2022-02-21T03:22:10.300845Z",
     "iopub.status.busy": "2022-02-21T03:22:10.300156Z",
     "iopub.status.idle": "2022-02-21T03:22:13.781265Z",
     "shell.execute_reply": "2022-02-21T03:22:13.780468Z",
     "shell.execute_reply.started": "2022-02-20T02:54:42.216493Z"
    },
    "papermill": {
     "duration": 3.503013,
     "end_time": "2022-02-21T03:22:13.781431",
     "exception": false,
     "start_time": "2022-02-21T03:22:10.278418",
     "status": "completed"
    },
    "tags": []
   },
   "outputs": [
    {
     "ename": "ModuleNotFoundError",
     "evalue": "No module named 'cudf'",
     "output_type": "error",
     "traceback": [
      "\u001b[1;31m---------------------------------------------------------------------------\u001b[0m",
      "\u001b[1;31mModuleNotFoundError\u001b[0m                       Traceback (most recent call last)",
      "\u001b[1;32m<ipython-input-4-c5a9b2f7c2a0>\u001b[0m in \u001b[0;36m<module>\u001b[1;34m\u001b[0m\n\u001b[1;32m----> 1\u001b[1;33m \u001b[1;32mimport\u001b[0m \u001b[0mcudf\u001b[0m\u001b[1;33m\u001b[0m\u001b[1;33m\u001b[0m\u001b[0m\n\u001b[0m\u001b[0;32m      2\u001b[0m \u001b[0mprint\u001b[0m\u001b[1;33m(\u001b[0m\u001b[1;34m'RAPIDS version'\u001b[0m\u001b[1;33m,\u001b[0m\u001b[0mcudf\u001b[0m\u001b[1;33m.\u001b[0m\u001b[0m__version__\u001b[0m\u001b[1;33m)\u001b[0m\u001b[1;33m\u001b[0m\u001b[1;33m\u001b[0m\u001b[0m\n",
      "\u001b[1;31mModuleNotFoundError\u001b[0m: No module named 'cudf'"
     ]
    }
   ],
   "source": [
    "import cudf\n",
    "print('RAPIDS version',cudf.__version__)"
   ]
  },
  {
   "cell_type": "markdown",
   "id": "984a7e19",
   "metadata": {
    "papermill": {
     "duration": 0.013428,
     "end_time": "2022-02-21T03:22:13.808784",
     "exception": false,
     "start_time": "2022-02-21T03:22:13.795356",
     "status": "completed"
    },
    "tags": []
   },
   "source": [
    "# Load Transactions, Reduce Memory\n",
    "Discussion about reducing memory is [here][1]\n",
    "\n",
    "[1]: https://www.kaggle.com/c/h-and-m-personalized-fashion-recommendations/discussion/308635"
   ]
  },
  {
   "cell_type": "code",
   "execution_count": 5,
   "id": "150f2fdb",
   "metadata": {
    "execution": {
     "iopub.execute_input": "2022-02-21T03:22:13.841806Z",
     "iopub.status.busy": "2022-02-21T03:22:13.841234Z",
     "iopub.status.idle": "2022-02-21T03:22:53.451761Z",
     "shell.execute_reply": "2022-02-21T03:22:53.451080Z",
     "shell.execute_reply.started": "2022-02-20T02:54:45.802481Z"
    },
    "papermill": {
     "duration": 39.629448,
     "end_time": "2022-02-21T03:22:53.451919",
     "exception": false,
     "start_time": "2022-02-21T03:22:13.822471",
     "status": "completed"
    },
    "tags": []
   },
   "outputs": [
    {
     "ename": "NameError",
     "evalue": "name 'cudf' is not defined",
     "output_type": "error",
     "traceback": [
      "\u001b[1;31m---------------------------------------------------------------------------\u001b[0m",
      "\u001b[1;31mNameError\u001b[0m                                 Traceback (most recent call last)",
      "\u001b[1;32m<ipython-input-5-6f2c5ab20be0>\u001b[0m in \u001b[0;36m<module>\u001b[1;34m\u001b[0m\n\u001b[1;32m----> 1\u001b[1;33m \u001b[0mtrain\u001b[0m \u001b[1;33m=\u001b[0m \u001b[0mcudf\u001b[0m\u001b[1;33m.\u001b[0m\u001b[0mread_csv\u001b[0m\u001b[1;33m(\u001b[0m\u001b[1;34m'../input/h-and-m-personalized-fashion-recommendations/transactions_train.csv'\u001b[0m\u001b[1;33m)\u001b[0m\u001b[1;33m\u001b[0m\u001b[1;33m\u001b[0m\u001b[0m\n\u001b[0m\u001b[0;32m      2\u001b[0m \u001b[0mtrain\u001b[0m\u001b[1;33m[\u001b[0m\u001b[1;34m'customer_id'\u001b[0m\u001b[1;33m]\u001b[0m \u001b[1;33m=\u001b[0m \u001b[0mtrain\u001b[0m\u001b[1;33m[\u001b[0m\u001b[1;34m'customer_id'\u001b[0m\u001b[1;33m]\u001b[0m\u001b[1;33m.\u001b[0m\u001b[0mstr\u001b[0m\u001b[1;33m[\u001b[0m\u001b[1;33m-\u001b[0m\u001b[1;36m16\u001b[0m\u001b[1;33m:\u001b[0m\u001b[1;33m]\u001b[0m\u001b[1;33m.\u001b[0m\u001b[0mstr\u001b[0m\u001b[1;33m.\u001b[0m\u001b[0mhex_to_int\u001b[0m\u001b[1;33m(\u001b[0m\u001b[1;33m)\u001b[0m\u001b[1;33m.\u001b[0m\u001b[0mastype\u001b[0m\u001b[1;33m(\u001b[0m\u001b[1;34m'int64'\u001b[0m\u001b[1;33m)\u001b[0m\u001b[1;33m\u001b[0m\u001b[1;33m\u001b[0m\u001b[0m\n\u001b[0;32m      3\u001b[0m \u001b[0mtrain\u001b[0m\u001b[1;33m[\u001b[0m\u001b[1;34m'article_id'\u001b[0m\u001b[1;33m]\u001b[0m \u001b[1;33m=\u001b[0m \u001b[0mtrain\u001b[0m\u001b[1;33m.\u001b[0m\u001b[0marticle_id\u001b[0m\u001b[1;33m.\u001b[0m\u001b[0mastype\u001b[0m\u001b[1;33m(\u001b[0m\u001b[1;34m'int32'\u001b[0m\u001b[1;33m)\u001b[0m\u001b[1;33m\u001b[0m\u001b[1;33m\u001b[0m\u001b[0m\n\u001b[0;32m      4\u001b[0m \u001b[0mtrain\u001b[0m\u001b[1;33m.\u001b[0m\u001b[0mt_dat\u001b[0m \u001b[1;33m=\u001b[0m \u001b[0mcudf\u001b[0m\u001b[1;33m.\u001b[0m\u001b[0mto_datetime\u001b[0m\u001b[1;33m(\u001b[0m\u001b[0mtrain\u001b[0m\u001b[1;33m.\u001b[0m\u001b[0mt_dat\u001b[0m\u001b[1;33m)\u001b[0m\u001b[1;33m\u001b[0m\u001b[1;33m\u001b[0m\u001b[0m\n\u001b[0;32m      5\u001b[0m \u001b[0mtrain\u001b[0m \u001b[1;33m=\u001b[0m \u001b[0mtrain\u001b[0m\u001b[1;33m[\u001b[0m\u001b[1;33m[\u001b[0m\u001b[1;34m't_dat'\u001b[0m\u001b[1;33m,\u001b[0m\u001b[1;34m'customer_id'\u001b[0m\u001b[1;33m,\u001b[0m\u001b[1;34m'article_id'\u001b[0m\u001b[1;33m]\u001b[0m\u001b[1;33m]\u001b[0m\u001b[1;33m\u001b[0m\u001b[1;33m\u001b[0m\u001b[0m\n",
      "\u001b[1;31mNameError\u001b[0m: name 'cudf' is not defined"
     ]
    }
   ],
   "source": [
    "train = cudf.read_csv('../input/h-and-m-personalized-fashion-recommendations/transactions_train.csv')\n",
    "train['customer_id'] = train['customer_id'].str[-16:].str.hex_to_int().astype('int64')\n",
    "train['article_id'] = train.article_id.astype('int32')\n",
    "train.t_dat = cudf.to_datetime(train.t_dat)\n",
    "train = train[['t_dat','customer_id','article_id']]\n",
    "train.to_parquet('train.pqt',index=False)\n",
    "print( train.shape )\n",
    "train.head()"
   ]
  },
  {
   "cell_type": "markdown",
   "id": "66df6c2d",
   "metadata": {
    "papermill": {
     "duration": 0.01429,
     "end_time": "2022-02-21T03:22:53.481166",
     "exception": false,
     "start_time": "2022-02-21T03:22:53.466876",
     "status": "completed"
    },
    "tags": []
   },
   "source": [
    "# Find Each Customer's Last Week of Purchases\n",
    "Our final predictions will have the row order from of our dataframe. Each row of our dataframe will be a prediction. We will create the `predictionstring` later by `train.groupby('customer_id').article_id.sum()`. Since `article_id` is a string, when we groupby sum, it will concatenate all the customer predictions into a single string. It will also create the string in the order of the dataframe. So as we proceed in this notebook, we will order the dataframe how we want our predictions ordered."
   ]
  },
  {
   "cell_type": "code",
   "execution_count": 3,
   "id": "f0ed058d",
   "metadata": {
    "execution": {
     "iopub.execute_input": "2022-02-21T03:22:53.516505Z",
     "iopub.status.busy": "2022-02-21T03:22:53.515834Z",
     "iopub.status.idle": "2022-02-21T03:22:53.694123Z",
     "shell.execute_reply": "2022-02-21T03:22:53.694511Z",
     "shell.execute_reply.started": "2022-02-20T02:55:25.311925Z"
    },
    "papermill": {
     "duration": 0.199411,
     "end_time": "2022-02-21T03:22:53.694658",
     "exception": false,
     "start_time": "2022-02-21T03:22:53.495247",
     "status": "completed"
    },
    "tags": []
   },
   "outputs": [
    {
     "name": "stdout",
     "output_type": "stream",
     "text": [
      "Train shape: (5181535, 5)\n"
     ]
    }
   ],
   "source": [
    "tmp = train.groupby('customer_id').t_dat.max().reset_index()\n",
    "tmp.columns = ['customer_id','max_dat']\n",
    "train = train.merge(tmp,on=['customer_id'],how='left')\n",
    "train['diff_dat'] = (train.max_dat - train.t_dat).dt.days\n",
    "train = train.loc[train['diff_dat']<=6]\n",
    "print('Train shape:',train.shape)"
   ]
  },
  {
   "cell_type": "markdown",
   "id": "e523861e",
   "metadata": {
    "papermill": {
     "duration": 0.014701,
     "end_time": "2022-02-21T03:22:53.726146",
     "exception": false,
     "start_time": "2022-02-21T03:22:53.711445",
     "status": "completed"
    },
    "tags": []
   },
   "source": [
    "# (1) Recommend Most Often Previously Purchased Items\n",
    "Note that many operations in cuDF will shuffle the order of the dataframe rows. Therefore we need to sort afterward because we want the most often previously purchased items first. Because this will be the order of our predictons. Since we sort by `ct` and then `t_dat` will will recommend items that have been purchased more frequently first followed by items purchased more recently second."
   ]
  },
  {
   "cell_type": "code",
   "execution_count": 4,
   "id": "1e26606b",
   "metadata": {
    "execution": {
     "iopub.execute_input": "2022-02-21T03:22:53.762836Z",
     "iopub.status.busy": "2022-02-21T03:22:53.762058Z",
     "iopub.status.idle": "2022-02-21T03:22:54.031596Z",
     "shell.execute_reply": "2022-02-21T03:22:54.031995Z",
     "shell.execute_reply.started": "2022-02-20T02:55:25.498521Z"
    },
    "papermill": {
     "duration": 0.291279,
     "end_time": "2022-02-21T03:22:54.032142",
     "exception": false,
     "start_time": "2022-02-21T03:22:53.740863",
     "status": "completed"
    },
    "tags": []
   },
   "outputs": [
    {
     "data": {
      "text/html": [
       "<div>\n",
       "<style scoped>\n",
       "    .dataframe tbody tr th:only-of-type {\n",
       "        vertical-align: middle;\n",
       "    }\n",
       "\n",
       "    .dataframe tbody tr th {\n",
       "        vertical-align: top;\n",
       "    }\n",
       "\n",
       "    .dataframe thead th {\n",
       "        text-align: right;\n",
       "    }\n",
       "</style>\n",
       "<table border=\"1\" class=\"dataframe\">\n",
       "  <thead>\n",
       "    <tr style=\"text-align: right;\">\n",
       "      <th></th>\n",
       "      <th>t_dat</th>\n",
       "      <th>customer_id</th>\n",
       "      <th>article_id</th>\n",
       "      <th>max_dat</th>\n",
       "      <th>diff_dat</th>\n",
       "      <th>ct</th>\n",
       "    </tr>\n",
       "  </thead>\n",
       "  <tbody>\n",
       "    <tr>\n",
       "      <th>1132992</th>\n",
       "      <td>2019-07-16</td>\n",
       "      <td>2729025827381139556</td>\n",
       "      <td>719348003</td>\n",
       "      <td>2019-07-16</td>\n",
       "      <td>0</td>\n",
       "      <td>100</td>\n",
       "    </tr>\n",
       "    <tr>\n",
       "      <th>63299</th>\n",
       "      <td>2018-10-04</td>\n",
       "      <td>4485518665254175540</td>\n",
       "      <td>557247001</td>\n",
       "      <td>2018-10-04</td>\n",
       "      <td>0</td>\n",
       "      <td>86</td>\n",
       "    </tr>\n",
       "    <tr>\n",
       "      <th>2148934</th>\n",
       "      <td>2020-03-06</td>\n",
       "      <td>-906958334866810496</td>\n",
       "      <td>852521001</td>\n",
       "      <td>2020-03-06</td>\n",
       "      <td>0</td>\n",
       "      <td>81</td>\n",
       "    </tr>\n",
       "    <tr>\n",
       "      <th>3392992</th>\n",
       "      <td>2020-07-06</td>\n",
       "      <td>3601599666106972342</td>\n",
       "      <td>685813001</td>\n",
       "      <td>2020-07-06</td>\n",
       "      <td>0</td>\n",
       "      <td>80</td>\n",
       "    </tr>\n",
       "    <tr>\n",
       "      <th>853856</th>\n",
       "      <td>2019-05-14</td>\n",
       "      <td>-4601407992705575197</td>\n",
       "      <td>695545001</td>\n",
       "      <td>2019-05-14</td>\n",
       "      <td>0</td>\n",
       "      <td>80</td>\n",
       "    </tr>\n",
       "  </tbody>\n",
       "</table>\n",
       "</div>"
      ],
      "text/plain": [
       "             t_dat          customer_id  article_id    max_dat  diff_dat   ct\n",
       "1132992 2019-07-16  2729025827381139556   719348003 2019-07-16         0  100\n",
       "63299   2018-10-04  4485518665254175540   557247001 2018-10-04         0   86\n",
       "2148934 2020-03-06  -906958334866810496   852521001 2020-03-06         0   81\n",
       "3392992 2020-07-06  3601599666106972342   685813001 2020-07-06         0   80\n",
       "853856  2019-05-14 -4601407992705575197   695545001 2019-05-14         0   80"
      ]
     },
     "execution_count": 4,
     "metadata": {},
     "output_type": "execute_result"
    }
   ],
   "source": [
    "tmp = train.groupby(['customer_id','article_id'])['t_dat'].agg('count').reset_index()\n",
    "tmp.columns = ['customer_id','article_id','ct']\n",
    "train = train.merge(tmp,on=['customer_id','article_id'],how='left')\n",
    "train = train.sort_values(['ct','t_dat'],ascending=False)\n",
    "train = train.drop_duplicates(['customer_id','article_id'])\n",
    "train = train.sort_values(['ct','t_dat'],ascending=False)\n",
    "train.head()"
   ]
  },
  {
   "cell_type": "markdown",
   "id": "26255bff",
   "metadata": {
    "papermill": {
     "duration": 0.015027,
     "end_time": "2022-02-21T03:22:54.062599",
     "exception": false,
     "start_time": "2022-02-21T03:22:54.047572",
     "status": "completed"
    },
    "tags": []
   },
   "source": [
    "# (2) Recommend Items Purchased Together\n",
    "In my notebook [here][1], we compute a dictionary of items frequently purchased together. We will load and use that dictionary below. Note that we use the command `drop_duplicates` so that we don't recommend an item that the user has already bought and we have already recommended above. We will need to use Pandas for some commands because RAPIDS cuDF doesn't have two conveinent commands, (1) create new column from dictionary map of another column (2) groupby aggregate strings sum.\n",
    "\n",
    "We concatenate these rows after the rows containing customers' previous purchases. Therefore we will recommend previous items first and then items purchased together second. Note the trick to convert a column of int32 into a prediction string (using groupby agg str sum) is from notebook [here][2]\n",
    "\n",
    "[1]: https://www.kaggle.com/cdeotte/customers-who-bought-this-frequently-buy-this\n",
    "[2]: https://www.kaggle.com/hiroshisakiyama/recommending-items-recently-bought"
   ]
  },
  {
   "cell_type": "code",
   "execution_count": 5,
   "id": "522ea238",
   "metadata": {
    "execution": {
     "iopub.execute_input": "2022-02-21T03:22:54.098631Z",
     "iopub.status.busy": "2022-02-21T03:22:54.097548Z",
     "iopub.status.idle": "2022-02-21T03:22:54.631455Z",
     "shell.execute_reply": "2022-02-21T03:22:54.630480Z",
     "shell.execute_reply.started": "2022-02-20T02:55:25.77994Z"
    },
    "papermill": {
     "duration": 0.553924,
     "end_time": "2022-02-21T03:22:54.631595",
     "exception": false,
     "start_time": "2022-02-21T03:22:54.077671",
     "status": "completed"
    },
    "tags": []
   },
   "outputs": [],
   "source": [
    "# USE PANDAS TO MAP COLUMN WITH DICTIONARY\n",
    "import pandas as pd, numpy as np\n",
    "train = train.to_pandas()\n",
    "pairs = np.load('../input/hmitempairs/pairs_cudf.npy',allow_pickle=True).item()\n",
    "train['article_id2'] = train.article_id.map(pairs)"
   ]
  },
  {
   "cell_type": "code",
   "execution_count": 6,
   "id": "6a131c54",
   "metadata": {
    "execution": {
     "iopub.execute_input": "2022-02-21T03:22:54.700415Z",
     "iopub.status.busy": "2022-02-21T03:22:54.699166Z",
     "iopub.status.idle": "2022-02-21T03:22:56.039765Z",
     "shell.execute_reply": "2022-02-21T03:22:56.040864Z",
     "shell.execute_reply.started": "2022-02-20T02:55:26.337365Z"
    },
    "papermill": {
     "duration": 1.393878,
     "end_time": "2022-02-21T03:22:56.041115",
     "exception": false,
     "start_time": "2022-02-21T03:22:54.647237",
     "status": "completed"
    },
    "tags": []
   },
   "outputs": [],
   "source": [
    "# RECOMMENDATION OF PAIRED ITEMS\n",
    "train2 = train[['customer_id','article_id2']].copy()\n",
    "train2 = train2.loc[train2.article_id2.notnull()]\n",
    "train2 = train2.drop_duplicates(['customer_id','article_id2'])\n",
    "train2 = train2.rename({'article_id2':'article_id'},axis=1)"
   ]
  },
  {
   "cell_type": "code",
   "execution_count": 7,
   "id": "5401a3ea",
   "metadata": {
    "execution": {
     "iopub.execute_input": "2022-02-21T03:22:56.108223Z",
     "iopub.status.busy": "2022-02-21T03:22:56.107455Z",
     "iopub.status.idle": "2022-02-21T03:22:58.228924Z",
     "shell.execute_reply": "2022-02-21T03:22:58.228465Z",
     "shell.execute_reply.started": "2022-02-20T02:55:27.629002Z"
    },
    "papermill": {
     "duration": 2.158594,
     "end_time": "2022-02-21T03:22:58.229051",
     "exception": false,
     "start_time": "2022-02-21T03:22:56.070457",
     "status": "completed"
    },
    "tags": []
   },
   "outputs": [],
   "source": [
    "# CONCATENATE PAIRED ITEM RECOMMENDATION AFTER PREVIOUS PURCHASED RECOMMENDATIONS\n",
    "train = train[['customer_id','article_id']]\n",
    "train = pd.concat([train,train2],axis=0,ignore_index=True)\n",
    "train.article_id = train.article_id.astype('int32')\n",
    "train = train.drop_duplicates(['customer_id','article_id'])"
   ]
  },
  {
   "cell_type": "code",
   "execution_count": 8,
   "id": "721a0173",
   "metadata": {
    "execution": {
     "iopub.execute_input": "2022-02-21T03:23:07.285060Z",
     "iopub.status.busy": "2022-02-21T03:23:07.103812Z",
     "iopub.status.idle": "2022-02-21T03:23:10.613441Z",
     "shell.execute_reply": "2022-02-21T03:23:10.612987Z",
     "shell.execute_reply.started": "2022-02-20T02:55:29.603253Z"
    },
    "papermill": {
     "duration": 12.368604,
     "end_time": "2022-02-21T03:23:10.613568",
     "exception": false,
     "start_time": "2022-02-21T03:22:58.244964",
     "status": "completed"
    },
    "tags": []
   },
   "outputs": [
    {
     "data": {
      "text/html": [
       "<div>\n",
       "<style scoped>\n",
       "    .dataframe tbody tr th:only-of-type {\n",
       "        vertical-align: middle;\n",
       "    }\n",
       "\n",
       "    .dataframe tbody tr th {\n",
       "        vertical-align: top;\n",
       "    }\n",
       "\n",
       "    .dataframe thead th {\n",
       "        text-align: right;\n",
       "    }\n",
       "</style>\n",
       "<table border=\"1\" class=\"dataframe\">\n",
       "  <thead>\n",
       "    <tr style=\"text-align: right;\">\n",
       "      <th></th>\n",
       "      <th>customer_id</th>\n",
       "      <th>prediction</th>\n",
       "    </tr>\n",
       "  </thead>\n",
       "  <tbody>\n",
       "    <tr>\n",
       "      <th>0</th>\n",
       "      <td>-9223352921020755230</td>\n",
       "      <td>0673396002 0812167004 0706016001 0812167002</td>\n",
       "    </tr>\n",
       "    <tr>\n",
       "      <th>1</th>\n",
       "      <td>-9223343869995384291</td>\n",
       "      <td>0908292002 0910601003 0865929007 0903926002 0...</td>\n",
       "    </tr>\n",
       "    <tr>\n",
       "      <th>2</th>\n",
       "      <td>-9223321797620987725</td>\n",
       "      <td>0580600006 0610776035 0688018003 0610776002</td>\n",
       "    </tr>\n",
       "    <tr>\n",
       "      <th>3</th>\n",
       "      <td>-9223319430705797669</td>\n",
       "      <td>0470985003 0504155001 0554477005 0562245001 0...</td>\n",
       "    </tr>\n",
       "    <tr>\n",
       "      <th>4</th>\n",
       "      <td>-9223308614576639426</td>\n",
       "      <td>0750423005 0750423001</td>\n",
       "    </tr>\n",
       "  </tbody>\n",
       "</table>\n",
       "</div>"
      ],
      "text/plain": [
       "           customer_id                                         prediction\n",
       "0 -9223352921020755230        0673396002 0812167004 0706016001 0812167002\n",
       "1 -9223343869995384291   0908292002 0910601003 0865929007 0903926002 0...\n",
       "2 -9223321797620987725        0580600006 0610776035 0688018003 0610776002\n",
       "3 -9223319430705797669   0470985003 0504155001 0554477005 0562245001 0...\n",
       "4 -9223308614576639426                              0750423005 0750423001"
      ]
     },
     "execution_count": 8,
     "metadata": {},
     "output_type": "execute_result"
    }
   ],
   "source": [
    "# CONVERT RECOMMENDATIONS INTO SINGLE STRING\n",
    "train.article_id = ' 0' + train.article_id.astype('str')\n",
    "preds = cudf.DataFrame( train.groupby('customer_id').article_id.sum().reset_index() )\n",
    "preds.columns = ['customer_id','prediction']\n",
    "preds.head()"
   ]
  },
  {
   "cell_type": "markdown",
   "id": "8ceec3eb",
   "metadata": {
    "papermill": {
     "duration": 0.01546,
     "end_time": "2022-02-21T03:23:10.644470",
     "exception": false,
     "start_time": "2022-02-21T03:23:10.629010",
     "status": "completed"
    },
    "tags": []
   },
   "source": [
    "# (3) Recommend Last Week's Most Popular Items\n",
    "After recommending previous purchases and items purchased together we will then recommend the 12 most popular items. Therefore if our previous recommendations did not fill up a customer's 12 recommendations, then it will be filled by popular items."
   ]
  },
  {
   "cell_type": "code",
   "execution_count": 9,
   "id": "42e794a9",
   "metadata": {
    "execution": {
     "iopub.execute_input": "2022-02-21T03:23:10.683514Z",
     "iopub.status.busy": "2022-02-21T03:23:10.682867Z",
     "iopub.status.idle": "2022-02-21T03:23:11.143593Z",
     "shell.execute_reply": "2022-02-21T03:23:11.144030Z",
     "shell.execute_reply.started": "2022-02-20T02:55:42.705679Z"
    },
    "papermill": {
     "duration": 0.484118,
     "end_time": "2022-02-21T03:23:11.144185",
     "exception": false,
     "start_time": "2022-02-21T03:23:10.660067",
     "status": "completed"
    },
    "tags": []
   },
   "outputs": [
    {
     "name": "stdout",
     "output_type": "stream",
     "text": [
      "Last week's top 12 popular items:\n",
      " 0924243001 0924243002 0918522001 0923758001 0866731001 0909370001 0751471001 0915529003 0915529005 0448509014 0762846027 0714790020\n"
     ]
    }
   ],
   "source": [
    "train = cudf.read_parquet('train.pqt')\n",
    "train.t_dat = cudf.to_datetime(train.t_dat)\n",
    "train = train.loc[train.t_dat >= cudf.to_datetime('2020-09-16')]\n",
    "top12 = ' 0' + ' 0'.join(train.article_id.value_counts().to_pandas().index.astype('str')[:12])\n",
    "print(\"Last week's top 12 popular items:\")\n",
    "print( top12 )"
   ]
  },
  {
   "cell_type": "markdown",
   "id": "0eb2d7ea",
   "metadata": {
    "papermill": {
     "duration": 0.015665,
     "end_time": "2022-02-21T03:23:11.176418",
     "exception": false,
     "start_time": "2022-02-21T03:23:11.160753",
     "status": "completed"
    },
    "tags": []
   },
   "source": [
    "# Write Submission CSV\n",
    "We will merge our predictions onto `sample_submission.csv` and submit to Kaggle."
   ]
  },
  {
   "cell_type": "code",
   "execution_count": 10,
   "id": "babce36c",
   "metadata": {
    "execution": {
     "iopub.execute_input": "2022-02-21T03:23:11.215476Z",
     "iopub.status.busy": "2022-02-21T03:23:11.214801Z",
     "iopub.status.idle": "2022-02-21T03:23:15.358987Z",
     "shell.execute_reply": "2022-02-21T03:23:15.359462Z",
     "shell.execute_reply.started": "2022-02-20T02:55:43.173171Z"
    },
    "papermill": {
     "duration": 4.166813,
     "end_time": "2022-02-21T03:23:15.359616",
     "exception": false,
     "start_time": "2022-02-21T03:23:11.192803",
     "status": "completed"
    },
    "tags": []
   },
   "outputs": [
    {
     "data": {
      "text/html": [
       "<div>\n",
       "<style scoped>\n",
       "    .dataframe tbody tr th:only-of-type {\n",
       "        vertical-align: middle;\n",
       "    }\n",
       "\n",
       "    .dataframe tbody tr th {\n",
       "        vertical-align: top;\n",
       "    }\n",
       "\n",
       "    .dataframe thead th {\n",
       "        text-align: right;\n",
       "    }\n",
       "</style>\n",
       "<table border=\"1\" class=\"dataframe\">\n",
       "  <thead>\n",
       "    <tr style=\"text-align: right;\">\n",
       "      <th></th>\n",
       "      <th>customer_id</th>\n",
       "      <th>prediction</th>\n",
       "    </tr>\n",
       "  </thead>\n",
       "  <tbody>\n",
       "    <tr>\n",
       "      <th>0</th>\n",
       "      <td>060f8aec2fdcdd2c3dcce7551a404b538bd9b9c866b9b8...</td>\n",
       "      <td>0736530007 0770703004 0736531006 0706016001 09...</td>\n",
       "    </tr>\n",
       "    <tr>\n",
       "      <th>1</th>\n",
       "      <td>06103a5395f5579e9161899412dd594e2f3c652e0a34d3...</td>\n",
       "      <td>0904422001 0399061026 0706016001 0399061008 09...</td>\n",
       "    </tr>\n",
       "    <tr>\n",
       "      <th>2</th>\n",
       "      <td>060fd8c7a53060a5858e351659685bf3d518bed767cc36...</td>\n",
       "      <td>0673901005 0673901012 0706016002 0706016006 07...</td>\n",
       "    </tr>\n",
       "    <tr>\n",
       "      <th>3</th>\n",
       "      <td>0610702e70404ddd8efeddd130fe276dd90b0c29f203f3...</td>\n",
       "      <td>0632803014 0657852006 0657852008 0669091018 06...</td>\n",
       "    </tr>\n",
       "    <tr>\n",
       "      <th>4</th>\n",
       "      <td>060f99b5b9119aa44791ed09880b2868f620a3b4d302ce...</td>\n",
       "      <td>0933706001 0896152002 0924243001 0924243002 09...</td>\n",
       "    </tr>\n",
       "  </tbody>\n",
       "</table>\n",
       "</div>"
      ],
      "text/plain": [
       "                                         customer_id  \\\n",
       "0  060f8aec2fdcdd2c3dcce7551a404b538bd9b9c866b9b8...   \n",
       "1  06103a5395f5579e9161899412dd594e2f3c652e0a34d3...   \n",
       "2  060fd8c7a53060a5858e351659685bf3d518bed767cc36...   \n",
       "3  0610702e70404ddd8efeddd130fe276dd90b0c29f203f3...   \n",
       "4  060f99b5b9119aa44791ed09880b2868f620a3b4d302ce...   \n",
       "\n",
       "                                          prediction  \n",
       "0  0736530007 0770703004 0736531006 0706016001 09...  \n",
       "1  0904422001 0399061026 0706016001 0399061008 09...  \n",
       "2  0673901005 0673901012 0706016002 0706016006 07...  \n",
       "3  0632803014 0657852006 0657852008 0669091018 06...  \n",
       "4  0933706001 0896152002 0924243001 0924243002 09...  "
      ]
     },
     "execution_count": 10,
     "metadata": {},
     "output_type": "execute_result"
    }
   ],
   "source": [
    "sub = cudf.read_csv('../input/h-and-m-personalized-fashion-recommendations/sample_submission.csv')\n",
    "sub = sub[['customer_id']]\n",
    "sub['customer_id_2'] = sub['customer_id'].str[-16:].str.hex_to_int().astype('int64')\n",
    "sub = sub.merge(preds.rename({'customer_id':'customer_id_2'},axis=1),\\\n",
    "    on='customer_id_2', how='left').fillna('')\n",
    "del sub['customer_id_2']\n",
    "sub.prediction = sub.prediction + top12\n",
    "sub.prediction = sub.prediction.str.strip()\n",
    "sub.prediction = sub.prediction.str[:131]\n",
    "sub.to_csv(f'submission.csv',index=False)\n",
    "sub.head()"
   ]
  }
 ],
 "metadata": {
  "kernelspec": {
   "display_name": "Python 3",
   "language": "python",
   "name": "python3"
  },
  "language_info": {
   "codemirror_mode": {
    "name": "ipython",
    "version": 3
   },
   "file_extension": ".py",
   "mimetype": "text/x-python",
   "name": "python",
   "nbconvert_exporter": "python",
   "pygments_lexer": "ipython3",
   "version": "3.8.8"
  },
  "papermill": {
   "default_parameters": {},
   "duration": 73.907502,
   "end_time": "2022-02-21T03:23:16.487003",
   "environment_variables": {},
   "exception": null,
   "input_path": "__notebook__.ipynb",
   "output_path": "__notebook__.ipynb",
   "parameters": {},
   "start_time": "2022-02-21T03:22:02.579501",
   "version": "2.3.3"
  }
 },
 "nbformat": 4,
 "nbformat_minor": 5
}
