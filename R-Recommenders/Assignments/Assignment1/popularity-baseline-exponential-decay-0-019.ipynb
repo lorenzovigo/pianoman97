{
 "cells": [
  {
   "cell_type": "markdown",
   "id": "70764569",
   "metadata": {
    "_cell_guid": "b1076dfc-b9ad-4769-8c92-a6c4dae69d19",
    "_uuid": "8f2839f25d086af736a60e9eeb907d3b93b6e0e5",
    "papermill": {
     "duration": 0.023249,
     "end_time": "2022-02-21T06:42:05.852309",
     "exception": false,
     "start_time": "2022-02-21T06:42:05.829060",
     "status": "completed"
    },
    "tags": []
   },
   "source": [
    "# H&M Recommendation: Popularity Baseline\n",
    "\n",
    "#### What we'll be doing here:\n",
    "This is a bare minimum notebook. As we have already found out, popularity and repetition is king in this competition. We'll combine these two to create a good enough baseline."
   ]
  },
  {
   "cell_type": "code",
   "execution_count": 1,
   "id": "62bf690b",
   "metadata": {
    "execution": {
     "iopub.execute_input": "2022-02-21T06:42:05.908033Z",
     "iopub.status.busy": "2022-02-21T06:42:05.907348Z",
     "iopub.status.idle": "2022-02-21T06:42:05.912932Z",
     "shell.execute_reply": "2022-02-21T06:42:05.911858Z",
     "shell.execute_reply.started": "2022-02-21T06:25:49.885600Z"
    },
    "papermill": {
     "duration": 0.036755,
     "end_time": "2022-02-21T06:42:05.913161",
     "exception": false,
     "start_time": "2022-02-21T06:42:05.876406",
     "status": "completed"
    },
    "tags": []
   },
   "outputs": [],
   "source": [
    "import numpy as np\n",
    "import pandas as pd\n",
    "import os\n",
    "import glob\n",
    "#import reco\n",
    "from tqdm import tqdm\n",
    "import datetime"
   ]
  },
  {
   "cell_type": "markdown",
   "id": "111087d9",
   "metadata": {
    "papermill": {
     "duration": 0.028664,
     "end_time": "2022-02-21T06:42:05.968943",
     "exception": false,
     "start_time": "2022-02-21T06:42:05.940279",
     "status": "completed"
    },
    "tags": []
   },
   "source": [
    "### Forming Train Set"
   ]
  },
  {
   "cell_type": "code",
   "execution_count": 2,
   "id": "310add18",
   "metadata": {
    "execution": {
     "iopub.execute_input": "2022-02-21T06:42:06.028159Z",
     "iopub.status.busy": "2022-02-21T06:42:06.027453Z",
     "iopub.status.idle": "2022-02-21T06:43:24.636865Z",
     "shell.execute_reply": "2022-02-21T06:43:24.637376Z",
     "shell.execute_reply.started": "2022-02-21T06:25:50.470346Z"
    },
    "papermill": {
     "duration": 78.64167,
     "end_time": "2022-02-21T06:43:24.637561",
     "exception": false,
     "start_time": "2022-02-21T06:42:05.995891",
     "status": "completed"
    },
    "tags": []
   },
   "outputs": [
    {
     "ename": "FileNotFoundError",
     "evalue": "[Errno 2] No such file or directory: '../input/h-and-m-personalized-fashion-recommendations/transactions_train.csv'",
     "output_type": "error",
     "traceback": [
      "\u001b[1;31m---------------------------------------------------------------------------\u001b[0m",
      "\u001b[1;31mFileNotFoundError\u001b[0m                         Traceback (most recent call last)",
      "\u001b[1;32m<ipython-input-2-47686dd31a1d>\u001b[0m in \u001b[0;36m<module>\u001b[1;34m\u001b[0m\n\u001b[1;32m----> 1\u001b[1;33m \u001b[0mdata\u001b[0m \u001b[1;33m=\u001b[0m \u001b[0mpd\u001b[0m\u001b[1;33m.\u001b[0m\u001b[0mread_csv\u001b[0m\u001b[1;33m(\u001b[0m\u001b[1;34m\"../input/h-and-m-personalized-fashion-recommendations/transactions_train.csv\"\u001b[0m\u001b[1;33m,\u001b[0m \u001b[0mdtype\u001b[0m\u001b[1;33m=\u001b[0m\u001b[1;33m{\u001b[0m\u001b[1;34m'article_id'\u001b[0m\u001b[1;33m:\u001b[0m\u001b[0mstr\u001b[0m\u001b[1;33m}\u001b[0m\u001b[1;33m)\u001b[0m\u001b[1;33m\u001b[0m\u001b[1;33m\u001b[0m\u001b[0m\n\u001b[0m\u001b[0;32m      2\u001b[0m \u001b[0mdata\u001b[0m\u001b[1;33m.\u001b[0m\u001b[0mhead\u001b[0m\u001b[1;33m(\u001b[0m\u001b[1;33m)\u001b[0m\u001b[1;33m\u001b[0m\u001b[1;33m\u001b[0m\u001b[0m\n",
      "\u001b[1;32mC:\\anaconda3\\lib\\site-packages\\pandas\\io\\parsers.py\u001b[0m in \u001b[0;36mread_csv\u001b[1;34m(filepath_or_buffer, sep, delimiter, header, names, index_col, usecols, squeeze, prefix, mangle_dupe_cols, dtype, engine, converters, true_values, false_values, skipinitialspace, skiprows, skipfooter, nrows, na_values, keep_default_na, na_filter, verbose, skip_blank_lines, parse_dates, infer_datetime_format, keep_date_col, date_parser, dayfirst, cache_dates, iterator, chunksize, compression, thousands, decimal, lineterminator, quotechar, quoting, doublequote, escapechar, comment, encoding, dialect, error_bad_lines, warn_bad_lines, delim_whitespace, low_memory, memory_map, float_precision, storage_options)\u001b[0m\n\u001b[0;32m    608\u001b[0m     \u001b[0mkwds\u001b[0m\u001b[1;33m.\u001b[0m\u001b[0mupdate\u001b[0m\u001b[1;33m(\u001b[0m\u001b[0mkwds_defaults\u001b[0m\u001b[1;33m)\u001b[0m\u001b[1;33m\u001b[0m\u001b[1;33m\u001b[0m\u001b[0m\n\u001b[0;32m    609\u001b[0m \u001b[1;33m\u001b[0m\u001b[0m\n\u001b[1;32m--> 610\u001b[1;33m     \u001b[1;32mreturn\u001b[0m \u001b[0m_read\u001b[0m\u001b[1;33m(\u001b[0m\u001b[0mfilepath_or_buffer\u001b[0m\u001b[1;33m,\u001b[0m \u001b[0mkwds\u001b[0m\u001b[1;33m)\u001b[0m\u001b[1;33m\u001b[0m\u001b[1;33m\u001b[0m\u001b[0m\n\u001b[0m\u001b[0;32m    611\u001b[0m \u001b[1;33m\u001b[0m\u001b[0m\n\u001b[0;32m    612\u001b[0m \u001b[1;33m\u001b[0m\u001b[0m\n",
      "\u001b[1;32mC:\\anaconda3\\lib\\site-packages\\pandas\\io\\parsers.py\u001b[0m in \u001b[0;36m_read\u001b[1;34m(filepath_or_buffer, kwds)\u001b[0m\n\u001b[0;32m    460\u001b[0m \u001b[1;33m\u001b[0m\u001b[0m\n\u001b[0;32m    461\u001b[0m     \u001b[1;31m# Create the parser.\u001b[0m\u001b[1;33m\u001b[0m\u001b[1;33m\u001b[0m\u001b[1;33m\u001b[0m\u001b[0m\n\u001b[1;32m--> 462\u001b[1;33m     \u001b[0mparser\u001b[0m \u001b[1;33m=\u001b[0m \u001b[0mTextFileReader\u001b[0m\u001b[1;33m(\u001b[0m\u001b[0mfilepath_or_buffer\u001b[0m\u001b[1;33m,\u001b[0m \u001b[1;33m**\u001b[0m\u001b[0mkwds\u001b[0m\u001b[1;33m)\u001b[0m\u001b[1;33m\u001b[0m\u001b[1;33m\u001b[0m\u001b[0m\n\u001b[0m\u001b[0;32m    463\u001b[0m \u001b[1;33m\u001b[0m\u001b[0m\n\u001b[0;32m    464\u001b[0m     \u001b[1;32mif\u001b[0m \u001b[0mchunksize\u001b[0m \u001b[1;32mor\u001b[0m \u001b[0miterator\u001b[0m\u001b[1;33m:\u001b[0m\u001b[1;33m\u001b[0m\u001b[1;33m\u001b[0m\u001b[0m\n",
      "\u001b[1;32mC:\\anaconda3\\lib\\site-packages\\pandas\\io\\parsers.py\u001b[0m in \u001b[0;36m__init__\u001b[1;34m(self, f, engine, **kwds)\u001b[0m\n\u001b[0;32m    817\u001b[0m             \u001b[0mself\u001b[0m\u001b[1;33m.\u001b[0m\u001b[0moptions\u001b[0m\u001b[1;33m[\u001b[0m\u001b[1;34m\"has_index_names\"\u001b[0m\u001b[1;33m]\u001b[0m \u001b[1;33m=\u001b[0m \u001b[0mkwds\u001b[0m\u001b[1;33m[\u001b[0m\u001b[1;34m\"has_index_names\"\u001b[0m\u001b[1;33m]\u001b[0m\u001b[1;33m\u001b[0m\u001b[1;33m\u001b[0m\u001b[0m\n\u001b[0;32m    818\u001b[0m \u001b[1;33m\u001b[0m\u001b[0m\n\u001b[1;32m--> 819\u001b[1;33m         \u001b[0mself\u001b[0m\u001b[1;33m.\u001b[0m\u001b[0m_engine\u001b[0m \u001b[1;33m=\u001b[0m \u001b[0mself\u001b[0m\u001b[1;33m.\u001b[0m\u001b[0m_make_engine\u001b[0m\u001b[1;33m(\u001b[0m\u001b[0mself\u001b[0m\u001b[1;33m.\u001b[0m\u001b[0mengine\u001b[0m\u001b[1;33m)\u001b[0m\u001b[1;33m\u001b[0m\u001b[1;33m\u001b[0m\u001b[0m\n\u001b[0m\u001b[0;32m    820\u001b[0m \u001b[1;33m\u001b[0m\u001b[0m\n\u001b[0;32m    821\u001b[0m     \u001b[1;32mdef\u001b[0m \u001b[0mclose\u001b[0m\u001b[1;33m(\u001b[0m\u001b[0mself\u001b[0m\u001b[1;33m)\u001b[0m\u001b[1;33m:\u001b[0m\u001b[1;33m\u001b[0m\u001b[1;33m\u001b[0m\u001b[0m\n",
      "\u001b[1;32mC:\\anaconda3\\lib\\site-packages\\pandas\\io\\parsers.py\u001b[0m in \u001b[0;36m_make_engine\u001b[1;34m(self, engine)\u001b[0m\n\u001b[0;32m   1048\u001b[0m             )\n\u001b[0;32m   1049\u001b[0m         \u001b[1;31m# error: Too many arguments for \"ParserBase\"\u001b[0m\u001b[1;33m\u001b[0m\u001b[1;33m\u001b[0m\u001b[1;33m\u001b[0m\u001b[0m\n\u001b[1;32m-> 1050\u001b[1;33m         \u001b[1;32mreturn\u001b[0m \u001b[0mmapping\u001b[0m\u001b[1;33m[\u001b[0m\u001b[0mengine\u001b[0m\u001b[1;33m]\u001b[0m\u001b[1;33m(\u001b[0m\u001b[0mself\u001b[0m\u001b[1;33m.\u001b[0m\u001b[0mf\u001b[0m\u001b[1;33m,\u001b[0m \u001b[1;33m**\u001b[0m\u001b[0mself\u001b[0m\u001b[1;33m.\u001b[0m\u001b[0moptions\u001b[0m\u001b[1;33m)\u001b[0m  \u001b[1;31m# type: ignore[call-arg]\u001b[0m\u001b[1;33m\u001b[0m\u001b[1;33m\u001b[0m\u001b[0m\n\u001b[0m\u001b[0;32m   1051\u001b[0m \u001b[1;33m\u001b[0m\u001b[0m\n\u001b[0;32m   1052\u001b[0m     \u001b[1;32mdef\u001b[0m \u001b[0m_failover_to_python\u001b[0m\u001b[1;33m(\u001b[0m\u001b[0mself\u001b[0m\u001b[1;33m)\u001b[0m\u001b[1;33m:\u001b[0m\u001b[1;33m\u001b[0m\u001b[1;33m\u001b[0m\u001b[0m\n",
      "\u001b[1;32mC:\\anaconda3\\lib\\site-packages\\pandas\\io\\parsers.py\u001b[0m in \u001b[0;36m__init__\u001b[1;34m(self, src, **kwds)\u001b[0m\n\u001b[0;32m   1865\u001b[0m \u001b[1;33m\u001b[0m\u001b[0m\n\u001b[0;32m   1866\u001b[0m         \u001b[1;31m# open handles\u001b[0m\u001b[1;33m\u001b[0m\u001b[1;33m\u001b[0m\u001b[1;33m\u001b[0m\u001b[0m\n\u001b[1;32m-> 1867\u001b[1;33m         \u001b[0mself\u001b[0m\u001b[1;33m.\u001b[0m\u001b[0m_open_handles\u001b[0m\u001b[1;33m(\u001b[0m\u001b[0msrc\u001b[0m\u001b[1;33m,\u001b[0m \u001b[0mkwds\u001b[0m\u001b[1;33m)\u001b[0m\u001b[1;33m\u001b[0m\u001b[1;33m\u001b[0m\u001b[0m\n\u001b[0m\u001b[0;32m   1868\u001b[0m         \u001b[1;32massert\u001b[0m \u001b[0mself\u001b[0m\u001b[1;33m.\u001b[0m\u001b[0mhandles\u001b[0m \u001b[1;32mis\u001b[0m \u001b[1;32mnot\u001b[0m \u001b[1;32mNone\u001b[0m\u001b[1;33m\u001b[0m\u001b[1;33m\u001b[0m\u001b[0m\n\u001b[0;32m   1869\u001b[0m         \u001b[1;32mfor\u001b[0m \u001b[0mkey\u001b[0m \u001b[1;32min\u001b[0m \u001b[1;33m(\u001b[0m\u001b[1;34m\"storage_options\"\u001b[0m\u001b[1;33m,\u001b[0m \u001b[1;34m\"encoding\"\u001b[0m\u001b[1;33m,\u001b[0m \u001b[1;34m\"memory_map\"\u001b[0m\u001b[1;33m,\u001b[0m \u001b[1;34m\"compression\"\u001b[0m\u001b[1;33m)\u001b[0m\u001b[1;33m:\u001b[0m\u001b[1;33m\u001b[0m\u001b[1;33m\u001b[0m\u001b[0m\n",
      "\u001b[1;32mC:\\anaconda3\\lib\\site-packages\\pandas\\io\\parsers.py\u001b[0m in \u001b[0;36m_open_handles\u001b[1;34m(self, src, kwds)\u001b[0m\n\u001b[0;32m   1360\u001b[0m         \u001b[0mLet\u001b[0m \u001b[0mthe\u001b[0m \u001b[0mreaders\u001b[0m \u001b[0mopen\u001b[0m \u001b[0mIOHanldes\u001b[0m \u001b[0mafter\u001b[0m \u001b[0mthey\u001b[0m \u001b[0mare\u001b[0m \u001b[0mdone\u001b[0m \u001b[1;32mwith\u001b[0m \u001b[0mtheir\u001b[0m \u001b[0mpotential\u001b[0m \u001b[0mraises\u001b[0m\u001b[1;33m.\u001b[0m\u001b[1;33m\u001b[0m\u001b[1;33m\u001b[0m\u001b[0m\n\u001b[0;32m   1361\u001b[0m         \"\"\"\n\u001b[1;32m-> 1362\u001b[1;33m         self.handles = get_handle(\n\u001b[0m\u001b[0;32m   1363\u001b[0m             \u001b[0msrc\u001b[0m\u001b[1;33m,\u001b[0m\u001b[1;33m\u001b[0m\u001b[1;33m\u001b[0m\u001b[0m\n\u001b[0;32m   1364\u001b[0m             \u001b[1;34m\"r\"\u001b[0m\u001b[1;33m,\u001b[0m\u001b[1;33m\u001b[0m\u001b[1;33m\u001b[0m\u001b[0m\n",
      "\u001b[1;32mC:\\anaconda3\\lib\\site-packages\\pandas\\io\\common.py\u001b[0m in \u001b[0;36mget_handle\u001b[1;34m(path_or_buf, mode, encoding, compression, memory_map, is_text, errors, storage_options)\u001b[0m\n\u001b[0;32m    640\u001b[0m                 \u001b[0merrors\u001b[0m \u001b[1;33m=\u001b[0m \u001b[1;34m\"replace\"\u001b[0m\u001b[1;33m\u001b[0m\u001b[1;33m\u001b[0m\u001b[0m\n\u001b[0;32m    641\u001b[0m             \u001b[1;31m# Encoding\u001b[0m\u001b[1;33m\u001b[0m\u001b[1;33m\u001b[0m\u001b[1;33m\u001b[0m\u001b[0m\n\u001b[1;32m--> 642\u001b[1;33m             handle = open(\n\u001b[0m\u001b[0;32m    643\u001b[0m                 \u001b[0mhandle\u001b[0m\u001b[1;33m,\u001b[0m\u001b[1;33m\u001b[0m\u001b[1;33m\u001b[0m\u001b[0m\n\u001b[0;32m    644\u001b[0m                 \u001b[0mioargs\u001b[0m\u001b[1;33m.\u001b[0m\u001b[0mmode\u001b[0m\u001b[1;33m,\u001b[0m\u001b[1;33m\u001b[0m\u001b[1;33m\u001b[0m\u001b[0m\n",
      "\u001b[1;31mFileNotFoundError\u001b[0m: [Errno 2] No such file or directory: '../input/h-and-m-personalized-fashion-recommendations/transactions_train.csv'"
     ]
    }
   ],
   "source": [
    "data = pd.read_csv(\"../input/h-and-m-personalized-fashion-recommendations/transactions_train.csv\", dtype={'article_id':str})\n",
    "data.head()"
   ]
  },
  {
   "cell_type": "markdown",
   "id": "3ef40fd1",
   "metadata": {
    "papermill": {
     "duration": 0.022086,
     "end_time": "2022-02-21T06:43:24.681932",
     "exception": false,
     "start_time": "2022-02-21T06:43:24.659846",
     "status": "completed"
    },
    "tags": []
   },
   "source": [
    "We'll drop everything except the last few(up for experimentation) days. The info from previous months are not coming of much use. \n",
    "We'll keep 2 weeks as train and the last week as validation."
   ]
  },
  {
   "cell_type": "code",
   "execution_count": 3,
   "id": "39852d81",
   "metadata": {
    "execution": {
     "iopub.execute_input": "2022-02-21T06:43:24.730470Z",
     "iopub.status.busy": "2022-02-21T06:43:24.729472Z",
     "iopub.status.idle": "2022-02-21T06:43:40.819848Z",
     "shell.execute_reply": "2022-02-21T06:43:40.819210Z",
     "shell.execute_reply.started": "2022-02-21T06:27:13.799323Z"
    },
    "papermill": {
     "duration": 16.115846,
     "end_time": "2022-02-21T06:43:40.819991",
     "exception": false,
     "start_time": "2022-02-21T06:43:24.704145",
     "status": "completed"
    },
    "tags": []
   },
   "outputs": [
    {
     "name": "stdout",
     "output_type": "stream",
     "text": [
      "All Transactions Date Range: 2018-09-20 to 2020-09-22\n"
     ]
    }
   ],
   "source": [
    "print(\"All Transactions Date Range: {} to {}\".format(data['t_dat'].min(), data['t_dat'].max()))\n",
    "\n",
    "data[\"t_dat\"] = pd.to_datetime(data[\"t_dat\"])\n",
    "train = data.loc[data[\"t_dat\"] >= datetime.datetime(2020,9,1)]\n",
    "\n",
    "train_aug = data.loc[(data['t_dat'] >= datetime.datetime(2020,8,15)) & (data['t_dat'] < datetime.datetime(2020,9,1)), :]\n",
    "\n",
    "split_date = datetime.datetime(2020,9,15)\n",
    "val = train.loc[train['t_dat'] > split_date, :]\n",
    "train = train.loc[train['t_dat'] <= split_date, :]"
   ]
  },
  {
   "cell_type": "markdown",
   "id": "7d228cef",
   "metadata": {
    "papermill": {
     "duration": 0.022232,
     "end_time": "2022-02-21T06:43:40.864839",
     "exception": false,
     "start_time": "2022-02-21T06:43:40.842607",
     "status": "completed"
    },
    "tags": []
   },
   "source": [
    "Items which an user has bought in our train set time."
   ]
  },
  {
   "cell_type": "code",
   "execution_count": 4,
   "id": "784f2657",
   "metadata": {
    "execution": {
     "iopub.execute_input": "2022-02-21T06:43:40.925605Z",
     "iopub.status.busy": "2022-02-21T06:43:40.924909Z",
     "iopub.status.idle": "2022-02-21T06:43:48.210548Z",
     "shell.execute_reply": "2022-02-21T06:43:48.209937Z",
     "shell.execute_reply.started": "2022-02-21T06:36:19.850267Z"
    },
    "papermill": {
     "duration": 7.323118,
     "end_time": "2022-02-21T06:43:48.210689",
     "exception": false,
     "start_time": "2022-02-21T06:43:40.887571",
     "status": "completed"
    },
    "tags": []
   },
   "outputs": [
    {
     "data": {
      "text/plain": [
       "customer_id\n",
       "00000dbacae5abe5e23885899a1fa44253a17956c6d1c3d25f88aa139fdfc657                                         [0568601043]\n",
       "000058a12d5b43e67d225668fa1f8d618c13dc232df0cad8ffe7ad4a1091e318                                         [0794321007]\n",
       "0000757967448a6cb83efb3ea7a3fb9d418ac7adf2379d8cd0c725276a467a2a                             [0719530003, 0448509014]\n",
       "000172a9c322560c849754ffbdfdb2180d408aa7176b943f957804686be8e1f0                 [0685814001, 0685814001, 0685814001]\n",
       "0001d44dbe7f6c4b35200abdb052c77a87596fe1bdcc37e011580a479e80aa94    [0777148006, 0835801001, 0923134005, 086592900...\n",
       "                                                                                          ...                        \n",
       "fffcc686584b3388a3afe410e3555e3557f556382b2f60c221d51914093e167b     [0817067002, 0840604001, 0723469001, 0416961006]\n",
       "fffd0248a95c2e49fee876ff93598e2e20839e51b9b7678aab75d9e8f9f3c6c8    [0509091057, 0859737002, 0573085028, 074568600...\n",
       "fffef3b6b73545df065b521e19f64bf6fe93bfd450ab20e02ce5d1e58a8f700b    [0910601003, 0873276003, 0905365002, 090536500...\n",
       "ffffbbf78b6eaac697a8a5dfbfd2bfa8113ee5b403e4747568cac33e8c541831    [0713997002, 0720125039, 0740922009, 079158700...\n",
       "ffffcf35913a0bee60e8741cb2b4e78b8a98ee5ff2e6a1778d0116cffd259264     [0689365050, 0884081001, 0794819001, 0762846027]\n",
       "Name: article_id, Length: 142033, dtype: object"
      ]
     },
     "execution_count": 4,
     "metadata": {},
     "output_type": "execute_result"
    }
   ],
   "source": [
    "# List of all purchases per user (has repetitions)\n",
    "positive_items_per_user = train.groupby(['customer_id'])['article_id'].apply(list)\n",
    "positive_items_per_user_aug = train_aug.groupby(['customer_id'])['article_id'].apply(list)\n",
    "positive_items_per_user"
   ]
  },
  {
   "cell_type": "markdown",
   "id": "8156e36e",
   "metadata": {
    "papermill": {
     "duration": 0.022785,
     "end_time": "2022-02-21T06:43:48.258474",
     "exception": false,
     "start_time": "2022-02-21T06:43:48.235689",
     "status": "completed"
    },
    "tags": []
   },
   "source": [
    "Next we do exponential weighting based popularity for items. This leads to items bought more recently having more weight in the popularity list."
   ]
  },
  {
   "cell_type": "code",
   "execution_count": 5,
   "id": "18101719",
   "metadata": {
    "execution": {
     "iopub.execute_input": "2022-02-21T06:43:48.311302Z",
     "iopub.status.busy": "2022-02-21T06:43:48.310686Z",
     "iopub.status.idle": "2022-02-21T06:43:59.324368Z",
     "shell.execute_reply": "2022-02-21T06:43:59.324894Z",
     "shell.execute_reply.started": "2022-02-21T06:27:37.760189Z"
    },
    "papermill": {
     "duration": 11.043719,
     "end_time": "2022-02-21T06:43:59.325078",
     "exception": false,
     "start_time": "2022-02-21T06:43:48.281359",
     "status": "completed"
    },
    "tags": []
   },
   "outputs": [
    {
     "data": {
      "text/plain": [
       "count    557958.000000\n",
       "mean          0.200478\n",
       "std           0.207752\n",
       "min           0.066667\n",
       "25%           0.083333\n",
       "50%           0.125000\n",
       "75%           0.200000\n",
       "max           1.000000\n",
       "Name: pop_factor, dtype: float64"
      ]
     },
     "execution_count": 5,
     "metadata": {},
     "output_type": "execute_result"
    }
   ],
   "source": [
    "train['pop_factor'] = train['t_dat'].apply(lambda x: 1/(datetime.datetime(2020,9,16) - x).days)\n",
    "popular_items_group = train.groupby(['article_id'])['pop_factor'].sum()\n",
    "\n",
    "_, popular_items = zip(*sorted(zip(popular_items_group, popular_items_group.keys()))[::-1])\n",
    "\n",
    "train['pop_factor'].describe()"
   ]
  },
  {
   "cell_type": "markdown",
   "id": "c6a300a0",
   "metadata": {
    "papermill": {
     "duration": 0.022783,
     "end_time": "2022-02-21T06:43:59.371244",
     "exception": false,
     "start_time": "2022-02-21T06:43:59.348461",
     "status": "completed"
    },
    "tags": []
   },
   "source": [
    "### Moving on to Validation ..."
   ]
  },
  {
   "cell_type": "code",
   "execution_count": 6,
   "id": "fd677f00",
   "metadata": {
    "execution": {
     "iopub.execute_input": "2022-02-21T06:43:59.426240Z",
     "iopub.status.busy": "2022-02-21T06:43:59.425595Z",
     "iopub.status.idle": "2022-02-21T06:43:59.427013Z",
     "shell.execute_reply": "2022-02-21T06:43:59.427631Z",
     "shell.execute_reply.started": "2022-02-21T06:27:48.925595Z"
    },
    "papermill": {
     "duration": 0.033231,
     "end_time": "2022-02-21T06:43:59.427803",
     "exception": false,
     "start_time": "2022-02-21T06:43:59.394572",
     "status": "completed"
    },
    "tags": []
   },
   "outputs": [],
   "source": [
    "def apk(actual, predicted, k=12):\n",
    "    if len(predicted)>k:\n",
    "        predicted = predicted[:k]\n",
    "\n",
    "    score = 0.0\n",
    "    num_hits = 0.0\n",
    "\n",
    "    for i,p in enumerate(predicted):\n",
    "        if p in actual and p not in predicted[:i]:\n",
    "            num_hits += 1.0\n",
    "            score += num_hits / (i+1.0)\n",
    "\n",
    "    if not actual:\n",
    "        return 0.0\n",
    "\n",
    "    return score / min(len(actual), k)\n",
    "\n",
    "def mapk(actual, predicted, k=12):\n",
    "    return np.mean([apk(a,p,k) for a,p in zip(actual, predicted)])"
   ]
  },
  {
   "cell_type": "markdown",
   "id": "f2e4170c",
   "metadata": {
    "papermill": {
     "duration": 0.022728,
     "end_time": "2022-02-21T06:43:59.474197",
     "exception": false,
     "start_time": "2022-02-21T06:43:59.451469",
     "status": "completed"
    },
    "tags": []
   },
   "source": [
    "Items bought by users in the validation period. Similar as the one for train set."
   ]
  },
  {
   "cell_type": "code",
   "execution_count": 7,
   "id": "951b156b",
   "metadata": {
    "execution": {
     "iopub.execute_input": "2022-02-21T06:43:59.523983Z",
     "iopub.status.busy": "2022-02-21T06:43:59.523345Z",
     "iopub.status.idle": "2022-02-21T06:44:01.074002Z",
     "shell.execute_reply": "2022-02-21T06:44:01.074519Z",
     "shell.execute_reply.started": "2022-02-21T06:27:48.937358Z"
    },
    "papermill": {
     "duration": 1.577108,
     "end_time": "2022-02-21T06:44:01.074685",
     "exception": false,
     "start_time": "2022-02-21T06:43:59.497577",
     "status": "completed"
    },
    "tags": []
   },
   "outputs": [
    {
     "data": {
      "text/plain": [
       "(customer_id\n",
       " 00039306476aaf41a07fed942884f16b30abfa83a2a8bea972019098d6406793                                         [0624486001]\n",
       " 0003e867a930d0d6842f923d6ba7c9b77aba33fe2a0fbf4672f30b3e622fec55                                         [0827487003]\n",
       " 000493dd9fc463df1acc2081450c9e75ef8e87d5dd17ed6396773839f6bf71a9                 [0757926001, 0788575004, 0640021019]\n",
       " 000525e3fe01600d717da8423643a8303390a055c578ed8a97256600baf54565                                         [0874110016]\n",
       " 00077dbd5c4a4991e092e63893ccf29294a9d5c46e85010e95f2fc10bf9437a4    [0903762001, 0879189005, 0158340001, 086796600...\n",
       "                                                                                           ...                        \n",
       " fffa67737587e52ff1afa9c7c6490b5eb7acbc439fe82bd11d746ddb223dff26                             [0874816003, 0911870004]\n",
       " fffa7d7799eb390a76308454cbdd76e473d65b1497fbe44fe8cf95effea0bed7                             [0861803014, 0849886010]\n",
       " fffae8eb3a282d8c43c77dd2ca0621703b71e90904dfde2189bdd644f59071dd    [0396135007, 0817472007, 0715624050, 081747200...\n",
       " fffd870c6324ad3bda24e4d6aeae221c199479086bfdfd0eb40a3065971d0e01                             [0750423010, 0761269001]\n",
       " fffef3b6b73545df065b521e19f64bf6fe93bfd450ab20e02ce5d1e58a8f700b                                         [0898573003]\n",
       " Name: article_id, Length: 68984, dtype: object,\n",
       " 68984)"
      ]
     },
     "execution_count": 7,
     "metadata": {},
     "output_type": "execute_result"
    }
   ],
   "source": [
    "positive_items_val = val.groupby(['customer_id'])['article_id'].apply(list)\n",
    "positive_items_val, len(positive_items_val)"
   ]
  },
  {
   "cell_type": "code",
   "execution_count": 8,
   "id": "890b5004",
   "metadata": {
    "execution": {
     "iopub.execute_input": "2022-02-21T06:44:01.124784Z",
     "iopub.status.busy": "2022-02-21T06:44:01.124168Z",
     "iopub.status.idle": "2022-02-21T06:44:01.598875Z",
     "shell.execute_reply": "2022-02-21T06:44:01.598163Z",
     "shell.execute_reply.started": "2022-02-21T06:27:50.641708Z"
    },
    "papermill": {
     "duration": 0.500935,
     "end_time": "2022-02-21T06:44:01.599033",
     "exception": false,
     "start_time": "2022-02-21T06:44:01.098098",
     "status": "completed"
    },
    "tags": []
   },
   "outputs": [
    {
     "name": "stderr",
     "output_type": "stream",
     "text": [
      "68984it [00:00, 152042.71it/s]"
     ]
    },
    {
     "name": "stdout",
     "output_type": "stream",
     "text": [
      "Total users in validation: 68984\n"
     ]
    },
    {
     "name": "stderr",
     "output_type": "stream",
     "text": [
      "\n"
     ]
    }
   ],
   "source": [
    "# creating validation set for metrics use case\n",
    "val_users = positive_items_val.keys()\n",
    "val_items = []\n",
    "\n",
    "for i,user in tqdm(enumerate(val_users)):\n",
    "    val_items.append(positive_items_val[user])\n",
    "    \n",
    "print(\"Total users in validation:\", len(val_users))"
   ]
  },
  {
   "cell_type": "markdown",
   "id": "85612aa3",
   "metadata": {
    "papermill": {
     "duration": 0.027359,
     "end_time": "2022-02-21T06:44:01.654853",
     "exception": false,
     "start_time": "2022-02-21T06:44:01.627494",
     "status": "completed"
    },
    "tags": []
   },
   "source": [
    "We'll now validate our algo on the validation set."
   ]
  },
  {
   "cell_type": "code",
   "execution_count": 9,
   "id": "d4788502",
   "metadata": {
    "execution": {
     "iopub.execute_input": "2022-02-21T06:44:01.721140Z",
     "iopub.status.busy": "2022-02-21T06:44:01.720211Z",
     "iopub.status.idle": "2022-02-21T06:44:03.027443Z",
     "shell.execute_reply": "2022-02-21T06:44:03.026833Z",
     "shell.execute_reply.started": "2022-02-21T06:37:08.161791Z"
    },
    "papermill": {
     "duration": 1.344761,
     "end_time": "2022-02-21T06:44:03.027594",
     "exception": false,
     "start_time": "2022-02-21T06:44:01.682833",
     "status": "completed"
    },
    "tags": []
   },
   "outputs": [
    {
     "name": "stderr",
     "output_type": "stream",
     "text": [
      "100%|██████████| 68984/68984 [00:01<00:00, 68287.47it/s]\n"
     ]
    },
    {
     "name": "stdout",
     "output_type": "stream",
     "text": [
      "mAP Score on Validation set: 0.02335402896537594\n"
     ]
    }
   ],
   "source": [
    "from collections import Counter\n",
    "outputs = []\n",
    "cnt = 0\n",
    "\n",
    "for user in tqdm(val_users):\n",
    "    if user not in positive_items_per_user.keys():\n",
    "        if user not in positive_items_per_user_aug.keys():\n",
    "            outputs.append(popular_items[:12])\n",
    "            continue\n",
    "    \n",
    "    if user in positive_items_per_user.keys():\n",
    "        most_common_items_of_user = {k:v for k, v in Counter(positive_items_per_user[user]).most_common()}\n",
    "        user_output = list(most_common_items_of_user.keys())[:12]\n",
    "        \n",
    "    else:\n",
    "        most_common_items_of_user = {k:v for k, v in Counter(positive_items_per_user_aug[user]).most_common()}\n",
    "        user_output = list(most_common_items_of_user.keys())[:4]\n",
    "    \n",
    "    user_output = user_output + list(popular_items[:12 - len(user_output)])\n",
    "    outputs.append(user_output)\n",
    "    \n",
    "print(\"mAP Score on Validation set:\", mapk(val_items, outputs))"
   ]
  },
  {
   "cell_type": "markdown",
   "id": "b4c9c287",
   "metadata": {
    "papermill": {
     "duration": 0.032471,
     "end_time": "2022-02-21T06:44:03.093601",
     "exception": false,
     "start_time": "2022-02-21T06:44:03.061130",
     "status": "completed"
    },
    "tags": []
   },
   "source": [
    "0.0233 mAP. Not bad! We'll now create submissions by adjusting the date ranges of the train set."
   ]
  },
  {
   "cell_type": "markdown",
   "id": "b7beb04d",
   "metadata": {
    "papermill": {
     "duration": 0.032106,
     "end_time": "2022-02-21T06:44:03.157969",
     "exception": false,
     "start_time": "2022-02-21T06:44:03.125863",
     "status": "completed"
    },
    "tags": []
   },
   "source": [
    "### Prediction on Test Set"
   ]
  },
  {
   "cell_type": "code",
   "execution_count": 10,
   "id": "2a4806ba",
   "metadata": {
    "execution": {
     "iopub.execute_input": "2022-02-21T06:44:03.232256Z",
     "iopub.status.busy": "2022-02-21T06:44:03.231567Z",
     "iopub.status.idle": "2022-02-21T06:44:26.308570Z",
     "shell.execute_reply": "2022-02-21T06:44:26.309183Z",
     "shell.execute_reply.started": "2022-02-21T06:39:32.962341Z"
    },
    "papermill": {
     "duration": 23.118455,
     "end_time": "2022-02-21T06:44:26.309571",
     "exception": false,
     "start_time": "2022-02-21T06:44:03.191116",
     "status": "completed"
    },
    "tags": []
   },
   "outputs": [
    {
     "name": "stderr",
     "output_type": "stream",
     "text": [
      "/opt/conda/lib/python3.7/site-packages/ipykernel_launcher.py:7: SettingWithCopyWarning: \n",
      "A value is trying to be set on a copy of a slice from a DataFrame.\n",
      "Try using .loc[row_indexer,col_indexer] = value instead\n",
      "\n",
      "See the caveats in the documentation: https://pandas.pydata.org/pandas-docs/stable/user_guide/indexing.html#returning-a-view-versus-a-copy\n",
      "  import sys\n"
     ]
    }
   ],
   "source": [
    "train = data.loc[data[\"t_dat\"] >= datetime.datetime(2020,9,7)]\n",
    "train_aug = data.loc[(data['t_dat'] >= datetime.datetime(2020,8,15)) & (data['t_dat'] < datetime.datetime(2020,9,7)), :]\n",
    "\n",
    "positive_items_per_user = train.groupby(['customer_id'])['article_id'].apply(list)\n",
    "positive_items_per_user_aug = train_aug.groupby(['customer_id'])['article_id'].apply(list)\n",
    "\n",
    "train['pop_factor'] = train['t_dat'].apply(lambda x: 1/np.exp((datetime.datetime(2020,9,23) - x).days))\n",
    "\n",
    "popular_items_group = train.groupby(['article_id'])['pop_factor'].sum()\n",
    "_, popular_items = zip(*sorted(zip(popular_items_group, popular_items_group.keys()))[::-1])"
   ]
  },
  {
   "cell_type": "code",
   "execution_count": 11,
   "id": "506b818f",
   "metadata": {
    "execution": {
     "iopub.execute_input": "2022-02-21T06:44:26.381797Z",
     "iopub.status.busy": "2022-02-21T06:44:26.381017Z",
     "iopub.status.idle": "2022-02-21T06:44:31.620982Z",
     "shell.execute_reply": "2022-02-21T06:44:31.621540Z",
     "shell.execute_reply.started": "2022-02-21T06:40:15.703908Z"
    },
    "papermill": {
     "duration": 5.277797,
     "end_time": "2022-02-21T06:44:31.621713",
     "exception": false,
     "start_time": "2022-02-21T06:44:26.343916",
     "status": "completed"
    },
    "tags": []
   },
   "outputs": [
    {
     "data": {
      "text/html": [
       "<div>\n",
       "<style scoped>\n",
       "    .dataframe tbody tr th:only-of-type {\n",
       "        vertical-align: middle;\n",
       "    }\n",
       "\n",
       "    .dataframe tbody tr th {\n",
       "        vertical-align: top;\n",
       "    }\n",
       "\n",
       "    .dataframe thead th {\n",
       "        text-align: right;\n",
       "    }\n",
       "</style>\n",
       "<table border=\"1\" class=\"dataframe\">\n",
       "  <thead>\n",
       "    <tr style=\"text-align: right;\">\n",
       "      <th></th>\n",
       "      <th>customer_id</th>\n",
       "      <th>prediction</th>\n",
       "    </tr>\n",
       "  </thead>\n",
       "  <tbody>\n",
       "    <tr>\n",
       "      <th>0</th>\n",
       "      <td>00000dbacae5abe5e23885899a1fa44253a17956c6d1c3...</td>\n",
       "      <td>0706016001 0706016002 0372860001 0610776002 07...</td>\n",
       "    </tr>\n",
       "    <tr>\n",
       "      <th>1</th>\n",
       "      <td>0000423b00ade91418cceaf3b26c6af3dd342b51fd051e...</td>\n",
       "      <td>0706016001 0706016002 0372860001 0610776002 07...</td>\n",
       "    </tr>\n",
       "    <tr>\n",
       "      <th>2</th>\n",
       "      <td>000058a12d5b43e67d225668fa1f8d618c13dc232df0ca...</td>\n",
       "      <td>0706016001 0706016002 0372860001 0610776002 07...</td>\n",
       "    </tr>\n",
       "    <tr>\n",
       "      <th>3</th>\n",
       "      <td>00005ca1c9ed5f5146b52ac8639a40ca9d57aeff4d1bd2...</td>\n",
       "      <td>0706016001 0706016002 0372860001 0610776002 07...</td>\n",
       "    </tr>\n",
       "    <tr>\n",
       "      <th>4</th>\n",
       "      <td>00006413d8573cd20ed7128e53b7b13819fe5cfc2d801f...</td>\n",
       "      <td>0706016001 0706016002 0372860001 0610776002 07...</td>\n",
       "    </tr>\n",
       "  </tbody>\n",
       "</table>\n",
       "</div>"
      ],
      "text/plain": [
       "                                         customer_id  \\\n",
       "0  00000dbacae5abe5e23885899a1fa44253a17956c6d1c3...   \n",
       "1  0000423b00ade91418cceaf3b26c6af3dd342b51fd051e...   \n",
       "2  000058a12d5b43e67d225668fa1f8d618c13dc232df0ca...   \n",
       "3  00005ca1c9ed5f5146b52ac8639a40ca9d57aeff4d1bd2...   \n",
       "4  00006413d8573cd20ed7128e53b7b13819fe5cfc2d801f...   \n",
       "\n",
       "                                          prediction  \n",
       "0  0706016001 0706016002 0372860001 0610776002 07...  \n",
       "1  0706016001 0706016002 0372860001 0610776002 07...  \n",
       "2  0706016001 0706016002 0372860001 0610776002 07...  \n",
       "3  0706016001 0706016002 0372860001 0610776002 07...  \n",
       "4  0706016001 0706016002 0372860001 0610776002 07...  "
      ]
     },
     "execution_count": 11,
     "metadata": {},
     "output_type": "execute_result"
    }
   ],
   "source": [
    "submission = pd.read_csv(\"../input/h-and-m-personalized-fashion-recommendations/sample_submission.csv\")\n",
    "submission.head()"
   ]
  },
  {
   "cell_type": "code",
   "execution_count": 12,
   "id": "fb3db292",
   "metadata": {
    "execution": {
     "iopub.execute_input": "2022-02-21T06:44:31.706597Z",
     "iopub.status.busy": "2022-02-21T06:44:31.705615Z",
     "iopub.status.idle": "2022-02-21T06:44:46.806785Z",
     "shell.execute_reply": "2022-02-21T06:44:46.806202Z",
     "shell.execute_reply.started": "2022-02-21T06:40:38.883843Z"
    },
    "papermill": {
     "duration": 15.152853,
     "end_time": "2022-02-21T06:44:46.806942",
     "exception": false,
     "start_time": "2022-02-21T06:44:31.654089",
     "status": "completed"
    },
    "tags": []
   },
   "outputs": [
    {
     "name": "stderr",
     "output_type": "stream",
     "text": [
      "100%|██████████| 1371980/1371980 [00:10<00:00, 126806.98it/s]\n"
     ]
    }
   ],
   "source": [
    "from collections import Counter\n",
    "outputs = []\n",
    "cnt = 0\n",
    "\n",
    "for user in tqdm(submission['customer_id']):\n",
    "    if user not in positive_items_per_user.keys():\n",
    "        if user not in positive_items_per_user_aug.keys():\n",
    "            outputs.append(popular_items[:12])\n",
    "            continue\n",
    "    \n",
    "    if user in positive_items_per_user.keys():\n",
    "        most_common_items_of_user = {k:v for k, v in Counter(positive_items_per_user[user]).most_common()}\n",
    "        user_output = list(most_common_items_of_user.keys())[:12]\n",
    "        \n",
    "    else:\n",
    "        most_common_items_of_user = {k:v for k, v in Counter(positive_items_per_user_aug[user]).most_common()}\n",
    "        user_output = list(most_common_items_of_user.keys())[:4]\n",
    "    \n",
    "    user_output = user_output + list(popular_items[:12 - len(user_output)])\n",
    "    outputs.append(user_output)\n",
    "    \n",
    "str_outputs = []\n",
    "for output in outputs:\n",
    "    str_outputs.append(\" \".join([str(x) for x in output]))"
   ]
  },
  {
   "cell_type": "code",
   "execution_count": 13,
   "id": "0048de42",
   "metadata": {
    "execution": {
     "iopub.execute_input": "2022-02-21T06:44:46.953987Z",
     "iopub.status.busy": "2022-02-21T06:44:46.953344Z",
     "iopub.status.idle": "2022-02-21T06:45:00.174273Z",
     "shell.execute_reply": "2022-02-21T06:45:00.173625Z",
     "shell.execute_reply.started": "2022-02-21T06:40:55.210343Z"
    },
    "papermill": {
     "duration": 13.295592,
     "end_time": "2022-02-21T06:45:00.174427",
     "exception": false,
     "start_time": "2022-02-21T06:44:46.878835",
     "status": "completed"
    },
    "tags": []
   },
   "outputs": [],
   "source": [
    "submission['prediction'] = str_outputs\n",
    "submission.to_csv(\"submissions.csv\", index=False)"
   ]
  },
  {
   "cell_type": "code",
   "execution_count": 14,
   "id": "357e5eb7",
   "metadata": {
    "execution": {
     "iopub.execute_input": "2022-02-21T06:45:00.326134Z",
     "iopub.status.busy": "2022-02-21T06:45:00.325462Z",
     "iopub.status.idle": "2022-02-21T06:45:00.328111Z",
     "shell.execute_reply": "2022-02-21T06:45:00.328716Z",
     "shell.execute_reply.started": "2022-02-21T06:41:08.626650Z"
    },
    "papermill": {
     "duration": 0.083437,
     "end_time": "2022-02-21T06:45:00.328873",
     "exception": false,
     "start_time": "2022-02-21T06:45:00.245436",
     "status": "completed"
    },
    "tags": []
   },
   "outputs": [
    {
     "data": {
      "text/html": [
       "<div>\n",
       "<style scoped>\n",
       "    .dataframe tbody tr th:only-of-type {\n",
       "        vertical-align: middle;\n",
       "    }\n",
       "\n",
       "    .dataframe tbody tr th {\n",
       "        vertical-align: top;\n",
       "    }\n",
       "\n",
       "    .dataframe thead th {\n",
       "        text-align: right;\n",
       "    }\n",
       "</style>\n",
       "<table border=\"1\" class=\"dataframe\">\n",
       "  <thead>\n",
       "    <tr style=\"text-align: right;\">\n",
       "      <th></th>\n",
       "      <th>customer_id</th>\n",
       "      <th>prediction</th>\n",
       "    </tr>\n",
       "  </thead>\n",
       "  <tbody>\n",
       "    <tr>\n",
       "      <th>0</th>\n",
       "      <td>00000dbacae5abe5e23885899a1fa44253a17956c6d1c3...</td>\n",
       "      <td>0568601043 0924243002 0448509014 0751471001 08...</td>\n",
       "    </tr>\n",
       "    <tr>\n",
       "      <th>1</th>\n",
       "      <td>0000423b00ade91418cceaf3b26c6af3dd342b51fd051e...</td>\n",
       "      <td>0924243002 0448509014 0751471001 0866731001 07...</td>\n",
       "    </tr>\n",
       "    <tr>\n",
       "      <th>2</th>\n",
       "      <td>000058a12d5b43e67d225668fa1f8d618c13dc232df0ca...</td>\n",
       "      <td>0794321007 0924243002 0448509014 0751471001 08...</td>\n",
       "    </tr>\n",
       "    <tr>\n",
       "      <th>3</th>\n",
       "      <td>00005ca1c9ed5f5146b52ac8639a40ca9d57aeff4d1bd2...</td>\n",
       "      <td>0924243002 0448509014 0751471001 0866731001 07...</td>\n",
       "    </tr>\n",
       "    <tr>\n",
       "      <th>4</th>\n",
       "      <td>00006413d8573cd20ed7128e53b7b13819fe5cfc2d801f...</td>\n",
       "      <td>0924243002 0448509014 0751471001 0866731001 07...</td>\n",
       "    </tr>\n",
       "  </tbody>\n",
       "</table>\n",
       "</div>"
      ],
      "text/plain": [
       "                                         customer_id  \\\n",
       "0  00000dbacae5abe5e23885899a1fa44253a17956c6d1c3...   \n",
       "1  0000423b00ade91418cceaf3b26c6af3dd342b51fd051e...   \n",
       "2  000058a12d5b43e67d225668fa1f8d618c13dc232df0ca...   \n",
       "3  00005ca1c9ed5f5146b52ac8639a40ca9d57aeff4d1bd2...   \n",
       "4  00006413d8573cd20ed7128e53b7b13819fe5cfc2d801f...   \n",
       "\n",
       "                                          prediction  \n",
       "0  0568601043 0924243002 0448509014 0751471001 08...  \n",
       "1  0924243002 0448509014 0751471001 0866731001 07...  \n",
       "2  0794321007 0924243002 0448509014 0751471001 08...  \n",
       "3  0924243002 0448509014 0751471001 0866731001 07...  \n",
       "4  0924243002 0448509014 0751471001 0866731001 07...  "
      ]
     },
     "execution_count": 14,
     "metadata": {},
     "output_type": "execute_result"
    }
   ],
   "source": [
    "submission.head()"
   ]
  },
  {
   "cell_type": "code",
   "execution_count": null,
   "id": "3b06d4b5",
   "metadata": {
    "papermill": {
     "duration": 0.071446,
     "end_time": "2022-02-21T06:45:00.472928",
     "exception": false,
     "start_time": "2022-02-21T06:45:00.401482",
     "status": "completed"
    },
    "tags": []
   },
   "outputs": [],
   "source": []
  }
 ],
 "metadata": {
  "kernelspec": {
   "display_name": "Python 3",
   "language": "python",
   "name": "python3"
  },
  "language_info": {
   "codemirror_mode": {
    "name": "ipython",
    "version": 3
   },
   "file_extension": ".py",
   "mimetype": "text/x-python",
   "name": "python",
   "nbconvert_exporter": "python",
   "pygments_lexer": "ipython3",
   "version": "3.8.8"
  },
  "papermill": {
   "default_parameters": {},
   "duration": 186.699761,
   "end_time": "2022-02-21T06:45:03.055375",
   "environment_variables": {},
   "exception": null,
   "input_path": "__notebook__.ipynb",
   "output_path": "__notebook__.ipynb",
   "parameters": {},
   "start_time": "2022-02-21T06:41:56.355614",
   "version": "2.3.3"
  }
 },
 "nbformat": 4,
 "nbformat_minor": 5
}
