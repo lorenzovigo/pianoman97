{
  "nbformat": 4,
  "nbformat_minor": 0,
  "metadata": {
    "accelerator": "GPU",
    "colab": {
      "name": "RECSYS_with_keras.ipynb",
      "provenance": [],
      "collapsed_sections": [],
      "toc_visible": true
    },
    "kernelspec": {
      "display_name": "Python 3",
      "name": "python3"
    },
    "language_info": {
      "name": "python"
    }
  },
  "cells": [
    {
      "cell_type": "markdown",
      "metadata": {
        "id": "jg2WL-Swj1Hp"
      },
      "source": [
        "Installation\n"
      ]
    },
    {
      "cell_type": "markdown",
      "metadata": {
        "id": "DRwc-YGwfgmi"
      },
      "source": [
        "# RecSys - Matrix Factorization"
      ]
    },
    {
      "cell_type": "markdown",
      "metadata": {
        "id": "0-uCUPEeTV6H"
      },
      "source": [
        "The steps in the model are as follows:\n",
        "\n",
        "+ Map user ID to a \"user vector\" via an embedding matrix\n",
        "+ Map movie ID to a \"movie vector\" via an embedding matrix\n",
        "+ Compute the dot product between the user vector and movie vector, to obtain the a match score between the user and the movie (predicted rating).\n",
        "+ Train the embeddings via gradient descent using all known user-movie pairs."
      ]
    },
    {
      "cell_type": "code",
      "metadata": {
        "id": "lEuRmL8USMki"
      },
      "source": [
        "import pandas as pd\n",
        "import numpy as np\n",
        "from zipfile import ZipFile\n",
        "import tensorflow as tf\n",
        "from tensorflow import keras\n",
        "from tensorflow.keras import layers\n",
        "from pathlib import Path\n",
        "import matplotlib.pyplot as plt\n",
        "\n",
        "!mkdir model"
      ],
      "execution_count": null,
      "outputs": []
    },
    {
      "cell_type": "markdown",
      "metadata": {
        "id": "K1aepLvvSSG6"
      },
      "source": [
        "## Load Data and apply preprocessing"
      ]
    },
    {
      "cell_type": "code",
      "metadata": {
        "id": "HFS93_fCSQcN",
        "colab": {
          "base_uri": "https://localhost:8080/"
        },
        "outputId": "d254a6d9-1613-47a4-dc9a-e90c8931739a"
      },
      "source": [
        "# Download the actual data from http://files.grouplens.org/datasets/movielens/ml-latest-small.zip\"\n",
        "# Use the ratings.csv file\n",
        "movielens_data_file_url = (\n",
        "    \"http://files.grouplens.org/datasets/movielens/ml-1m.zip\"\n",
        ")\n",
        "movielens_zipped_file = keras.utils.get_file(\n",
        "    \"ml-1m.zip\", movielens_data_file_url, extract=False\n",
        ")\n",
        "keras_datasets_path = Path(movielens_zipped_file).parents[0]\n",
        "movielens_dir = keras_datasets_path / \"ml-1m\"\n",
        "\n",
        "# Only extract the data the first time the script is run.\n",
        "if not movielens_dir.exists():\n",
        "    with ZipFile(movielens_zipped_file, \"r\") as zip:\n",
        "        # Extract files\n",
        "        print(\"Extracting all the files now...\")\n",
        "        zip.extractall(path=keras_datasets_path)\n",
        "        print(\"Done!\")\n",
        "\n",
        "\n",
        "def load_movies(movielens_dir):\n",
        "    COL_NAME = ['mid','movie_name','movie_genre']\n",
        "    df = pd.read_csv(movielens_dir / 'movies.dat',sep='::', header=None, engine='python', names=COL_NAME)\n",
        "    df.columns= ['movieId','title','movie_genre']\n",
        "    return df\n",
        "\n",
        "\n",
        "def load_ratings(movielens_dir):\n",
        "    COL_NAME = ['uid','mid','rating','timestamp']\n",
        "    df = pd.read_csv(movielens_dir / 'ratings.dat',sep='::', header=None, engine='python', names=COL_NAME)\n",
        "    df.columns=['userId','movieId','rating','timestamp']\n",
        "    return df\n",
        "\n",
        "df = load_ratings(movielens_dir)"
      ],
      "execution_count": null,
      "outputs": [
        {
          "output_type": "stream",
          "name": "stdout",
          "text": [
            "Downloading data from http://files.grouplens.org/datasets/movielens/ml-1m.zip\n",
            "5922816/5917549 [==============================] - 1s 0us/step\n",
            "5931008/5917549 [==============================] - 1s 0us/step\n",
            "Extracting all the files now...\n",
            "Done!\n"
          ]
        }
      ]
    },
    {
      "cell_type": "markdown",
      "metadata": {
        "id": "FO2NCPrOSbgF"
      },
      "source": [
        "First, need to perform some preprocessing to encode users and movies as integer indices.\n"
      ]
    },
    {
      "cell_type": "code",
      "metadata": {
        "colab": {
          "base_uri": "https://localhost:8080/"
        },
        "id": "qq2R_bkpSZcN",
        "outputId": "41b0794a-3422-4f6d-ec50-0202da2d1dd4"
      },
      "source": [
        "user_ids = df[\"userId\"].unique().tolist()\n",
        "user2user_encoded = {x: i for i, x in enumerate(user_ids)}\n",
        "userencoded2user = {i: x for i, x in enumerate(user_ids)}\n",
        "movie_ids = df[\"movieId\"].unique().tolist()\n",
        "movie2movie_encoded = {x: i for i, x in enumerate(movie_ids)}\n",
        "movie_encoded2movie = {i: x for i, x in enumerate(movie_ids)}\n",
        "df[\"user\"] = df[\"userId\"].map(user2user_encoded)\n",
        "df[\"movie\"] = df[\"movieId\"].map(movie2movie_encoded)\n",
        "\n",
        "num_users = len(user2user_encoded)\n",
        "num_movies = len(movie_encoded2movie)\n",
        "df[\"rating\"] = df[\"rating\"].values.astype(np.float32)\n",
        "# min and max ratings will be used to normalize the ratings later\n",
        "min_rating = min(df[\"rating\"])\n",
        "max_rating = max(df[\"rating\"])\n",
        "\n",
        "print(\n",
        "    \"Number of users: {}, Number of Movies: {}, Min rating: {}, Max rating: {}\".format(\n",
        "        num_users, num_movies, min_rating, max_rating\n",
        "    )\n",
        ")"
      ],
      "execution_count": null,
      "outputs": [
        {
          "output_type": "stream",
          "name": "stdout",
          "text": [
            "Number of users: 6040, Number of Movies: 3706, Min rating: 1.0, Max rating: 5.0\n"
          ]
        }
      ]
    },
    {
      "cell_type": "code",
      "metadata": {
        "colab": {
          "base_uri": "https://localhost:8080/",
          "height": 424
        },
        "id": "nJW5aIUSZk9t",
        "outputId": "55a632f5-5baf-4438-d209-be3f8de2d522"
      },
      "source": [
        "df"
      ],
      "execution_count": null,
      "outputs": [
        {
          "output_type": "execute_result",
          "data": {
            "text/plain": [
              "         userId  movieId  rating  timestamp  user  movie\n",
              "0             1     1193     5.0  978300760     0      0\n",
              "1             1      661     3.0  978302109     0      1\n",
              "2             1      914     3.0  978301968     0      2\n",
              "3             1     3408     4.0  978300275     0      3\n",
              "4             1     2355     5.0  978824291     0      4\n",
              "...         ...      ...     ...        ...   ...    ...\n",
              "1000204    6040     1091     1.0  956716541  6039    772\n",
              "1000205    6040     1094     5.0  956704887  6039   1106\n",
              "1000206    6040      562     5.0  956704746  6039    365\n",
              "1000207    6040     1096     4.0  956715648  6039    152\n",
              "1000208    6040     1097     4.0  956715569  6039     26\n",
              "\n",
              "[1000209 rows x 6 columns]"
            ],
            "text/html": [
              "\n",
              "  <div id=\"df-aaff1a86-b9e9-4fb7-b01a-82ac5c0a15a2\">\n",
              "    <div class=\"colab-df-container\">\n",
              "      <div>\n",
              "<style scoped>\n",
              "    .dataframe tbody tr th:only-of-type {\n",
              "        vertical-align: middle;\n",
              "    }\n",
              "\n",
              "    .dataframe tbody tr th {\n",
              "        vertical-align: top;\n",
              "    }\n",
              "\n",
              "    .dataframe thead th {\n",
              "        text-align: right;\n",
              "    }\n",
              "</style>\n",
              "<table border=\"1\" class=\"dataframe\">\n",
              "  <thead>\n",
              "    <tr style=\"text-align: right;\">\n",
              "      <th></th>\n",
              "      <th>userId</th>\n",
              "      <th>movieId</th>\n",
              "      <th>rating</th>\n",
              "      <th>timestamp</th>\n",
              "      <th>user</th>\n",
              "      <th>movie</th>\n",
              "    </tr>\n",
              "  </thead>\n",
              "  <tbody>\n",
              "    <tr>\n",
              "      <th>0</th>\n",
              "      <td>1</td>\n",
              "      <td>1193</td>\n",
              "      <td>5.0</td>\n",
              "      <td>978300760</td>\n",
              "      <td>0</td>\n",
              "      <td>0</td>\n",
              "    </tr>\n",
              "    <tr>\n",
              "      <th>1</th>\n",
              "      <td>1</td>\n",
              "      <td>661</td>\n",
              "      <td>3.0</td>\n",
              "      <td>978302109</td>\n",
              "      <td>0</td>\n",
              "      <td>1</td>\n",
              "    </tr>\n",
              "    <tr>\n",
              "      <th>2</th>\n",
              "      <td>1</td>\n",
              "      <td>914</td>\n",
              "      <td>3.0</td>\n",
              "      <td>978301968</td>\n",
              "      <td>0</td>\n",
              "      <td>2</td>\n",
              "    </tr>\n",
              "    <tr>\n",
              "      <th>3</th>\n",
              "      <td>1</td>\n",
              "      <td>3408</td>\n",
              "      <td>4.0</td>\n",
              "      <td>978300275</td>\n",
              "      <td>0</td>\n",
              "      <td>3</td>\n",
              "    </tr>\n",
              "    <tr>\n",
              "      <th>4</th>\n",
              "      <td>1</td>\n",
              "      <td>2355</td>\n",
              "      <td>5.0</td>\n",
              "      <td>978824291</td>\n",
              "      <td>0</td>\n",
              "      <td>4</td>\n",
              "    </tr>\n",
              "    <tr>\n",
              "      <th>...</th>\n",
              "      <td>...</td>\n",
              "      <td>...</td>\n",
              "      <td>...</td>\n",
              "      <td>...</td>\n",
              "      <td>...</td>\n",
              "      <td>...</td>\n",
              "    </tr>\n",
              "    <tr>\n",
              "      <th>1000204</th>\n",
              "      <td>6040</td>\n",
              "      <td>1091</td>\n",
              "      <td>1.0</td>\n",
              "      <td>956716541</td>\n",
              "      <td>6039</td>\n",
              "      <td>772</td>\n",
              "    </tr>\n",
              "    <tr>\n",
              "      <th>1000205</th>\n",
              "      <td>6040</td>\n",
              "      <td>1094</td>\n",
              "      <td>5.0</td>\n",
              "      <td>956704887</td>\n",
              "      <td>6039</td>\n",
              "      <td>1106</td>\n",
              "    </tr>\n",
              "    <tr>\n",
              "      <th>1000206</th>\n",
              "      <td>6040</td>\n",
              "      <td>562</td>\n",
              "      <td>5.0</td>\n",
              "      <td>956704746</td>\n",
              "      <td>6039</td>\n",
              "      <td>365</td>\n",
              "    </tr>\n",
              "    <tr>\n",
              "      <th>1000207</th>\n",
              "      <td>6040</td>\n",
              "      <td>1096</td>\n",
              "      <td>4.0</td>\n",
              "      <td>956715648</td>\n",
              "      <td>6039</td>\n",
              "      <td>152</td>\n",
              "    </tr>\n",
              "    <tr>\n",
              "      <th>1000208</th>\n",
              "      <td>6040</td>\n",
              "      <td>1097</td>\n",
              "      <td>4.0</td>\n",
              "      <td>956715569</td>\n",
              "      <td>6039</td>\n",
              "      <td>26</td>\n",
              "    </tr>\n",
              "  </tbody>\n",
              "</table>\n",
              "<p>1000209 rows × 6 columns</p>\n",
              "</div>\n",
              "      <button class=\"colab-df-convert\" onclick=\"convertToInteractive('df-aaff1a86-b9e9-4fb7-b01a-82ac5c0a15a2')\"\n",
              "              title=\"Convert this dataframe to an interactive table.\"\n",
              "              style=\"display:none;\">\n",
              "        \n",
              "  <svg xmlns=\"http://www.w3.org/2000/svg\" height=\"24px\"viewBox=\"0 0 24 24\"\n",
              "       width=\"24px\">\n",
              "    <path d=\"M0 0h24v24H0V0z\" fill=\"none\"/>\n",
              "    <path d=\"M18.56 5.44l.94 2.06.94-2.06 2.06-.94-2.06-.94-.94-2.06-.94 2.06-2.06.94zm-11 1L8.5 8.5l.94-2.06 2.06-.94-2.06-.94L8.5 2.5l-.94 2.06-2.06.94zm10 10l.94 2.06.94-2.06 2.06-.94-2.06-.94-.94-2.06-.94 2.06-2.06.94z\"/><path d=\"M17.41 7.96l-1.37-1.37c-.4-.4-.92-.59-1.43-.59-.52 0-1.04.2-1.43.59L10.3 9.45l-7.72 7.72c-.78.78-.78 2.05 0 2.83L4 21.41c.39.39.9.59 1.41.59.51 0 1.02-.2 1.41-.59l7.78-7.78 2.81-2.81c.8-.78.8-2.07 0-2.86zM5.41 20L4 18.59l7.72-7.72 1.47 1.35L5.41 20z\"/>\n",
              "  </svg>\n",
              "      </button>\n",
              "      \n",
              "  <style>\n",
              "    .colab-df-container {\n",
              "      display:flex;\n",
              "      flex-wrap:wrap;\n",
              "      gap: 12px;\n",
              "    }\n",
              "\n",
              "    .colab-df-convert {\n",
              "      background-color: #E8F0FE;\n",
              "      border: none;\n",
              "      border-radius: 50%;\n",
              "      cursor: pointer;\n",
              "      display: none;\n",
              "      fill: #1967D2;\n",
              "      height: 32px;\n",
              "      padding: 0 0 0 0;\n",
              "      width: 32px;\n",
              "    }\n",
              "\n",
              "    .colab-df-convert:hover {\n",
              "      background-color: #E2EBFA;\n",
              "      box-shadow: 0px 1px 2px rgba(60, 64, 67, 0.3), 0px 1px 3px 1px rgba(60, 64, 67, 0.15);\n",
              "      fill: #174EA6;\n",
              "    }\n",
              "\n",
              "    [theme=dark] .colab-df-convert {\n",
              "      background-color: #3B4455;\n",
              "      fill: #D2E3FC;\n",
              "    }\n",
              "\n",
              "    [theme=dark] .colab-df-convert:hover {\n",
              "      background-color: #434B5C;\n",
              "      box-shadow: 0px 1px 3px 1px rgba(0, 0, 0, 0.15);\n",
              "      filter: drop-shadow(0px 1px 2px rgba(0, 0, 0, 0.3));\n",
              "      fill: #FFFFFF;\n",
              "    }\n",
              "  </style>\n",
              "\n",
              "      <script>\n",
              "        const buttonEl =\n",
              "          document.querySelector('#df-aaff1a86-b9e9-4fb7-b01a-82ac5c0a15a2 button.colab-df-convert');\n",
              "        buttonEl.style.display =\n",
              "          google.colab.kernel.accessAllowed ? 'block' : 'none';\n",
              "\n",
              "        async function convertToInteractive(key) {\n",
              "          const element = document.querySelector('#df-aaff1a86-b9e9-4fb7-b01a-82ac5c0a15a2');\n",
              "          const dataTable =\n",
              "            await google.colab.kernel.invokeFunction('convertToInteractive',\n",
              "                                                     [key], {});\n",
              "          if (!dataTable) return;\n",
              "\n",
              "          const docLinkHtml = 'Like what you see? Visit the ' +\n",
              "            '<a target=\"_blank\" href=https://colab.research.google.com/notebooks/data_table.ipynb>data table notebook</a>'\n",
              "            + ' to learn more about interactive tables.';\n",
              "          element.innerHTML = '';\n",
              "          dataTable['output_type'] = 'display_data';\n",
              "          await google.colab.output.renderOutput(dataTable, element);\n",
              "          const docLink = document.createElement('div');\n",
              "          docLink.innerHTML = docLinkHtml;\n",
              "          element.appendChild(docLink);\n",
              "        }\n",
              "      </script>\n",
              "    </div>\n",
              "  </div>\n",
              "  "
            ]
          },
          "metadata": {},
          "execution_count": 4
        }
      ]
    },
    {
      "cell_type": "markdown",
      "metadata": {
        "id": "oZRkph7bSiBj"
      },
      "source": [
        "### Prepare training and validation data"
      ]
    },
    {
      "cell_type": "code",
      "metadata": {
        "id": "Z7JlqN43SdzL"
      },
      "source": [
        "df = df.sample(frac=1, random_state=42)\n"
      ],
      "execution_count": null,
      "outputs": []
    },
    {
      "cell_type": "code",
      "metadata": {
        "colab": {
          "base_uri": "https://localhost:8080/"
        },
        "id": "db85fy0_pYy9",
        "outputId": "bc37e317-37d7-47f2-ee85-aa2375735b98"
      },
      "source": [
        "def assign_to_set(df):\n",
        "    sampled_ids = np.random.choice(df.index,\n",
        "                                   size=np.int64(np.floor(df.index.size * 0.1)),\n",
        "                                   replace=False)\n",
        "    df.loc[sampled_ids, 'for_testing'] = True\n",
        "    return df\n",
        "\n",
        "df['for_testing'] = False\n",
        "grouped = df.groupby('movie', group_keys=False).apply(assign_to_set)\n",
        "df_train = df[grouped.for_testing == False]\n",
        "df_val = df[grouped.for_testing == True]\n",
        "print(df_train.shape)\n",
        "print(df_val.shape)\n",
        "print(df_train.index & df_val.index)\n",
        "\n",
        "print(\"Training data_set has \"+ str(df_train.shape[0]) +\" ratings\")\n",
        "print(\"Test data set has \"+ str(df_val.shape[0]) +\" ratings\")\n",
        "\n",
        "\n",
        "x_train = df_train[[\"user\", \"movie\"]].values\n",
        "y_train = df_train[\"rating\"].values\n",
        "\n",
        "x_val = df_val[[\"user\", \"movie\"]].values\n",
        "y_val = df_val[\"rating\"].values"
      ],
      "execution_count": null,
      "outputs": [
        {
          "output_type": "stream",
          "name": "stdout",
          "text": [
            "(901777, 7)\n",
            "(98432, 7)\n",
            "Int64Index([], dtype='int64')\n",
            "Training data_set has 901777 ratings\n",
            "Test data set has 98432 ratings\n"
          ]
        },
        {
          "output_type": "stream",
          "name": "stderr",
          "text": [
            "/usr/local/lib/python3.7/dist-packages/ipykernel_launcher.py:14: FutureWarning: Index.__and__ operating as a set operation is deprecated, in the future this will be a logical operation matching Series.__and__.  Use index.intersection(other) instead\n",
            "  \n"
          ]
        }
      ]
    },
    {
      "cell_type": "markdown",
      "metadata": {
        "id": "CUPTvXDjD7HR"
      },
      "source": [
        "## Evaluation function"
      ]
    },
    {
      "cell_type": "markdown",
      "metadata": {
        "id": "bdV3qpiWixlc"
      },
      "source": [
        "We make a function in order to plot the metrics/losses graphics once the model has been trained."
      ]
    },
    {
      "cell_type": "code",
      "metadata": {
        "id": "28D9zEs2D-hX"
      },
      "source": [
        "def plot_train_val_losses(history):\n",
        "    plt.plot(history.history[\"loss\"])\n",
        "    plt.plot(history.history[\"val_loss\"])\n",
        "    plt.title(\"model loss\")\n",
        "    plt.ylabel(\"loss\")\n",
        "    plt.xlabel(\"epoch\")\n",
        "    plt.legend([\"train\", \"test\"], loc=\"upper left\")\n",
        "    plt.axis([0,len(history.history[\"loss\"]),np.min(history.history[\"loss\"]),np.max(history.history[\"val_loss\"])])\n",
        "    plt.show()"
      ],
      "execution_count": null,
      "outputs": []
    },
    {
      "cell_type": "markdown",
      "metadata": {
        "id": "LQqfcuqOvIA8"
      },
      "source": [
        "## Create MF model\n",
        "\n",
        "We embed both users and movies in to 10-dimensional vectors.\n",
        "\n",
        "The model computes a match score between user and movie embeddings via a dot product, and adds a per-movie and per-user bias."
      ]
    },
    {
      "cell_type": "code",
      "metadata": {
        "id": "PnAV3K2Zis0j"
      },
      "source": [
        "EMBEDDING_SIZE = 10\n",
        "\n",
        "class RecommenderNetV(keras.Model):\n",
        "    def __init__(self, num_users, num_movies, embedding_size, **kwargs):\n",
        "        super(RecommenderNetV, self).__init__(**kwargs)\n",
        "        self.num_users = num_users\n",
        "        self.num_movies = num_movies\n",
        "        self.embedding_size = embedding_size\n",
        "        self.user_movie_embedding = layers.Embedding(\n",
        "            num_users+num_movies,\n",
        "            embedding_size,\n",
        "            embeddings_initializer=\"he_normal\",\n",
        "            embeddings_regularizer=keras.regularizers.l2(1e-6),\n",
        "        )\n",
        "        self.user_bias = layers.Embedding(num_users, 1)\n",
        "        self.movie_bias = layers.Embedding(num_movies, 1)\n",
        "\n",
        "    def call(self, inputs):\n",
        "        user_vector = self.user_movie_embedding(inputs[:, 0])\n",
        "        movie_vector = self.user_movie_embedding(inputs[:, 1]+num_users)\n",
        "        user_bias = self.user_bias(inputs[:, 0])\n",
        "        movie_bias = self.movie_bias(inputs[:, 1])\n",
        "        dot_user_movie = tf.tensordot(user_vector, movie_vector, 2)\n",
        "        # Add all the components (including bias)\n",
        "        x = dot_user_movie + user_bias + movie_bias\n",
        "        return x\n",
        "\n",
        "\n",
        "mf_model = RecommenderNetV(num_users, num_movies, EMBEDDING_SIZE)\n",
        "mf_model.compile(\n",
        "    loss=tf.keras.losses.MeanSquaredError(), \n",
        "    optimizer=keras.optimizers.Adam(learning_rate=0.0005)\n",
        ")"
      ],
      "execution_count": null,
      "outputs": []
    },
    {
      "cell_type": "code",
      "source": [
        "tf.tensordot(mf_model.user_movie_embedding(np.array([1,2])) ,mf_model.user_movie_embedding(np.array([1,2])) ,2)"
      ],
      "metadata": {
        "colab": {
          "base_uri": "https://localhost:8080/"
        },
        "id": "dovsvMimrMsy",
        "outputId": "752435d9-cfcb-4f53-fb5d-1b5d59a57553"
      },
      "execution_count": null,
      "outputs": [
        {
          "output_type": "execute_result",
          "data": {
            "text/plain": [
              "<tf.Tensor: shape=(), dtype=float32, numpy=0.003113562>"
            ]
          },
          "metadata": {},
          "execution_count": 9
        }
      ]
    },
    {
      "cell_type": "markdown",
      "metadata": {
        "id": "-8j55_2LD1VD"
      },
      "source": [
        "## Train and evaluate MF model\n"
      ]
    },
    {
      "cell_type": "code",
      "metadata": {
        "colab": {
          "base_uri": "https://localhost:8080/"
        },
        "id": "HfFYYtkTD0zM",
        "outputId": "9a6d8236-e365-40c3-bd8a-1b6b432f0c0b"
      },
      "source": [
        "mf_history = mf_model.fit(\n",
        "    x=x_train,\n",
        "    y=y_train,\n",
        "    batch_size=128,\n",
        "    epochs=5,\n",
        "    verbose=1,\n",
        "    validation_data=(x_val, y_val),\n",
        ")"
      ],
      "execution_count": null,
      "outputs": [
        {
          "output_type": "stream",
          "name": "stdout",
          "text": [
            "Epoch 1/5\n",
            "7046/7046 [==============================] - 37s 5ms/step - loss: 2.4622 - val_loss: 0.9961\n",
            "Epoch 2/5\n",
            "7046/7046 [==============================] - 36s 5ms/step - loss: 0.9333 - val_loss: 0.8991\n",
            "Epoch 3/5\n",
            "7046/7046 [==============================] - 35s 5ms/step - loss: 0.8753 - val_loss: 0.8723\n",
            "Epoch 4/5\n",
            "7046/7046 [==============================] - 35s 5ms/step - loss: 0.8565 - val_loss: 0.8592\n",
            "Epoch 5/5\n",
            "7046/7046 [==============================] - 36s 5ms/step - loss: 0.8461 - val_loss: 0.8579\n"
          ]
        }
      ]
    },
    {
      "cell_type": "code",
      "metadata": {
        "colab": {
          "base_uri": "https://localhost:8080/",
          "height": 295
        },
        "id": "vJj8bm9FELGI",
        "outputId": "6d204fd2-3e84-4afd-ebd2-5dffd1d8f6c8"
      },
      "source": [
        "plot_train_val_losses(mf_history)"
      ],
      "execution_count": null,
      "outputs": [
        {
          "output_type": "display_data",
          "data": {
            "text/plain": [
              "<Figure size 432x288 with 1 Axes>"
            ],
            "image/png": "[encoded data removed]"
          },
          "metadata": {
            "needs_background": "light"
          }
        }
      ]
    },
    {
      "cell_type": "markdown",
      "metadata": {
        "id": "FYK2HQGJXZpS"
      },
      "source": [
        "# RecSys - DEEP Factorization Machines\n"
      ]
    },
    {
      "cell_type": "code",
      "metadata": {
        "id": "cLZvjzTxZ1hX"
      },
      "source": [
        "import pandas as pd\n",
        "import numpy as np\n",
        "import tensorflow as tf\n",
        "from tensorflow import keras\n",
        "from tensorflow.keras.preprocessing.text import Tokenizer\n",
        "from tensorflow.keras.preprocessing.sequence import pad_sequences\n",
        "from pathlib import Path\n",
        "from zipfile import ZipFile\n",
        "!mkdir models"
      ],
      "execution_count": null,
      "outputs": []
    },
    {
      "cell_type": "code",
      "metadata": {
        "colab": {
          "base_uri": "https://localhost:8080/",
          "height": 588
        },
        "id": "DX5-MJkAXh8I",
        "outputId": "accfcaec-79be-4f15-9f38-c435b2785bed"
      },
      "source": [
        "# Download the actual data from http://files.grouplens.org/datasets/movielens/ml-latest-small.zip\"\n",
        "# Use the ratings.csv file\n",
        "movielens_data_file_url = (\n",
        "    \"http://files.grouplens.org/datasets/movielens/ml-1m.zip\"\n",
        ")\n",
        "movielens_zipped_file = keras.utils.get_file(\n",
        "    \"ml-1m.zip\", movielens_data_file_url, extract=False\n",
        ")\n",
        "keras_datasets_path = Path(movielens_zipped_file).parents[0]\n",
        "movielens_dir = keras_datasets_path / \"ml-1m\"\n",
        "\n",
        "# Only extract the data the first time the script is run.\n",
        "if not movielens_dir.exists():\n",
        "    with ZipFile(movielens_zipped_file, \"r\") as zip:\n",
        "        # Extract files\n",
        "        print(\"Extracting all the files now...\")\n",
        "        zip.extractall(path=keras_datasets_path)\n",
        "        print(\"Done!\")\n",
        "\n",
        "\n",
        "def load_ratings(movielens_dir):\n",
        "    COL_NAME = ['uid','mid','rating','timestamp']\n",
        "    df = pd.read_csv(movielens_dir / 'ratings.dat',sep='::', header=None, engine='python', names=COL_NAME, encoding=\"ISO-8859-1\")\n",
        "    return df\n",
        "\n",
        "def load_movies(movielens_dir):\n",
        "    COL_NAME = ['mid','movie_name','movie_genre']\n",
        "    df = pd.read_csv(movielens_dir / 'movies.dat',sep='::', header=None, engine='python', names=COL_NAME, encoding=\"ISO-8859-1\")\n",
        "    return df\n",
        "\n",
        "def load_users(movielens_dir):\n",
        "    COL_NAME = ['uid','user_fea1','user_fea2','user_fea3','user_fea4']\n",
        "    df = pd.read_csv(movielens_dir / 'users.dat',sep='::', header=None, engine='python', names=COL_NAME, encoding=\"ISO-8859-1\")\n",
        "    return df\n",
        "\n",
        "def text2seq(text, n_genre):\n",
        "    \"\"\" using tokenizer to encoded the multi-level categorical feature\n",
        "    \"\"\"\n",
        "    tokenizer = Tokenizer(lower=True, split='|',filters='', num_words=n_genre)\n",
        "    tokenizer.fit_on_texts(text)\n",
        "    seq = tokenizer.texts_to_sequences(text)\n",
        "    seq = pad_sequences(seq, maxlen=3,padding='post')\n",
        "    return seq\n",
        "\n",
        "n_genre = 15\n",
        "\n",
        "\n",
        "ratings = load_ratings(movielens_dir)\n",
        "movies = load_movies(movielens_dir)\n",
        "users = load_users(movielens_dir)\n",
        "\n",
        "\n",
        "print(\"====== rating.dat ======\")\n",
        "print(ratings.head())\n",
        "print(\"===== movies.dat ======\")\n",
        "print(movies.head())\n",
        "print(\"====== users.dat ======\")\n",
        "print(users.head())\n",
        "\n",
        "movies['movie_genre'] = text2seq(movies.movie_genre.values, n_genre=n_genre).tolist()\n",
        "\n",
        "ratings = ratings.join(movies.set_index('mid'), on = 'mid', how = 'left')\n",
        "ratings = ratings.join(users.set_index('uid'), on = 'uid', how = 'left')\n",
        "print(\"====== preprocessed data =======\")\n",
        "(ratings.head())"
      ],
      "execution_count": null,
      "outputs": [
        {
          "output_type": "stream",
          "name": "stdout",
          "text": [
            "====== rating.dat ======\n",
            "   uid   mid  rating  timestamp\n",
            "0    1  1193       5  978300760\n",
            "1    1   661       3  978302109\n",
            "2    1   914       3  978301968\n",
            "3    1  3408       4  978300275\n",
            "4    1  2355       5  978824291\n",
            "===== movies.dat ======\n",
            "   mid                          movie_name                   movie_genre\n",
            "0    1                    Toy Story (1995)   Animation|Children's|Comedy\n",
            "1    2                      Jumanji (1995)  Adventure|Children's|Fantasy\n",
            "2    3             Grumpier Old Men (1995)                Comedy|Romance\n",
            "3    4            Waiting to Exhale (1995)                  Comedy|Drama\n",
            "4    5  Father of the Bride Part II (1995)                        Comedy\n",
            "====== users.dat ======\n",
            "   uid user_fea1  user_fea2  user_fea3 user_fea4\n",
            "0    1         F          1         10     48067\n",
            "1    2         M         56         16     70072\n",
            "2    3         M         25         15     55117\n",
            "3    4         M         45          7     02460\n",
            "4    5         M         25         20     55455\n",
            "====== preprocessed data =======\n"
          ]
        },
        {
          "output_type": "execute_result",
          "data": {
            "text/plain": [
              "   uid   mid  rating  timestamp                              movie_name  \\\n",
              "0    1  1193       5  978300760  One Flew Over the Cuckoo's Nest (1975)   \n",
              "1    1   661       3  978302109        James and the Giant Peach (1996)   \n",
              "2    1   914       3  978301968                     My Fair Lady (1964)   \n",
              "3    1  3408       4  978300275                  Erin Brockovich (2000)   \n",
              "4    1  2355       5  978824291                    Bug's Life, A (1998)   \n",
              "\n",
              "  movie_genre user_fea1  user_fea2  user_fea3 user_fea4  \n",
              "0   [1, 0, 0]         F          1         10     48067  \n",
              "1  [9, 13, 0]         F          1         10     48067  \n",
              "2  [13, 5, 0]         F          1         10     48067  \n",
              "3   [1, 0, 0]         F          1         10     48067  \n",
              "4   [9, 2, 0]         F          1         10     48067  "
            ],
            "text/html": [
              "\n",
              "  <div id=\"df-00551220-bede-45a7-a62c-561c64ca8737\">\n",
              "    <div class=\"colab-df-container\">\n",
              "      <div>\n",
              "<style scoped>\n",
              "    .dataframe tbody tr th:only-of-type {\n",
              "        vertical-align: middle;\n",
              "    }\n",
              "\n",
              "    .dataframe tbody tr th {\n",
              "        vertical-align: top;\n",
              "    }\n",
              "\n",
              "    .dataframe thead th {\n",
              "        text-align: right;\n",
              "    }\n",
              "</style>\n",
              "<table border=\"1\" class=\"dataframe\">\n",
              "  <thead>\n",
              "    <tr style=\"text-align: right;\">\n",
              "      <th></th>\n",
              "      <th>uid</th>\n",
              "      <th>mid</th>\n",
              "      <th>rating</th>\n",
              "      <th>timestamp</th>\n",
              "      <th>movie_name</th>\n",
              "      <th>movie_genre</th>\n",
              "      <th>user_fea1</th>\n",
              "      <th>user_fea2</th>\n",
              "      <th>user_fea3</th>\n",
              "      <th>user_fea4</th>\n",
              "    </tr>\n",
              "  </thead>\n",
              "  <tbody>\n",
              "    <tr>\n",
              "      <th>0</th>\n",
              "      <td>1</td>\n",
              "      <td>1193</td>\n",
              "      <td>5</td>\n",
              "      <td>978300760</td>\n",
              "      <td>One Flew Over the Cuckoo's Nest (1975)</td>\n",
              "      <td>[1, 0, 0]</td>\n",
              "      <td>F</td>\n",
              "      <td>1</td>\n",
              "      <td>10</td>\n",
              "      <td>48067</td>\n",
              "    </tr>\n",
              "    <tr>\n",
              "      <th>1</th>\n",
              "      <td>1</td>\n",
              "      <td>661</td>\n",
              "      <td>3</td>\n",
              "      <td>978302109</td>\n",
              "      <td>James and the Giant Peach (1996)</td>\n",
              "      <td>[9, 13, 0]</td>\n",
              "      <td>F</td>\n",
              "      <td>1</td>\n",
              "      <td>10</td>\n",
              "      <td>48067</td>\n",
              "    </tr>\n",
              "    <tr>\n",
              "      <th>2</th>\n",
              "      <td>1</td>\n",
              "      <td>914</td>\n",
              "      <td>3</td>\n",
              "      <td>978301968</td>\n",
              "      <td>My Fair Lady (1964)</td>\n",
              "      <td>[13, 5, 0]</td>\n",
              "      <td>F</td>\n",
              "      <td>1</td>\n",
              "      <td>10</td>\n",
              "      <td>48067</td>\n",
              "    </tr>\n",
              "    <tr>\n",
              "      <th>3</th>\n",
              "      <td>1</td>\n",
              "      <td>3408</td>\n",
              "      <td>4</td>\n",
              "      <td>978300275</td>\n",
              "      <td>Erin Brockovich (2000)</td>\n",
              "      <td>[1, 0, 0]</td>\n",
              "      <td>F</td>\n",
              "      <td>1</td>\n",
              "      <td>10</td>\n",
              "      <td>48067</td>\n",
              "    </tr>\n",
              "    <tr>\n",
              "      <th>4</th>\n",
              "      <td>1</td>\n",
              "      <td>2355</td>\n",
              "      <td>5</td>\n",
              "      <td>978824291</td>\n",
              "      <td>Bug's Life, A (1998)</td>\n",
              "      <td>[9, 2, 0]</td>\n",
              "      <td>F</td>\n",
              "      <td>1</td>\n",
              "      <td>10</td>\n",
              "      <td>48067</td>\n",
              "    </tr>\n",
              "  </tbody>\n",
              "</table>\n",
              "</div>\n",
              "      <button class=\"colab-df-convert\" onclick=\"convertToInteractive('df-00551220-bede-45a7-a62c-561c64ca8737')\"\n",
              "              title=\"Convert this dataframe to an interactive table.\"\n",
              "              style=\"display:none;\">\n",
              "        \n",
              "  <svg xmlns=\"http://www.w3.org/2000/svg\" height=\"24px\"viewBox=\"0 0 24 24\"\n",
              "       width=\"24px\">\n",
              "    <path d=\"M0 0h24v24H0V0z\" fill=\"none\"/>\n",
              "    <path d=\"M18.56 5.44l.94 2.06.94-2.06 2.06-.94-2.06-.94-.94-2.06-.94 2.06-2.06.94zm-11 1L8.5 8.5l.94-2.06 2.06-.94-2.06-.94L8.5 2.5l-.94 2.06-2.06.94zm10 10l.94 2.06.94-2.06 2.06-.94-2.06-.94-.94-2.06-.94 2.06-2.06.94z\"/><path d=\"M17.41 7.96l-1.37-1.37c-.4-.4-.92-.59-1.43-.59-.52 0-1.04.2-1.43.59L10.3 9.45l-7.72 7.72c-.78.78-.78 2.05 0 2.83L4 21.41c.39.39.9.59 1.41.59.51 0 1.02-.2 1.41-.59l7.78-7.78 2.81-2.81c.8-.78.8-2.07 0-2.86zM5.41 20L4 18.59l7.72-7.72 1.47 1.35L5.41 20z\"/>\n",
              "  </svg>\n",
              "      </button>\n",
              "      \n",
              "  <style>\n",
              "    .colab-df-container {\n",
              "      display:flex;\n",
              "      flex-wrap:wrap;\n",
              "      gap: 12px;\n",
              "    }\n",
              "\n",
              "    .colab-df-convert {\n",
              "      background-color: #E8F0FE;\n",
              "      border: none;\n",
              "      border-radius: 50%;\n",
              "      cursor: pointer;\n",
              "      display: none;\n",
              "      fill: #1967D2;\n",
              "      height: 32px;\n",
              "      padding: 0 0 0 0;\n",
              "      width: 32px;\n",
              "    }\n",
              "\n",
              "    .colab-df-convert:hover {\n",
              "      background-color: #E2EBFA;\n",
              "      box-shadow: 0px 1px 2px rgba(60, 64, 67, 0.3), 0px 1px 3px 1px rgba(60, 64, 67, 0.15);\n",
              "      fill: #174EA6;\n",
              "    }\n",
              "\n",
              "    [theme=dark] .colab-df-convert {\n",
              "      background-color: #3B4455;\n",
              "      fill: #D2E3FC;\n",
              "    }\n",
              "\n",
              "    [theme=dark] .colab-df-convert:hover {\n",
              "      background-color: #434B5C;\n",
              "      box-shadow: 0px 1px 3px 1px rgba(0, 0, 0, 0.15);\n",
              "      filter: drop-shadow(0px 1px 2px rgba(0, 0, 0, 0.3));\n",
              "      fill: #FFFFFF;\n",
              "    }\n",
              "  </style>\n",
              "\n",
              "      <script>\n",
              "        const buttonEl =\n",
              "          document.querySelector('#df-00551220-bede-45a7-a62c-561c64ca8737 button.colab-df-convert');\n",
              "        buttonEl.style.display =\n",
              "          google.colab.kernel.accessAllowed ? 'block' : 'none';\n",
              "\n",
              "        async function convertToInteractive(key) {\n",
              "          const element = document.querySelector('#df-00551220-bede-45a7-a62c-561c64ca8737');\n",
              "          const dataTable =\n",
              "            await google.colab.kernel.invokeFunction('convertToInteractive',\n",
              "                                                     [key], {});\n",
              "          if (!dataTable) return;\n",
              "\n",
              "          const docLinkHtml = 'Like what you see? Visit the ' +\n",
              "            '<a target=\"_blank\" href=https://colab.research.google.com/notebooks/data_table.ipynb>data table notebook</a>'\n",
              "            + ' to learn more about interactive tables.';\n",
              "          element.innerHTML = '';\n",
              "          dataTable['output_type'] = 'display_data';\n",
              "          await google.colab.output.renderOutput(dataTable, element);\n",
              "          const docLink = document.createElement('div');\n",
              "          docLink.innerHTML = docLinkHtml;\n",
              "          element.appendChild(docLink);\n",
              "        }\n",
              "      </script>\n",
              "    </div>\n",
              "  </div>\n",
              "  "
            ]
          },
          "metadata": {},
          "execution_count": 15
        }
      ]
    },
    {
      "cell_type": "code",
      "metadata": {
        "colab": {
          "base_uri": "https://localhost:8080/",
          "height": 328
        },
        "id": "Iq_e90fGYmQs",
        "outputId": "8d68ee1d-5dfa-4582-e35e-d1d1c6d7eb04"
      },
      "source": [
        "def assign_to_set(df):\n",
        "    sampled_ids = np.random.choice(df.index,\n",
        "                                   size=np.int64(np.floor(df.index.size * 0.1)),\n",
        "                                   replace=False)\n",
        "    df.loc[sampled_ids, 'for_testing'] = True\n",
        "    return df\n",
        "\n",
        "ratings['for_testing'] = False\n",
        "grouped = ratings.groupby('mid', group_keys=False).apply(assign_to_set)\n",
        "\n",
        "df_train = ratings[grouped.for_testing == False]\n",
        "df_val = ratings[grouped.for_testing == True]\n",
        "print(df_train.shape)\n",
        "print(df_val.shape)\n",
        "print(df_train.index & df_val.index)\n",
        "print(\"Training data_set has \"+ str(df_train.shape[0]) +\" ratings\")\n",
        "print(\"Test data set has \"+ str(df_val.shape[0]) +\" ratings\")\n",
        "df_train.head()"
      ],
      "execution_count": null,
      "outputs": [
        {
          "output_type": "stream",
          "name": "stdout",
          "text": [
            "(901777, 11)\n",
            "(98432, 11)\n",
            "Int64Index([], dtype='int64')\n",
            "Training data_set has 901777 ratings\n",
            "Test data set has 98432 ratings\n"
          ]
        },
        {
          "output_type": "stream",
          "name": "stderr",
          "text": [
            "/usr/local/lib/python3.7/dist-packages/ipykernel_launcher.py:15: FutureWarning: Index.__and__ operating as a set operation is deprecated, in the future this will be a logical operation matching Series.__and__.  Use index.intersection(other) instead\n",
            "  from ipykernel import kernelapp as app\n"
          ]
        },
        {
          "output_type": "execute_result",
          "data": {
            "text/plain": [
              "   uid   mid  rating  timestamp                              movie_name  \\\n",
              "0    1  1193       5  978300760  One Flew Over the Cuckoo's Nest (1975)   \n",
              "1    1   661       3  978302109        James and the Giant Peach (1996)   \n",
              "2    1   914       3  978301968                     My Fair Lady (1964)   \n",
              "3    1  3408       4  978300275                  Erin Brockovich (2000)   \n",
              "4    1  2355       5  978824291                    Bug's Life, A (1998)   \n",
              "\n",
              "  movie_genre user_fea1  user_fea2  user_fea3 user_fea4  for_testing  \n",
              "0   [1, 0, 0]         F          1         10     48067        False  \n",
              "1  [9, 13, 0]         F          1         10     48067        False  \n",
              "2  [13, 5, 0]         F          1         10     48067        False  \n",
              "3   [1, 0, 0]         F          1         10     48067        False  \n",
              "4   [9, 2, 0]         F          1         10     48067        False  "
            ],
            "text/html": [
              "\n",
              "  <div id=\"df-17e1f1ac-7eef-49c8-9678-9c0b8c0ffcbb\">\n",
              "    <div class=\"colab-df-container\">\n",
              "      <div>\n",
              "<style scoped>\n",
              "    .dataframe tbody tr th:only-of-type {\n",
              "        vertical-align: middle;\n",
              "    }\n",
              "\n",
              "    .dataframe tbody tr th {\n",
              "        vertical-align: top;\n",
              "    }\n",
              "\n",
              "    .dataframe thead th {\n",
              "        text-align: right;\n",
              "    }\n",
              "</style>\n",
              "<table border=\"1\" class=\"dataframe\">\n",
              "  <thead>\n",
              "    <tr style=\"text-align: right;\">\n",
              "      <th></th>\n",
              "      <th>uid</th>\n",
              "      <th>mid</th>\n",
              "      <th>rating</th>\n",
              "      <th>timestamp</th>\n",
              "      <th>movie_name</th>\n",
              "      <th>movie_genre</th>\n",
              "      <th>user_fea1</th>\n",
              "      <th>user_fea2</th>\n",
              "      <th>user_fea3</th>\n",
              "      <th>user_fea4</th>\n",
              "      <th>for_testing</th>\n",
              "    </tr>\n",
              "  </thead>\n",
              "  <tbody>\n",
              "    <tr>\n",
              "      <th>0</th>\n",
              "      <td>1</td>\n",
              "      <td>1193</td>\n",
              "      <td>5</td>\n",
              "      <td>978300760</td>\n",
              "      <td>One Flew Over the Cuckoo's Nest (1975)</td>\n",
              "      <td>[1, 0, 0]</td>\n",
              "      <td>F</td>\n",
              "      <td>1</td>\n",
              "      <td>10</td>\n",
              "      <td>48067</td>\n",
              "      <td>False</td>\n",
              "    </tr>\n",
              "    <tr>\n",
              "      <th>1</th>\n",
              "      <td>1</td>\n",
              "      <td>661</td>\n",
              "      <td>3</td>\n",
              "      <td>978302109</td>\n",
              "      <td>James and the Giant Peach (1996)</td>\n",
              "      <td>[9, 13, 0]</td>\n",
              "      <td>F</td>\n",
              "      <td>1</td>\n",
              "      <td>10</td>\n",
              "      <td>48067</td>\n",
              "      <td>False</td>\n",
              "    </tr>\n",
              "    <tr>\n",
              "      <th>2</th>\n",
              "      <td>1</td>\n",
              "      <td>914</td>\n",
              "      <td>3</td>\n",
              "      <td>978301968</td>\n",
              "      <td>My Fair Lady (1964)</td>\n",
              "      <td>[13, 5, 0]</td>\n",
              "      <td>F</td>\n",
              "      <td>1</td>\n",
              "      <td>10</td>\n",
              "      <td>48067</td>\n",
              "      <td>False</td>\n",
              "    </tr>\n",
              "    <tr>\n",
              "      <th>3</th>\n",
              "      <td>1</td>\n",
              "      <td>3408</td>\n",
              "      <td>4</td>\n",
              "      <td>978300275</td>\n",
              "      <td>Erin Brockovich (2000)</td>\n",
              "      <td>[1, 0, 0]</td>\n",
              "      <td>F</td>\n",
              "      <td>1</td>\n",
              "      <td>10</td>\n",
              "      <td>48067</td>\n",
              "      <td>False</td>\n",
              "    </tr>\n",
              "    <tr>\n",
              "      <th>4</th>\n",
              "      <td>1</td>\n",
              "      <td>2355</td>\n",
              "      <td>5</td>\n",
              "      <td>978824291</td>\n",
              "      <td>Bug's Life, A (1998)</td>\n",
              "      <td>[9, 2, 0]</td>\n",
              "      <td>F</td>\n",
              "      <td>1</td>\n",
              "      <td>10</td>\n",
              "      <td>48067</td>\n",
              "      <td>False</td>\n",
              "    </tr>\n",
              "  </tbody>\n",
              "</table>\n",
              "</div>\n",
              "      <button class=\"colab-df-convert\" onclick=\"convertToInteractive('df-17e1f1ac-7eef-49c8-9678-9c0b8c0ffcbb')\"\n",
              "              title=\"Convert this dataframe to an interactive table.\"\n",
              "              style=\"display:none;\">\n",
              "        \n",
              "  <svg xmlns=\"http://www.w3.org/2000/svg\" height=\"24px\"viewBox=\"0 0 24 24\"\n",
              "       width=\"24px\">\n",
              "    <path d=\"M0 0h24v24H0V0z\" fill=\"none\"/>\n",
              "    <path d=\"M18.56 5.44l.94 2.06.94-2.06 2.06-.94-2.06-.94-.94-2.06-.94 2.06-2.06.94zm-11 1L8.5 8.5l.94-2.06 2.06-.94-2.06-.94L8.5 2.5l-.94 2.06-2.06.94zm10 10l.94 2.06.94-2.06 2.06-.94-2.06-.94-.94-2.06-.94 2.06-2.06.94z\"/><path d=\"M17.41 7.96l-1.37-1.37c-.4-.4-.92-.59-1.43-.59-.52 0-1.04.2-1.43.59L10.3 9.45l-7.72 7.72c-.78.78-.78 2.05 0 2.83L4 21.41c.39.39.9.59 1.41.59.51 0 1.02-.2 1.41-.59l7.78-7.78 2.81-2.81c.8-.78.8-2.07 0-2.86zM5.41 20L4 18.59l7.72-7.72 1.47 1.35L5.41 20z\"/>\n",
              "  </svg>\n",
              "      </button>\n",
              "      \n",
              "  <style>\n",
              "    .colab-df-container {\n",
              "      display:flex;\n",
              "      flex-wrap:wrap;\n",
              "      gap: 12px;\n",
              "    }\n",
              "\n",
              "    .colab-df-convert {\n",
              "      background-color: #E8F0FE;\n",
              "      border: none;\n",
              "      border-radius: 50%;\n",
              "      cursor: pointer;\n",
              "      display: none;\n",
              "      fill: #1967D2;\n",
              "      height: 32px;\n",
              "      padding: 0 0 0 0;\n",
              "      width: 32px;\n",
              "    }\n",
              "\n",
              "    .colab-df-convert:hover {\n",
              "      background-color: #E2EBFA;\n",
              "      box-shadow: 0px 1px 2px rgba(60, 64, 67, 0.3), 0px 1px 3px 1px rgba(60, 64, 67, 0.15);\n",
              "      fill: #174EA6;\n",
              "    }\n",
              "\n",
              "    [theme=dark] .colab-df-convert {\n",
              "      background-color: #3B4455;\n",
              "      fill: #D2E3FC;\n",
              "    }\n",
              "\n",
              "    [theme=dark] .colab-df-convert:hover {\n",
              "      background-color: #434B5C;\n",
              "      box-shadow: 0px 1px 3px 1px rgba(0, 0, 0, 0.15);\n",
              "      filter: drop-shadow(0px 1px 2px rgba(0, 0, 0, 0.3));\n",
              "      fill: #FFFFFF;\n",
              "    }\n",
              "  </style>\n",
              "\n",
              "      <script>\n",
              "        const buttonEl =\n",
              "          document.querySelector('#df-17e1f1ac-7eef-49c8-9678-9c0b8c0ffcbb button.colab-df-convert');\n",
              "        buttonEl.style.display =\n",
              "          google.colab.kernel.accessAllowed ? 'block' : 'none';\n",
              "\n",
              "        async function convertToInteractive(key) {\n",
              "          const element = document.querySelector('#df-17e1f1ac-7eef-49c8-9678-9c0b8c0ffcbb');\n",
              "          const dataTable =\n",
              "            await google.colab.kernel.invokeFunction('convertToInteractive',\n",
              "                                                     [key], {});\n",
              "          if (!dataTable) return;\n",
              "\n",
              "          const docLinkHtml = 'Like what you see? Visit the ' +\n",
              "            '<a target=\"_blank\" href=https://colab.research.google.com/notebooks/data_table.ipynb>data table notebook</a>'\n",
              "            + ' to learn more about interactive tables.';\n",
              "          element.innerHTML = '';\n",
              "          dataTable['output_type'] = 'display_data';\n",
              "          await google.colab.output.renderOutput(dataTable, element);\n",
              "          const docLink = document.createElement('div');\n",
              "          docLink.innerHTML = docLinkHtml;\n",
              "          element.appendChild(docLink);\n",
              "        }\n",
              "      </script>\n",
              "    </div>\n",
              "  </div>\n",
              "  "
            ]
          },
          "metadata": {},
          "execution_count": 16
        }
      ]
    },
    {
      "cell_type": "markdown",
      "metadata": {
        "id": "SPFuPE6bcvrk"
      },
      "source": [
        "## Define input layers\n",
        "The dataset contains a **numeric** and **categerical** features, they need to be treated differently.\n",
        "\n",
        "* **numeric features** can be concatenated to inputs, with shape (None, num_of_numeric)\n",
        "* **categorical features** can be encoded individually to inputs, with shape (None, 1) each."
      ]
    },
    {
      "cell_type": "code",
      "metadata": {
        "id": "c7cHATeUYFNc"
      },
      "source": [
        "import tensorflow.keras.backend as K\n",
        "from tensorflow.keras.models import Model\n",
        "from tensorflow.keras.layers import *\n",
        "\n",
        "def define_input_layers():\n",
        "    # numerical features\n",
        "    fea3_input = Input((1,), name = 'input_fea3')\n",
        "    num_inputs = [fea3_input]\n",
        "    # single level categorical features\n",
        "    uid_input = Input((1,), name = 'input_uid') #user_id\n",
        "    mid_input = Input((1,), name= 'input_mid')  #movie_id\n",
        "    cat_sl_inputs = [uid_input, mid_input]\n",
        "\n",
        "    # multi level categorical features (with 3 genres at most)\n",
        "    genre_input = Input((3,), name = 'input_genre')\n",
        "    cat_ml_inputs = [genre_input]\n",
        "\n",
        "    inputs = num_inputs + cat_sl_inputs + cat_ml_inputs\n",
        "    \n",
        "    return inputs\n",
        "\n",
        "inputs = define_input_layers()"
      ],
      "execution_count": null,
      "outputs": []
    },
    {
      "cell_type": "markdown",
      "metadata": {
        "id": "vaPCoWWCdNci"
      },
      "source": [
        "## 1st order factorization machines\n",
        "1st order will require features to map to a scalar. so for:\n",
        "\n",
        "* numeric feature: a dense layer will convert tensor to shape (None,1)\n",
        "* categorical feature: a embedding layer will convert tensor to shape (None,1,1) and then reshape layer to reshape to (None,1)"
      ]
    },
    {
      "cell_type": "code",
      "metadata": {
        "id": "q3a4mpPJXbKc"
      },
      "source": [
        "def Tensor_Mean_Pooling(name = 'mean_pooling', keepdims = False):\n",
        "    return Lambda(lambda x: K.mean(x, axis = 1, keepdims=keepdims), name = name)\n",
        "\n",
        "def fm_1d(inputs, n_uid, n_mid, n_genre):\n",
        "    \n",
        "    # user feat3 + user embedding + movie embedding + genre embedding\n",
        "    fea3_input, uid_input, mid_input, genre_input = inputs\n",
        "    \n",
        "    # all tensors are reshape to (None, 1)\n",
        "    num_dense_1d = [Dense(1, name = 'num_dense_1d_fea4')(fea3_input)]\n",
        "    cat_sl_embed_1d = [Embedding(n_uid + 1, 1, name = 'cat_embed_1d_uid')(uid_input),\n",
        "                        Embedding(n_mid + 1, 1, name = 'cat_embed_1d_mid')(mid_input)]\n",
        "    cat_ml_embed_1d = [Embedding(n_genre + 1, 1, mask_zero=True, name = 'cat_embed_1d_genre')(genre_input)]\n",
        "\n",
        "    cat_sl_embed_1d = [Reshape((1,))(i) for i in cat_sl_embed_1d]\n",
        "    cat_ml_embed_1d = [Tensor_Mean_Pooling(name = 'embed_1d_mean')(i) for i in cat_ml_embed_1d]\n",
        "    \n",
        "    # add all tensors\n",
        "    y_fm_1d = Add(name = 'fm_1d_output')(num_dense_1d + cat_sl_embed_1d + cat_ml_embed_1d)\n",
        "    \n",
        "    return y_fm_1d\n",
        "\n",
        "y_1d = fm_1d(inputs, 10, 10, 10)"
      ],
      "execution_count": null,
      "outputs": []
    },
    {
      "cell_type": "markdown",
      "metadata": {
        "id": "kFLCmtlQd0HL"
      },
      "source": [
        "## 2nd order factorization machines\n",
        "In 2nd order FM, each feature is map to shape (None, 1, k) and then stack to concat_embed_2d layer with shape (None, p, k).\n",
        "k - matrix factorization latent dimension, p is feature dimension.\n",
        "\n",
        "the calculation of interaction terms can be simplified, using\n",
        "\\begin{equation*} \\sum{x_ix_j} = \\frac{1}{2} \\left((\\sum{x})^2 - \\sum({x}^2)\\right) \\end{equation*}\n",
        "\n",
        "Hence, the sum of 2nd order interactions = square of sum of concat_embed_2d - sum of squared concat_embed_2d in p dimension, the resulting tensor will have a shape (None, k)\n",
        "\n"
      ]
    },
    {
      "cell_type": "code",
      "metadata": {
        "id": "Q3Q0pozxXdbd"
      },
      "source": [
        "def fm_2d(inputs, n_uid, n_mid, n_genre, k):\n",
        "    \n",
        "    fea3_input, uid_input, mid_input, genre_input = inputs\n",
        "    \n",
        "    num_dense_2d = [Dense(k, name = 'num_dense_2d_fea3')(fea3_input)] # shape (None, k)\n",
        "    num_dense_2d = [Reshape((1,k))(i) for i in num_dense_2d] # shape (None, 1, k)\n",
        "\n",
        "    cat_sl_embed_2d = [Embedding(n_uid + 1, k, name = 'cat_embed_2d_uid')(uid_input), \n",
        "                       Embedding(n_mid + 1, k, name = 'cat_embed_2d_mid')(mid_input)] # shape (None, 1, k)\n",
        "    \n",
        "    cat_ml_embed_2d = [Embedding(n_genre + 1, k, name = 'cat_embed_2d_genre')(genre_input)] # shape (None, 3, k)\n",
        "    cat_ml_embed_2d = [Tensor_Mean_Pooling(name = 'cat_embed_2d_genure_mean', keepdims=True)(i) for i in cat_ml_embed_2d] # shape (None, 1, k)\n",
        "\n",
        "    # concatenate all 2d embed layers => (None, ?, k)\n",
        "    embed_2d = Concatenate(axis=1, name = 'concat_embed_2d')(num_dense_2d + cat_sl_embed_2d + cat_ml_embed_2d)\n",
        "\n",
        "    # calcuate the interactions by simplication\n",
        "    # sum of (x1*x2) = (0.5*[(sum of  xi)^2 - sum of (xi^2)])\n",
        "    tensor_sum = Lambda(lambda x: K.sum(x, axis = 1), name = 'sum_of_tensors')\n",
        "    tensor_square = Lambda(lambda x: K.square(x), name = 'square_of_tensors')\n",
        "\n",
        "    sum_of_embed = tensor_sum(embed_2d)\n",
        "    square_of_embed = tensor_square(embed_2d)\n",
        "\n",
        "    square_of_sum = Multiply()([sum_of_embed, sum_of_embed])\n",
        "    sum_of_square = tensor_sum(square_of_embed)\n",
        "\n",
        "    sub = Subtract()([square_of_sum, sum_of_square])\n",
        "    sub = Lambda(lambda x: x*0.5)(sub)\n",
        "    y_fm_2d = Reshape((1,), name = 'fm_2d_output')(tensor_sum(sub))\n",
        "    \n",
        "    return y_fm_2d, embed_2d\n",
        "\n",
        "y_fm2_d, embed_2d = fm_2d(inputs, 10, 10, 10, 5)"
      ],
      "execution_count": null,
      "outputs": []
    },
    {
      "cell_type": "markdown",
      "metadata": {
        "id": "YGZ_ir1ReJH0"
      },
      "source": [
        "## deep part\n",
        "this part is simply a DNN framework with input as concat_embed_2d layer"
      ]
    },
    {
      "cell_type": "code",
      "metadata": {
        "id": "OT143gNfn_oC"
      },
      "source": [
        "def deep_part(embed_2d, dnn_dim, dnn_dr):\n",
        "    \n",
        "    # flat embed layers from 3D to 2D tensors\n",
        "    y_dnn = Flatten(name = 'flat_embed_2d')(embed_2d)\n",
        "    for h in dnn_dim:\n",
        "        y_dnn = Dropout(dnn_dr)(y_dnn)\n",
        "        y_dnn = Dense(h, activation='relu')(y_dnn)\n",
        "    y_dnn = Dense(1, activation='relu', name = 'deep_output')(y_dnn)\n",
        "    \n",
        "    return y_dnn\n",
        "\n",
        "y_dnn = deep_part(embed_2d, [16, 16], 0.5)"
      ],
      "execution_count": null,
      "outputs": []
    },
    {
      "cell_type": "markdown",
      "metadata": {
        "id": "j755pVGzeLSr"
      },
      "source": [
        "## Put together"
      ]
    },
    {
      "cell_type": "code",
      "metadata": {
        "id": "lM7VHicDn7UC"
      },
      "source": [
        "def deep_fm_model(n_uid, n_mid, n_genre, k, dnn_dim, dnn_dr):\n",
        "    \n",
        "    inputs = define_input_layers()\n",
        "    \n",
        "    y_fm_1d = fm_1d(inputs, n_uid, n_mid, n_genre)\n",
        "    y_fm_2d, embed_2d = fm_2d(inputs, n_uid, n_mid, n_genre, k)\n",
        "    y_dnn = deep_part(embed_2d, dnn_dim, dnn_dr)\n",
        "    \n",
        "    # combinded deep and fm parts\n",
        "    y = Concatenate()([y_fm_1d, y_fm_2d, y_dnn])\n",
        "    y = Dense(1, name = 'deepfm_output')(y)\n",
        "    \n",
        "    fm_model_1d = Model(inputs, y_fm_1d)\n",
        "    fm_model_2d = Model(inputs, y_fm_2d)\n",
        "    deep_model = Model(inputs, y_dnn)\n",
        "    deep_fm_model = Model(inputs, y)\n",
        "    \n",
        "    return fm_model_1d, fm_model_2d, deep_model, deep_fm_model"
      ],
      "execution_count": null,
      "outputs": []
    },
    {
      "cell_type": "code",
      "metadata": {
        "id": "eWkSX7Bhgo2I"
      },
      "source": [
        "params = {\n",
        "    'n_uid': ratings.uid.max(),\n",
        "    'n_mid': ratings.mid.max(),\n",
        "    'n_genre': 14,\n",
        "    'k':20,\n",
        "    'dnn_dim':[64,64],\n",
        "    'dnn_dr': 0.5\n",
        "}\n",
        "\n",
        "fm_model_1d, fm_model_2d, deep_model, deep_fm_model = deep_fm_model(**params)"
      ],
      "execution_count": null,
      "outputs": []
    },
    {
      "cell_type": "code",
      "metadata": {
        "colab": {
          "base_uri": "https://localhost:8080/"
        },
        "id": "oWnrTFJOY1cU",
        "outputId": "bab86f1c-5254-4ae5-db02-503d1592ebf0"
      },
      "source": [
        "params"
      ],
      "execution_count": null,
      "outputs": [
        {
          "output_type": "execute_result",
          "data": {
            "text/plain": [
              "{'dnn_dim': [64, 64],\n",
              " 'dnn_dr': 0.5,\n",
              " 'k': 20,\n",
              " 'n_genre': 14,\n",
              " 'n_mid': 3952,\n",
              " 'n_uid': 6040}"
            ]
          },
          "metadata": {},
          "execution_count": 23
        }
      ]
    },
    {
      "cell_type": "markdown",
      "metadata": {
        "id": "ZXrT_Z3aea4c"
      },
      "source": [
        "## Prepare Data"
      ]
    },
    {
      "cell_type": "markdown",
      "metadata": {
        "id": "PLZcA6wNelXL"
      },
      "source": [
        "### Split Data"
      ]
    },
    {
      "cell_type": "code",
      "metadata": {
        "colab": {
          "base_uri": "https://localhost:8080/"
        },
        "id": "TbNHpxJkZnVl",
        "outputId": "9eb4553b-835e-48ef-82f8-b60407a2a219"
      },
      "source": [
        "df_train.shape,df_val.shape"
      ],
      "execution_count": null,
      "outputs": [
        {
          "output_type": "execute_result",
          "data": {
            "text/plain": [
              "((901777, 11), (98432, 11))"
            ]
          },
          "metadata": {},
          "execution_count": 24
        }
      ]
    },
    {
      "cell_type": "code",
      "metadata": {
        "id": "CMNUqrjEn8WQ"
      },
      "source": [
        "def df2xy(ratings):\n",
        "    x = [ratings.user_fea3.values, \n",
        "         ratings.uid.values, \n",
        "         ratings.mid.values, \n",
        "         np.concatenate(ratings.movie_genre.values).reshape(-1,3)]\n",
        "    y = ratings.rating.values\n",
        "    return x,y\n",
        "\n",
        "train_x, train_y = df2xy(df_train)\n",
        "valid_x, valid_y = df2xy(df_val)"
      ],
      "execution_count": null,
      "outputs": []
    },
    {
      "cell_type": "markdown",
      "metadata": {
        "id": "EtzvIumPenRu"
      },
      "source": [
        "## Train Model"
      ]
    },
    {
      "cell_type": "code",
      "metadata": {
        "colab": {
          "base_uri": "https://localhost:8080/"
        },
        "id": "dU4tF8PxoE0s",
        "outputId": "9ad0b0ab-3426-4b5e-845a-f687fa6872de"
      },
      "source": [
        "from tensorflow.keras.callbacks import  EarlyStopping, ModelCheckpoint\n",
        "# train  model\n",
        "deep_fm_model.compile(\n",
        "    loss=tf.keras.losses.MeanSquaredError(), optimizer=keras.optimizers.Adam(learning_rate=0.001)\n",
        ")\n",
        "early_stop = EarlyStopping(monitor='val_loss', patience=3)\n",
        "model_ckp = ModelCheckpoint(filepath='./models/deepfm_weights.h5', \n",
        "                            monitor='val_loss',\n",
        "                            save_weights_only=True, \n",
        "                            save_best_only=True)\n",
        "callbacks = [model_ckp,early_stop]\n",
        "train_history = deep_fm_model.fit(train_x, train_y, \n",
        "                                  epochs=30, batch_size=2048, \n",
        "                                  validation_data=(valid_x, valid_y),\n",
        "                                  callbacks = callbacks)"
      ],
      "execution_count": null,
      "outputs": [
        {
          "output_type": "stream",
          "name": "stdout",
          "text": [
            "Epoch 1/30\n",
            "441/441 [==============================] - 9s 15ms/step - loss: 8.4261 - val_loss: 10.5175\n",
            "Epoch 2/30\n",
            "441/441 [==============================] - 6s 14ms/step - loss: 1.8377 - val_loss: 2.3442\n",
            "Epoch 3/30\n",
            "441/441 [==============================] - 7s 15ms/step - loss: 1.0501 - val_loss: 1.2204\n",
            "Epoch 4/30\n",
            "441/441 [==============================] - 6s 14ms/step - loss: 0.9389 - val_loss: 1.0382\n",
            "Epoch 5/30\n",
            "441/441 [==============================] - 6s 14ms/step - loss: 0.9039 - val_loss: 0.9345\n",
            "Epoch 6/30\n",
            "441/441 [==============================] - 6s 14ms/step - loss: 0.8824 - val_loss: 0.8986\n",
            "Epoch 7/30\n",
            "441/441 [==============================] - 6s 14ms/step - loss: 0.8674 - val_loss: 0.8795\n",
            "Epoch 8/30\n",
            "441/441 [==============================] - 6s 14ms/step - loss: 0.8575 - val_loss: 0.8622\n",
            "Epoch 9/30\n",
            "441/441 [==============================] - 6s 14ms/step - loss: 0.8509 - val_loss: 0.8567\n",
            "Epoch 10/30\n",
            "441/441 [==============================] - 7s 15ms/step - loss: 0.8449 - val_loss: 0.8545\n",
            "Epoch 11/30\n",
            "441/441 [==============================] - 6s 14ms/step - loss: 0.8398 - val_loss: 0.8492\n",
            "Epoch 12/30\n",
            "441/441 [==============================] - 6s 14ms/step - loss: 0.8349 - val_loss: 0.8448\n",
            "Epoch 13/30\n",
            "441/441 [==============================] - 6s 14ms/step - loss: 0.8302 - val_loss: 0.8422\n",
            "Epoch 14/30\n",
            "441/441 [==============================] - 6s 14ms/step - loss: 0.8266 - val_loss: 0.8356\n",
            "Epoch 15/30\n",
            "441/441 [==============================] - 6s 14ms/step - loss: 0.8217 - val_loss: 0.8332\n",
            "Epoch 16/30\n",
            "441/441 [==============================] - 6s 14ms/step - loss: 0.8173 - val_loss: 0.8337\n",
            "Epoch 17/30\n",
            "441/441 [==============================] - 6s 15ms/step - loss: 0.8128 - val_loss: 0.8287\n",
            "Epoch 18/30\n",
            "441/441 [==============================] - 7s 15ms/step - loss: 0.8081 - val_loss: 0.8225\n",
            "Epoch 19/30\n",
            "441/441 [==============================] - 6s 14ms/step - loss: 0.8026 - val_loss: 0.8178\n",
            "Epoch 20/30\n",
            "441/441 [==============================] - 6s 14ms/step - loss: 0.7967 - val_loss: 0.8130\n",
            "Epoch 21/30\n",
            "441/441 [==============================] - 7s 15ms/step - loss: 0.7897 - val_loss: 0.8092\n",
            "Epoch 22/30\n",
            "441/441 [==============================] - 6s 14ms/step - loss: 0.7828 - val_loss: 0.8035\n",
            "Epoch 23/30\n",
            "441/441 [==============================] - 6s 14ms/step - loss: 0.7747 - val_loss: 0.8007\n",
            "Epoch 24/30\n",
            "441/441 [==============================] - 6s 14ms/step - loss: 0.7662 - val_loss: 0.7930\n",
            "Epoch 25/30\n",
            "441/441 [==============================] - 6s 14ms/step - loss: 0.7575 - val_loss: 0.7875\n",
            "Epoch 26/30\n",
            "441/441 [==============================] - 6s 14ms/step - loss: 0.7483 - val_loss: 0.7824\n",
            "Epoch 27/30\n",
            "441/441 [==============================] - 6s 14ms/step - loss: 0.7399 - val_loss: 0.7767\n",
            "Epoch 28/30\n",
            "441/441 [==============================] - 6s 14ms/step - loss: 0.7312 - val_loss: 0.7725\n",
            "Epoch 29/30\n",
            "441/441 [==============================] - 6s 14ms/step - loss: 0.7227 - val_loss: 0.7683\n",
            "Epoch 30/30\n",
            "441/441 [==============================] - 6s 14ms/step - loss: 0.7137 - val_loss: 0.7653\n"
          ]
        }
      ]
    },
    {
      "cell_type": "code",
      "metadata": {
        "colab": {
          "background_save": true
        },
        "id": "RcWSwesFoIIr"
      },
      "source": [
        "\n"
      ],
      "execution_count": null,
      "outputs": []
    },
    {
      "cell_type": "markdown",
      "metadata": {
        "id": "6_j2YoMnfdqM"
      },
      "source": [
        "### Exercice\n",
        "\n",
        "Modify the previous model to use Graph Embeddings"
      ]
    },
    {
      "cell_type": "code",
      "metadata": {
        "id": "4UzI5IksO6gx"
      },
      "source": [
        ""
      ],
      "execution_count": null,
      "outputs": []
    }
  ]
}