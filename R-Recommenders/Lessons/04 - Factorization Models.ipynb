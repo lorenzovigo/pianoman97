{
 "cells": [
  {
   "cell_type": "markdown",
   "metadata": {},
   "source": [
    "\n",
    "## Lesson 4: Collaborative-based recommender systems: Factorization MODELS"
   ]
  },
  {
   "cell_type": "markdown",
   "metadata": {},
   "source": [
    "Matrix factorization is a simple embedding model, which decomposes the user-item intraction matrix, $R \\in R^{m\\times n}$ matrix, where $m$ is the number of users and $n$ the number of items, into the product of two lower dimensionality rectangular matrice. The the goal of the factorization models is to learn:\n",
    "* A user embedding (or user latent factor) $P \\in R^{m\\times k}$, where row $i$ is the embedding of user $i$.\n",
    "* A item embedding (or item latent factor) $Q \\in R^{n\\times k}$, where row $j$ is the embedding of user $j$.\n",
    "\n",
    "![alt factorization models](https://miro.medium.com/max/988/1*nIVWl2ROaxOY23hHajkTTg.png)\n",
    "\n",
    "These methods became really popular due to the shown efficiency in the Netflix Prize Challenge. \n",
    "\n",
    "There are several variants of these methods:\n",
    "* SVD \n",
    "* Vanilla Factorization Matrix (also knwon as Funk SVD)\n",
    "* Vanilla Factorization Matrix with biases \n",
    "* SVD++\n",
    "* ...\n",
    "\n",
    "In these notewook we will the application of these method to the MovieLens dataset."
   ]
  },
  {
   "cell_type": "code",
   "execution_count": 13,
   "metadata": {},
   "outputs": [],
   "source": [
    "def evaluate(predict_f,data_train,data_test):\n",
    "    \"\"\" RMSE-based predictive performance evaluation with pandas. \"\"\"\n",
    "    ids_to_estimate = zip(data_test.user_id, data_test.movie_id)\n",
    "    list_users = set(data_train.user_id)\n",
    "    estimated = np.array([predict_f(u,i) if u in list_users else 3 for (u,i) in ids_to_estimate ])\n",
    "    real = data_test.rating.values\n",
    "    return compute_rmse(estimated, real)\n",
    "\n",
    "def compute_rmse(y_pred, y_true):\n",
    "    \"\"\" Compute Root Mean Squared Error. \"\"\"\n",
    "    return np.sqrt(np.mean(np.power(y_pred - y_true, 2)))\n",
    "\n",
    "\n",
    "## Divide the data in two sets: training and test\n",
    "def assign_to_set(df):\n",
    "    sampled_ids = np.random.choice(df.index,\n",
    "                                   size=np.int64(np.ceil(df.index.size * 0.2)),\n",
    "                                   replace=False)\n",
    "    df.loc[sampled_ids, 'for_testing'] = True\n",
    "    return df"
   ]
  },
  {
   "cell_type": "code",
   "execution_count": 14,
   "metadata": {},
   "outputs": [
    {
     "data": {
      "application/javascript": [
       "IPython.notebook.set_autosave_interval(150000)"
      ]
     },
     "metadata": {},
     "output_type": "display_data"
    },
    {
     "name": "stdout",
     "output_type": "stream",
     "text": [
      "Autosaving every 150 seconds\n",
      "Full DB has 1000209 ratings\n",
      "Full DB has  6040  users\n",
      "Full DB has  3706  movies\n",
      "Training data_set has 797758 ratings\n",
      "Test data set has 202451 ratings\n"
     ]
    }
   ],
   "source": [
    "%autosave 150\n",
    "%matplotlib inline\n",
    "import pandas as pd\n",
    "import numpy as np\n",
    "import math\n",
    "import matplotlib.pylab as plt\n",
    "\n",
    "# Load Data set\n",
    "u_cols = ['user_id', 'age', 'sex', 'occupation', 'zip_code']\n",
    "users = pd.read_csv('../data/ml-1m/users.dat', sep='::', names=u_cols, engine='python')\n",
    "\n",
    "r_cols = ['user_id', 'movie_id', 'rating', 'unix_timestamp']\n",
    "ratings = pd.read_csv('../data/ml-1m/ratings.dat', sep='::', names=r_cols, engine='python')\n",
    "\n",
    "# the movies file contains columns indicating the movie's genres\n",
    "# let's only load the first three columns of the file with usecols\n",
    "m_cols = ['movie_id', 'title', 'release_date']\n",
    "movies = pd.read_csv('../data/ml-1m/movies.dat', sep='::', names=m_cols, usecols=range(3), encoding='latin-1', engine='python')\n",
    "\n",
    "# Construcció del DataFrame\n",
    "data = pd.merge(pd.merge(ratings, users), movies)\n",
    "data = data[['user_id','title', 'movie_id','rating','release_date','sex','age']]\n",
    "\n",
    "\n",
    "print(\"Full DB has \"+ str(data.shape[0]) +\" ratings\")\n",
    "print(\"Full DB has \", data.user_id.nunique(),\" users\")\n",
    "print(\"Full DB has \", data.movie_id.nunique(), \" movies\")\n",
    "data.head()\n",
    "\n",
    "\n",
    "## DIVIDE THE DATA INTO TRAINING AND TEST SET\n",
    "data['for_testing'] = False\n",
    "grouped = data.groupby('user_id', group_keys=False).apply(assign_to_set)\n",
    "data_train = data[grouped.for_testing == False]\n",
    "data_test = data[grouped.for_testing == True]\n",
    "\n",
    "\n",
    "print(\"Training data_set has \"+ str(data_train.shape[0]) +\" ratings\")\n",
    "print(\"Test data set has \"+ str(data_test.shape[0]) +\" ratings\")"
   ]
  },
  {
   "cell_type": "code",
   "execution_count": 15,
   "metadata": {},
   "outputs": [
    {
     "data": {
      "image/png": "[encoded data removed]",
      "text/plain": [
       "<Figure size 432x288 with 1 Axes>"
      ]
     },
     "metadata": {
      "needs_background": "light"
     },
     "output_type": "display_data"
    }
   ],
   "source": [
    "plt.hist(data.rating,bins=5)\n",
    "plt.show()"
   ]
  },
  {
   "cell_type": "code",
   "execution_count": 16,
   "metadata": {},
   "outputs": [
    {
     "data": {
      "text/html": [
       "<div>\n",
       "<style scoped>\n",
       "    .dataframe tbody tr th:only-of-type {\n",
       "        vertical-align: middle;\n",
       "    }\n",
       "\n",
       "    .dataframe tbody tr th {\n",
       "        vertical-align: top;\n",
       "    }\n",
       "\n",
       "    .dataframe thead th {\n",
       "        text-align: right;\n",
       "    }\n",
       "</style>\n",
       "<table border=\"1\" class=\"dataframe\">\n",
       "  <thead>\n",
       "    <tr style=\"text-align: right;\">\n",
       "      <th></th>\n",
       "      <th>user_id</th>\n",
       "      <th>title</th>\n",
       "      <th>movie_id</th>\n",
       "      <th>release_date</th>\n",
       "      <th>sex</th>\n",
       "      <th>age</th>\n",
       "      <th>for_testing</th>\n",
       "    </tr>\n",
       "    <tr>\n",
       "      <th>rating</th>\n",
       "      <th></th>\n",
       "      <th></th>\n",
       "      <th></th>\n",
       "      <th></th>\n",
       "      <th></th>\n",
       "      <th></th>\n",
       "      <th></th>\n",
       "    </tr>\n",
       "  </thead>\n",
       "  <tbody>\n",
       "    <tr>\n",
       "      <th>1</th>\n",
       "      <td>56174</td>\n",
       "      <td>56174</td>\n",
       "      <td>56174</td>\n",
       "      <td>56174</td>\n",
       "      <td>56174</td>\n",
       "      <td>56174</td>\n",
       "      <td>56174</td>\n",
       "    </tr>\n",
       "    <tr>\n",
       "      <th>2</th>\n",
       "      <td>107557</td>\n",
       "      <td>107557</td>\n",
       "      <td>107557</td>\n",
       "      <td>107557</td>\n",
       "      <td>107557</td>\n",
       "      <td>107557</td>\n",
       "      <td>107557</td>\n",
       "    </tr>\n",
       "    <tr>\n",
       "      <th>3</th>\n",
       "      <td>261197</td>\n",
       "      <td>261197</td>\n",
       "      <td>261197</td>\n",
       "      <td>261197</td>\n",
       "      <td>261197</td>\n",
       "      <td>261197</td>\n",
       "      <td>261197</td>\n",
       "    </tr>\n",
       "    <tr>\n",
       "      <th>4</th>\n",
       "      <td>348971</td>\n",
       "      <td>348971</td>\n",
       "      <td>348971</td>\n",
       "      <td>348971</td>\n",
       "      <td>348971</td>\n",
       "      <td>348971</td>\n",
       "      <td>348971</td>\n",
       "    </tr>\n",
       "    <tr>\n",
       "      <th>5</th>\n",
       "      <td>226310</td>\n",
       "      <td>226310</td>\n",
       "      <td>226310</td>\n",
       "      <td>226310</td>\n",
       "      <td>226310</td>\n",
       "      <td>226310</td>\n",
       "      <td>226310</td>\n",
       "    </tr>\n",
       "  </tbody>\n",
       "</table>\n",
       "</div>"
      ],
      "text/plain": [
       "        user_id   title  movie_id  release_date     sex     age  for_testing\n",
       "rating                                                                      \n",
       "1         56174   56174     56174         56174   56174   56174        56174\n",
       "2        107557  107557    107557        107557  107557  107557       107557\n",
       "3        261197  261197    261197        261197  261197  261197       261197\n",
       "4        348971  348971    348971        348971  348971  348971       348971\n",
       "5        226310  226310    226310        226310  226310  226310       226310"
      ]
     },
     "execution_count": 16,
     "metadata": {},
     "output_type": "execute_result"
    }
   ],
   "source": [
    "data.groupby(by='rating').count()"
   ]
  },
  {
   "cell_type": "markdown",
   "metadata": {},
   "source": [
    "### SVD Decomposition\n",
    "\n",
    "Singular Value Decomposition (SVD) is a well established technique for identifying latent semantic factors. Done by factorizing the user-item rating matrix.\n",
    "\n",
    "The singular value decomposition is a methods that decomposes a matrix into three other matrices as given below:\n",
    "$$ R = USV^T$$\n",
    "\n",
    "Where\n",
    "* $R$ is a $m\\times n$ rating matrix;\n",
    "* $U$ is a $m\\times k$ orthogonal left singular matrix, which represents the relationship between users and latent factors and it is known user latent matrix;\n",
    "* $S$ is a $r\\times r$ diagonal matrix, whcih describes the strengh of each latent factor, and;\n",
    "* $V$ is a $n \\times k$ orthogonal right singular matrix, which represents the relationship between items and latent factors and it is known item latent matrix.\n",
    "\n",
    "\n",
    "\n",
    "Columns of U and V are constrained to be mutually orthogonal. \n",
    "\n",
    "Mutual orthogonality has the advantage that the concepts can be completely independent of one another. Can be interpre\n",
    "ted in scatterplots\n",
    "\n",
    "**Problem**: $R$ matrix needs to be complete in order to be decomposed\n",
    "* Solution: fill missing values with the mean rating of the user"
   ]
  },
  {
   "cell_type": "code",
   "execution_count": 17,
   "metadata": {},
   "outputs": [],
   "source": [
    "from scipy import sparse\n",
    "from scipy.linalg import sqrtm\n",
    "\n",
    "class RecSys_mf():\n",
    "    \"\"\" Collaborative filtering using SVD. \"\"\"\n",
    "    \n",
    "    def __init__(self,df, num_components=10):\n",
    "        \"\"\" Constructor \"\"\"\n",
    "        self.num_components=num_components\n",
    "        self.train = pd.pivot_table(df[['user_id','movie_id','rating']],columns='movie_id',index='user_id',values='rating')\n",
    "        \n",
    "        # We create a dictionary where we will store the user_id and movie_id which correspond \n",
    "        # to each index in the Rating matrix\n",
    "        \n",
    "        user_index = np.arange(len(self.train.index))\n",
    "        self.users = dict(zip(user_index,self.train.index ))\n",
    "        self.users_id2index = dict(zip(self.train.index,user_index)) \n",
    "        \n",
    "        movie_index = np.arange(len(self.train.columns))\n",
    "        self.movies = dict(zip(movie_index,self.train.columns )) \n",
    "        self.movies_id2index= dict(zip(self.train.columns, movie_index))\n",
    "        self.movies_index2id= dict(zip(movie_index,self.train.columns))\n",
    "        self.movie_id2title = dict(df.groupby(by=['movie_id','title']).count().index)\n",
    "        \n",
    "        \n",
    "    def fit(self):\n",
    "        \"\"\" We decompose the R matrix into to submatrices using the training data \"\"\"\n",
    "        train_matrix = np.array(self.train)\n",
    "        # we mask those nan value to fill with the mean \n",
    "        mask = np.isnan(train_matrix)\n",
    "        masked_arr = np.ma.masked_array(train_matrix, mask)\n",
    "        item_means = np.mean(masked_arr, axis=0)\n",
    "\n",
    "        # nan entries will replaced by the average rating for each item\n",
    "        train_matrix = masked_arr.filled(item_means)\n",
    "        x = np.tile(item_means, (train_matrix.shape[0],1))         \n",
    "\n",
    "        # we remove the per item average from all entries.\n",
    "        # the above mentioned nan entries will be essentially zero now\n",
    "        train_matrix = train_matrix - x\n",
    "        U, s, V = np.linalg.svd(train_matrix, full_matrices=False)\n",
    "\n",
    "        # reconstruct rating matix\n",
    "        S = np.diag(s[0:self.num_components])\n",
    "        U = U[:,0:self.num_components]\n",
    "        V = V[0:self.num_components,:]\n",
    "        S_root = sqrtm(S)\n",
    "\n",
    "        USk=np.dot(U,S_root)\n",
    "        SkV=np.dot(S_root,V)\n",
    "        Y_hat = np.dot(USk, SkV)\n",
    "        self.Y_hat = Y_hat + x\n",
    "        \n",
    "    def predict(self, user_id, movie_id):\n",
    "        \n",
    "        if movie_id in self.movies_id2index:\n",
    "            return self.Y_hat[self.users_id2index[user_id],self.movies_id2index[movie_id]]\n",
    "        else: # in case it is a new movie \n",
    "            return 3"
   ]
  },
  {
   "cell_type": "code",
   "execution_count": 18,
   "metadata": {},
   "outputs": [
    {
     "name": "stdout",
     "output_type": "stream",
     "text": [
      "RMSE for Collaborative Recomender: 0.9217095984701181\n"
     ]
    }
   ],
   "source": [
    "reco = RecSys_mf(data_train,num_components=30)\n",
    "reco.fit()\n",
    "print('RMSE for Collaborative Recomender: %s' % evaluate(reco.predict,data_train,data_test))"
   ]
  },
  {
   "cell_type": "markdown",
   "metadata": {},
   "source": [
    "### The Vanilla Matrix Factorization Model \n",
    "* Also know as **Funk SVD**\n",
    "* * Despite its name, in Funk SVD, no singular value decomposition is applied.\n",
    "* * https://sifter.org/simon/journal/20061211.html\n",
    "\n",
    "A straightforward matrix factorization model maps both users and items to a joint latent factor space of dimensionality D. User-item interaction are modeled as inner products in that space\n",
    "$$R = UV$$\n",
    "\n",
    "Each item j is associated with a vector $v_j$ from $V$, and each user $i$ is associated with a vecor $u_i$ from $U$.\n",
    "The resulting dot product $u_i\\cdot v_j$ captures the interaction between the user $i$ and item $j$:\n",
    "$$ \\hat{r} = u_i\\cdot v_j$$\n",
    "\n",
    "The goal of the matrix factorization consist on finding the mapping of each item and user to factors $u_i$ and $v_j$. To do so, the minimization the of squarred error function is performed:\n",
    "$$ \\sum(R_{ui} - u_i\\cdot v_j)^2$$\n",
    "\n",
    "This factorization can be learnt using **only those known ratings**. We do not need to infer missing values."
   ]
  },
  {
   "cell_type": "markdown",
   "metadata": {},
   "source": [
    "![alt Amazon](https://miro.medium.com/max/4800/1*b4M7o7W8bfRRxdMxtFoVBQ.png)"
   ]
  },
  {
   "cell_type": "code",
   "execution_count": 19,
   "metadata": {},
   "outputs": [],
   "source": [
    "from scipy import sparse\n",
    "\n",
    "class RecSys_vanilla_mf(RecSys_mf):\n",
    "    \"\"\" Collaborative filtering using a custom sim(u,u'). \"\"\"\n",
    "\n",
    "    def __sdg__(self):\n",
    "        for idx in self.training_indices:\n",
    "            u = self.sample_row[idx]\n",
    "            i = self.sample_col[idx]\n",
    "            user_id = self.users[u]\n",
    "            item_id = self.movies[i]\n",
    "            \n",
    "            prediction = self.predict(user_id, item_id)\n",
    "            error = (self.ratings[u,i] - prediction) # error\n",
    "            \n",
    "            #Update latent factors\n",
    "            self.user_vecs[u, :] += self.learning_rate * \\\n",
    "                                    (error * self.item_vecs[i, :] - \\\n",
    "                                     self.lmbda * self.user_vecs[u,:])\n",
    "            self.item_vecs[i, :] += self.learning_rate * \\\n",
    "                                    (error * self.user_vecs[u, :] - \\\n",
    "                                     self.lmbda * self.item_vecs[i,:])\n",
    "                \n",
    "                \n",
    "    def fit(self,n_epochs = 10,learning_rate =0.001,lmbda=0.1,verbose =True):\n",
    "        \"\"\" We decompose the R matrix into to submatrices using the training data \"\"\"\n",
    "        self.verbose = verbose\n",
    "        self.learning_rate = learning_rate\n",
    "        self.lmbda = lmbda\n",
    "        \n",
    "        self.ratings = np.float32(self.train.fillna(0).values)\n",
    "        self.n_users, self.n_items = self.train.shape\n",
    "        self.sample_row, self.sample_col = self.ratings.nonzero()\n",
    "        self.n_samples = len(self.sample_row)\n",
    "        \n",
    "        self.train_rmse =[]\n",
    "        self.test_rmse = []\n",
    "        iter_diff = 0\n",
    "        \n",
    "        # initialize latent vectors\n",
    "        self.user_vecs = 3.*np.random.normal(scale=1./self.num_components,\\\n",
    "                                          size=(self.n_users, self.num_components))\n",
    "        self.item_vecs = 3.*np.random.normal(scale=1./self.num_components,\n",
    "                                          size=(self.n_items, self.num_components))\n",
    "\n",
    "        for epoch in range(n_epochs):\n",
    "            print('Epoch: {}'.format(epoch))\n",
    "            \n",
    "            self.training_indices = np.arange(self.n_samples)\n",
    "            \n",
    "            #shuffle training samples\n",
    "            np.random.shuffle(self.training_indices)\n",
    "            self.__sdg__()\n",
    "            \n",
    "            self.train_rmse.append(evaluate(self.predict,data_train,data_train))\n",
    "            self.test_rmse.append(evaluate(self.predict,data_train,data_test))\n",
    "            \n",
    "            \n",
    "            print('\\tTrain rmse: %s' % self.train_rmse[-1])\n",
    "            print('\\tTest rmse: %s' % self.test_rmse[-1])\n",
    "            \n",
    "        \n",
    "        if(self.verbose):\n",
    "            self.__plot_learning_curves__()\n",
    "    \n",
    "    def __plot_learning_curves__(self):\n",
    "        plt.plot(self.train_rmse,'--o',label=\"train_error\")\n",
    "        plt.plot(self.test_rmse,'--o',label=\"test_error\")\n",
    "        plt.legend()\n",
    "        plt.show()\n",
    "        \n",
    "    def predict(self, user_id, movie_id):\n",
    "        \"\"\" Single user and item prediction.\"\"\"\n",
    "        user_index = self.users_id2index[user_id]\n",
    "        if movie_id in self.movies_id2index:\n",
    "            item_index = self.movies_id2index[movie_id]\n",
    "            prediction =  self.user_vecs[user_index, :].dot(self.item_vecs[item_index, :].T)\n",
    "        else:\n",
    "            prediction = 3 # this is a new movie\n",
    "        if(prediction>5): # clip the result\n",
    "            return 5\n",
    "        elif(prediction<1):\n",
    "            return 1\n",
    "        return prediction\n",
    "    "
   ]
  },
  {
   "cell_type": "code",
   "execution_count": 20,
   "metadata": {},
   "outputs": [
    {
     "name": "stdout",
     "output_type": "stream",
     "text": [
      "Epoch: 0\n",
      "\tTrain rmse: 1.336686431174774\n",
      "\tTest rmse: 1.3569682775374448\n",
      "Epoch: 1\n",
      "\tTrain rmse: 1.0960520001177096\n",
      "\tTest rmse: 1.1113633097939337\n",
      "Epoch: 2\n",
      "\tTrain rmse: 1.0576367826663369\n",
      "\tTest rmse: 1.0696268906888433\n",
      "Epoch: 3\n",
      "\tTrain rmse: 1.0478535656972237\n",
      "\tTest rmse: 1.0584355299021693\n",
      "Epoch: 4\n",
      "\tTrain rmse: 1.0388907928484523\n",
      "\tTest rmse: 1.0488867350675004\n"
     ]
    },
    {
     "data": {
      "image/png": "[encoded data removed]",
      "text/plain": [
       "<Figure size 432x288 with 1 Axes>"
      ]
     },
     "metadata": {
      "needs_background": "light"
     },
     "output_type": "display_data"
    },
    {
     "name": "stdout",
     "output_type": "stream",
     "text": [
      "RMSE for Collaborative Recomender: 1.0488867350675004\n"
     ]
    }
   ],
   "source": [
    "reco = RecSys_vanilla_mf(data_train,num_components=5)\n",
    "reco.fit(n_epochs = 5,learning_rate=0.01,lmbda=0.5)\n",
    "print('RMSE for Collaborative Recomender: %s' % evaluate(reco.predict,data_train,data_test))"
   ]
  },
  {
   "cell_type": "code",
   "execution_count": 21,
   "metadata": {},
   "outputs": [
    {
     "name": "stdout",
     "output_type": "stream",
     "text": [
      "Epoch: 0\n",
      "\tTrain rmse: 1.1664936625176618\n",
      "\tTest rmse: 1.1962590292938409\n",
      "Epoch: 1\n",
      "\tTrain rmse: 0.9638169650406603\n",
      "\tTest rmse: 0.9891983829544867\n",
      "Epoch: 2\n",
      "\tTrain rmse: 0.9289431751012562\n",
      "\tTest rmse: 0.952376787692123\n",
      "Epoch: 3\n",
      "\tTrain rmse: 0.9172051076258401\n",
      "\tTest rmse: 0.9388993569084675\n",
      "Epoch: 4\n",
      "\tTrain rmse: 0.9101413166039812\n",
      "\tTest rmse: 0.9311599425809833\n"
     ]
    },
    {
     "data": {
      "image/png": "[encoded data removed]",
      "text/plain": [
       "<Figure size 432x288 with 1 Axes>"
      ]
     },
     "metadata": {
      "needs_background": "light"
     },
     "output_type": "display_data"
    },
    {
     "name": "stdout",
     "output_type": "stream",
     "text": [
      "RMSE for Collaborative Recomender: 0.9311599425809833\n"
     ]
    }
   ],
   "source": [
    "reco = RecSys_vanilla_mf(data_train,num_components=5)\n",
    "reco.fit(n_epochs = 5,learning_rate=0.01)\n",
    "print('RMSE for Collaborative Recomender: %s' % evaluate(reco.predict,data_train,data_test))"
   ]
  },
  {
   "cell_type": "code",
   "execution_count": 22,
   "metadata": {},
   "outputs": [
    {
     "name": "stdout",
     "output_type": "stream",
     "text": [
      "Epoch: 0\n",
      "\tTrain rmse: 0.9804203029653633\n",
      "\tTest rmse: 1.0051910399165482\n",
      "Epoch: 1\n",
      "\tTrain rmse: 0.93552149944027\n",
      "\tTest rmse: 0.9566619609272474\n",
      "Epoch: 2\n",
      "\tTrain rmse: 0.9261735790568724\n",
      "\tTest rmse: 0.9465014638348773\n",
      "Epoch: 3\n",
      "\tTrain rmse: 0.9162012331063614\n",
      "\tTest rmse: 0.9363423286074739\n",
      "Epoch: 4\n",
      "\tTrain rmse: 0.9081910029608711\n",
      "\tTest rmse: 0.9292717299021603\n",
      "Epoch: 5\n",
      "\tTrain rmse: 0.9021743574240565\n",
      "\tTest rmse: 0.924716507209103\n",
      "Epoch: 6\n",
      "\tTrain rmse: 0.8969055422825724\n",
      "\tTest rmse: 0.9197730703939654\n",
      "Epoch: 7\n",
      "\tTrain rmse: 0.8909748755561498\n",
      "\tTest rmse: 0.9151696184848221\n",
      "Epoch: 8\n",
      "\tTrain rmse: 0.8877829944623731\n",
      "\tTest rmse: 0.9126880242841169\n",
      "Epoch: 9\n",
      "\tTrain rmse: 0.8838742479591816\n",
      "\tTest rmse: 0.9104763599354894\n",
      "Epoch: 10\n",
      "\tTrain rmse: 0.8813570654642935\n",
      "\tTest rmse: 0.9087024654256985\n",
      "Epoch: 11\n",
      "\tTrain rmse: 0.8787917126981193\n",
      "\tTest rmse: 0.9056531743569664\n",
      "Epoch: 12\n",
      "\tTrain rmse: 0.8782650053323195\n",
      "\tTest rmse: 0.9066846281207865\n",
      "Epoch: 13\n",
      "\tTrain rmse: 0.874896830583354\n",
      "\tTest rmse: 0.9033935302822526\n",
      "Epoch: 14\n",
      "\tTrain rmse: 0.8749311897719189\n",
      "\tTest rmse: 0.9051238857278534\n"
     ]
    },
    {
     "data": {
      "image/png": "[encoded data removed]",
      "text/plain": [
       "<Figure size 432x288 with 1 Axes>"
      ]
     },
     "metadata": {
      "needs_background": "light"
     },
     "output_type": "display_data"
    },
    {
     "name": "stdout",
     "output_type": "stream",
     "text": [
      "RMSE for Collaborative Recomender: 0.9051238857278534\n"
     ]
    }
   ],
   "source": [
    "reco = RecSys_vanilla_mf(data_train,num_components=5)\n",
    "reco.fit(n_epochs = 15,learning_rate=0.02)\n",
    "print('RMSE for Collaborative Recomender: %s' % evaluate(reco.predict,data_train,data_test))"
   ]
  },
  {
   "cell_type": "code",
   "execution_count": 23,
   "metadata": {},
   "outputs": [
    {
     "data": {
      "text/plain": [
       "[('Lion King, The (1994)', 353),\n",
       " ('Fatal Attraction (1987)', 2862),\n",
       " ('Apollo 13 (1995)', 143),\n",
       " ('American President, The (1995)', 10),\n",
       " ('Crimson Tide (1995)', 154),\n",
       " ('Firm, The (1993)', 437)]"
      ]
     },
     "execution_count": 23,
     "metadata": {},
     "output_type": "execute_result"
    }
   ],
   "source": [
    "from sklearn.metrics.pairwise import euclidean_distances\n",
    "movie_id = 1 #'Toy Story (1995)'\n",
    "movie_id = 364 #'Lion King, The (1994)'\n",
    "\n",
    "pairwise_distances = euclidean_distances(reco.item_vecs, reco.item_vecs)\n",
    "[(reco.movie_id2title[reco.movies_index2id[item]],\n",
    "  item) for item in np.argsort(pairwise_distances[reco.movies_id2index[movie_id]])[0:6]]"
   ]
  },
  {
   "cell_type": "markdown",
   "metadata": {},
   "source": [
    "### The Vanilla Matrix Factorization Model with biases \n",
    "\n",
    "* Despite its name, in SVD++, no singular value decomposition is applied.\n",
    "\n",
    "\n",
    "Now the model is defined as:\n",
    "$\\hat{r}_{ui} = \\bar{r} + b_{u_u} + b_{i_i}  \\sum_{k = 1}^KP_{uk} Q_{ik}^T  $\n",
    "\n",
    "To learn the model we can use the SGD as before. Now the latent factors and biases are updated as follows:\n",
    "* $error = r -\\hat{r}$\n",
    "* $b_{u_u} = b_{u_u} + \\alpha*(error -  \\lambda*b_{u_u})$\n",
    "* $b_{i_i} = b_{i_i} + \\alpha*(error -  \\lambda*b_{i_i})$\n",
    "* $P_{uk} = P_{uk} + \\alpha*(error*Q_{ik} -  \\lambda*P_{uk})$\n",
    "* $Q_{ik} = Q_{ik} + \\alpha*(error*P_{uk} -  \\lambda*Q_{ik})$\n",
    "\n",
    "where $\\alpha$ is the learning rate and $\\lambda$ is the regularization term."
   ]
  },
  {
   "cell_type": "code",
   "execution_count": 24,
   "metadata": {},
   "outputs": [],
   "source": [
    "from sklearn.decomposition import TruncatedSVD\n",
    "from scipy import sparse\n",
    "\n",
    "class RecSys_vanilla_mf_biases(RecSys_vanilla_mf):\n",
    "                  \n",
    "    def __sdg__(self):\n",
    "        for idx in self.training_indices:\n",
    "            u = self.sample_row[idx]\n",
    "            i = self.sample_col[idx]\n",
    "            user_id = self.users[u]\n",
    "            item_id = self.movies[i]\n",
    "            \n",
    "            prediction = self.predict(user_id, item_id)\n",
    "            error = (self.ratings[u,i] - prediction) # error\n",
    "            #Update latent factors\n",
    "            self.user_vecs[u, :] += self.learning_rate * \\\n",
    "                                    (error * self.item_vecs[i, :] - self.lmbda * self.user_vecs[u,:])\n",
    "            self.item_vecs[i, :] += self.learning_rate * \\\n",
    "                                    (error * self.user_vecs[u, :] - self.lmbda * self.item_vecs[i,:])\n",
    "            \n",
    "            self.bias_item[i] += self.learning_rate * (error - self.lmbda * self.bias_item[i]) \n",
    "            self.bias_user[u] += self.learning_rate * (error - self.lmbda * self.bias_user[u]) \n",
    "            \n",
    "                \n",
    "    def fit(self,n_epochs = 10,learning_rate =0.001,lmbda=0.1,verbose =True):\n",
    "        \"\"\" Train the model. \"\"\"\n",
    "        self.verbose = verbose\n",
    "        self.learning_rate = learning_rate\n",
    "        self.lmbda = lmbda\n",
    "        \n",
    "        self.ratings = np.float32(self.train.fillna(0).values)\n",
    "        self.mean_rating = self.ratings[self.ratings>0].mean() \n",
    "        self.n_users, self.n_items = self.train.shape\n",
    "        self.sample_row, self.sample_col = self.ratings.nonzero()\n",
    "        self.n_samples = len(self.sample_row)\n",
    "        \n",
    "        self.train_rmse =[]\n",
    "        self.test_rmse = []\n",
    "        iter_diff = 0\n",
    "        \n",
    "        # initialize latent vectors\n",
    "        self.user_vecs = np.random.normal(scale=1./self.num_components,\\\n",
    "                                          size=(self.n_users, self.num_components))\n",
    "        self.item_vecs = np.random.normal(scale=1./self.num_components,\n",
    "                                          size=(self.n_items, self.num_components))\n",
    "        self.bias_item = np.random.normal(scale=1/self.n_items,size=(self.n_items))\n",
    "        self.bias_user = np.random.normal(scale=1/self.n_users,size=(self.n_users))\n",
    "        \n",
    "        \n",
    "        for epoch in range(n_epochs):\n",
    "    \n",
    "            print('Epoch: {}'.format(epoch))\n",
    "            \n",
    "            self.training_indices = np.arange(self.n_samples)\n",
    "            \n",
    "            #shuffle training samples\n",
    "            np.random.shuffle(self.training_indices)\n",
    "            self.__sdg__()\n",
    "            \n",
    "            self.train_rmse.append(evaluate(reco.predict,data_train,data_train))\n",
    "            self.test_rmse.append(evaluate(reco.predict,data_train,data_test))\n",
    "            \n",
    "            print('\\tTrain rmse: %s' % self.train_rmse[-1])\n",
    "            print('\\tTest rmse: %s' % self.test_rmse[-1])\n",
    "        \n",
    "        if(self.verbose):\n",
    "            self.__plot_learning_curves__()\n",
    "    \n",
    "    def predict(self, user_id, movie_id):\n",
    "        \"\"\" Single user and item prediction.\"\"\"\n",
    "        user_index = self.users_id2index[user_id]\n",
    "        if movie_id in self.movies_id2index:\n",
    "            item_index = self.movies_id2index[movie_id]\n",
    "            prediction =  self.mean_rating + self.user_vecs[user_index, :].dot(self.item_vecs[item_index, :].T) + self.bias_item[item_index] + self.bias_user[user_index]\n",
    "        else:\n",
    "            prediction = self.mean_rating # this is a new movie\n",
    "\n",
    "        return prediction\n",
    "    "
   ]
  },
  {
   "cell_type": "code",
   "execution_count": 25,
   "metadata": {},
   "outputs": [
    {
     "name": "stdout",
     "output_type": "stream",
     "text": [
      "Epoch: 0\n",
      "\tTrain rmse: 0.9107050626345645\n",
      "\tTest rmse: 0.9208129577354757\n",
      "Epoch: 1\n",
      "\tTrain rmse: 0.9051308050555512\n",
      "\tTest rmse: 0.9169796410360798\n",
      "Epoch: 2\n",
      "\tTrain rmse: 0.9028710562291985\n",
      "\tTest rmse: 0.9152241094568971\n",
      "Epoch: 3\n",
      "\tTrain rmse: 0.8996158984396073\n",
      "\tTest rmse: 0.9126520735295779\n",
      "Epoch: 4\n",
      "\tTrain rmse: 0.893466012104623\n",
      "\tTest rmse: 0.9081024875759585\n"
     ]
    },
    {
     "data": {
      "image/png": "[encoded data removed]",
      "text/plain": [
       "<Figure size 432x288 with 1 Axes>"
      ]
     },
     "metadata": {
      "needs_background": "light"
     },
     "output_type": "display_data"
    },
    {
     "name": "stdout",
     "output_type": "stream",
     "text": [
      "RMSE for Collaborative Recomender: 0.9081024875759585\n"
     ]
    }
   ],
   "source": [
    "reco = RecSys_vanilla_mf_biases(data_train,num_components=5)\n",
    "reco.fit(n_epochs = 5,learning_rate=0.02)\n",
    "print('RMSE for Collaborative Recomender: %s' % evaluate(reco.predict,data_train,data_test))"
   ]
  },
  {
   "cell_type": "code",
   "execution_count": 26,
   "metadata": {},
   "outputs": [
    {
     "data": {
      "text/plain": [
       "[('Toy Story (1995)', 0),\n",
       " ('Big Country, The (1958)', 3111),\n",
       " ('Oscar and Lucinda (a.k.a. Oscar & Lucinda) (1997)', 2575),\n",
       " ('North Dallas Forty (1979)', 3245),\n",
       " ('Gnome-Mobile, The (1967)', 1849),\n",
       " ('West Side Story (1961)', 1750)]"
      ]
     },
     "execution_count": 26,
     "metadata": {},
     "output_type": "execute_result"
    }
   ],
   "source": [
    "from sklearn.metrics.pairwise import euclidean_distances\n",
    "movie_id = 1 #'Toy Story (1995)'\n",
    "#movie_id = 364 #'Lion King, The (1994)'\n",
    "\n",
    "pairwise_distances = euclidean_distances(reco.item_vecs, reco.item_vecs)\n",
    "[(reco.movie_id2title[reco.movies_index2id[item]],\n",
    "  item) for item in np.argsort(pairwise_distances[reco.movies_id2index[movie_id]])[0:6]]"
   ]
  },
  {
   "cell_type": "code",
   "execution_count": 27,
   "metadata": {
    "scrolled": false
   },
   "outputs": [
    {
     "name": "stdout",
     "output_type": "stream",
     "text": [
      "Epoch: 0\n",
      "\tTrain rmse: 0.9118342835841777\n",
      "\tTest rmse: 0.9204995762706223\n",
      "Epoch: 1\n",
      "\tTrain rmse: 0.9066492115314696\n",
      "\tTest rmse: 0.9161754645225819\n",
      "Epoch: 2\n",
      "\tTrain rmse: 0.9054462775830728\n",
      "\tTest rmse: 0.9159671777158996\n",
      "Epoch: 3\n",
      "\tTrain rmse: 0.9041207168901064\n",
      "\tTest rmse: 0.9152636882346227\n",
      "Epoch: 4\n",
      "\tTrain rmse: 0.9019688093809664\n",
      "\tTest rmse: 0.9131265397627384\n",
      "Epoch: 5\n",
      "\tTrain rmse: 0.8956261252306135\n",
      "\tTest rmse: 0.9081487913842342\n",
      "Epoch: 6\n",
      "\tTrain rmse: 0.8887558408905218\n",
      "\tTest rmse: 0.9024591793129249\n",
      "Epoch: 7\n",
      "\tTrain rmse: 0.8833916057220713\n",
      "\tTest rmse: 0.8986675426225741\n",
      "Epoch: 8\n",
      "\tTrain rmse: 0.8797646760883032\n",
      "\tTest rmse: 0.8960906005604942\n",
      "Epoch: 9\n",
      "\tTrain rmse: 0.8754595937428407\n",
      "\tTest rmse: 0.8931073243214288\n",
      "Epoch: 10\n",
      "\tTrain rmse: 0.8716979523285013\n",
      "\tTest rmse: 0.8906960942182844\n",
      "Epoch: 11\n",
      "\tTrain rmse: 0.8671290447561211\n",
      "\tTest rmse: 0.8876749989546872\n",
      "Epoch: 12\n",
      "\tTrain rmse: 0.8632110114183036\n",
      "\tTest rmse: 0.8849627621982974\n",
      "Epoch: 13\n",
      "\tTrain rmse: 0.8597920390490374\n",
      "\tTest rmse: 0.88349374053452\n",
      "Epoch: 14\n",
      "\tTrain rmse: 0.8566608752923336\n",
      "\tTest rmse: 0.8813772049435934\n",
      "Epoch: 15\n",
      "\tTrain rmse: 0.8537926803698086\n",
      "\tTest rmse: 0.88022066381935\n",
      "Epoch: 16\n",
      "\tTrain rmse: 0.8511008434417897\n",
      "\tTest rmse: 0.8785646059743525\n",
      "Epoch: 17\n",
      "\tTrain rmse: 0.8488092787062127\n",
      "\tTest rmse: 0.8778520543069974\n",
      "Epoch: 18\n",
      "\tTrain rmse: 0.8467499568446131\n",
      "\tTest rmse: 0.8764557147591795\n",
      "Epoch: 19\n",
      "\tTrain rmse: 0.8444806064053817\n",
      "\tTest rmse: 0.8756700766629584\n",
      "Epoch: 20\n",
      "\tTrain rmse: 0.8422157512660869\n",
      "\tTest rmse: 0.8745567375580563\n",
      "Epoch: 21\n",
      "\tTrain rmse: 0.8406810672983608\n",
      "\tTest rmse: 0.8741443065966591\n",
      "Epoch: 22\n",
      "\tTrain rmse: 0.8382163867149608\n",
      "\tTest rmse: 0.8726745012550297\n",
      "Epoch: 23\n",
      "\tTrain rmse: 0.8362262781719554\n",
      "\tTest rmse: 0.8717233040207907\n",
      "Epoch: 24\n",
      "\tTrain rmse: 0.8344549494736265\n",
      "\tTest rmse: 0.8712946582441279\n",
      "Epoch: 25\n",
      "\tTrain rmse: 0.8326653712793735\n",
      "\tTest rmse: 0.8709501381997317\n",
      "Epoch: 26\n",
      "\tTrain rmse: 0.8310484422510992\n",
      "\tTest rmse: 0.8701995218928591\n",
      "Epoch: 27\n",
      "\tTrain rmse: 0.8296442765631448\n",
      "\tTest rmse: 0.8700548629368184\n",
      "Epoch: 28\n",
      "\tTrain rmse: 0.8273607155987457\n",
      "\tTest rmse: 0.869034344240288\n",
      "Epoch: 29\n",
      "\tTrain rmse: 0.8264063633831576\n",
      "\tTest rmse: 0.8694516334434529\n",
      "Epoch: 30\n",
      "\tTrain rmse: 0.8241572117322884\n",
      "\tTest rmse: 0.8682771793098867\n",
      "Epoch: 31\n",
      "\tTrain rmse: 0.8232052946415555\n",
      "\tTest rmse: 0.8681495443631759\n",
      "Epoch: 32\n",
      "\tTrain rmse: 0.8218400949087645\n",
      "\tTest rmse: 0.8682549924722923\n",
      "Epoch: 33\n",
      "\tTrain rmse: 0.8205528665325399\n",
      "\tTest rmse: 0.8689266686368649\n",
      "Epoch: 34\n",
      "\tTrain rmse: 0.8187023087783815\n",
      "\tTest rmse: 0.8675795590340696\n",
      "Epoch: 35\n",
      "\tTrain rmse: 0.817409347902864\n",
      "\tTest rmse: 0.8674753693386419\n",
      "Epoch: 36\n",
      "\tTrain rmse: 0.8161102243531655\n",
      "\tTest rmse: 0.8668794475614807\n",
      "Epoch: 37\n",
      "\tTrain rmse: 0.8151194246253151\n",
      "\tTest rmse: 0.8671209518305015\n",
      "Epoch: 38\n",
      "\tTrain rmse: 0.8138985211473064\n",
      "\tTest rmse: 0.8664496514353948\n",
      "Epoch: 39\n",
      "\tTrain rmse: 0.8121480948163639\n",
      "\tTest rmse: 0.8662318997184486\n",
      "Epoch: 40\n",
      "\tTrain rmse: 0.8112728610203658\n",
      "\tTest rmse: 0.8663644323625063\n",
      "Epoch: 41\n",
      "\tTrain rmse: 0.8104159431484984\n",
      "\tTest rmse: 0.865637303636321\n",
      "Epoch: 42\n",
      "\tTrain rmse: 0.8092905597099871\n",
      "\tTest rmse: 0.865923298199838\n",
      "Epoch: 43\n",
      "\tTrain rmse: 0.8082069643733534\n",
      "\tTest rmse: 0.8657004869919199\n",
      "Epoch: 44\n",
      "\tTrain rmse: 0.8068625146515528\n",
      "\tTest rmse: 0.8654689415972385\n",
      "Epoch: 45\n",
      "\tTrain rmse: 0.805806679917652\n",
      "\tTest rmse: 0.8660104633985938\n",
      "Epoch: 46\n",
      "\tTrain rmse: 0.804809871054905\n",
      "\tTest rmse: 0.8654177549806094\n",
      "Epoch: 47\n",
      "\tTrain rmse: 0.8036829961586541\n",
      "\tTest rmse: 0.8654326541509493\n",
      "Epoch: 48\n",
      "\tTrain rmse: 0.8030535165780623\n",
      "\tTest rmse: 0.8656274959917417\n",
      "Epoch: 49\n",
      "\tTrain rmse: 0.8019238311645353\n",
      "\tTest rmse: 0.8652523695265647\n"
     ]
    },
    {
     "data": {
      "image/png": "[encoded data removed]",
      "text/plain": [
       "<Figure size 432x288 with 1 Axes>"
      ]
     },
     "metadata": {
      "needs_background": "light"
     },
     "output_type": "display_data"
    }
   ],
   "source": [
    "reco = RecSys_vanilla_mf_biases(data_train,num_components=100)\n",
    "reco.fit(n_epochs = 50,learning_rate=0.02,lmbda=0.1)"
   ]
  },
  {
   "cell_type": "code",
   "execution_count": 28,
   "metadata": {},
   "outputs": [
    {
     "data": {
      "text/plain": [
       "[('Toy Story (1995)', 0),\n",
       " ('Toy Story 2 (1999)', 2875),\n",
       " ('Aladdin (1992)', 570),\n",
       " (\"Bug's Life, A (1998)\", 2143),\n",
       " ('Big (1988)', 2571),\n",
       " ('Beauty and the Beast (1991)', 576)]"
      ]
     },
     "execution_count": 28,
     "metadata": {},
     "output_type": "execute_result"
    }
   ],
   "source": [
    "from sklearn.metrics.pairwise import euclidean_distances\n",
    "movie_id = 1 #'Toy Story (1995)'\n",
    "#movie_id = 364 #'Lion King, The (1994)'\n",
    "\n",
    "pairwise_distances = euclidean_distances(reco.item_vecs, reco.item_vecs)\n",
    "[(reco.movie_id2title[reco.movies_index2id[item]],\n",
    "  item) for item in np.argsort(pairwise_distances[reco.movies_id2index[movie_id]])[0:6]]"
   ]
  },
  {
   "cell_type": "code",
   "execution_count": null,
   "metadata": {},
   "outputs": [],
   "source": []
  },
  {
   "cell_type": "code",
   "execution_count": null,
   "metadata": {},
   "outputs": [],
   "source": []
  }
 ],
 "metadata": {
  "kernelspec": {
   "display_name": "Python 3",
   "language": "python",
   "name": "python3"
  },
  "language_info": {
   "codemirror_mode": {
    "name": "ipython",
    "version": 3
   },
   "file_extension": ".py",
   "mimetype": "text/x-python",
   "name": "python",
   "nbconvert_exporter": "python",
   "pygments_lexer": "ipython3",
   "version": "3.8.3"
  }
 },
 "nbformat": 4,
 "nbformat_minor": 2
}
