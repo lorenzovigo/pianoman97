{
  "cells": [
    {
      "cell_type": "markdown",
      "metadata": {},
      "source": [
        "# Assignment: Risk predicition of criminal re-offense\n"
      ]
    },
    {
      "cell_type": "markdown",
      "metadata": {},
      "source": [
        "\n",
        "**This notebook** presents an exploration of a sub-set of data from **[SAVRY](https://www.parinc.com/Products/Pkey/390)** (Structured Assessment of Violence Risk in Youth) applied to young offenders in Catalonia. \n",
        "\n",
        "SAVRY is a risk assessment tool, that supports structured professional judgement. SAVRY contains 24 risk factors, in which each item (variables `V65*` to `V88*`) can have one of three values (low=0, moderate=1, high=2), for a total score between 0 and 48 points. \n",
        "\n",
        "+ Human score: There is also a score by a professional (variable `V56_@R1_resum_risc_global_reverse`) that can be low, moderate, or high. \n",
        "+ Recividism: In this dataset, there is information about whether people committed a new crime after the evaluation.  The variable `V115_reincidencia_2015` represents Recidivism (year 2015).\n",
        "+ The variable `V60_SAVRY_total_score` contains a sum of scores in the risk items of SAVRY. This score can be seen as a baseline automatic method.\n",
        "\n",
        "Features values can be found in ``reincidenciaJusticiaMenors.xlsx``. The description of features can be found in ``recidivismJuvenileJustice_variables_EN.pdf``. The data file we use is a subset of data obtained by the Centre d'Estudis Jurídics i Formació Especialitzada of the Catalan government and released in 2017.\n",
        "\n",
        "The objectives of this assignment are: \n",
        "+ To compare the performance of SAVRY and ML-based methods, in terms of both performace and fairness metrics. \n",
        "+ To analyze the causes of unfairness.\n",
        "+ To explore a mitigation strategy."
      ]
    },
    {
      "cell_type": "code",
      "execution_count": 1,
      "metadata": {},
      "outputs": [],
      "source": [
        "import numpy as np\n",
        "import pandas as pd\n",
        "import matplotlib.pyplot as plt\n",
        "\n",
        "from sklearn.feature_selection import SelectKBest\n",
        "from sklearn.feature_selection import chi2\n",
        "\n",
        "from sklearn.linear_model import LogisticRegression\n",
        "from sklearn.model_selection import train_test_split\n",
        "from sklearn.metrics import roc_auc_score, roc_curve, auc"
      ]
    },
    {
      "cell_type": "markdown",
      "metadata": {},
      "source": [
        "### Data Exploration"
      ]
    },
    {
      "cell_type": "code",
      "execution_count": 2,
      "metadata": {},
      "outputs": [
        {
          "data": {
            "text/html": [
              "<div>\n",
              "<style scoped>\n",
              "    .dataframe tbody tr th:only-of-type {\n",
              "        vertical-align: middle;\n",
              "    }\n",
              "\n",
              "    .dataframe tbody tr th {\n",
              "        vertical-align: top;\n",
              "    }\n",
              "\n",
              "    .dataframe thead th {\n",
              "        text-align: right;\n",
              "    }\n",
              "</style>\n",
              "<table border=\"1\" class=\"dataframe\">\n",
              "  <thead>\n",
              "    <tr style=\"text-align: right;\">\n",
              "      <th></th>\n",
              "      <th>id</th>\n",
              "      <th>V1_sexe</th>\n",
              "      <th>V2_estranger</th>\n",
              "      <th>V3_nacionalitat</th>\n",
              "      <th>V4_nacionalitat_agrupat</th>\n",
              "      <th>V5_edat_fet_agrupat</th>\n",
              "      <th>V6_provincia</th>\n",
              "      <th>V7_comarca</th>\n",
              "      <th>V8_edat_fet</th>\n",
              "      <th>V9_edat_final_programa</th>\n",
              "      <th>...</th>\n",
              "      <th>V123_rein_fet_agrupat_2013</th>\n",
              "      <th>V124_rein_fet_violencia_2013</th>\n",
              "      <th>V125_rein_fet_tipus_2013</th>\n",
              "      <th>V126_primera_reincidencia_2013</th>\n",
              "      <th>V127_rein_programa_2013</th>\n",
              "      <th>V128_rein_programa_agrupat_2013</th>\n",
              "      <th>V129_on_reincidencia_2013</th>\n",
              "      <th>V130_nombre_rein_agrupat_2013</th>\n",
              "      <th>V131_severitat_puntuacio_2013</th>\n",
              "      <th>V132_REINCIDENCIA_2013</th>\n",
              "    </tr>\n",
              "  </thead>\n",
              "  <tbody>\n",
              "    <tr>\n",
              "      <th>0</th>\n",
              "      <td>691</td>\n",
              "      <td>Home</td>\n",
              "      <td>Espanyol</td>\n",
              "      <td>Espanya</td>\n",
              "      <td>NaN</td>\n",
              "      <td>14 i 15 anys</td>\n",
              "      <td>Lleida</td>\n",
              "      <td>Segrià</td>\n",
              "      <td>15.0</td>\n",
              "      <td>17</td>\n",
              "      <td>...</td>\n",
              "      <td>Contra la propietat no violent</td>\n",
              "      <td>No violent</td>\n",
              "      <td>Delicte</td>\n",
              "      <td>Presó</td>\n",
              "      <td>SIPC - Preventiva</td>\n",
              "      <td>Presó</td>\n",
              "      <td>Només Presó</td>\n",
              "      <td>2 o 3 reincidències</td>\n",
              "      <td>2.0</td>\n",
              "      <td>Sí</td>\n",
              "    </tr>\n",
              "    <tr>\n",
              "      <th>1</th>\n",
              "      <td>956</td>\n",
              "      <td>Dona</td>\n",
              "      <td>Espanyol</td>\n",
              "      <td>Espanya</td>\n",
              "      <td>NaN</td>\n",
              "      <td>14 i 15 anys</td>\n",
              "      <td>Barcelona</td>\n",
              "      <td>Barcelonès</td>\n",
              "      <td>14.0</td>\n",
              "      <td>15</td>\n",
              "      <td>...</td>\n",
              "      <td>Contra la propietat no violent</td>\n",
              "      <td>No violent</td>\n",
              "      <td>Delicte</td>\n",
              "      <td>Justícia juvenil</td>\n",
              "      <td>Assessorament tècnic menors</td>\n",
              "      <td>ATM</td>\n",
              "      <td>Només JJ</td>\n",
              "      <td>2 o 3 reincidències</td>\n",
              "      <td>1.0</td>\n",
              "      <td>Sí</td>\n",
              "    </tr>\n",
              "    <tr>\n",
              "      <th>2</th>\n",
              "      <td>2560</td>\n",
              "      <td>Home</td>\n",
              "      <td>Estranger</td>\n",
              "      <td>Marroc</td>\n",
              "      <td>Magrib</td>\n",
              "      <td>14 i 15 anys</td>\n",
              "      <td>Barcelona</td>\n",
              "      <td>Anoia</td>\n",
              "      <td>15.0</td>\n",
              "      <td>16</td>\n",
              "      <td>...</td>\n",
              "      <td>Altres</td>\n",
              "      <td>No violent</td>\n",
              "      <td>Delicte</td>\n",
              "      <td>Justícia juvenil</td>\n",
              "      <td>Realització de tasques socioeducatives</td>\n",
              "      <td>Altres MO</td>\n",
              "      <td>Justícia juvenil i presó</td>\n",
              "      <td>Més de 3 reincidències</td>\n",
              "      <td>2.0</td>\n",
              "      <td>Sí</td>\n",
              "    </tr>\n",
              "    <tr>\n",
              "      <th>3</th>\n",
              "      <td>2018</td>\n",
              "      <td>Home</td>\n",
              "      <td>Estranger</td>\n",
              "      <td>Marroc</td>\n",
              "      <td>Magrib</td>\n",
              "      <td>14 i 15 anys</td>\n",
              "      <td>Girona</td>\n",
              "      <td>Gironès</td>\n",
              "      <td>14.0</td>\n",
              "      <td>15</td>\n",
              "      <td>...</td>\n",
              "      <td>Altres</td>\n",
              "      <td>No violent</td>\n",
              "      <td>Delicte</td>\n",
              "      <td>Justícia juvenil</td>\n",
              "      <td>Permanència de cap de setmana en centre</td>\n",
              "      <td>Internament</td>\n",
              "      <td>Només JJ</td>\n",
              "      <td>Més de 3 reincidències</td>\n",
              "      <td>3.0</td>\n",
              "      <td>Sí</td>\n",
              "    </tr>\n",
              "    <tr>\n",
              "      <th>4</th>\n",
              "      <td>1650</td>\n",
              "      <td>Home</td>\n",
              "      <td>Espanyol</td>\n",
              "      <td>Espanya</td>\n",
              "      <td>NaN</td>\n",
              "      <td>16 i 17 anys</td>\n",
              "      <td>Tarragona</td>\n",
              "      <td>Tarragonès</td>\n",
              "      <td>17.0</td>\n",
              "      <td>20</td>\n",
              "      <td>...</td>\n",
              "      <td>Altres</td>\n",
              "      <td>No violent</td>\n",
              "      <td>Delicte</td>\n",
              "      <td>MPA</td>\n",
              "      <td>MPA - Treballs en benefici de la comunitat</td>\n",
              "      <td>TBC</td>\n",
              "      <td>Només MPA</td>\n",
              "      <td>1 reincidència</td>\n",
              "      <td>1.0</td>\n",
              "      <td>Sí</td>\n",
              "    </tr>\n",
              "  </tbody>\n",
              "</table>\n",
              "<p>5 rows × 142 columns</p>\n",
              "</div>"
            ],
            "text/plain": [
              "     id V1_sexe V2_estranger V3_nacionalitat V4_nacionalitat_agrupat  \\\n",
              "0   691    Home     Espanyol         Espanya                     NaN   \n",
              "1   956    Dona     Espanyol         Espanya                     NaN   \n",
              "2  2560    Home    Estranger          Marroc                  Magrib   \n",
              "3  2018    Home    Estranger          Marroc                  Magrib   \n",
              "4  1650    Home     Espanyol         Espanya                     NaN   \n",
              "\n",
              "  V5_edat_fet_agrupat V6_provincia  V7_comarca  V8_edat_fet  \\\n",
              "0        14 i 15 anys       Lleida      Segrià         15.0   \n",
              "1        14 i 15 anys    Barcelona  Barcelonès         14.0   \n",
              "2        14 i 15 anys    Barcelona       Anoia         15.0   \n",
              "3        14 i 15 anys       Girona     Gironès         14.0   \n",
              "4        16 i 17 anys    Tarragona  Tarragonès         17.0   \n",
              "\n",
              "   V9_edat_final_programa  ...      V123_rein_fet_agrupat_2013  \\\n",
              "0                      17  ...  Contra la propietat no violent   \n",
              "1                      15  ...  Contra la propietat no violent   \n",
              "2                      16  ...                          Altres   \n",
              "3                      15  ...                          Altres   \n",
              "4                      20  ...                          Altres   \n",
              "\n",
              "   V124_rein_fet_violencia_2013 V125_rein_fet_tipus_2013  \\\n",
              "0                    No violent                  Delicte   \n",
              "1                    No violent                  Delicte   \n",
              "2                    No violent                  Delicte   \n",
              "3                    No violent                  Delicte   \n",
              "4                    No violent                  Delicte   \n",
              "\n",
              "  V126_primera_reincidencia_2013                     V127_rein_programa_2013  \\\n",
              "0                          Presó                           SIPC - Preventiva   \n",
              "1               Justícia juvenil                 Assessorament tècnic menors   \n",
              "2               Justícia juvenil      Realització de tasques socioeducatives   \n",
              "3               Justícia juvenil     Permanència de cap de setmana en centre   \n",
              "4                            MPA  MPA - Treballs en benefici de la comunitat   \n",
              "\n",
              "  V128_rein_programa_agrupat_2013 V129_on_reincidencia_2013  \\\n",
              "0                           Presó               Només Presó   \n",
              "1                             ATM                  Només JJ   \n",
              "2                       Altres MO  Justícia juvenil i presó   \n",
              "3                     Internament                  Només JJ   \n",
              "4                             TBC                 Només MPA   \n",
              "\n",
              "  V130_nombre_rein_agrupat_2013 V131_severitat_puntuacio_2013  \\\n",
              "0           2 o 3 reincidències                           2.0   \n",
              "1           2 o 3 reincidències                           1.0   \n",
              "2        Més de 3 reincidències                           2.0   \n",
              "3        Més de 3 reincidències                           3.0   \n",
              "4                1 reincidència                           1.0   \n",
              "\n",
              "  V132_REINCIDENCIA_2013  \n",
              "0                     Sí  \n",
              "1                     Sí  \n",
              "2                     Sí  \n",
              "3                     Sí  \n",
              "4                     Sí  \n",
              "\n",
              "[5 rows x 142 columns]"
            ]
          },
          "execution_count": 2,
          "metadata": {},
          "output_type": "execute_result"
        }
      ],
      "source": [
        "FILENAME_DATASET = 'reincidenciaJusticiaMenors.xlsx'\n",
        "\n",
        "df = pd.read_excel(FILENAME_DATASET)\n",
        "df.head()"
      ]
    },
    {
      "cell_type": "code",
      "execution_count": 3,
      "metadata": {},
      "outputs": [
        {
          "name": "stdout",
          "output_type": "stream",
          "text": [
            "0 id\n",
            "1 V1_sexe\n",
            "2 V2_estranger\n",
            "3 V3_nacionalitat\n",
            "4 V4_nacionalitat_agrupat\n",
            "5 V5_edat_fet_agrupat\n",
            "6 V6_provincia\n",
            "7 V7_comarca\n",
            "8 V8_edat_fet\n",
            "9 V9_edat_final_programa\n",
            "10 V10_data_naixement\n",
            "11 xxxxxxxx_FETS\n",
            "12 V11_antecedents\n",
            "13 V12_nombre_ante_agrupat\n",
            "14 V13_nombre_fets_agrupat\n",
            "15 V14_fet\n",
            "16 V15_fet_agrupat\n",
            "17 V16_fet_violencia\n",
            "18 V17_fet_tipus\n",
            "19 V19_fets_desagrupats\n",
            "20 V20_nombre_antecedents\n",
            "21 V21_fet_nombre\n",
            "22 V22_data_fet\n",
            "23 xxxxxxxx_PROGRAMA\n",
            "24 V23_territori\n",
            "25 V24_programa\n",
            "26 V25_programa_mesura\n",
            "27 V26_mesures\n",
            "28 V27_durada_programa_agrupat\n",
            "29 V28_temps_inici\n",
            "30 V29_durada_programa\n",
            "31 V30_data_inici_programa\n",
            "32 V31_data_fi_programa\n",
            "33 xxxxxxxxxxxxxx_MRM\n",
            "34 V32_MRM_resultat\n",
            "35 V33_MRM_participacio_victima\n",
            "36 V34_MRM_tipus\n",
            "37 V35_MRM_forma\n",
            "38 V36_MRM_negatiu\n",
            "39 V37_MRM_conciliacio_victimaexlus\n",
            "40 V38_MRM_reparacio_economica\n",
            "41 V39_MRM_reparacio_noeconomica\n",
            "42 V40_MRM_reparacio_comunitaria\n",
            "43 V41_MRM_participacio_trobada\n",
            "44 V42_MRM_participacio_notrobada\n",
            "45 V43_MRM_iniciativa_parts\n",
            "46 V44_MRM_norepa_actitudmen\n",
            "47 V45_MRM_noreparacio_decisio_med\n",
            "48 V46_MRM_fet_sensevictima\n",
            "49 V47_MRM_victima_nolocalitzabl\n",
            "50 V48_MRM_victima_rebutja_parti\n",
            "51 V49_MRM_victima_vol\n",
            "52 V50_MRM_escrit_reflexio\n",
            "53 V51_MRM_reparacio_social\n",
            "54 V52_MRM_reparacio_activitateducativa\n",
            "55 xxxxxxxx_ATM\n",
            "56 V53_ATM_tipus\n",
            "57 xxxxxxxx_SAVRY\n",
            "58 V54_SAVRYprograma\n",
            "59 V55_SAVRYdata\n",
            "60 V56_@R1_resum_risc_global_reverse\n",
            "61 V57_@R2_resum_risc_delictes_violents\n",
            "62 V58_@R3_resum_risc_violencia_centre\n",
            "63 V59_@R4_resum_risc_sortides_permisos\n",
            "64 V60_SAVRY_total_score\n",
            "65 V61_SAVRY_historics_total_score\n",
            "66 V62_SAVRY_socials_total_score\n",
            "67 V63_SAVRY_individuals_total_score\n",
            "68 V64_SAVRY_proteccio_total_score\n",
            "69 xxxxxxxx_SAVRY_FACTORS_RISC\n",
            "70 V65_@1_violencia_previa\n",
            "71 V66_@2_historia_delictes_no_violents\n",
            "72 V67_@3_inici_precoç_violencia\n",
            "73 V68_@4_fracas_intervencions_anteriors\n",
            "74 V69_@5_intents_autolesio_suicidi_anteriors\n",
            "75 V70_@6_exposicio_violencia_llar\n",
            "76 V71_@7_historia_maltracte_infantil\n",
            "77 V72_@8_delinquencia_pares\n",
            "78 V73_@9_separacio_precoç_pares\n",
            "79 V74_@10_baix_rendiment_escola\n",
            "80 V75_@11_delinquencia_grup_iguals\n",
            "81 V76_@12_rebuig_grup_iguals\n",
            "82 V77_@13_estrés_incapacitat_enfrontar_dificultats\n",
            "83 V78_@14_escassa_habilitat_pares_educar\n",
            "84 V79_@15_manca_suport_personal_social\n",
            "85 V80_@16_entorn_marginal\n",
            "86 V81_@17_actitud_negatives\n",
            "87 V82_@18_assumpcio_riscos_impulsivitat\n",
            "88 V83_@19_problemes_consum_toxics\n",
            "89 V84_@20_problemes_maneig_enuig\n",
            "90 V85_@21_baix_nivell_empatia_remordiment\n",
            "91 V86_@22_problemes_concentracio_hiperactivitat\n",
            "92 V87_@23_baixa_colaboracio_intervencions\n",
            "93 V88_@24_baix_compromis_escolar_laboral\n",
            "94 xxxxxxxx_SAVRY_FACTORS_PROTECCIÓ\n",
            "95 V89_@P1_impicacio_prosocial\n",
            "96 V90_@P2_suport_social_fort\n",
            "97 V91_@P3_forta_vinculacio_adult_prosocial\n",
            "98 V92_@P4_actitud_positiva_intervencions_autoritat\n",
            "99 V93_@P5_fort_compromis_escola_treball\n",
            "100 V94_@P6_perseverança_tret_personalitat\n",
            "101 xxxxxxxx_SAVRY_MODEL\n",
            "102 V95_FACT1mean_ANTISOCIAL\n",
            "103 V96_FACT2mean_DINAMICAFAM\n",
            "104 V97_FACT3mean_PERSONALITAT\n",
            "105 V98_FACT4mean_SUPORTSOCIAL\n",
            "106 V99_FACT5mean_SUSCEPTIBILITAT\n",
            "107 xxxxxxxx_REINCIDENCIA_2015\n",
            "108 V100_rein_nombre_fets_2015\n",
            "109 V101_rein_data_fet_2015\n",
            "110 V102_edat_reincidencia_2015\n",
            "111 V103_temps_reincidencia_2015\n",
            "112 V104_nombre_reincidencies_2015\n",
            "113 V105_temps_rein_agrupat_2015\n",
            "114 V106_rein_fet_2015\n",
            "115 V107_rein_fet_agrupat_2015\n",
            "116 V108_rein_fet_violencia_2015\n",
            "117 V109_rein_fet_tipus_2015\n",
            "118 V110_primera_reincidencia_2015\n",
            "119 V111_rein_programa_2015\n",
            "120 V112_rein_programa_agrupat_2015\n",
            "121 V113_on_reincidencia_2015\n",
            "122 V114_nombre_rein_agrupat_2015\n",
            "123 V115_reincidencia_2015\n",
            "124 xxxxxxxx_REINCIDENCIA_2013\n",
            "125 V116_rein_nombre_fets_2013\n",
            "126 V117_rein_data_fet_2013\n",
            "127 V118_edat_reincidencia_2013\n",
            "128 V119_temps_reincidencia_2013\n",
            "129 V120_nombre_reincidencies_2013\n",
            "130 V121_temps_rein_agrupat_2013\n",
            "131 V122_rein_fet_2013\n",
            "132 V123_rein_fet_agrupat_2013\n",
            "133 V124_rein_fet_violencia_2013\n",
            "134 V125_rein_fet_tipus_2013\n",
            "135 V126_primera_reincidencia_2013\n",
            "136 V127_rein_programa_2013\n",
            "137 V128_rein_programa_agrupat_2013\n",
            "138 V129_on_reincidencia_2013\n",
            "139 V130_nombre_rein_agrupat_2013\n",
            "140 V131_severitat_puntuacio_2013\n",
            "141 V132_REINCIDENCIA_2013\n"
          ]
        }
      ],
      "source": [
        "for k,i in enumerate(list(df.columns)):\n",
        "    print(k,i)"
      ]
    },
    {
      "cell_type": "code",
      "execution_count": 4,
      "metadata": {},
      "outputs": [],
      "source": [
        "# data cleaning\n",
        "\n",
        "df = df.dropna(subset=[\"V60_SAVRY_total_score\", \n",
        "                       \"V8_edat_fet\", \n",
        "                       \"V20_nombre_antecedents\", \n",
        "                       \"V89_@P1_impicacio_prosocial\", \n",
        "                       \"V90_@P2_suport_social_fort\",\n",
        "                       \"V91_@P3_forta_vinculacio_adult_prosocial\", \n",
        "                       \"V92_@P4_actitud_positiva_intervencions_autoritat\",\n",
        "                       \"V93_@P5_fort_compromis_escola_treball\", \n",
        "                       \"V94_@P6_perseverança_tret_personalitat\"])\n",
        "df = df.drop(df[df[\"V60_SAVRY_total_score\"] > 48].index)"
      ]
    },
    {
      "cell_type": "code",
      "execution_count": 5,
      "metadata": {},
      "outputs": [
        {
          "data": {
            "image/png": "[encoded data removed]",
            "text/plain": [
              "<Figure size 432x288 with 1 Axes>"
            ]
          },
          "metadata": {
            "needs_background": "light"
          },
          "output_type": "display_data"
        }
      ],
      "source": [
        "# data distribution by gender\n",
        "\n",
        "_ = df['V1_sexe'].value_counts(ascending=True).plot(kind='barh', title='Gender')"
      ]
    },
    {
      "cell_type": "code",
      "execution_count": 6,
      "metadata": {},
      "outputs": [
        {
          "data": {
            "image/png": "[encoded data removed]",
            "text/plain": [
              "<Figure size 432x288 with 1 Axes>"
            ]
          },
          "metadata": {
            "needs_background": "light"
          },
          "output_type": "display_data"
        }
      ],
      "source": [
        "# data distribution by nationality\n",
        "\n",
        "_ = df['V2_estranger'].value_counts(ascending=True).plot(kind='barh', title='Nationality')"
      ]
    },
    {
      "cell_type": "code",
      "execution_count": 7,
      "metadata": {},
      "outputs": [
        {
          "data": {
            "image/png": "[encoded data removed]",
            "text/plain": [
              "<Figure size 432x288 with 1 Axes>"
            ]
          },
          "metadata": {
            "needs_background": "light"
          },
          "output_type": "display_data"
        }
      ],
      "source": [
        "# data distribution by age\n",
        "\n",
        "_ = df['V8_edat_fet'].value_counts(ascending=True).plot(kind='barh', title='Age of main crime')"
      ]
    },
    {
      "cell_type": "code",
      "execution_count": 8,
      "metadata": {},
      "outputs": [
        {
          "data": {
            "image/png": "[encoded data removed]",
            "text/plain": [
              "<Figure size 432x288 with 1 Axes>"
            ]
          },
          "metadata": {
            "needs_background": "light"
          },
          "output_type": "display_data"
        }
      ],
      "source": [
        "# data distribution by type of index crime\n",
        "\n",
        "_ = df['V15_fet_agrupat'].value_counts(ascending=True).plot(kind='barh', title='Type of index crime')"
      ]
    },
    {
      "cell_type": "markdown",
      "metadata": {},
      "source": [
        "## SAVRY model (human assessment)\n",
        "\n",
        "The column `V56_@R1_resum_risc_global_reverse` is an evaluation done by a professional expert (that can be low, moderate, or high), based on the results of SAVRY but **applying his/her own judgment independently of the obtained score**.\n",
        "\n",
        "The expert rates each defendant as \"low\", \"medium\", or \"high\" risk. Ideally, defendants considered low risk should recidivate at a lower rate than defendants considered high risk."
      ]
    },
    {
      "cell_type": "code",
      "execution_count": 9,
      "metadata": {},
      "outputs": [
        {
          "data": {
            "image/png": "[encoded data removed]",
            "text/plain": [
              "<Figure size 432x288 with 1 Axes>"
            ]
          },
          "metadata": {
            "needs_background": "light"
          },
          "output_type": "display_data"
        }
      ],
      "source": [
        "# human score distribution\n",
        "\n",
        "hist = df['V56_@R1_resum_risc_global_reverse'].hist(bins=3)"
      ]
    },
    {
      "cell_type": "code",
      "execution_count": 10,
      "metadata": {},
      "outputs": [
        {
          "data": {
            "image/png": "[encoded data removed]",
            "text/plain": [
              "<Figure size 432x288 with 1 Axes>"
            ]
          },
          "metadata": {
            "needs_background": "light"
          },
          "output_type": "display_data"
        }
      ],
      "source": [
        "# human score distribution | recividism\n",
        "\n",
        "human_ctable = pd.crosstab(df['V56_@R1_resum_risc_global_reverse'], df['V115_reincidencia_2015'])\n",
        "human_ctable = human_ctable.reindex(index=[\"Baixa\", \"Moderada\", \"Alta\"])\n",
        "_ = human_ctable.plot(kind='barh')"
      ]
    },
    {
      "cell_type": "code",
      "execution_count": 11,
      "metadata": {},
      "outputs": [
        {
          "data": {
            "text/html": [
              "<div>\n",
              "<style scoped>\n",
              "    .dataframe tbody tr th:only-of-type {\n",
              "        vertical-align: middle;\n",
              "    }\n",
              "\n",
              "    .dataframe tbody tr th {\n",
              "        vertical-align: top;\n",
              "    }\n",
              "\n",
              "    .dataframe thead th {\n",
              "        text-align: right;\n",
              "    }\n",
              "</style>\n",
              "<table border=\"1\" class=\"dataframe\">\n",
              "  <thead>\n",
              "    <tr style=\"text-align: right;\">\n",
              "      <th>V115_reincidencia_2015</th>\n",
              "      <th>No</th>\n",
              "      <th>Sí</th>\n",
              "      <th>recidivism_rate</th>\n",
              "    </tr>\n",
              "    <tr>\n",
              "      <th>V56_@R1_resum_risc_global_reverse</th>\n",
              "      <th></th>\n",
              "      <th></th>\n",
              "      <th></th>\n",
              "    </tr>\n",
              "  </thead>\n",
              "  <tbody>\n",
              "    <tr>\n",
              "      <th>Baixa</th>\n",
              "      <td>157</td>\n",
              "      <td>54</td>\n",
              "      <td>0.255924</td>\n",
              "    </tr>\n",
              "    <tr>\n",
              "      <th>Moderada</th>\n",
              "      <td>174</td>\n",
              "      <td>131</td>\n",
              "      <td>0.429508</td>\n",
              "    </tr>\n",
              "    <tr>\n",
              "      <th>Alta</th>\n",
              "      <td>43</td>\n",
              "      <td>91</td>\n",
              "      <td>0.679104</td>\n",
              "    </tr>\n",
              "  </tbody>\n",
              "</table>\n",
              "</div>"
            ],
            "text/plain": [
              "V115_reincidencia_2015              No   Sí  recidivism_rate\n",
              "V56_@R1_resum_risc_global_reverse                           \n",
              "Baixa                              157   54         0.255924\n",
              "Moderada                           174  131         0.429508\n",
              "Alta                                43   91         0.679104"
            ]
          },
          "execution_count": 11,
          "metadata": {},
          "output_type": "execute_result"
        }
      ],
      "source": [
        "# recividism rate per score\n",
        "\n",
        "human_ctable[\"recidivism_rate\"] = pd.Series(index=human_ctable.index, dtype='float')\n",
        "for index, row in human_ctable.iterrows():\n",
        "    recidivism_rate =row[\"Sí\"] / (row[\"Sí\"] + row[\"No\"])\n",
        "    human_ctable.at[index, \"recidivism_rate\"] = recidivism_rate\n",
        "    \n",
        "human_ctable"
      ]
    },
    {
      "cell_type": "markdown",
      "metadata": {},
      "source": [
        "### Baseline model\n",
        "\n",
        "Our baseline prediction can be based on the column `V60_SAVRY_total_score`, which contains a sum of scores in the risk items of SAVRY. The max value of this sum is 40."
      ]
    },
    {
      "cell_type": "code",
      "execution_count": 12,
      "metadata": {},
      "outputs": [],
      "source": [
        "scores_recidivists = df[df[\"V115_reincidencia_2015\"]=='Sí'][\"V60_SAVRY_total_score\"].values\n",
        "scores_non_recidivists = df[df[\"V115_reincidencia_2015\"]=='No'][\"V60_SAVRY_total_score\"].values"
      ]
    },
    {
      "cell_type": "code",
      "execution_count": 13,
      "metadata": {},
      "outputs": [],
      "source": [
        "def compare_histograms(scores1, scores2, title, label1='Recidivists', label2='Non recidivists'):\n",
        "    plt.figure(figsize=(10,6))\n",
        "    plt.hist(scores1, histtype='step', label=label1, density=True, color='red')\n",
        "    plt.hist(scores2, histtype='step', label=label2, density=True, color='blue')\n",
        "    plt.legend(loc='upper right', fontsize='x-large')\n",
        "    plt.ylabel('Probability')\n",
        "    plt.xlabel(title)\n",
        "    plt.show()"
      ]
    },
    {
      "cell_type": "code",
      "execution_count": 14,
      "metadata": {},
      "outputs": [
        {
          "data": {
            "image/png": "[encoded data removed]",
            "text/plain": [
              "<Figure size 720x432 with 1 Axes>"
            ]
          },
          "metadata": {
            "needs_background": "light"
          },
          "output_type": "display_data"
        }
      ],
      "source": [
        "## baselin score distribution\n",
        "\n",
        "compare_histograms(scores_recidivists, scores_non_recidivists, 'Sum of all risk items')"
      ]
    },
    {
      "cell_type": "code",
      "execution_count": 15,
      "metadata": {},
      "outputs": [],
      "source": [
        "def draw_roc_curve( ground_truth, predictions, pos_label=\"Sí\"):\n",
        "    fpr, tpr, thresholds = roc_curve(ground_truth, predictions, pos_label=pos_label)\n",
        "    roc_auc = auc(fpr, tpr)\n",
        "\n",
        "    plt.figure(figsize=(10,6))\n",
        "    lw = 2\n",
        "    plt.plot(fpr, tpr, color='darkorange',\n",
        "             lw=lw, label='ROC curve (AUC = %0.2f)' % roc_auc)\n",
        "    plt.plot([0, 1], [0, 1], color='navy', lw=lw, linestyle='--')\n",
        "    plt.xlim([0.0, 1.0])\n",
        "    plt.ylim([0.0, 1.05])\n",
        "    plt.xlabel('False Positive Rate')\n",
        "    plt.ylabel('True Positive Rate')\n",
        "    plt.title('Receiver Operating Characteristic')\n",
        "    plt.legend(loc=\"lower right\", fontsize='x-large')\n",
        "    plt.show()\n",
        "    return roc_auc"
      ]
    },
    {
      "cell_type": "code",
      "execution_count": 16,
      "metadata": {},
      "outputs": [
        {
          "data": {
            "image/png": "[encoded data removed]",
            "text/plain": [
              "<Figure size 720x432 with 1 Axes>"
            ]
          },
          "metadata": {
            "needs_background": "light"
          },
          "output_type": "display_data"
        }
      ],
      "source": [
        "# Evaluation (ROC curve) of the baseline prediction\n",
        "\n",
        "_ = draw_roc_curve(df[\"V115_reincidencia_2015\"].values, df[\"V60_SAVRY_total_score\"].values)"
      ]
    },
    {
      "cell_type": "markdown",
      "metadata": {},
      "source": [
        "## Modeling recidivism using logistic regression\n",
        "\n",
        "Logistic regression is a simple yet effective classification model for this problem.\n",
        "\n",
        "In all cases above we will use the same training/testing split, which is done randomly, keeping 1/3 of the data for testing. You can repeat the following cells a couple of times to see how a different train/test split changes the AUC."
      ]
    },
    {
      "cell_type": "code",
      "execution_count": 17,
      "metadata": {},
      "outputs": [],
      "source": [
        "train, test = train_test_split(df, test_size=0.33)"
      ]
    },
    {
      "cell_type": "markdown",
      "metadata": {},
      "source": [
        "### Modeling recidivism (24 risk factors)\n",
        "\n",
        "Now we model recidivism by using the 24 risk factors in SAVRY.\n",
        "\n",
        "Note that the performance depends on the training/testing split which is done randomly, keeping 1/3 of the data for testing. Repeat the following cells a couple of times to see how a different train/test split changes the AUC."
      ]
    },
    {
      "cell_type": "code",
      "execution_count": 18,
      "metadata": {},
      "outputs": [],
      "source": [
        "risk_factor_columns = list(df.columns)[70:94]\n",
        "\n",
        "train_X = pd.get_dummies(train[risk_factor_columns])\n",
        "train_y = train[\"V115_reincidencia_2015\"]\n",
        "\n",
        "test_X = pd.get_dummies(test[risk_factor_columns])\n",
        "test_y = test[\"V115_reincidencia_2015\"]"
      ]
    },
    {
      "cell_type": "code",
      "execution_count": 19,
      "metadata": {},
      "outputs": [
        {
          "data": {
            "text/plain": [
              "LogisticRegression(solver='liblinear')"
            ]
          },
          "execution_count": 19,
          "metadata": {},
          "output_type": "execute_result"
        }
      ],
      "source": [
        "model = LogisticRegression(solver='liblinear')\n",
        "model.fit(train_X, train_y)"
      ]
    },
    {
      "cell_type": "code",
      "execution_count": 20,
      "metadata": {},
      "outputs": [],
      "source": [
        "pred24_y = model.predict_proba(test_X)[:,1]\n",
        "pred24_recidivists = pred24_y[test_y == 'Sí']\n",
        "pred24_non_recidivists = pred24_y[test_y == 'No']"
      ]
    },
    {
      "cell_type": "code",
      "execution_count": 21,
      "metadata": {},
      "outputs": [
        {
          "data": {
            "image/png": "[encoded data removed]",
            "text/plain": [
              "<Figure size 720x432 with 1 Axes>"
            ]
          },
          "metadata": {
            "needs_background": "light"
          },
          "output_type": "display_data"
        }
      ],
      "source": [
        "compare_histograms(pred24_recidivists, pred24_non_recidivists, 'Prediction')"
      ]
    },
    {
      "cell_type": "code",
      "execution_count": 22,
      "metadata": {},
      "outputs": [
        {
          "data": {
            "image/png": "[encoded data removed]",
            "text/plain": [
              "<Figure size 720x432 with 1 Axes>"
            ]
          },
          "metadata": {
            "needs_background": "light"
          },
          "output_type": "display_data"
        }
      ],
      "source": [
        "_ = draw_roc_curve(test_y, pred24_y)"
      ]
    },
    {
      "cell_type": "markdown",
      "metadata": {},
      "source": [
        "### Modeling recidivism (personal history factors)\n",
        "\n",
        "Next we use demographic factors: gender and nationality, as well as criminal history factors such as the age of commission of the index crime and its type, as well as whether the juvenile defendant has criminal records."
      ]
    },
    {
      "cell_type": "code",
      "execution_count": 23,
      "metadata": {},
      "outputs": [],
      "source": [
        "demographic_columns = [\"V1_sexe\", \n",
        "                       \"V2_estranger\", \n",
        "                       \"V8_edat_fet\", \n",
        "                       \"V20_nombre_antecedents\",\n",
        "                       \"V15_fet_agrupat\", \n",
        "                       \"V16_fet_violencia\"]\n",
        "                       \n",
        "train_X = pd.get_dummies(train[demographic_columns])\n",
        "train_y = train[\"V115_reincidencia_2015\"]\n",
        "\n",
        "test_X =  pd.get_dummies(test[demographic_columns])\n",
        "test_y = test[\"V115_reincidencia_2015\"]"
      ]
    },
    {
      "cell_type": "code",
      "execution_count": 24,
      "metadata": {},
      "outputs": [
        {
          "data": {
            "text/plain": [
              "LogisticRegression(solver='liblinear')"
            ]
          },
          "execution_count": 24,
          "metadata": {},
          "output_type": "execute_result"
        }
      ],
      "source": [
        "model = LogisticRegression(solver='liblinear')\n",
        "model.fit(train_X, train_y)"
      ]
    },
    {
      "cell_type": "code",
      "execution_count": 25,
      "metadata": {},
      "outputs": [],
      "source": [
        "predPH_y = model.predict_proba(test_X)[:,1]\n",
        "predPH_recidivists = predPH_y[test_y == 'Sí']\n",
        "predPH_non_recidivists = predPH_y[test_y == 'No']"
      ]
    },
    {
      "cell_type": "code",
      "execution_count": 26,
      "metadata": {},
      "outputs": [
        {
          "data": {
            "image/png": "[encoded data removed]",
            "text/plain": [
              "<Figure size 720x432 with 1 Axes>"
            ]
          },
          "metadata": {
            "needs_background": "light"
          },
          "output_type": "display_data"
        }
      ],
      "source": [
        "compare_histograms(predPH_recidivists, predPH_non_recidivists, 'Prediction')"
      ]
    },
    {
      "cell_type": "code",
      "execution_count": 27,
      "metadata": {},
      "outputs": [
        {
          "data": {
            "image/png": "[encoded data removed]",
            "text/plain": [
              "<Figure size 720x432 with 1 Axes>"
            ]
          },
          "metadata": {
            "needs_background": "light"
          },
          "output_type": "display_data"
        }
      ],
      "source": [
        "_ = draw_roc_curve(test_y, predPH_y)"
      ]
    },
    {
      "cell_type": "markdown",
      "metadata": {},
      "source": [
        "### Modeling recidivism (personal history + 24 risk factors + 6 protective factors)\n",
        "\n",
        "We now add to the above 6 \"protective\" or positive factors that are associated with a low risk."
      ]
    },
    {
      "cell_type": "code",
      "execution_count": 28,
      "metadata": {},
      "outputs": [],
      "source": [
        "protective_factor_columns = [\"V89_@P1_impicacio_prosocial\", \n",
        "                             \"V90_@P2_suport_social_fort\",\n",
        "                             \"V91_@P3_forta_vinculacio_adult_prosocial\", \n",
        "                             \"V92_@P4_actitud_positiva_intervencions_autoritat\",\n",
        "                             \"V93_@P5_fort_compromis_escola_treball\", \n",
        "                             \"V94_@P6_perseverança_tret_personalitat\"]\n",
        "\n",
        "lr_factors = demographic_columns + risk_factor_columns + protective_factor_columns\n",
        "\n",
        "lr_train_X = pd.get_dummies(train[lr_factors])\n",
        "lr_train_y = train[\"V115_reincidencia_2015\"]\n",
        "\n",
        "lr_test_X = pd.get_dummies(test[lr_factors])\n",
        "lr_test_y = test[\"V115_reincidencia_2015\"]"
      ]
    },
    {
      "cell_type": "code",
      "execution_count": 29,
      "metadata": {},
      "outputs": [
        {
          "data": {
            "text/plain": [
              "LogisticRegression(solver='liblinear')"
            ]
          },
          "execution_count": 29,
          "metadata": {},
          "output_type": "execute_result"
        }
      ],
      "source": [
        "lr_model = LogisticRegression(solver='liblinear')\n",
        "lr_model.fit(lr_train_X, lr_train_y)"
      ]
    },
    {
      "cell_type": "code",
      "execution_count": 30,
      "metadata": {},
      "outputs": [],
      "source": [
        "predALL_y = lr_model.predict_proba(lr_test_X)[:,1]\n",
        "predALL_recidivists = predALL_y[lr_test_y == 'Sí']\n",
        "predALL_non_recidivists = predALL_y[lr_test_y == 'No']"
      ]
    },
    {
      "cell_type": "code",
      "execution_count": 31,
      "metadata": {},
      "outputs": [
        {
          "data": {
            "image/png": "[encoded data removed]",
            "text/plain": [
              "<Figure size 720x432 with 1 Axes>"
            ]
          },
          "metadata": {
            "needs_background": "light"
          },
          "output_type": "display_data"
        }
      ],
      "source": [
        "compare_histograms(predALL_recidivists, predALL_non_recidivists, 'Prediction')"
      ]
    },
    {
      "cell_type": "code",
      "execution_count": 32,
      "metadata": {},
      "outputs": [
        {
          "data": {
            "image/png": "[encoded data removed]",
            "text/plain": [
              "<Figure size 720x432 with 1 Axes>"
            ]
          },
          "metadata": {
            "needs_background": "light"
          },
          "output_type": "display_data"
        }
      ],
      "source": [
        "_ = draw_roc_curve(test_y, predALL_y)"
      ]
    },
    {
      "cell_type": "markdown",
      "metadata": {},
      "source": [
        "# Recidivism and fairness\n",
        "We remark that fairness is not necessarily that people in different groups obtain the same outcomes. For instance, in this dataset, women recidivate at about half the rate as men, and foreigners at a higher rate than nationals."
      ]
    },
    {
      "cell_type": "code",
      "execution_count": 33,
      "metadata": {},
      "outputs": [
        {
          "data": {
            "text/html": [
              "<div>\n",
              "<style scoped>\n",
              "    .dataframe tbody tr th:only-of-type {\n",
              "        vertical-align: middle;\n",
              "    }\n",
              "\n",
              "    .dataframe tbody tr th {\n",
              "        vertical-align: top;\n",
              "    }\n",
              "\n",
              "    .dataframe thead th {\n",
              "        text-align: right;\n",
              "    }\n",
              "</style>\n",
              "<table border=\"1\" class=\"dataframe\">\n",
              "  <thead>\n",
              "    <tr style=\"text-align: right;\">\n",
              "      <th>V1_sexe</th>\n",
              "      <th>Dona</th>\n",
              "      <th>Home</th>\n",
              "    </tr>\n",
              "    <tr>\n",
              "      <th>V115_reincidencia_2015</th>\n",
              "      <th></th>\n",
              "      <th></th>\n",
              "    </tr>\n",
              "  </thead>\n",
              "  <tbody>\n",
              "    <tr>\n",
              "      <th>No</th>\n",
              "      <td>0.759494</td>\n",
              "      <td>0.549912</td>\n",
              "    </tr>\n",
              "    <tr>\n",
              "      <th>Sí</th>\n",
              "      <td>0.240506</td>\n",
              "      <td>0.450088</td>\n",
              "    </tr>\n",
              "  </tbody>\n",
              "</table>\n",
              "</div>"
            ],
            "text/plain": [
              "V1_sexe                     Dona      Home\n",
              "V115_reincidencia_2015                    \n",
              "No                      0.759494  0.549912\n",
              "Sí                      0.240506  0.450088"
            ]
          },
          "execution_count": 33,
          "metadata": {},
          "output_type": "execute_result"
        }
      ],
      "source": [
        "recidivism_by_gender = pd.crosstab(df[\"V115_reincidencia_2015\"], df[\"V1_sexe\"])\n",
        "recidivism_by_gender['Dona'] = recidivism_by_gender['Dona'] / recidivism_by_gender['Dona'].sum()\n",
        "recidivism_by_gender['Home'] = recidivism_by_gender['Home'] / recidivism_by_gender['Home'].sum()\n",
        "recidivism_by_gender"
      ]
    },
    {
      "cell_type": "code",
      "execution_count": 34,
      "metadata": {},
      "outputs": [
        {
          "data": {
            "text/html": [
              "<div>\n",
              "<style scoped>\n",
              "    .dataframe tbody tr th:only-of-type {\n",
              "        vertical-align: middle;\n",
              "    }\n",
              "\n",
              "    .dataframe tbody tr th {\n",
              "        vertical-align: top;\n",
              "    }\n",
              "\n",
              "    .dataframe thead th {\n",
              "        text-align: right;\n",
              "    }\n",
              "</style>\n",
              "<table border=\"1\" class=\"dataframe\">\n",
              "  <thead>\n",
              "    <tr style=\"text-align: right;\">\n",
              "      <th>V2_estranger</th>\n",
              "      <th>Espanyol</th>\n",
              "      <th>Estranger</th>\n",
              "    </tr>\n",
              "    <tr>\n",
              "      <th>V115_reincidencia_2015</th>\n",
              "      <th></th>\n",
              "      <th></th>\n",
              "    </tr>\n",
              "  </thead>\n",
              "  <tbody>\n",
              "    <tr>\n",
              "      <th>No</th>\n",
              "      <td>0.632812</td>\n",
              "      <td>0.492481</td>\n",
              "    </tr>\n",
              "    <tr>\n",
              "      <th>Sí</th>\n",
              "      <td>0.367188</td>\n",
              "      <td>0.507519</td>\n",
              "    </tr>\n",
              "  </tbody>\n",
              "</table>\n",
              "</div>"
            ],
            "text/plain": [
              "V2_estranger            Espanyol  Estranger\n",
              "V115_reincidencia_2015                     \n",
              "No                      0.632812   0.492481\n",
              "Sí                      0.367188   0.507519"
            ]
          },
          "execution_count": 34,
          "metadata": {},
          "output_type": "execute_result"
        }
      ],
      "source": [
        "recidivism_by_nationality = pd.crosstab(df[\"V115_reincidencia_2015\"], df[\"V2_estranger\"])\n",
        "recidivism_by_nationality['Espanyol'] = recidivism_by_nationality['Espanyol'] / recidivism_by_nationality['Espanyol'].sum()\n",
        "recidivism_by_nationality['Estranger'] = recidivism_by_nationality['Estranger'] / recidivism_by_nationality['Estranger'].sum()\n",
        "recidivism_by_nationality"
      ]
    },
    {
      "cell_type": "markdown",
      "metadata": {},
      "source": [
        "# Fairness as **equality of error rates**\n",
        "\n",
        "We can look at fairness as **equality of error rates**."
      ]
    },
    {
      "cell_type": "markdown",
      "metadata": {},
      "source": [
        "## Professional (human expert) recidivism prediction and fairness\n",
        "\n",
        "We consider people who did not recidivate, in particular, look at those who were given a \"high\" risk by the expert."
      ]
    },
    {
      "cell_type": "code",
      "execution_count": 35,
      "metadata": {},
      "outputs": [
        {
          "data": {
            "text/html": [
              "<div>\n",
              "<style scoped>\n",
              "    .dataframe tbody tr th:only-of-type {\n",
              "        vertical-align: middle;\n",
              "    }\n",
              "\n",
              "    .dataframe tbody tr th {\n",
              "        vertical-align: top;\n",
              "    }\n",
              "\n",
              "    .dataframe thead th {\n",
              "        text-align: right;\n",
              "    }\n",
              "</style>\n",
              "<table border=\"1\" class=\"dataframe\">\n",
              "  <thead>\n",
              "    <tr style=\"text-align: right;\">\n",
              "      <th>V1_sexe</th>\n",
              "      <th>Dona</th>\n",
              "      <th>Home</th>\n",
              "    </tr>\n",
              "    <tr>\n",
              "      <th>V56_@R1_resum_risc_global_reverse</th>\n",
              "      <th></th>\n",
              "      <th></th>\n",
              "    </tr>\n",
              "  </thead>\n",
              "  <tbody>\n",
              "    <tr>\n",
              "      <th>Alta</th>\n",
              "      <td>0.116667</td>\n",
              "      <td>0.114650</td>\n",
              "    </tr>\n",
              "    <tr>\n",
              "      <th>Baixa</th>\n",
              "      <td>0.433333</td>\n",
              "      <td>0.417197</td>\n",
              "    </tr>\n",
              "    <tr>\n",
              "      <th>Moderada</th>\n",
              "      <td>0.450000</td>\n",
              "      <td>0.468153</td>\n",
              "    </tr>\n",
              "  </tbody>\n",
              "</table>\n",
              "</div>"
            ],
            "text/plain": [
              "V1_sexe                                Dona      Home\n",
              "V56_@R1_resum_risc_global_reverse                    \n",
              "Alta                               0.116667  0.114650\n",
              "Baixa                              0.433333  0.417197\n",
              "Moderada                           0.450000  0.468153"
            ]
          },
          "execution_count": 35,
          "metadata": {},
          "output_type": "execute_result"
        }
      ],
      "source": [
        "non_recidivists = df[df[\"V115_reincidencia_2015\"] == 'No']\n",
        "non_recidivists_expert_by_gender = pd.crosstab(non_recidivists[\"V56_@R1_resum_risc_global_reverse\"], non_recidivists[\"V1_sexe\"])\n",
        "non_recidivists_expert_by_gender.reindex(index=[\"Baix\", \"Moderat\", \"Alt\"])\n",
        "non_recidivists_expert_by_gender[\"Home\"] = non_recidivists_expert_by_gender[\"Home\"] / non_recidivists_expert_by_gender[\"Home\"].sum()\n",
        "non_recidivists_expert_by_gender[\"Dona\"] = non_recidivists_expert_by_gender[\"Dona\"] / non_recidivists_expert_by_gender[\"Dona\"].sum()\n",
        "non_recidivists_expert_by_gender"
      ]
    },
    {
      "cell_type": "code",
      "execution_count": 36,
      "metadata": {},
      "outputs": [
        {
          "data": {
            "text/html": [
              "<div>\n",
              "<style scoped>\n",
              "    .dataframe tbody tr th:only-of-type {\n",
              "        vertical-align: middle;\n",
              "    }\n",
              "\n",
              "    .dataframe tbody tr th {\n",
              "        vertical-align: top;\n",
              "    }\n",
              "\n",
              "    .dataframe thead th {\n",
              "        text-align: right;\n",
              "    }\n",
              "</style>\n",
              "<table border=\"1\" class=\"dataframe\">\n",
              "  <thead>\n",
              "    <tr style=\"text-align: right;\">\n",
              "      <th>V2_estranger</th>\n",
              "      <th>Espanyol</th>\n",
              "      <th>Estranger</th>\n",
              "    </tr>\n",
              "    <tr>\n",
              "      <th>V56_@R1_resum_risc_global_reverse</th>\n",
              "      <th></th>\n",
              "      <th></th>\n",
              "    </tr>\n",
              "  </thead>\n",
              "  <tbody>\n",
              "    <tr>\n",
              "      <th>Alta</th>\n",
              "      <td>0.106996</td>\n",
              "      <td>0.129771</td>\n",
              "    </tr>\n",
              "    <tr>\n",
              "      <th>Baixa</th>\n",
              "      <td>0.423868</td>\n",
              "      <td>0.412214</td>\n",
              "    </tr>\n",
              "    <tr>\n",
              "      <th>Moderada</th>\n",
              "      <td>0.469136</td>\n",
              "      <td>0.458015</td>\n",
              "    </tr>\n",
              "  </tbody>\n",
              "</table>\n",
              "</div>"
            ],
            "text/plain": [
              "V2_estranger                       Espanyol  Estranger\n",
              "V56_@R1_resum_risc_global_reverse                     \n",
              "Alta                               0.106996   0.129771\n",
              "Baixa                              0.423868   0.412214\n",
              "Moderada                           0.469136   0.458015"
            ]
          },
          "execution_count": 36,
          "metadata": {},
          "output_type": "execute_result"
        }
      ],
      "source": [
        "non_recidivists_expert_by_nationality = pd.crosstab(non_recidivists[\"V56_@R1_resum_risc_global_reverse\"], non_recidivists[\"V2_estranger\"])\n",
        "non_recidivists_expert_by_nationality.reindex(index=[\"Baix\", \"Moderat\", \"Alt\"])\n",
        "non_recidivists_expert_by_nationality[\"Espanyol\"] = non_recidivists_expert_by_nationality[\"Espanyol\"] / non_recidivists_expert_by_nationality[\"Espanyol\"].sum()\n",
        "non_recidivists_expert_by_nationality[\"Estranger\"] = non_recidivists_expert_by_nationality[\"Estranger\"] / non_recidivists_expert_by_nationality[\"Estranger\"].sum()\n",
        "non_recidivists_expert_by_nationality"
      ]
    },
    {
      "cell_type": "markdown",
      "metadata": {},
      "source": [
        "## Overall SAVRY score and fairness"
      ]
    },
    {
      "cell_type": "code",
      "execution_count": 37,
      "metadata": {},
      "outputs": [
        {
          "name": "stdout",
          "output_type": "stream",
          "text": [
            "Average SAVRY score of men non-recidivist: 15.38\n",
            "Average SAVRY score of women non-recidivist: 15.67\n"
          ]
        }
      ],
      "source": [
        "scores_men_non_recidivists = df[(df[\"V115_reincidencia_2015\"]=='No') &\n",
        "                                      (df[\"V1_sexe\"]=='Home')][\"V60_SAVRY_total_score\"].values\n",
        "scores_women_non_recidivists = df[(df[\"V115_reincidencia_2015\"]=='No') &\n",
        "                                       (df[\"V1_sexe\"]=='Dona')][\"V60_SAVRY_total_score\"].values\n",
        "\n",
        "print(\"Average SAVRY score of men non-recidivist: %.2f\" %\n",
        "      (scores_men_non_recidivists.sum() / len(scores_men_non_recidivists)))\n",
        "       \n",
        "print(\"Average SAVRY score of women non-recidivist: %.2f\" % \n",
        "      (scores_women_non_recidivists.sum() / len(scores_women_non_recidivists)))"
      ]
    },
    {
      "cell_type": "code",
      "execution_count": 38,
      "metadata": {},
      "outputs": [
        {
          "data": {
            "image/png": "[encoded data removed]",
            "text/plain": [
              "<Figure size 720x432 with 1 Axes>"
            ]
          },
          "metadata": {
            "needs_background": "light"
          },
          "output_type": "display_data"
        }
      ],
      "source": [
        "compare_histograms(scores_men_non_recidivists, scores_women_non_recidivists,\n",
        "                   \"Non-recidivists overall score\",\n",
        "                   label1=\"men\", label2=\"women\")"
      ]
    },
    {
      "cell_type": "code",
      "execution_count": 39,
      "metadata": {},
      "outputs": [
        {
          "name": "stdout",
          "output_type": "stream",
          "text": [
            "Average SAVRY score of national non-recidivist: 14.84\n",
            "Average SAVRY score of foreigner non-recidivist: 16.51\n"
          ]
        }
      ],
      "source": [
        "scores_nationals_non_recidivists = df[(df[\"V115_reincidencia_2015\"]=='No') &\n",
        "                                      (df[\"V2_estranger\"]=='Espanyol')][\"V60_SAVRY_total_score\"].values\n",
        "scores_foreigners_non_recidivists = df[(df[\"V115_reincidencia_2015\"]=='No') &\n",
        "                                       (df[\"V2_estranger\"]=='Estranger')][\"V60_SAVRY_total_score\"].values\n",
        "\n",
        "print(\"Average SAVRY score of national non-recidivist: %.2f\" %\n",
        "      (scores_nationals_non_recidivists.sum() / len(scores_nationals_non_recidivists)))\n",
        "       \n",
        "print(\"Average SAVRY score of foreigner non-recidivist: %.2f\" % \n",
        "      (scores_foreigners_non_recidivists.sum() / len(scores_foreigners_non_recidivists)))"
      ]
    },
    {
      "cell_type": "code",
      "execution_count": 40,
      "metadata": {},
      "outputs": [
        {
          "data": {
            "image/png": "[encoded data removed]",
            "text/plain": [
              "<Figure size 720x432 with 1 Axes>"
            ]
          },
          "metadata": {
            "needs_background": "light"
          },
          "output_type": "display_data"
        }
      ],
      "source": [
        "compare_histograms(scores_nationals_non_recidivists, scores_foreigners_non_recidivists,\n",
        "                   \"Non-recidivists overall score\",\n",
        "                   label1=\"national\", label2=\"foreigner\")"
      ]
    },
    {
      "cell_type": "markdown",
      "metadata": {},
      "source": [
        "## Fairness using ML score"
      ]
    },
    {
      "cell_type": "code",
      "execution_count": 41,
      "metadata": {},
      "outputs": [
        {
          "name": "stdout",
          "output_type": "stream",
          "text": [
            "Average predicted probability of men non-recidivist: 0.41\n",
            "Average predicted probability of women non-recidivist: 0.19\n"
          ]
        }
      ],
      "source": [
        "predPH_men_non_recidivists = predPH_y[(test_y=='No') & (test_X[\"V1_sexe_Home\"]==1)]\n",
        "predPH_women_non_recidivists = predPH_y[(test_y=='No') & (test_X[\"V1_sexe_Dona\"]==1)]\n",
        "\n",
        "print(\"Average predicted probability of men non-recidivist: %.2f\" %\n",
        "      (predPH_men_non_recidivists.sum() / len(predPH_men_non_recidivists)))\n",
        "       \n",
        "print(\"Average predicted probability of women non-recidivist: %.2f\" % \n",
        "      (predPH_women_non_recidivists.sum() / len(predPH_women_non_recidivists)))"
      ]
    },
    {
      "cell_type": "code",
      "execution_count": 42,
      "metadata": {},
      "outputs": [
        {
          "data": {
            "image/png": "[encoded data removed]",
            "text/plain": [
              "<Figure size 720x432 with 1 Axes>"
            ]
          },
          "metadata": {
            "needs_background": "light"
          },
          "output_type": "display_data"
        }
      ],
      "source": [
        "compare_histograms(predPH_men_non_recidivists, predPH_women_non_recidivists,\n",
        "                   \"Non-recidivists overall prediction\",\n",
        "                   label1=\"Men\", label2=\"Women\")"
      ]
    },
    {
      "cell_type": "code",
      "execution_count": 43,
      "metadata": {},
      "outputs": [
        {
          "name": "stdout",
          "output_type": "stream",
          "text": [
            "Average predicted probability of national non-recidivist: 0.33\n",
            "Average predicted probability of foreigner non-recidivist: 0.49\n"
          ]
        }
      ],
      "source": [
        "predPH_nationals_non_recidivists = predPH_y[(test_y=='No') & (test_X[\"V2_estranger_Espanyol\"]==1)]\n",
        "predPH_foreigners_non_recidivists = predPH_y[(test_y=='No') & (test_X[\"V2_estranger_Estranger\"]==1)]\n",
        "\n",
        "print(\"Average predicted probability of national non-recidivist: %.2f\" %\n",
        "      (predPH_nationals_non_recidivists.sum() / len(predPH_nationals_non_recidivists)))\n",
        "       \n",
        "print(\"Average predicted probability of foreigner non-recidivist: %.2f\" % \n",
        "      (predPH_foreigners_non_recidivists.sum() / len(predPH_foreigners_non_recidivists)))"
      ]
    },
    {
      "cell_type": "code",
      "execution_count": 44,
      "metadata": {},
      "outputs": [
        {
          "data": {
            "image/png": "[encoded data removed]",
            "text/plain": [
              "<Figure size 720x432 with 1 Axes>"
            ]
          },
          "metadata": {
            "needs_background": "light"
          },
          "output_type": "display_data"
        }
      ],
      "source": [
        "compare_histograms(predPH_nationals_non_recidivists, predPH_foreigners_non_recidivists,\n",
        "                   \"Non-recidivists overall prediction\",\n",
        "                   label1=\"Nationals\", label2=\"Foreigners\")"
      ]
    },
    {
      "cell_type": "markdown",
      "metadata": {},
      "source": [
        "# Exercise 1\n",
        "\n",
        "1. Use different machine learning models (SVM, Random Forests, etc.) to check if you can increase the performance of the logistic regression model. \n",
        "2. Check if they satisfy the proposed fairness criteria. \n",
        "3. Compare several fairness criteria, such as Demographic Parity, Equal Opportunity, Equalized Odds, and Conditional Demographic Parity. \n",
        "\n",
        "### Questions (justify your answers)\n",
        "\n",
        "1. Is there a method that can achieve better predictive power than human experts? \n",
        "\n",
        "\n",
        "2. Is this method better than human experts in terms of fairness?\n",
        "\n",
        "\n",
        "3. Which is the most suited fairness criterium for this problem? Why?\n",
        "\n",
        "\n",
        "4. What are your conclusion about the use of a ML model to predict recividism?\n",
        "\n"
      ]
    },
    {
      "cell_type": "markdown",
      "metadata": {},
      "source": [
        "1. Use different machine learning models (SVM, Random Forests, etc.) to check if you can increase the performance of the logistic regression model. "
      ]
    },
    {
      "cell_type": "markdown",
      "metadata": {},
      "source": [
        "Based on the code found in https://towardsdatascience.com/model-design-and-selection-with-scikit-learn-18a29041d02a, we will perform grid search on a number of available models. Grid search will tune the hyperparameters in each model and give us the best configuration of all of them. That way, we may be able to select the best models in terms of performance."
      ]
    },
    {
      "cell_type": "code",
      "execution_count": 45,
      "metadata": {},
      "outputs": [],
      "source": [
        "from sklearn.ensemble import RandomForestClassifier\n",
        "from sklearn.svm import SVC\n",
        "from sklearn.tree import DecisionTreeClassifier"
      ]
    },
    {
      "cell_type": "code",
      "execution_count": 46,
      "metadata": {},
      "outputs": [],
      "source": [
        "# Define models that will be explored and considered. If I've got time enough, this list should increase in size.\n",
        "classifiers = {}\n",
        "classifiers.update({\"RF\": RandomForestClassifier()})\n",
        "classifiers.update({\"SVC\": SVC()})\n",
        "classifiers.update({\"DTC\": DecisionTreeClassifier()})\n",
        "\n",
        "DECISION_FUNCTIONS = {\"Ridge\", \"SGD\", \"LSVC\", \"NuSVC\", \"SVC\"}\n",
        "FEATURE_IMPORTANCE = {\"Gradient Boosting\", \"Extra Trees Ensemble\", \"Random Forest\"}"
      ]
    },
    {
      "cell_type": "code",
      "execution_count": 47,
      "metadata": {},
      "outputs": [],
      "source": [
        "# Parameters for each model on which Grid Search will act to find the best configuration.\n",
        "parameters = {}\n",
        "parameters.update({\"RF\": { \n",
        "    \"classifier__n_estimators\": [200],\n",
        "    \"classifier__class_weight\": [None, \"balanced\"],\n",
        "    \"classifier__max_features\": [\"auto\", \"sqrt\", \"log2\"],\n",
        "    \"classifier__max_depth\" : [3, 4, 5, 6, 7, 8],\n",
        "    \"classifier__min_samples_split\": [0.005, 0.01, 0.05, 0.10],\n",
        "    \"classifier__min_samples_leaf\": [0.005, 0.01, 0.05, 0.10],\n",
        "    \"classifier__criterion\" :[\"gini\", \"entropy\"]     ,\n",
        "    \"classifier__n_jobs\": [-1]\n",
        "}})\n",
        "\n",
        "parameters.update({\"SVC\": { \n",
        "    \"classifier__kernel\": [\"linear\", \"rbf\", \"poly\"],\n",
        "    \"classifier__gamma\": [\"auto\"],\n",
        "    \"classifier__C\": [0.1, 0.5, 1, 5, 10, 50, 100],\n",
        "    \"classifier__degree\": [1, 2, 3, 4, 5, 6]\n",
        "}})\n",
        "\n",
        "parameters.update({\"DTC\": { \n",
        "    \"classifier__criterion\" :[\"gini\", \"entropy\"],\n",
        "    \"classifier__splitter\": [\"best\", \"random\"],\n",
        "    \"classifier__class_weight\": [None, \"balanced\"],\n",
        "    \"classifier__max_features\": [\"auto\", \"sqrt\", \"log2\"],\n",
        "    \"classifier__max_depth\" : [1,2,3, 4, 5, 6, 7, 8],\n",
        "    \"classifier__min_samples_split\": [0.005, 0.01, 0.05, 0.10],\n",
        "    \"classifier__min_samples_leaf\": [0.005, 0.01, 0.05, 0.10],\n",
        "}})"
      ]
    },
    {
      "cell_type": "code",
      "execution_count": 48,
      "metadata": {},
      "outputs": [
        {
          "name": "stdout",
          "output_type": "stream",
          "text": [
            "Now tuning RF.\n",
            "Fitting 5 folds for each of 1152 candidates, totalling 5760 fits\n",
            "Now tuning SVC.\n",
            "Fitting 5 folds for each of 126 candidates, totalling 630 fits\n",
            "Now tuning DTC.\n",
            "Fitting 5 folds for each of 3072 candidates, totalling 15360 fits\n"
          ]
        }
      ],
      "source": [
        "# Grid search routine\n",
        "from sklearn.model_selection import GridSearchCV\n",
        "from sklearn.preprocessing import StandardScaler\n",
        "from sklearn.pipeline import Pipeline\n",
        "from sklearn import metrics\n",
        "\n",
        "results = {}\n",
        "\n",
        "for classifier_label, classifier in classifiers.items():\n",
        "    print(f\"Now tuning {classifier_label}.\")\n",
        "    \n",
        "    # Initialize Gridsearch\n",
        "    scaler = StandardScaler()\n",
        "    steps = [(\"scaler\", scaler), (\"classifier\", classifier)] \n",
        "    pipeline = Pipeline(steps = steps)\n",
        "    param_grid = parameters[classifier_label]\n",
        "    \n",
        "    gscv = GridSearchCV(pipeline, param_grid, cv = 5,  n_jobs= -1, verbose = 1, scoring = \"roc_auc\")\n",
        "    gscv.fit(train_X, train_y)  \n",
        "    \n",
        "    # Get best parameters and score\n",
        "    best_params = gscv.best_params_\n",
        "    best_score = gscv.best_score_\n",
        "    \n",
        "    # Update classifier parameters and define new pipeline with tuned classifier\n",
        "    tuned_params = {item[12:]: best_params[item] for item in best_params}\n",
        "    classifier.set_params(**tuned_params)\n",
        "            \n",
        "    # Make predictions, evaluate and save results\n",
        "    if classifier_label in DECISION_FUNCTIONS:\n",
        "        y_pred = gscv.decision_function(test_X)\n",
        "    else:\n",
        "        y_pred = gscv.predict_proba(test_X)[:,1]\n",
        "    \n",
        "    auc_score = metrics.roc_auc_score(test_y, y_pred)\n",
        "    \n",
        "    result = {\"Classifier\": gscv,\n",
        "              \"Best Parameters\": best_params,\n",
        "              \"Training AUC\": best_score,\n",
        "              \"Test AUC\": auc_score,\n",
        "              \"Predictions\": y_pred}\n",
        "    \n",
        "    results.update({classifier_label: result})"
      ]
    },
    {
      "cell_type": "markdown",
      "metadata": {},
      "source": [
        "After tuning all models, the scores for each one of them can be retrieved. Also, we will draw their respective ROC curves."
      ]
    },
    {
      "cell_type": "code",
      "execution_count": 49,
      "metadata": {},
      "outputs": [
        {
          "name": "stdout",
          "output_type": "stream",
          "text": [
            "=== RF ===\n",
            "Best score: 0.6784552199258082\n",
            "AUC: 0.6456578947368421\n"
          ]
        },
        {
          "data": {
            "image/png": "[encoded data removed]",
            "text/plain": [
              "<Figure size 720x432 with 1 Axes>"
            ]
          },
          "metadata": {
            "needs_background": "light"
          },
          "output_type": "display_data"
        },
        {
          "name": "stdout",
          "output_type": "stream",
          "text": [
            "=== SVC ===\n",
            "Best score: 0.6833118412530177\n",
            "AUC: 0.6644736842105263\n"
          ]
        },
        {
          "data": {
            "image/png": "[encoded data removed]",
            "text/plain": [
              "<Figure size 720x432 with 1 Axes>"
            ]
          },
          "metadata": {
            "needs_background": "light"
          },
          "output_type": "display_data"
        },
        {
          "name": "stdout",
          "output_type": "stream",
          "text": [
            "=== DTC ===\n",
            "Best score: 0.6824572808102221\n",
            "AUC: 0.6090350877192983\n"
          ]
        },
        {
          "data": {
            "image/png": "[encoded data removed]",
            "text/plain": [
              "<Figure size 720x432 with 1 Axes>"
            ]
          },
          "metadata": {
            "needs_background": "light"
          },
          "output_type": "display_data"
        }
      ],
      "source": [
        "for model in results:\n",
        "    print(\"===\", model, \"===\")\n",
        "    print(\"Best score:\", results[model][\"Training AUC\"])\n",
        "    print(\"AUC:\", results[model][\"Test AUC\"])\n",
        "    draw_roc_curve(test_y, results[model][\"Predictions\"])"
      ]
    },
    {
      "cell_type": "markdown",
      "metadata": {},
      "source": [
        "(Context: Experiment performed with RF, SVC and DTC on 2022/05/02 18:28)\n",
        "\n",
        "The AUC best score was obtained by 0.68 by SVC with the following parameters:"
      ]
    },
    {
      "cell_type": "code",
      "execution_count": 50,
      "metadata": {},
      "outputs": [
        {
          "data": {
            "text/plain": [
              "{'classifier__C': 100,\n",
              " 'classifier__degree': 1,\n",
              " 'classifier__gamma': 'auto',\n",
              " 'classifier__kernel': 'linear'}"
            ]
          },
          "execution_count": 50,
          "metadata": {},
          "output_type": "execute_result"
        }
      ],
      "source": [
        "results[\"SVC\"][\"Best Parameters\"]"
      ]
    },
    {
      "cell_type": "markdown",
      "metadata": {},
      "source": [
        "The classifier is accessible through the following line of code:"
      ]
    },
    {
      "cell_type": "code",
      "execution_count": 51,
      "metadata": {},
      "outputs": [
        {
          "data": {
            "text/plain": [
              "GridSearchCV(cv=5,\n",
              "             estimator=Pipeline(steps=[('scaler', StandardScaler()),\n",
              "                                       ('classifier',\n",
              "                                        SVC(C=100, degree=1, gamma='auto',\n",
              "                                            kernel='linear'))]),\n",
              "             n_jobs=-1,\n",
              "             param_grid={'classifier__C': [0.1, 0.5, 1, 5, 10, 50, 100],\n",
              "                         'classifier__degree': [1, 2, 3, 4, 5, 6],\n",
              "                         'classifier__gamma': ['auto'],\n",
              "                         'classifier__kernel': ['linear', 'rbf', 'poly']},\n",
              "             scoring='roc_auc', verbose=1)"
            ]
          },
          "execution_count": 51,
          "metadata": {},
          "output_type": "execute_result"
        }
      ],
      "source": [
        "results[\"SVC\"][\"Classifier\"]"
      ]
    },
    {
      "cell_type": "markdown",
      "metadata": {},
      "source": [
        "2. Check if they satisfy the proposed fairness criteria. \n"
      ]
    },
    {
      "cell_type": "markdown",
      "metadata": {},
      "source": [
        "The proposed fairness criteria is based on equality of error rates. We will imitate what is done in the given code."
      ]
    },
    {
      "cell_type": "code",
      "execution_count": 52,
      "metadata": {},
      "outputs": [
        {
          "data": {
            "text/html": [
              "<div>\n",
              "<style scoped>\n",
              "    .dataframe tbody tr th:only-of-type {\n",
              "        vertical-align: middle;\n",
              "    }\n",
              "\n",
              "    .dataframe tbody tr th {\n",
              "        vertical-align: top;\n",
              "    }\n",
              "\n",
              "    .dataframe thead th {\n",
              "        text-align: right;\n",
              "    }\n",
              "</style>\n",
              "<table border=\"1\" class=\"dataframe\">\n",
              "  <thead>\n",
              "    <tr style=\"text-align: right;\">\n",
              "      <th></th>\n",
              "      <th>Model</th>\n",
              "      <th>Men</th>\n",
              "      <th>Women</th>\n",
              "      <th>Gender Bias</th>\n",
              "      <th>Spanish</th>\n",
              "      <th>Foreign</th>\n",
              "      <th>Nationality Bias</th>\n",
              "    </tr>\n",
              "  </thead>\n",
              "  <tbody>\n",
              "    <tr>\n",
              "      <th>0</th>\n",
              "      <td>RF</td>\n",
              "      <td>0.472489</td>\n",
              "      <td>0.404869</td>\n",
              "      <td>0.067619</td>\n",
              "      <td>0.452491</td>\n",
              "      <td>0.487921</td>\n",
              "      <td>0.035430</td>\n",
              "    </tr>\n",
              "    <tr>\n",
              "      <th>1</th>\n",
              "      <td>SVC</td>\n",
              "      <td>0.416254</td>\n",
              "      <td>0.277778</td>\n",
              "      <td>0.138476</td>\n",
              "      <td>0.405722</td>\n",
              "      <td>0.403099</td>\n",
              "      <td>0.002623</td>\n",
              "    </tr>\n",
              "    <tr>\n",
              "      <th>2</th>\n",
              "      <td>DTC</td>\n",
              "      <td>0.471215</td>\n",
              "      <td>0.496119</td>\n",
              "      <td>0.024904</td>\n",
              "      <td>0.453385</td>\n",
              "      <td>0.502599</td>\n",
              "      <td>0.049213</td>\n",
              "    </tr>\n",
              "  </tbody>\n",
              "</table>\n",
              "</div>"
            ],
            "text/plain": [
              "  Model       Men     Women  Gender Bias   Spanish   Foreign  Nationality Bias\n",
              "0    RF  0.472489  0.404869     0.067619  0.452491  0.487921          0.035430\n",
              "1   SVC  0.416254  0.277778     0.138476  0.405722  0.403099          0.002623\n",
              "2   DTC  0.471215  0.496119     0.024904  0.453385  0.502599          0.049213"
            ]
          },
          "execution_count": 52,
          "metadata": {},
          "output_type": "execute_result"
        }
      ],
      "source": [
        "fairness = pd.DataFrame({'Model': [],\n",
        "                         'Men': [],\n",
        "                         'Women': [],\n",
        "                         'Gender Bias': [],      \n",
        "                         'Spanish': [],\n",
        "                         'Foreign': [],\n",
        "                         'Nationality Bias': []})\n",
        "\n",
        "\n",
        "# Restrict the predictions in terms of gender and nationality and compare the error rates\n",
        "for model in results:\n",
        "      pred = results[model][\"Predictions\"]\n",
        "      pred[pred<0] = 0\n",
        "\n",
        "      pred_men_non_recidivists = pred[(test_y=='No') & (test_X[\"V1_sexe_Home\"]==1)]\n",
        "      pred_men_recidivists = pred[(test_y=='Sí') & (test_X[\"V1_sexe_Home\"]==1)]\n",
        "      pred_women_non_recidivists = pred[(test_y=='No') & (test_X[\"V1_sexe_Dona\"]==1)]\n",
        "      pred_women_recidivists = pred[(test_y=='Sí') & (test_X[\"V1_sexe_Dona\"]==1)]\n",
        "      pred_nationals_non_recidivists = pred[(test_y=='No') & (test_X[\"V2_estranger_Espanyol\"]==1)]\n",
        "      pred_nationals_recidivists = pred[(test_y=='Sí') & (test_X[\"V2_estranger_Espanyol\"]==1)]\n",
        "      pred_foreigners_non_recidivists = pred[(test_y=='No') & (test_X[\"V2_estranger_Estranger\"]==1)]\n",
        "      pred_foreigners_recidivists = pred[(test_y=='Sí') & (test_X[\"V2_estranger_Estranger\"]==1)]\n",
        "\n",
        "      man = (pred_men_non_recidivists.sum() + len(pred_men_recidivists) - pred_men_recidivists.sum()) / (len(pred_men_non_recidivists) + len(pred_men_recidivists))\n",
        "      woman = (pred_women_non_recidivists.sum() + len(pred_women_recidivists) - pred_women_recidivists.sum()) / (len(pred_women_non_recidivists) + len(pred_women_recidivists))\n",
        "      gender_bias = abs(man - woman)\n",
        "      spanish = (pred_nationals_non_recidivists.sum() + len(pred_nationals_recidivists) - pred_nationals_recidivists.sum()) / (len(pred_nationals_non_recidivists) + len(pred_nationals_recidivists))\n",
        "      foreign = (pred_foreigners_non_recidivists.sum() + len(pred_foreigners_recidivists) - pred_foreigners_recidivists.sum()) / (len(pred_foreigners_non_recidivists) + len(pred_foreigners_recidivists))\n",
        "      nationality_bias = abs(foreign - spanish)\n",
        "\n",
        "      fairness.loc[len(fairness.index)] = [model, man, woman, gender_bias, spanish, foreign, nationality_bias]\n",
        "\n",
        "fairness"
      ]
    },
    {
      "cell_type": "markdown",
      "metadata": {},
      "source": [
        "DTC works the best in terms of both gender, and SVC in nationality. See that, in general, DTC and RF have better performance than SVC."
      ]
    },
    {
      "cell_type": "markdown",
      "metadata": {},
      "source": [
        "3. Compare several fairness criteria, such as Demographic Parity, Equal Opportunity, Equalized Odds, and Conditional Demographic Parity. \n"
      ]
    },
    {
      "cell_type": "markdown",
      "metadata": {},
      "source": [
        "Demographic Parity requires us to get the same Positive Rate for each protected class."
      ]
    },
    {
      "cell_type": "code",
      "execution_count": 53,
      "metadata": {},
      "outputs": [
        {
          "data": {
            "text/html": [
              "<div>\n",
              "<style scoped>\n",
              "    .dataframe tbody tr th:only-of-type {\n",
              "        vertical-align: middle;\n",
              "    }\n",
              "\n",
              "    .dataframe tbody tr th {\n",
              "        vertical-align: top;\n",
              "    }\n",
              "\n",
              "    .dataframe thead th {\n",
              "        text-align: right;\n",
              "    }\n",
              "</style>\n",
              "<table border=\"1\" class=\"dataframe\">\n",
              "  <thead>\n",
              "    <tr style=\"text-align: right;\">\n",
              "      <th></th>\n",
              "      <th>Model</th>\n",
              "      <th>Men</th>\n",
              "      <th>Women</th>\n",
              "      <th>Gender Bias</th>\n",
              "      <th>Spanish</th>\n",
              "      <th>Foreign</th>\n",
              "      <th>Nationality Bias</th>\n",
              "    </tr>\n",
              "  </thead>\n",
              "  <tbody>\n",
              "    <tr>\n",
              "      <th>0</th>\n",
              "      <td>RF</td>\n",
              "      <td>0.263959</td>\n",
              "      <td>0.000000</td>\n",
              "      <td>0.263959</td>\n",
              "      <td>0.109375</td>\n",
              "      <td>0.436782</td>\n",
              "      <td>0.327407</td>\n",
              "    </tr>\n",
              "    <tr>\n",
              "      <th>1</th>\n",
              "      <td>SVC</td>\n",
              "      <td>0.111675</td>\n",
              "      <td>0.000000</td>\n",
              "      <td>0.111675</td>\n",
              "      <td>0.046875</td>\n",
              "      <td>0.183908</td>\n",
              "      <td>0.137033</td>\n",
              "    </tr>\n",
              "    <tr>\n",
              "      <th>2</th>\n",
              "      <td>DTC</td>\n",
              "      <td>0.629442</td>\n",
              "      <td>0.333333</td>\n",
              "      <td>0.296108</td>\n",
              "      <td>0.335938</td>\n",
              "      <td>1.000000</td>\n",
              "      <td>0.664062</td>\n",
              "    </tr>\n",
              "  </tbody>\n",
              "</table>\n",
              "</div>"
            ],
            "text/plain": [
              "  Model       Men     Women  Gender Bias   Spanish   Foreign  Nationality Bias\n",
              "0    RF  0.263959  0.000000     0.263959  0.109375  0.436782          0.327407\n",
              "1   SVC  0.111675  0.000000     0.111675  0.046875  0.183908          0.137033\n",
              "2   DTC  0.629442  0.333333     0.296108  0.335938  1.000000          0.664062"
            ]
          },
          "execution_count": 53,
          "metadata": {},
          "output_type": "execute_result"
        }
      ],
      "source": [
        "# Data representation\n",
        "fairness = pd.DataFrame({'Model': [],\n",
        "                         'Men': [],\n",
        "                         'Women': [],\n",
        "                         'Gender Bias': [],      \n",
        "                         'Spanish': [],\n",
        "                         'Foreign': [],\n",
        "                         'Nationality Bias': []})\n",
        "\n",
        "\n",
        "# Restrict the predictions in terms of gender and nationality and compare the positive rates\n",
        "for model in results:\n",
        "      pred = results[model][\"Predictions\"]\n",
        "      pred[pred<0] = 0\n",
        "      pred_men_recidivists = pred[(test_X[\"V1_sexe_Home\"]==1)]\n",
        "      pred_women_recidivists = pred[(test_X[\"V1_sexe_Dona\"]==1)]\n",
        "      pred_nationals_recidivists = pred[(test_X[\"V2_estranger_Espanyol\"]==1)]\n",
        "      pred_foreigners_recidivists = pred[(test_X[\"V2_estranger_Estranger\"]==1)]\n",
        "\n",
        "\n",
        "      man = np.round(pred_men_recidivists).sum() / len(pred_men_recidivists)    \n",
        "      woman = np.round(pred_women_recidivists).sum() / len(pred_women_recidivists)\n",
        "      gender_bias = abs(man - woman)\n",
        "      spanish = np.round(pred_nationals_recidivists).sum() / len(pred_nationals_recidivists)\n",
        "      foreign = np.round(pred_foreigners_recidivists).sum() / len(pred_foreigners_recidivists)\n",
        "      nationality_bias = abs(foreign - spanish)\n",
        "\n",
        "      fairness.loc[len(fairness.index)] = [model, man, woman, gender_bias, spanish, foreign, nationality_bias]\n",
        "\n",
        "fairness"
      ]
    },
    {
      "cell_type": "markdown",
      "metadata": {},
      "source": [
        "Equal Opportunity requires us to get the same True Positive Rate for each protected class."
      ]
    },
    {
      "cell_type": "code",
      "execution_count": 54,
      "metadata": {},
      "outputs": [
        {
          "data": {
            "text/html": [
              "<div>\n",
              "<style scoped>\n",
              "    .dataframe tbody tr th:only-of-type {\n",
              "        vertical-align: middle;\n",
              "    }\n",
              "\n",
              "    .dataframe tbody tr th {\n",
              "        vertical-align: top;\n",
              "    }\n",
              "\n",
              "    .dataframe thead th {\n",
              "        text-align: right;\n",
              "    }\n",
              "</style>\n",
              "<table border=\"1\" class=\"dataframe\">\n",
              "  <thead>\n",
              "    <tr style=\"text-align: right;\">\n",
              "      <th></th>\n",
              "      <th>Model</th>\n",
              "      <th>Men</th>\n",
              "      <th>Women</th>\n",
              "      <th>Gender Bias</th>\n",
              "      <th>Spanish</th>\n",
              "      <th>Foreign</th>\n",
              "      <th>Nationality Bias</th>\n",
              "    </tr>\n",
              "  </thead>\n",
              "  <tbody>\n",
              "    <tr>\n",
              "      <th>0</th>\n",
              "      <td>RF</td>\n",
              "      <td>0.300000</td>\n",
              "      <td>0.0</td>\n",
              "      <td>0.300000</td>\n",
              "      <td>0.173077</td>\n",
              "      <td>0.418605</td>\n",
              "      <td>0.245528</td>\n",
              "    </tr>\n",
              "    <tr>\n",
              "      <th>1</th>\n",
              "      <td>SVC</td>\n",
              "      <td>0.166667</td>\n",
              "      <td>0.0</td>\n",
              "      <td>0.166667</td>\n",
              "      <td>0.057692</td>\n",
              "      <td>0.279070</td>\n",
              "      <td>0.221377</td>\n",
              "    </tr>\n",
              "    <tr>\n",
              "      <th>2</th>\n",
              "      <td>DTC</td>\n",
              "      <td>0.744444</td>\n",
              "      <td>0.2</td>\n",
              "      <td>0.544444</td>\n",
              "      <td>0.480769</td>\n",
              "      <td>1.000000</td>\n",
              "      <td>0.519231</td>\n",
              "    </tr>\n",
              "  </tbody>\n",
              "</table>\n",
              "</div>"
            ],
            "text/plain": [
              "  Model       Men  Women  Gender Bias   Spanish   Foreign  Nationality Bias\n",
              "0    RF  0.300000    0.0     0.300000  0.173077  0.418605          0.245528\n",
              "1   SVC  0.166667    0.0     0.166667  0.057692  0.279070          0.221377\n",
              "2   DTC  0.744444    0.2     0.544444  0.480769  1.000000          0.519231"
            ]
          },
          "execution_count": 54,
          "metadata": {},
          "output_type": "execute_result"
        }
      ],
      "source": [
        "# Data representation\n",
        "fairness = pd.DataFrame({'Model': [],\n",
        "                         'Men': [],\n",
        "                         'Women': [],\n",
        "                         'Gender Bias': [],      \n",
        "                         'Spanish': [],\n",
        "                         'Foreign': [],\n",
        "                         'Nationality Bias': []})\n",
        "\n",
        "\n",
        "# Restrict the predictions in terms of gender and nationality and compare the true positive rates\n",
        "for model in results:\n",
        "      pred = results[model][\"Predictions\"]\n",
        "      pred[pred<0] = 0\n",
        "      pred_men_recidivists = pred[(test_y=='Sí') & (test_X[\"V1_sexe_Home\"]==1)]\n",
        "      pred_women_recidivists = pred[(test_y=='Sí') & (test_X[\"V1_sexe_Dona\"]==1)]\n",
        "      pred_nationals_recidivists = pred[(test_y=='Sí') & (test_X[\"V2_estranger_Espanyol\"]==1)]\n",
        "      pred_foreigners_recidivists = pred[(test_y=='Sí') & (test_X[\"V2_estranger_Estranger\"]==1)]\n",
        "\n",
        "\n",
        "      man = np.round(pred_men_recidivists).sum() / len(pred_men_recidivists)    \n",
        "      woman = np.round(pred_women_recidivists).sum() / len(pred_women_recidivists)\n",
        "      gender_bias = abs(man - woman)\n",
        "      spanish = np.round(pred_nationals_recidivists).sum() / len(pred_nationals_recidivists)\n",
        "      foreign = np.round(pred_foreigners_recidivists).sum() / len(pred_foreigners_recidivists)\n",
        "      nationality_bias = abs(foreign - spanish)\n",
        "\n",
        "      fairness.loc[len(fairness.index)] = [model, man, woman, gender_bias, spanish, foreign, nationality_bias]\n",
        "\n",
        "fairness"
      ]
    },
    {
      "cell_type": "markdown",
      "metadata": {},
      "source": [
        "Equalized odds requires us to get the same True and False Positive Rates for all protected classes. As we analyzed the first requirement previously, we will just check the False Positive Rates."
      ]
    },
    {
      "cell_type": "code",
      "execution_count": 55,
      "metadata": {},
      "outputs": [
        {
          "data": {
            "text/html": [
              "<div>\n",
              "<style scoped>\n",
              "    .dataframe tbody tr th:only-of-type {\n",
              "        vertical-align: middle;\n",
              "    }\n",
              "\n",
              "    .dataframe tbody tr th {\n",
              "        vertical-align: top;\n",
              "    }\n",
              "\n",
              "    .dataframe thead th {\n",
              "        text-align: right;\n",
              "    }\n",
              "</style>\n",
              "<table border=\"1\" class=\"dataframe\">\n",
              "  <thead>\n",
              "    <tr style=\"text-align: right;\">\n",
              "      <th></th>\n",
              "      <th>Model</th>\n",
              "      <th>Men</th>\n",
              "      <th>Women</th>\n",
              "      <th>Gender Bias</th>\n",
              "      <th>Spanish</th>\n",
              "      <th>Foreign</th>\n",
              "      <th>Nationality Bias</th>\n",
              "    </tr>\n",
              "  </thead>\n",
              "  <tbody>\n",
              "    <tr>\n",
              "      <th>0</th>\n",
              "      <td>RF</td>\n",
              "      <td>0.233645</td>\n",
              "      <td>0.000000</td>\n",
              "      <td>0.233645</td>\n",
              "      <td>0.065789</td>\n",
              "      <td>0.454545</td>\n",
              "      <td>0.388756</td>\n",
              "    </tr>\n",
              "    <tr>\n",
              "      <th>1</th>\n",
              "      <td>SVC</td>\n",
              "      <td>0.065421</td>\n",
              "      <td>0.000000</td>\n",
              "      <td>0.065421</td>\n",
              "      <td>0.039474</td>\n",
              "      <td>0.090909</td>\n",
              "      <td>0.051435</td>\n",
              "    </tr>\n",
              "    <tr>\n",
              "      <th>2</th>\n",
              "      <td>DTC</td>\n",
              "      <td>0.532710</td>\n",
              "      <td>0.384615</td>\n",
              "      <td>0.148095</td>\n",
              "      <td>0.236842</td>\n",
              "      <td>1.000000</td>\n",
              "      <td>0.763158</td>\n",
              "    </tr>\n",
              "  </tbody>\n",
              "</table>\n",
              "</div>"
            ],
            "text/plain": [
              "  Model       Men     Women  Gender Bias   Spanish   Foreign  Nationality Bias\n",
              "0    RF  0.233645  0.000000     0.233645  0.065789  0.454545          0.388756\n",
              "1   SVC  0.065421  0.000000     0.065421  0.039474  0.090909          0.051435\n",
              "2   DTC  0.532710  0.384615     0.148095  0.236842  1.000000          0.763158"
            ]
          },
          "execution_count": 55,
          "metadata": {},
          "output_type": "execute_result"
        }
      ],
      "source": [
        "# Data representation\n",
        "fairness = pd.DataFrame({'Model': [],\n",
        "                         'Men': [],\n",
        "                         'Women': [],\n",
        "                         'Gender Bias': [],      \n",
        "                         'Spanish': [],\n",
        "                         'Foreign': [],\n",
        "                         'Nationality Bias': []})\n",
        "\n",
        "\n",
        "# Restrict the predictions in terms of gender and nationality and compare the false positive rates\n",
        "for model in results:\n",
        "      pred = results[model][\"Predictions\"]\n",
        "      pred[pred<0] = 0\n",
        "      pred_men_non_recidivists = pred[(test_y=='No') & (test_X[\"V1_sexe_Home\"]==1)]\n",
        "      pred_women_non_recidivists = pred[(test_y=='No') & (test_X[\"V1_sexe_Dona\"]==1)]\n",
        "      pred_nationals_non_recidivists = pred[(test_y=='No') & (test_X[\"V2_estranger_Espanyol\"]==1)]\n",
        "      pred_foreigners_non_recidivists = pred[(test_y=='No') & (test_X[\"V2_estranger_Estranger\"]==1)]\n",
        "\n",
        "\n",
        "      man = np.round(pred_men_non_recidivists).sum() / len(pred_men_non_recidivists)    \n",
        "      woman = np.round(pred_women_non_recidivists).sum() / len(pred_women_non_recidivists)\n",
        "      gender_bias = abs(man - woman)\n",
        "      spanish = np.round(pred_nationals_non_recidivists).sum() / len(pred_nationals_non_recidivists)\n",
        "      foreign = np.round(pred_foreigners_non_recidivists).sum() / len(pred_foreigners_non_recidivists)\n",
        "      nationality_bias = abs(foreign - spanish)\n",
        "\n",
        "      fairness.loc[len(fairness.index)] = [model, man, woman, gender_bias, spanish, foreign, nationality_bias]\n",
        "\n",
        "fairness"
      ]
    },
    {
      "cell_type": "markdown",
      "metadata": {},
      "source": [
        "Take into account that 0.5 has been set as threshold to consider a prediction to be positive or negative. \n",
        "\n",
        "\n",
        "Also, we can witness the presence of negative values (< 0) for some predictions. This is especially notable in predictions for women by SVC. For this reason predictions are filtered and converted to 0 if they are negative. This may not be the most accurate approach, but definitely the fastest.\n",
        "\n",
        "This last fact and the few amount of women lead some models to _overfit_ when it comes to female predictions.\n"
      ]
    },
    {
      "cell_type": "markdown",
      "metadata": {},
      "source": [
        "1. Is there a method that can achieve better predictive power than human experts? \n",
        "\n",
        "This is hard to tell numerically in terms of accuracy because of how predictions were given by the expert. We have 3 classes (therefore, we can not divide in 'Yes' or 'No' as we did with the model predictions by rounding the values) and the most populated one is the middle ground (unsure, \"Moderada\". Therefore, it can not be ignored that easily).\n",
        "\n",
        "I would imagine that yes, but as we have seen in class: the world is biased, the data will probably represent that bias, and therefore the model will learn that bias from data.\n",
        "\n",
        "2. Is this method better than human experts in terms of fairness?\n",
        "\n",
        "The fairness metrics we are computing are all in terms of the correctness of the predictions. For that reason, the hardships we have encountered answering question number 1 are still present now.\n",
        "\n",
        "In any case, after dissecting the performances we can see that some models present less bias in some sections than the expert. However, it should be noted that the human bias is generally low and equally distributed across the \"risk\" classfications.\n",
        "\n",
        "Finally, we should also consider that we have been lucky with this specific expert and that we may come across with an either racist or sexist \"expert\" in the future.\n",
        "\n",
        "3. Which is the most suited fairness criterium for this problem? Why?\n",
        "\n",
        "In my opinion, guiding myself from conclusions reached in https://towardsdatascience.com/how-to-define-fairness-to-detect-and-prevent-discriminatory-outcomes-in-machine-learning-ef23fd408ef2#:~:text=Demographic%20Parity%20states%20that%20the,%E2%80%9Cbeing%20shown%20the%20ad%E2%80%9D I would say the Equalised Odds is the best criterium in this case.\n",
        "\n",
        "We are dealing with criminalism in Catalonia, and what is more important to us is to get the most accuracy as possible among all groups in a fair way. Also, if we switched the positive label, it could help with minimizing false positives (freeing people that will commit crimes again) which is of great interest to the population.\n",
        "\n",
        "In other contexts, like USA, it would be more suitable to use Demographic Parity. Take into account that crime is generally and wrongly considered a racial issue, when it actually is a classist issue provoked by historic racial discrimination towards minority races. For this reason, it is important for us to \"fix the world\" and getting rid from that horrible heritage.\n",
        "\n",
        "4. What are your conclusion about the use of a ML model to predict recividism?\n",
        "\n",
        "I do not consider it should ever substitute human expertise, at least from what we know and have learnt so far, because humans have a bigger ability to ignore biases from data and take historical and contextual circumstances into account.\n",
        "\n",
        "However, these models are a great guide for the experts and they can also be used as a control tool. Bias is present in the world because we, as humans, perpetuate it. Should any person considered an expert be a main bias perpetuator, some of the models we have seen with low enough biases will expose them."
      ]
    },
    {
      "cell_type": "markdown",
      "metadata": {},
      "source": [
        "# Exercise 2\n",
        "\n",
        "We have seen that the bias in the data with respect to the protected features (sex, nationality) yields disparity between groups. To analyze the influence of data bias with respect to the protected features we can perform a comparison of the baseline, unrestricted data settings with one mitigation method that addresses these issues: equalized base rates (EBR). Differences in predictive performance, group fairness and the set of features, which are important for prediction, provide further insights in the role that these conditions play with respect to group fairness.\n",
        "\n",
        "EBR assumes the following stratified oversampling procedure. Considering the input features $x$ and the outcomes $y$, a protected feature $f'$ has $I$ possible values corresponding to different groups: $\\{g_1,…,g_I\\}$, comprising a reference group $g_{ref}$. For each group $g_i$, different to the reference group, we compute the number of positive or negative condition samples $|S_i|$ we need to add to the training data, where $|S_i|$ is the absolute value of $S_i = P(x(f')=g_i)(P(y|x(f')=g_i) - P(y|x(f')=g_{ref}))$. \n",
        "\n",
        "If $S_i$ is negative then we add to the data $|S_i|$ negative condition samples $P(y=0| P(x(f')=g_i)$, while for $S_i$ positive we add $|S_i|$ positive condition samples $P(y=1| P(x(f')=g_i)$ of group $g_i$. This procedure yields equal base rates between the group $g_i$ and the reference group $g_{ref}$, namely $P(x(f')=g_i) = P(x(f')=g_{ref})$.\n",
        "\n",
        "### Questions (justify your answers)\n",
        "\n",
        "1. Is the application of this mitigation method sufficient to guarantee fair outcomes?"
      ]
    },
    {
      "cell_type": "markdown",
      "metadata": {},
      "source": [
        "In my opinion, it will depend on the distributions on the dataset. Classes that are very misrepresented may need a huge oversampling. In that sense, without proper data augmentation techniques, we may be overfitting the model to certain samples.\n",
        "\n",
        "Also, balancing the representations may ironically break the balance within the classes. Talking from experience, in Computer Vision it was needed to balance race, age, expression and emotion in a face picture dataset. Trying to obtain the same number of samples in all combinations was not only costful and kind of tricky (know how many samples and which samples to replicate), but also disappointing in results.\n",
        "\n",
        "EBR should be able to help in some scenarios, but should not be taken for granted or be applied unconsciously. Guiding these techniques and adapting them to the inherent necessities of our dataset are always important considerations."
      ]
    },
    {
      "cell_type": "markdown",
      "metadata": {},
      "source": [
        "# Exercise 3\n",
        "\n",
        "In order to see which fearures are important for different predictive models we can use ML explainability models. \n",
        "\n",
        "Apply ML explainability models to the (i) human risk assessment score, (ii) to the SAVRY baseline model, and (iii) to the best ML model (in terms of performance). \n",
        "\n",
        "### Questions\n",
        "\n",
        "1. Which are the top ten most important features of each model?\n",
        "\n",
        "2. Look at the features thar are important for the best ML model after the application of the equalized base rates (EBR) mitigation stratgey. Is there any difference?"
      ]
    },
    {
      "cell_type": "code",
      "execution_count": 56,
      "metadata": {},
      "outputs": [],
      "source": [
        "from itertools import islice\n",
        "\n",
        "def take(n, iterable):\n",
        "    \"Return first n items of the iterable as a list\"\n",
        "    return list(islice(iterable, n))"
      ]
    },
    {
      "cell_type": "markdown",
      "metadata": {},
      "source": [
        "1. Which are the top ten most important features of each model?\n"
      ]
    },
    {
      "cell_type": "markdown",
      "metadata": {},
      "source": [
        "i) Top 10 most important features for human risk assessment score"
      ]
    },
    {
      "cell_type": "code",
      "execution_count": 317,
      "metadata": {},
      "outputs": [],
      "source": [
        "# ?"
      ]
    },
    {
      "cell_type": "markdown",
      "metadata": {},
      "source": [
        "ii) Top 10 most important features for SAVRY:"
      ]
    },
    {
      "cell_type": "code",
      "execution_count": 57,
      "metadata": {},
      "outputs": [
        {
          "name": "stdout",
          "output_type": "stream",
          "text": [
            "[('V1_sexe_Home', 0.672216910501935), ('V76_@12_rebuig_grup_iguals_Alt', 0.6658285891118647), ('V81_@17_actitud_negatives_Alt', 0.558001744857404), ('V15_fet_agrupat_Contra la propietat no violent', 0.46861559596560043), ('V2_estranger_Estranger', 0.42887206803413175), ('V78_@14_escassa_habilitat_pares_educar_Alt', 0.4232947370158884), ('V70_@6_exposicio_violencia_llar_Moderat', 0.4191910754159761), ('V79_@15_manca_suport_personal_social_Alt', 0.4183122319910701), ('V86_@22_problemes_concentracio_hiperactivitat_Moderat', 0.38655469846333934), ('V77_@13_estrés_incapacitat_enfrontar_dificultats_Baix', 0.3860103747257581)]\n"
          ]
        }
      ],
      "source": [
        "importances = lr_model.coef_[0]\n",
        "features = lr_train_X.columns\n",
        "\n",
        "top_features = {}\n",
        "for i in range(len(features)):\n",
        "    top_features[features[i]] = importances[i]\n",
        "\n",
        "top_features = dict(sorted(top_features.items(), key=lambda item: item[1], reverse=True))\n",
        "print(take(10, top_features.items()))\n"
      ]
    },
    {
      "cell_type": "markdown",
      "metadata": {},
      "source": [
        "iii) Top 10 most important features for each model that has importances available:"
      ]
    },
    {
      "cell_type": "code",
      "execution_count": 58,
      "metadata": {},
      "outputs": [
        {
          "name": "stdout",
          "output_type": "stream",
          "text": [
            "=== RF ===\n",
            "[('V20_nombre_antecedents', 0.3444142938180502), ('V8_edat_fet', 0.19237028344501397), ('V2_estranger_Espanyol', 0.10322183971091925), ('V1_sexe_Dona', 0.09140359210292452), ('V2_estranger_Estranger', 0.08804243952604658), ('V1_sexe_Home', 0.06432939808525064), ('V15_fet_agrupat_Altres', 0.04058758152071886), ('V15_fet_agrupat_Contra la propietat violent', 0.02353812948376221), ('V15_fet_agrupat_Contra les persones', 0.01399874982843304), ('V15_fet_agrupat_Contra la propietat no violent', 0.012938456895610271)]\n",
            "=== SVC ===\n",
            "Importances not available\n",
            "=== DTC ===\n",
            "[('V8_edat_fet', 0.3705749368935252), ('V20_nombre_antecedents', 0.36026303734319415), ('V2_estranger_Espanyol', 0.2637973123743322), ('V15_fet_agrupat_Contra la propietat violent', 0.005364713388948364), ('V1_sexe_Dona', 0.0), ('V1_sexe_Home', 0.0), ('V2_estranger_Estranger', 0.0), ('V15_fet_agrupat_Altres', 0.0), ('V15_fet_agrupat_Contra la propietat no violent', 0.0), ('V15_fet_agrupat_Contra les persones', 0.0)]\n"
          ]
        }
      ],
      "source": [
        "features = train_X.columns\n",
        "\n",
        "for model in results:\n",
        "    print(\"===\", model, \"===\")\n",
        "    try:\n",
        "        importances = results[model][\"Classifier\"].best_estimator_.named_steps['classifier'].feature_importances_\n",
        "\n",
        "        top_features = {} \n",
        "        for i in range(len(features)):\n",
        "            top_features[features[i]] = importances[i]\n",
        "\n",
        "        top_features = dict(sorted(top_features.items(), key=lambda item: item[1], reverse=True))\n",
        "        print(take(10, top_features.items()))\n",
        "    except:\n",
        "        print(\"Importances not available\")\n",
        "\n"
      ]
    },
    {
      "cell_type": "markdown",
      "metadata": {},
      "source": [
        "2. Look at the features thar are important for the best ML model after the application of the equalized base rates (EBR) mitigation stratgey. Is there any difference?"
      ]
    },
    {
      "cell_type": "code",
      "execution_count": 59,
      "metadata": {},
      "outputs": [
        {
          "data": {
            "text/plain": [
              "V2_estranger_Estranger\n",
              "0    212\n",
              "1    162\n",
              "dtype: int64"
            ]
          },
          "execution_count": 59,
          "metadata": {},
          "output_type": "execute_result"
        }
      ],
      "source": [
        "train_X[train_X[\"V1_sexe_Dona\"] == 0].groupby(\"V2_estranger_Estranger\").size()"
      ]
    },
    {
      "cell_type": "code",
      "execution_count": 60,
      "metadata": {},
      "outputs": [
        {
          "data": {
            "text/plain": [
              "V2_estranger_Estranger\n",
              "0    44\n",
              "1    17\n",
              "dtype: int64"
            ]
          },
          "execution_count": 60,
          "metadata": {},
          "output_type": "execute_result"
        }
      ],
      "source": [
        "train_X[train_X[\"V1_sexe_Dona\"] == 1].groupby(\"V2_estranger_Estranger\").size()"
      ]
    },
    {
      "cell_type": "markdown",
      "metadata": {},
      "source": [
        "So, we have:"
      ]
    },
    {
      "cell_type": "markdown",
      "metadata": {},
      "source": [
        "|        | Spanish | Foreign | Totals |\n",
        "|--------|---------|---------|--------|\n",
        "| Man    | 208     | 172     | 380    |\n",
        "| Woman  | 42      | 13      | 55     |\n",
        "| Totals | 250     | 185     | 435    |"
      ]
    },
    {
      "cell_type": "markdown",
      "metadata": {},
      "source": [
        "We need 7 times more women, more or less. But we should also compensate the difference between Spanish and foreign women.\n",
        "\n",
        "4 times more Spanish women and 16 times more foreign women should be enough.\n"
      ]
    },
    {
      "cell_type": "markdown",
      "metadata": {},
      "source": [
        "|        | Spanish | Foreign | Totals |\n",
        "|--------|---------|---------|--------|\n",
        "| Man    | 208     | 172     | 380    |\n",
        "| Woman  | 168     | 208     | 376    |\n",
        "| Totals | 376     | 380     | 756    |"
      ]
    },
    {
      "cell_type": "code",
      "execution_count": 61,
      "metadata": {},
      "outputs": [],
      "source": [
        "train_X[\"target\"] = train_y"
      ]
    },
    {
      "cell_type": "code",
      "execution_count": 62,
      "metadata": {},
      "outputs": [],
      "source": [
        "spanish_women = train_X[(train_X[\"V1_sexe_Dona\"] == 1) & (train_X[\"V2_estranger_Estranger\"] == 0)]\n",
        "\n",
        "for i in range(3):\n",
        "    train_X = pd.concat([train_X, spanish_women])"
      ]
    },
    {
      "cell_type": "code",
      "execution_count": 63,
      "metadata": {},
      "outputs": [],
      "source": [
        "foreign_women = train_X[(train_X[\"V1_sexe_Dona\"] == 1) & (train_X[\"V2_estranger_Estranger\"] == 1)]\n",
        "\n",
        "for i in range(15):\n",
        "    train_X = pd.concat([train_X, foreign_women])"
      ]
    },
    {
      "cell_type": "code",
      "execution_count": 64,
      "metadata": {},
      "outputs": [],
      "source": [
        "train_y = train_X[\"target\"]\n",
        "train_X = train_X.drop([\"target\"], axis=1)"
      ]
    },
    {
      "cell_type": "code",
      "execution_count": 65,
      "metadata": {},
      "outputs": [
        {
          "data": {
            "text/plain": [
              "((822, 12), (822,))"
            ]
          },
          "execution_count": 65,
          "metadata": {},
          "output_type": "execute_result"
        }
      ],
      "source": [
        "train_X.shape, train_y.shape"
      ]
    },
    {
      "cell_type": "markdown",
      "metadata": {},
      "source": [
        "Now the dataset is way more balanced. Let's retrieve the importances as we did before."
      ]
    },
    {
      "cell_type": "code",
      "execution_count": 66,
      "metadata": {},
      "outputs": [
        {
          "name": "stdout",
          "output_type": "stream",
          "text": [
            "[('V1_sexe_Home', 0.9773580010860063), ('V15_fet_agrupat_Contra la propietat no violent', 0.5380268118603645), ('V2_estranger_Estranger', 0.43568192480289447), ('V16_fet_violencia_Violent', 0.42846885775423404), ('V15_fet_agrupat_Contra les persones', 0.3959964738304369), ('V16_fet_violencia_No violent', 0.2588078568187784), ('V2_estranger_Espanyol', 0.2515947897702403), ('V20_nombre_antecedents', 0.1621121541635196), ('V15_fet_agrupat_Contra la propietat violent', 0.032472383923945476), ('V8_edat_fet', -0.21340497880786324)]\n"
          ]
        }
      ],
      "source": [
        "lr_model = LogisticRegression(solver='liblinear')\n",
        "lr_model.fit(train_X, train_y)\n",
        "\n",
        "importances = lr_model.coef_[0]\n",
        "features = train_X.columns\n",
        "\n",
        "top_features = {}\n",
        "for i in range(len(features)):\n",
        "    top_features[features[i]] = importances[i]\n",
        "\n",
        "top_features = dict(sorted(top_features.items(), key=lambda item: item[1], reverse=True))\n",
        "print(take(10, top_features.items()))"
      ]
    },
    {
      "cell_type": "markdown",
      "metadata": {},
      "source": [
        "Adding more women made it more important to be a man for predictions. Being a foreigner or not does not increase in importance. The kind of crime, in particular violent crimes, gains a lot of relevance."
      ]
    },
    {
      "cell_type": "code",
      "execution_count": 67,
      "metadata": {},
      "outputs": [
        {
          "name": "stdout",
          "output_type": "stream",
          "text": [
            "Now tuning RF.\n",
            "Fitting 5 folds for each of 1152 candidates, totalling 5760 fits\n",
            "Now tuning SVC.\n",
            "Fitting 5 folds for each of 126 candidates, totalling 630 fits\n",
            "Now tuning DTC.\n",
            "Fitting 5 folds for each of 3072 candidates, totalling 15360 fits\n",
            "=== RF ===\n",
            "[('V20_nombre_antecedents', 0.3958531635339468), ('V8_edat_fet', 0.2579029961376487), ('V1_sexe_Home', 0.08364687476932367), ('V1_sexe_Dona', 0.07655805887478882), ('V2_estranger_Espanyol', 0.04363674847010667), ('V2_estranger_Estranger', 0.04316930374773414), ('V15_fet_agrupat_Contra les persones', 0.02322963780861171), ('V15_fet_agrupat_Contra la propietat violent', 0.019476948896117174), ('V16_fet_violencia_No violent', 0.01704198182888537), ('V15_fet_agrupat_Contra la propietat no violent', 0.01667085410232257)]\n",
            "=== SVC ===\n",
            "Importances not available\n",
            "=== DTC ===\n",
            "[('V20_nombre_antecedents', 0.48969730288261243), ('V8_edat_fet', 0.22557002250758393), ('V1_sexe_Home', 0.09739235161730128), ('V2_estranger_Estranger', 0.07308733051271414), ('V1_sexe_Dona', 0.04939789970191172), ('V2_estranger_Espanyol', 0.045690605068876046), ('V15_fet_agrupat_Altres', 0.011721044883306057), ('V15_fet_agrupat_Contra les persones', 0.007439506939901844), ('V16_fet_violencia_No violent', 3.9358857925662856e-06), ('V15_fet_agrupat_Contra la propietat no violent', 0.0)]\n"
          ]
        }
      ],
      "source": [
        "results = {}\n",
        "\n",
        "for classifier_label, classifier in classifiers.items():\n",
        "    print(f\"Now tuning {classifier_label}.\")\n",
        "    \n",
        "    # Initialize Gridsearch\n",
        "    scaler = StandardScaler()\n",
        "    steps = [(\"scaler\", scaler), (\"classifier\", classifier)] \n",
        "    pipeline = Pipeline(steps = steps)\n",
        "    param_grid = parameters[classifier_label]\n",
        "    \n",
        "    gscv = GridSearchCV(pipeline, param_grid, cv = 5,  n_jobs= -1, verbose = 1, scoring = \"roc_auc\")\n",
        "    gscv.fit(train_X, train_y)  \n",
        "    \n",
        "    # Get best parameters and score\n",
        "    best_params = gscv.best_params_\n",
        "    best_score = gscv.best_score_\n",
        "    \n",
        "    # Update classifier parameters and define new pipeline with tuned classifier\n",
        "    tuned_params = {item[12:]: best_params[item] for item in best_params}\n",
        "    classifier.set_params(**tuned_params)\n",
        "            \n",
        "    # Make predictions, evaluate and save results\n",
        "    if classifier_label in DECISION_FUNCTIONS:\n",
        "        y_pred = gscv.decision_function(test_X)\n",
        "    else:\n",
        "        y_pred = gscv.predict_proba(test_X)[:,1]\n",
        "    \n",
        "    auc_score = metrics.roc_auc_score(test_y, y_pred)\n",
        "    \n",
        "    result = {\"Classifier\": gscv,\n",
        "              \"Best Parameters\": best_params,\n",
        "              \"Training AUC\": best_score,\n",
        "              \"Test AUC\": auc_score,\n",
        "              \"Predictions\": y_pred}\n",
        "    \n",
        "    results.update({classifier_label: result})\n",
        "    \n",
        "features = train_X.columns\n",
        "\n",
        "for model in results:\n",
        "    print(\"===\", model, \"===\")\n",
        "    try:\n",
        "        importances = results[model][\"Classifier\"].best_estimator_.named_steps['classifier'].feature_importances_\n",
        "\n",
        "        top_features = {} \n",
        "        for i in range(len(features)):\n",
        "            top_features[features[i]] = importances[i]\n",
        "\n",
        "        top_features = dict(sorted(top_features.items(), key=lambda item: item[1], reverse=True))\n",
        "        print(take(10, top_features.items()))\n",
        "    except:\n",
        "        print(\"Importances not available\")\n"
      ]
    },
    {
      "cell_type": "markdown",
      "metadata": {},
      "source": [
        "The importance of different features stays almost the same in RF as before the balancing of classes. For DTC, being a Woman, Spanish or Foreign has no great changes in importance; meanwhile, the other features change notoriously."
      ]
    },
    {
      "cell_type": "markdown",
      "metadata": {},
      "source": []
    }
  ],
  "metadata": {
    "kernelspec": {
      "display_name": "Python 3",
      "language": "python",
      "name": "python3"
    },
    "language_info": {
      "codemirror_mode": {
        "name": "ipython",
        "version": 3
      },
      "file_extension": ".py",
      "mimetype": "text/x-python",
      "name": "python",
      "nbconvert_exporter": "python",
      "pygments_lexer": "ipython3",
      "version": "3.9.12"
    },
    "nteract": {
      "version": "0.28.0"
    }
  },
  "nbformat": 4,
  "nbformat_minor": 4
}
