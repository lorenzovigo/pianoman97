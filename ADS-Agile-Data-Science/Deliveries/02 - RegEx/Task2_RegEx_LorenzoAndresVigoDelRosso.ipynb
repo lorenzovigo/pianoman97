{
 "cells": [
  {
   "cell_type": "markdown",
   "source": [
    "# Exercices"
   ],
   "metadata": {}
  },
  {
   "cell_type": "markdown",
   "source": [
    "* A regular expression that check most email addresses:"
   ],
   "metadata": {}
  },
  {
   "cell_type": "code",
   "execution_count": 13,
   "source": [
    "import re\r\n",
    "# Explanation:\r\n",
    "## \\S+ represents any email local identifier of any length (with no spaces).\r\n",
    "## Then @ is compulsary.\r\n",
    "## Afterwards, we accept any alphanumerical email server of any length with \\w+.\r\n",
    "## Then a dot character is needed (\\.)\r\n",
    "## And to end, we must consider where the domain server is registered (E.g.: com, es, org) in order to do that we accept any chain of alphanumerical characters with \\w+ (even though numbers should not be accepted).\r\n",
    "## We must add a $ to show that the string must end after the domain, in order to avoid 'test@mail.com.' to be a true match.\r\n",
    "pattern = r\"\\S+@\\w+\\.\\w+$\"\r\n",
    "\r\n",
    "str_true = ('l-l.l@mail.Aom',)\r\n",
    "            \r\n",
    "str_false = ('testmail.com','test@mail.com.', '@testmail.com', 'test@mailcom')\r\n",
    "\r\n",
    "res = True\r\n",
    "for t in str_true:\r\n",
    "    f = bool(re.match(pattern, t))\r\n",
    "    print (t, f == True)\r\n",
    "    res = res and f == True\r\n",
    "\r\n",
    "for t in str_false:\r\n",
    "    f = bool(re.match(pattern, t))\r\n",
    "    print (t, f == False)\r\n",
    "    res = res and f == False\r\n",
    "res"
   ],
   "outputs": [
    {
     "output_type": "stream",
     "name": "stdout",
     "text": [
      "l-l.l@mail.Aom True\n",
      "testmail.com True\n",
      "test@mail.com. True\n",
      "@testmail.com True\n",
      "test@mailcom True\n"
     ]
    },
    {
     "output_type": "execute_result",
     "data": {
      "text/plain": [
       "True"
      ]
     },
     "metadata": {},
     "execution_count": 13
    }
   ],
   "metadata": {
    "collapsed": false
   }
  },
  {
   "cell_type": "markdown",
   "source": [
    "Validates dates in mm/dd/yyyy format. note: Some dates are not verified such as 2080 to be invalid. "
   ],
   "metadata": {}
  },
  {
   "cell_type": "code",
   "execution_count": 14,
   "source": [
    "import re\r\n",
    "# Explanation\r\n",
    "## (0[1-9]|1[012]) only accepts the real month values: either from 01 to 09 (0[1-9]) or 10, 11 or 12 (1[012]).\r\n",
    "## A dividing '/' character is needed.\r\n",
    "## (0[1-9]|[12]\\d|3[01]) only accepts the real day values in a similar form: from 01 to 31.\r\n",
    "## A dividing '/' character is needed.\r\n",
    "## Then we add 4 /d to accept no less and no more than 4 year digits, as specified in the format (YYYY). Take into account that \\d+ would accept 1391231 as year value, for example.\r\n",
    "\r\n",
    "pattern = r\"(0[1-9]|1[012])/(0[1-9]|[12]\\d|3[01])/\\d\\d\\d\\d\"\r\n",
    "str_true = ('01/08/2014', '12/30/2014', )\r\n",
    "            \r\n",
    "str_false = ('22/08/2014', '-123', '1/8/2014', '1/08/2014', '01/8/2014')\r\n",
    "\r\n",
    "res = True\r\n",
    "for t in str_true:\r\n",
    "    f = bool(re.match(pattern, t))\r\n",
    "    print (t, f == True)\r\n",
    "    res = res and f == True\r\n",
    "\r\n",
    "for t in str_false:\r\n",
    "    f = bool(re.match(pattern, t))\r\n",
    "    print (t, f == False)\r\n",
    "    res = res and f == False\r\n",
    "res"
   ],
   "outputs": [
    {
     "output_type": "stream",
     "name": "stdout",
     "text": [
      "01/08/2014 True\n",
      "12/30/2014 True\n",
      "22/08/2014 True\n",
      "-123 True\n",
      "1/8/2014 True\n",
      "1/08/2014 True\n",
      "01/8/2014 True\n"
     ]
    },
    {
     "output_type": "execute_result",
     "data": {
      "text/plain": [
       "True"
      ]
     },
     "metadata": {},
     "execution_count": 14
    }
   ],
   "metadata": {
    "collapsed": false
   }
  },
  {
   "cell_type": "markdown",
   "source": [
    "* 12-Hour format"
   ],
   "metadata": {}
  },
  {
   "cell_type": "code",
   "execution_count": 15,
   "source": [
    "import re\r\n",
    "# Explanation:\r\n",
    "## (1[0-2])|\\d accepts either 10, 11 and 12 or one digit as hour values.\r\n",
    "## Then a dividing ':' is compulsary.\r\n",
    "## Afterwards, we need to consider the possible minute values with [0-5]\\d (from 00 to 59)\r\n",
    "## Then a dividing space character is optional, which is represented by \\s?\r\n",
    "## Then we must consider all these options, one of them is needed: am, AM, pm or PM. This obtained by [(a)|(A)|(p)|(P)][(m)|(M)], even though this subpattern accepts also pM, Pm, aM and Am.\r\n",
    "pattern = r\"(1[0-2])|\\d:[0-5]\\d\\s?[(a)|(A)|(p)|(P)][(m)|(M)]\"\r\n",
    "str_true = ('2:00pm', '7:30 AM', '12:05 am', )\r\n",
    "            \r\n",
    "str_false = ('22:00pm', '14:00', '3:12', '03:12pm', )\r\n",
    "\r\n",
    "res = True\r\n",
    "for t in str_true:\r\n",
    "    f = bool(re.match(pattern, t))\r\n",
    "    print (t, f == True)\r\n",
    "    res = res and f == True\r\n",
    "\r\n",
    "for t in str_false:\r\n",
    "    f = bool(re.match(pattern, t))\r\n",
    "    print (t, f == False)\r\n",
    "    res = res and f == False\r\n",
    "res"
   ],
   "outputs": [
    {
     "output_type": "stream",
     "name": "stdout",
     "text": [
      "2:00pm True\n",
      "7:30 AM True\n",
      "12:05 am True\n",
      "22:00pm True\n",
      "14:00 True\n",
      "3:12 True\n",
      "03:12pm True\n"
     ]
    },
    {
     "output_type": "execute_result",
     "data": {
      "text/plain": [
       "True"
      ]
     },
     "metadata": {},
     "execution_count": 15
    }
   ],
   "metadata": {
    "collapsed": false
   }
  },
  {
   "cell_type": "markdown",
   "source": [
    "* Checking for HTML/XML, etc. tags (a very simple approach)"
   ],
   "metadata": {}
  },
  {
   "cell_type": "code",
   "execution_count": 16,
   "source": [
    "import re\r\n",
    "# Explanation: we must accept any string that does not start or end by a whitespace surrounded by < and >\r\n",
    "## < and > are compulsory at the beginning and at the end\r\n",
    "## If there is a space (\\S\\s?)* accepts any combination of characters and whitespaces possible, but always with a non-whitespace characters at the beggining.\r\n",
    "## \\S at the end is added because the inner string of a tag needs to end in an non-whitespace character.\r\n",
    "## For example <a> is valid because (\\S\\s?)* is not relevant in this case, and <a> matches with <\\S>\r\n",
    "pattern = r\"<(\\S\\s?)*\\S>\"\r\n",
    "str_true = ('<a>', '<a href=\"somethinG\">', '</a>', '<img src>')\r\n",
    "            \r\n",
    "str_false = ('a>', '<a ', '< a >')\r\n",
    "\r\n",
    "res = True\r\n",
    "for t in str_true:\r\n",
    "    f = bool(re.match(pattern, t))\r\n",
    "    print (t, f == True)\r\n",
    "    res = res and f == True\r\n",
    "\r\n",
    "for t in str_false:\r\n",
    "    f = bool(re.match(pattern, t))\r\n",
    "    print (t, f == False)\r\n",
    "    res = res and f == False\r\n",
    "res"
   ],
   "outputs": [
    {
     "output_type": "stream",
     "name": "stdout",
     "text": [
      "<a> True\n",
      "<a href=\"somethinG\"> True\n",
      "</a> True\n",
      "<img src> True\n",
      "a> True\n",
      "<a  True\n",
      "< a > True\n"
     ]
    },
    {
     "output_type": "execute_result",
     "data": {
      "text/plain": [
       "True"
      ]
     },
     "metadata": {},
     "execution_count": 16
    }
   ],
   "metadata": {
    "collapsed": false
   }
  },
  {
   "cell_type": "code",
   "execution_count": null,
   "source": [],
   "outputs": [],
   "metadata": {}
  }
 ],
 "metadata": {
  "kernelspec": {
   "name": "python3",
   "display_name": "Python 3.8.8 64-bit ('base': conda)"
  },
  "language_info": {
   "name": "python",
   "version": "3.8.8",
   "mimetype": "text/x-python",
   "codemirror_mode": {
    "name": "ipython",
    "version": 3
   },
   "pygments_lexer": "ipython3",
   "nbconvert_exporter": "python",
   "file_extension": ".py"
  },
  "interpreter": {
   "hash": "cef9e06bb236b2a8629b07e87a04b187b952a0f661eff5533360a155783f0c33"
  }
 },
 "nbformat": 4,
 "nbformat_minor": 1
}