{
 "cells": [
  {
   "cell_type": "code",
   "execution_count": 9,
   "metadata": {},
   "outputs": [],
   "source": [
    "# ATTENTION: Add here the path to your own Chrome Driver!!\n",
    "chrome_driver_path = \"C:\\\\path\\\\to\\\\chromedriver.exe\""
   ]
  },
  {
   "cell_type": "code",
   "execution_count": 4,
   "metadata": {},
   "outputs": [
    {
     "data": {
      "text/plain": [
       "'\\n# Requirement needed by some of us to connect to MongoDB correctly.\\n!pip install certifi\\n\\n# Method seen in class to connect to MongoDB\\n# ATTENTION: Remember to add your current IP as valid IP access in your MongoDB network dashboard.\\nimport pymongo, certifi\\n\\ntry:\\n    # ATTENTION: Create a credentials.txt file in this folder:\\n    #first line: Database username (not account username)\\n    #second line: Database username password (not account password)\\n    #third line: Databse url with port (you can find it in the cloud dashboard)\\n    #fourth lin: Database name\\n    if \\'conn\\' in globals():\\n        conn.close()\\n        print(\"Closing\")\\n    \\n    with open(\"credentials.txt\", \\'r\\') as f:\\n        [name,password,url,dbname]=f.read().splitlines()\\n    # Next line was changed in order to use certifi and connect correctly\\n    conn=pymongo.MongoClient(\"mongodb+srv://{}:{}@{}\".format(name,password,url), tlsCAFile=certifi.where())\\n    print (\"Connected successfully!!!\")\\n    \\nexcept pymongo.errors.ConnectionFailure as e:\\n    print (\"Could not connect to MongoDB: %s\" % e) \\nconn\\ndb = conn[dbname]\\ndb\\n'"
      ]
     },
     "execution_count": 4,
     "metadata": {},
     "output_type": "execute_result"
    }
   ],
   "source": [
    "# If finally the MongoDB part of the exercise that went missing on the template is needed, uncomment this code and execute it.\n",
    "\n",
    "'''\n",
    "# Requirement needed by some of us to connect to MongoDB correctly.\n",
    "!pip install certifi\n",
    "\n",
    "# Method seen in class to connect to MongoDB\n",
    "# ATTENTION: Remember to add your current IP as valid IP access in your MongoDB network dashboard.\n",
    "import pymongo, certifi\n",
    "\n",
    "try:\n",
    "    # ATTENTION: Create a credentials.txt file in this folder:\n",
    "    #first line: Database username (not account username)\n",
    "    #second line: Database username password (not account password)\n",
    "    #third line: Databse url with port (you can find it in the cloud dashboard)\n",
    "    #fourth lin: Database name\n",
    "    if 'conn' in globals():\n",
    "        conn.close()\n",
    "        print(\"Closing\")\n",
    "    \n",
    "    with open(\"credentials.txt\", 'r') as f:\n",
    "        [name,password,url,dbname]=f.read().splitlines()\n",
    "    # Next line was changed in order to use certifi and connect correctly\n",
    "    conn=pymongo.MongoClient(\"mongodb+srv://{}:{}@{}\".format(name,password,url), tlsCAFile=certifi.where())\n",
    "    print (\"Connected successfully!!!\")\n",
    "    \n",
    "except pymongo.errors.ConnectionFailure as e:\n",
    "    print (\"Could not connect to MongoDB: %s\" % e) \n",
    "conn\n",
    "db = conn[dbname]\n",
    "db\n",
    "'''"
   ]
  },
  {
   "cell_type": "code",
   "execution_count": 5,
   "metadata": {},
   "outputs": [
    {
     "data": {
      "text/plain": [
       "True"
      ]
     },
     "execution_count": 5,
     "metadata": {},
     "output_type": "execute_result"
    }
   ],
   "source": [
    "# ATTENTION: Create an extension-less 'api_key' file with your TMDB API key\n",
    "with open('api_key', 'r') as f:\n",
    "    api_key = f.read()\n",
    "f.closed"
   ]
  },
  {
   "cell_type": "markdown",
   "metadata": {},
   "source": [
    "**Selenium EXERCISE 1:** <BR>\n",
    "<ul>\n",
    "<li> Open a browser \n",
    "\n",
    "<li>Go to tripadvisor/Restaurants\n",
    "\n",
    "<li>Find the search text box\n",
    "\n",
    "<li>Clear it, input the query \"Sant Cugat\" and send it\n",
    "\n",
    "<li>Go to \"Restarurants\" and get all the links and names of top 10 restaurants in Sant cugat\n",
    "<li> Store them in a list of Dictionaries {name,links}\n",
    "</ul>\n"
   ]
  },
  {
   "cell_type": "code",
   "execution_count": 10,
   "metadata": {},
   "outputs": [
    {
     "data": {
      "text/plain": [
       "[{'name': 'Piaceri D’ Italia Ristorante Pizzeria',\n",
       "  'link': 'https://www.tripadvisor.es/Restaurant_Review-g1080422-d19084243-Reviews-Piaceri_D_Italia_Ristorante_Pizzeria-Sant_Cugat_del_Valles_Catalonia.html'},\n",
       " {'name': 'Restaurant Brau',\n",
       "  'link': 'https://www.tripadvisor.es/Restaurant_Review-g1080422-d10195584-Reviews-Restaurant_Brau-Sant_Cugat_del_Valles_Catalonia.html'},\n",
       " {'name': 'Sabàtic',\n",
       "  'link': 'https://www.tripadvisor.es/Restaurant_Review-g1080422-d10167691-Reviews-Sabatic-Sant_Cugat_del_Valles_Catalonia.html'},\n",
       " {'name': 'Némesis Gastronomia',\n",
       "  'link': 'https://www.tripadvisor.es/Restaurant_Review-g1080422-d11892809-Reviews-Nemesis-Sant_Cugat_del_Valles_Catalonia.html'},\n",
       " {'name': 'Dakidaya',\n",
       "  'link': 'https://www.tripadvisor.es/Restaurant_Review-g1080422-d4546707-Reviews-Dakidaya-Sant_Cugat_del_Valles_Catalonia.html'},\n",
       " {'name': '9Reinas Sant Cugat',\n",
       "  'link': 'https://www.tripadvisor.es/Restaurant_Review-g1080422-d7155184-Reviews-9Reinas_Sant_Cugat-Sant_Cugat_del_Valles_Catalonia.html'},\n",
       " {'name': 'Kitsune Sushi Bar',\n",
       "  'link': 'https://www.tripadvisor.es/Restaurant_Review-g1080422-d5966644-Reviews-Kitsune_Sushi_Bar-Sant_Cugat_del_Valles_Catalonia.html'},\n",
       " {'name': 'La Rampa 23',\n",
       "  'link': 'https://www.tripadvisor.es/Restaurant_Review-g1080422-d4043880-Reviews-La_Rampa_23-Sant_Cugat_del_Valles_Catalonia.html'},\n",
       " {'name': 'La Rita',\n",
       "  'link': 'https://www.tripadvisor.es/Restaurant_Review-g1080422-d10365477-Reviews-La_Rita-Sant_Cugat_del_Valles_Catalonia.html'},\n",
       " {'name': 'El vi de deu',\n",
       "  'link': 'https://www.tripadvisor.es/Restaurant_Review-g1080422-d7076969-Reviews-El_Vi_de_Deu-Sant_Cugat_del_Valles_Catalonia.html'}]"
      ]
     },
     "execution_count": 10,
     "metadata": {},
     "output_type": "execute_result"
    }
   ],
   "source": [
    "from selenium import webdriver\n",
    "from selenium.webdriver.common.by import By\n",
    "from selenium.webdriver.common.keys import Keys\n",
    "from selenium.webdriver.support.ui import WebDriverWait\n",
    "from selenium.webdriver.support import expected_conditions as EC\n",
    "\n",
    "# Open the browser\n",
    "browser = webdriver.Chrome(chrome_driver_path)\n",
    "\n",
    "# We access the given website and click on accept cookies\n",
    "browser.get(\"https://www.tripadvisor.es/Restaurants\")\n",
    "accept_cookies_btn = browser.find_element_by_id(\"_evidon-accept-button\")\n",
    "accept_cookies_btn.click()\n",
    "\n",
    "# We locate the search box and enter the \"Sant Cugat\" query\n",
    "search_input_text_box = browser.find_element_by_xpath(\"//input[@placeholder='Ciudad o nombre del restaurante']\")\n",
    "search_input_text_box.send_keys(\"Sant Cugat\")\n",
    "\n",
    "# We wait until the \"Sant Cugat del Vallès\" suggested result appears\n",
    "correct_result = WebDriverWait(browser, 30).until(EC.element_to_be_clickable((By.XPATH, \"//div[contains(string(), 'Sant Cugat del Vallès')]\")))\n",
    "try:\n",
    "    # When it appears, we try to click it. But it will fail.\n",
    "    correct_result.click()\n",
    "except:\n",
    "    # So when it fails, we locate it and click it again.\n",
    "    correct_result = browser.find_element_by_xpath(\"//div[contains(string(), 'Sant Cugat del Vallès')]\")\n",
    "    correct_result.click()\n",
    "\n",
    "# We are taken to the Restaurants page. (We do not have to click on \"Restaurants\" tabs as opposed to just pressing enter on the search box. This is the way the teacher told us to proceed)\n",
    "# We locate the list of restaurants and get all the links included in it.\n",
    "restaurant_list = WebDriverWait(browser, 30).until(EC.presence_of_element_located((By.XPATH, \"//div[@data-test-target='restaurants-list']\")))\n",
    "restaurants = restaurant_list.find_elements_by_tag_name(\"a\")\n",
    "\n",
    "# We have way too many links per restaurant, so we will filter them to only the links found in the restaurant title.\n",
    "dictList = []\n",
    "for restaurant in restaurants:\n",
    "    # We want to obtain only 10 restaurants\n",
    "    if len(dictList) == 10:\n",
    "        break\n",
    "\n",
    "    name = restaurant.text\n",
    "\n",
    "    # We check if the link includes the restaurant title (it's part of an enumeration: 1. 2. 3. 4. ...)\n",
    "    if str(len(dictList) + 1) + '.' in name:\n",
    "        # If it is, retrieve the name and the link target\n",
    "        dictList.append({\n",
    "            'name': name[name.find(\". \") + 2 : len(name)],\n",
    "            'link': restaurant.get_attribute(\"href\")\n",
    "        })\n",
    "\n",
    "# Close the browser and show the list of the top 10 restaurants in Sant Cugat, with their respective links\n",
    "browser.close()\n",
    "dictList"
   ]
  },
  {
   "cell_type": "code",
   "execution_count": null,
   "metadata": {},
   "outputs": [],
   "source": [
    "# If finally the MongoDB part of the exercise that went missing on the template is needed, uncomment this code and execute it.\n",
    "'''\n",
    "# We connect to the collection (or create it if it does not exist)\n",
    "collection = db.top5SantCugat\n",
    "# Delete the previous results added in previous executions\n",
    "collection.delete_many({})\n",
    "# We add all the items (dicts) in the list to the collection\n",
    "collection.insert_many(dictList)\n",
    "'''"
   ]
  },
  {
   "cell_type": "code",
   "execution_count": null,
   "metadata": {},
   "outputs": [],
   "source": [
    "# If finally the MongoDB part of the exercise that went missing on the template is needed, uncomment this code and execute it.\n",
    "'''\n",
    "# Check if items were added to the collection\n",
    "collection.find()\n",
    "[d for d in collection.find()] \n",
    "'''"
   ]
  },
  {
   "cell_type": "markdown",
   "metadata": {},
   "source": [
    "**Selenium EXERCISE 2:**"
   ]
  },
  {
   "cell_type": "markdown",
   "metadata": {},
   "source": [
    "* Go to Eix Macià Cinemes web Site. ('http://www.cinemeseixmacia.com/')\n",
    "* Find all the movies that are currently playing in the Cinema.\n",
    "* Filter those movies that starts from at specific time (i.e. 18PM) to 1h and half later and are recomended for a specific age audience (i.e 18 y.o).\n",
    "* Search in themoviedb the average ratings for those movies and select the best one. \n",
    "* Play the movie trailer."
   ]
  },
  {
   "cell_type": "code",
   "execution_count": 11,
   "metadata": {},
   "outputs": [],
   "source": [
    "# Input here the scheduling and age rating limitations you desire\n",
    "start_time_hour = 18\n",
    "start_time_mins = 00\n",
    "max_age = 18"
   ]
  },
  {
   "cell_type": "code",
   "execution_count": 12,
   "metadata": {},
   "outputs": [
    {
     "name": "stdout",
     "output_type": "stream",
     "text": [
      "Filtered movies: [{'title': 'SIN TIEMPO PARA MORIR', 'trailer_element': <selenium.webdriver.remote.webelement.WebElement (session=\"3704c15e0a438b6bb9f2d6b696f0a391\", element=\"d7024701-3165-4e3e-8665-fc4cb8b3b180\")>, 'age': 0, 'starting_time': '18:15'}, {'title': 'DUNE', 'trailer_element': <selenium.webdriver.remote.webelement.WebElement (session=\"3704c15e0a438b6bb9f2d6b696f0a391\", element=\"791302ed-2689-4d25-b727-49eb27421559\")>, 'age': '12', 'starting_time': '19:00'}, {'title': 'LA FAMILIA ADDAMS 2 - LA GRAN ESCAPADA', 'trailer_element': <selenium.webdriver.remote.webelement.WebElement (session=\"3704c15e0a438b6bb9f2d6b696f0a391\", element=\"da2b9355-f8fb-4edb-b28b-cf474ee4c865\")>, 'age': 0, 'starting_time': '18:15'}, {'title': 'LA PATRULLA CANINA LA PELICULA', 'trailer_element': <selenium.webdriver.remote.webelement.WebElement (session=\"3704c15e0a438b6bb9f2d6b696f0a391\", element=\"3377832d-7477-4171-aaf9-be69f6eacc3f\")>, 'age': 0, 'starting_time': '18:00'}, {'title': 'LAS LEYES DE LA FRONTERA', 'trailer_element': <selenium.webdriver.remote.webelement.WebElement (session=\"3704c15e0a438b6bb9f2d6b696f0a391\", element=\"93e99fa8-9fbf-4fae-ba97-a40decdd9271\")>, 'age': '16', 'starting_time': '19:00'}, {'title': 'MADRES PARALELAS', 'trailer_element': <selenium.webdriver.remote.webelement.WebElement (session=\"3704c15e0a438b6bb9f2d6b696f0a391\", element=\"f58a25a5-53c4-4429-872b-a601f35bc7d6\")>, 'age': '12', 'starting_time': '19:00'}, {'title': 'NO RESPIRES 2', 'trailer_element': <selenium.webdriver.remote.webelement.WebElement (session=\"3704c15e0a438b6bb9f2d6b696f0a391\", element=\"8ca16df8-1354-4e62-8769-679f48a1d0c9\")>, 'age': '16', 'starting_time': '18:00'}, {'title': '¿QUIÉN ES QUIÉN?', 'trailer_element': <selenium.webdriver.remote.webelement.WebElement (session=\"3704c15e0a438b6bb9f2d6b696f0a391\", element=\"fd874ae6-11bd-4276-a416-674f3a7ee0ce\")>, 'age': '7', 'starting_time': '18:00'}]\n",
      "Best rated movie:  {'title': 'DUNE', 'trailer_element': <selenium.webdriver.remote.webelement.WebElement (session=\"3704c15e0a438b6bb9f2d6b696f0a391\", element=\"791302ed-2689-4d25-b727-49eb27421559\")>, 'age': '12', 'starting_time': '19:00'}\n"
     ]
    }
   ],
   "source": [
    "from datetime import datetime\n",
    "from datetime import timedelta\n",
    "from urllib.request import urlopen\n",
    "from urllib.parse import quote_plus\n",
    "import json\n",
    "import operator\n",
    "import time\n",
    "\n",
    "# Open the browser and go to the given website\n",
    "browser = webdriver.Chrome(chrome_driver_path)\n",
    "browser.get('http://www.cinemeseixmacia.com/')\n",
    "\n",
    "# We click on the list view and get all the ' zitem' class elements (one per movie in the list)\n",
    "browser.find_element_by_xpath(\"//button[@class='fas fa-th-list button boto_format boto_f_llista tooltip2 tooltipstered']\").click()\n",
    "movies = browser.find_elements_by_xpath(\"//div[@class=' zitem']\")\n",
    "\n",
    "# For each movie\n",
    "movie_list = []\n",
    "for movie_div in movies:\n",
    "    # We get the info on age rating and session times\n",
    "    info = movie_div.find_element_by_id(\"dadespeli\")\n",
    "    session_hours = movie_div.find_elements_by_class_name(\"horasessio\")\n",
    "\n",
    "    # We parse the age rating to an int (delete 'Classificació: ' and ' AÑOS' and convert APTA to 0)\n",
    "    age = info.text[info.text.find(\"ó: \") + 3 : info.text.find(\" AÑOS\")]\n",
    "    try:\n",
    "        int(age)\n",
    "    except:\n",
    "        age = 0\n",
    "    \n",
    "    # We are basing our time comparisons on a now datetime instance\n",
    "    now = datetime.now()\n",
    "\n",
    "    # If the age rating is situable\n",
    "    if int(age) <= max_age:\n",
    "        # For each available session we will check if it's within the range we are accepting.\n",
    "        for session_hour in session_hours: \n",
    "\n",
    "            # We try to parse the hour time\n",
    "            try:\n",
    "                [hour, mins] = session_hour.text.split(':')\n",
    "            except:\n",
    "                print(\"Parsing failed: \" + movie_div.find_element_by_tag_name(\"h4\").text, hour, mins)\n",
    "\n",
    "            # We define three datetimes: one with the session hour, one with the minimum hour accepted and one with the maximum hour accepted\n",
    "            session_time = now.replace(hour = int(hour), minute = int(mins))\n",
    "            min_session_time = now.replace(hour = start_time_hour, minute = start_time_mins)\n",
    "            max_session_time = min_session_time + timedelta(minutes=91)\n",
    "\n",
    "            # If the session time is within the range, add the acceptable movie list (represented by a dict)\n",
    "            if (session_time >= min_session_time and session_time < max_session_time):\n",
    "                # We need to delete some characters and extra wordings on the title to make the movie be findable in the Movie Database API.\n",
    "                # Also, we include the trailer button in the dict, in order to retrieve it later and click it.\n",
    "                movie_list.append({\n",
    "                    'title' : movie_div.find_element_by_tag_name(\"h4\").text.replace(\"ATMOS \", \"\").replace(\"VOSE \", \"\").replace(\":\", \" \"),\n",
    "                    'trailer_element' : movie_div.find_element_by_class_name(\"peli-botons\").find_elements_by_tag_name(\"button\")[0],\n",
    "                    'age': age,\n",
    "                    'starting_time': session_hour.text\n",
    "                })\n",
    "\n",
    "print(\"Filtered movies:\", movie_list)\n",
    "# For each of the movies found within the age and time ranges, we look for its rating in TMDB API\n",
    "ratings = []\n",
    "for movie in movie_list:\n",
    "    # Consume the API, searching the movie and specifying the language to spanish\n",
    "    source = urlopen('https://api.themoviedb.org/3/search/movie?api_key=' + api_key + '&language=es&query=' + quote_plus(movie['title']) + '&page=1&include_adult=true')\n",
    "    json_obj = json.loads(source.read())\n",
    "    movie_results = json_obj['results']\n",
    "\n",
    "    # Read the response and get the movie's average vot\n",
    "    try:\n",
    "        ratings.append(movie_results[0].get('vote_average'))\n",
    "    except:\n",
    "        # If the movie is not found, add a void rating in other to have all movies have the same index in both dictionaries\n",
    "        ratings.append(0)\n",
    "\n",
    "# Each movie has the same index in movie dict and in rating dict\n",
    "# Fetch the index of the movie with the highest rating\n",
    "index, value = max(enumerate(ratings), key=operator.itemgetter(1))\n",
    "\n",
    "# Use that index to show the info of the movie with the highest rating available according to the age and time ratings\n",
    "print(\"Best rated movie: \", movie_list[index])\n",
    "# Click the trailer button that we stored in the dict\n",
    "movie_list[index]['trailer_element'].click()\n",
    "# Sleep a little while in order to let the iframe load\n",
    "time.sleep(3)\n",
    "# Find the iframe and click it. This way the trailer is played.\n",
    "yt_iframe = browser.find_element_by_xpath(\"//div[@class='lity-content']\")\n",
    "yt_iframe.click()\n"
   ]
  },
  {
   "cell_type": "code",
   "execution_count": null,
   "metadata": {},
   "outputs": [],
   "source": []
  }
 ],
 "metadata": {
  "interpreter": {
   "hash": "cef9e06bb236b2a8629b07e87a04b187b952a0f661eff5533360a155783f0c33"
  },
  "kernelspec": {
   "display_name": "Python 3.8.8 64-bit ('base': conda)",
   "name": "python3"
  },
  "language_info": {
   "codemirror_mode": {
    "name": "ipython",
    "version": 3
   },
   "file_extension": ".py",
   "mimetype": "text/x-python",
   "name": "python",
   "nbconvert_exporter": "python",
   "pygments_lexer": "ipython3",
   "version": "3.8.8"
  }
 },
 "nbformat": 4,
 "nbformat_minor": 2
}
