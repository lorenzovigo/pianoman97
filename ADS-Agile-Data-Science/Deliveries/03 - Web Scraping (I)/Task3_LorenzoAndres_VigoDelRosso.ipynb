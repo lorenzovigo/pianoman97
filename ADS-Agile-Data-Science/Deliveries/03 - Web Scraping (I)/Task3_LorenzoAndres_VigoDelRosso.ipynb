{
 "cells": [
  {
   "cell_type": "markdown",
   "source": [
    "1- **API EXERCISE:** \r\n",
    "\r\n",
    "\r\n",
    "Browse the moviedb API https://developers.themoviedb.org/3/getting-started/introduction and find the top 5 (5 most average_vote) trending movies for the last week (iterate through all the pages).\r\n",
    "\r\n",
    "For each movie, create a dictionary with name, release date and average vote, put in a list and show it.\r\n",
    "\r\n",
    "Store it in a Collection called Movies in the ADS MongoDB cloud Database"
   ],
   "metadata": {}
  },
  {
   "cell_type": "code",
   "execution_count": 6,
   "source": [
    "from urllib.request import urlopen\r\n",
    "from tqdm import tqdm\r\n",
    "import json\r\n",
    "\r\n",
    "# We need to get our API Key from an external file.\r\n",
    "# ATTENTION: As requested in class, the api_key must be included in a file named 'api_key', not 'api_key.txt'.\r\n",
    "with open('api_key', 'r') as f:\r\n",
    "    api_key = f.read()\r\n",
    "f.closed\r\n",
    "\r\n",
    "# We carry out a first access to the Movie Database's Endpoint that gives us information on weekly trending movies to get the number of pages we should iterate through. \r\n",
    "source = urlopen('https://api.themoviedb.org/3/trending/movie/week?api_key=' + api_key + '&page=1')\r\n",
    "# We parse the content of the source with json (it converts it into a dict)\r\n",
    "json_obj = json.loads(source.read())\r\n",
    "\r\n",
    "# We define a list where we will keep all the movie-representing dicts. Now that we know the number of pages thanks to the previous request's result, we will iterate through all the pages to fetch the movies.\r\n",
    "movie_list = []\r\n",
    "# tqdm package allows us to show a very informative progress bar. First page is iterated again, which could be avoided, but it does not represent a big loss in efficiency.\r\n",
    "for i in tqdm(range(json_obj['total_pages']), desc = \"Fetching information from all pages\"):\r\n",
    "    source = urlopen('https://api.themoviedb.org/3/trending/movie/week?api_key=' + api_key + '&page=' + str(i + 1))\r\n",
    "    pageDict = json.loads(source.read())\r\n",
    "\r\n",
    "    # For each movie found in the current's page content, we create a dict and only add to it those properties we are interested in.\r\n",
    "    for movie in pageDict['results']:\r\n",
    "        movie_list.append({\r\n",
    "            'title' : movie.get('title'),\r\n",
    "            'vote_average' : movie.get('vote_average'),\r\n",
    "            'release_date' : movie.get('release_date')\r\n",
    "        })\r\n",
    "\r\n",
    "# Sort the list of movies found by average vote (descending)\r\n",
    "sorted_movie_list = sorted(movie_list, key=lambda k: k['vote_average'], reverse=True) \r\n",
    "# Keep only the top 5 movies and show it\r\n",
    "weekly_top_5_trending_movies = sorted_movie_list[0:5]\r\n",
    "print(weekly_top_5_trending_movies)"
   ],
   "outputs": [
    {
     "output_type": "stream",
     "name": "stderr",
     "text": [
      "Fetching information from all pages: 100%|██████████| 1000/1000 [03:39<00:00,  4.56it/s]"
     ]
    },
    {
     "output_type": "stream",
     "name": "stdout",
     "text": [
      "[{'title': 'My Name Is Pauli Murray', 'vote_average': 10.0, 'release_date': '2021-09-17'}, {'title': 'My Struggle', 'vote_average': 10.0, 'release_date': '2021-09-24'}, {'title': 'Paradox Lost', 'vote_average': 10.0, 'release_date': '2020-12-05'}, {'title': 'Under the Volcano', 'vote_average': 10.0, 'release_date': '2021-03-20'}, {'title': 'Miracle: Letters to the President', 'vote_average': 10.0, 'release_date': '2021-09-15'}]\n"
     ]
    },
    {
     "output_type": "stream",
     "name": "stderr",
     "text": [
      "\n"
     ]
    }
   ],
   "metadata": {}
  },
  {
   "cell_type": "code",
   "execution_count": 7,
   "source": [
    "# Requirement needed by some of us to connect to MongoDB correctly.\r\n",
    "!pip install certifi"
   ],
   "outputs": [
    {
     "output_type": "stream",
     "name": "stdout",
     "text": [
      "Requirement already satisfied: certifi in c:\\anaconda3\\lib\\site-packages (2020.12.5)\n"
     ]
    }
   ],
   "metadata": {}
  },
  {
   "cell_type": "code",
   "execution_count": 8,
   "source": [
    "# Method seen in class to connect to MongoDB\r\n",
    "# ATTENTION: Remember to add your current IP as valid IP access in your MongoDB network dashboard.\r\n",
    "import pymongo, certifi\r\n",
    "\r\n",
    "try:\r\n",
    "    #create a credentials.txt file in this folder:\r\n",
    "    #first line: Database username (not account username)\r\n",
    "    #second line: Database username password (not account password)\r\n",
    "    #third line: Databse url with port (you can find it in the cloud dashboard)\r\n",
    "    #fourth lin: Database name\r\n",
    "    if 'conn' in globals():\r\n",
    "        conn.close()\r\n",
    "        print(\"Closing\")\r\n",
    "    \r\n",
    "    with open(\"credentials.txt\", 'r') as f:\r\n",
    "        [name,password,url,dbname]=f.read().splitlines()\r\n",
    "    # Next line was changed in order to use certifi and connect correctly\r\n",
    "    conn=pymongo.MongoClient(\"mongodb+srv://{}:{}@{}\".format(name,password,url), tlsCAFile=certifi.where())\r\n",
    "    print (\"Connected successfully!!!\")\r\n",
    "    \r\n",
    "except pymongo.errors.ConnectionFailure as e:\r\n",
    "    print (\"Could not connect to MongoDB: %s\" % e) \r\n",
    "conn\r\n",
    "db = conn[dbname]\r\n",
    "db\r\n"
   ],
   "outputs": [
    {
     "output_type": "stream",
     "name": "stdout",
     "text": [
      "Closing\n",
      "Connected successfully!!!\n"
     ]
    },
    {
     "output_type": "execute_result",
     "data": {
      "text/plain": [
       "Database(MongoClient(host=['ads-shard-00-01.trb7f.mongodb.net:27017', 'ads-shard-00-02.trb7f.mongodb.net:27017', 'ads-shard-00-00.trb7f.mongodb.net:27017'], document_class=dict, tz_aware=False, connect=True, retrywrites=True, w='majority', authsource='admin', replicaset='atlas-r513ol-shard-0', ssl=True, ssl_ca_certs='C:\\\\anaconda3\\\\lib\\\\site-packages\\\\certifi\\\\cacert.pem'), 'ads')"
      ]
     },
     "metadata": {},
     "execution_count": 8
    }
   ],
   "metadata": {}
  },
  {
   "cell_type": "code",
   "execution_count": 9,
   "source": [
    "# We connect to the Movies collection (or create it if it does not exist)\r\n",
    "collection = db.Movies\r\n",
    "# Delete the previous results added in previous executions\r\n",
    "collection.delete_many({})\r\n",
    "# We add all the items (dicts) in the list to the collection\r\n",
    "collection.insert_many(weekly_top_5_trending_movies)\r\n"
   ],
   "outputs": [
    {
     "output_type": "execute_result",
     "data": {
      "text/plain": [
       "<pymongo.results.InsertManyResult at 0x1bc85951d40>"
      ]
     },
     "metadata": {},
     "execution_count": 9
    }
   ],
   "metadata": {}
  },
  {
   "cell_type": "code",
   "execution_count": 10,
   "source": [
    "# Check if items were added to the collection\r\n",
    "collection.find()\r\n",
    "[d for d in collection.find()] "
   ],
   "outputs": [
    {
     "output_type": "execute_result",
     "data": {
      "text/plain": [
       "[{'_id': ObjectId('615eebcb90fdd665b2c0e56f'),\n",
       "  'title': 'My Name Is Pauli Murray',\n",
       "  'vote_average': 10.0,\n",
       "  'release_date': '2021-09-17'},\n",
       " {'_id': ObjectId('615eebcb90fdd665b2c0e570'),\n",
       "  'title': 'My Struggle',\n",
       "  'vote_average': 10.0,\n",
       "  'release_date': '2021-09-24'},\n",
       " {'_id': ObjectId('615eebcb90fdd665b2c0e571'),\n",
       "  'title': 'Paradox Lost',\n",
       "  'vote_average': 10.0,\n",
       "  'release_date': '2020-12-05'},\n",
       " {'_id': ObjectId('615eebcb90fdd665b2c0e572'),\n",
       "  'title': 'Under the Volcano',\n",
       "  'vote_average': 10.0,\n",
       "  'release_date': '2021-03-20'},\n",
       " {'_id': ObjectId('615eebcb90fdd665b2c0e573'),\n",
       "  'title': 'Miracle: Letters to the President',\n",
       "  'vote_average': 10.0,\n",
       "  'release_date': '2021-09-15'}]"
      ]
     },
     "metadata": {},
     "execution_count": 10
    }
   ],
   "metadata": {}
  },
  {
   "cell_type": "code",
   "execution_count": null,
   "source": [],
   "outputs": [],
   "metadata": {}
  }
 ],
 "metadata": {
  "kernelspec": {
   "name": "python3",
   "display_name": "Python 3.8.8 64-bit ('base': conda)"
  },
  "language_info": {
   "codemirror_mode": {
    "name": "ipython",
    "version": 3
   },
   "file_extension": ".py",
   "mimetype": "text/x-python",
   "name": "python",
   "nbconvert_exporter": "python",
   "pygments_lexer": "ipython3",
   "version": "3.8.8"
  },
  "interpreter": {
   "hash": "cef9e06bb236b2a8629b07e87a04b187b952a0f661eff5533360a155783f0c33"
  }
 },
 "nbformat": 4,
 "nbformat_minor": 2
}