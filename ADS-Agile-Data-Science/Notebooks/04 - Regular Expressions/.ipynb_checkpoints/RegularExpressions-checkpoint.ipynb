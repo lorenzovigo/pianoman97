{
 "cells": [
  {
   "cell_type": "markdown",
   "metadata": {},
   "source": [
    "### A short practical introduction to RegEx"
   ]
  },
  {
   "cell_type": "markdown",
   "metadata": {},
   "source": [
    "The concept Regular Expression arose in the 1950s, when the American mathematician Stephen Kleene formalized the description of a regular language, and came into common use with the Unix text processing utilities ed, and grep (global regular expression print)\n",
    "\n",
    "A regular expression processor translates a regular expression into a nondeterministic finite automaton (NFA) (where several states can be the output of a given state and symbol), which is then made deterministic (only one possible state transition for a particular symbol) and run on the target text string to recognize substrings that match the regular expression.\n",
    "\n",
    "You write regular expressions (regex) to match patterns in strings. When you are processing text, you may want to extract a substring of some predictable structure: a phone number, an email address, or something more specific to your research or task. You may also want to clean your text of some kind of junk: maybe there are repetitive formatting errors due to some transcription process that you need to remove.\n",
    "\n",
    "In these cases and in many others like them, writing the right regex will be a good choice.\n",
    "\n",
    "[<img src=\"RE.png\">](https://xkcd.com/208/)\n",
    "\n",
    "\n"
   ]
  },
  {
   "cell_type": "markdown",
   "metadata": {},
   "source": [
    "<div class = \"alert alert-info\" style = \"border-radius:10px;border-width:3px;border-color:darkblue;font-family:Verdana,sans-serif;font-size:16px;\">\n",
    "<ul>\n",
    "    <li> Regular expressions are pattern matching rules. In essence everything is a character and the regular expression are a set of rules of the character patterns to seek.</li>\n",
    "    <li> If we provide a raw set of characters it will look for exact matches, e.g. 'aBc1' </li>\n",
    "</ul>\n",
    "</div>"
   ]
  },
  {
   "cell_type": "code",
   "execution_count": 2,
   "metadata": {
    "collapsed": false
   },
   "outputs": [
    {
     "name": "stdout",
     "output_type": "stream",
     "text": [
      "First match:abc\n"
     ]
    }
   ],
   "source": [
    "import re #the regex module in the python standard library\n",
    "\n",
    "#strings to be searched for matching regex patterns\n",
    "#Match the three strings\n",
    "ex1 = 'abc abcde abcdefg'\n",
    "pattern = 'abc'\n",
    "match = re.search(pattern,ex1)\n",
    "\n",
    "print (\"First match:\" + match.group())"
   ]
  },
  {
   "cell_type": "markdown",
   "metadata": {},
   "source": [
    "the `search` method returns an object SRE_Match if find some match for the given pattern, otherwise it returns None. The `group()` method in SRE_Match object returns the substring that matched the pattern defined.\n",
    "\n",
    "Note that since we are using re.search, only a single substrign is returned. That's because of the following:\n",
    "\n",
    "+ We only defined a single string pattern \n",
    "+ `re.search` finds the first possible match and then doesn't look for any more.\n",
    "\n",
    "If you want to find all possible matches in a string, you can use re.findall(), which will return a list of all strings that match:"
   ]
  },
  {
   "cell_type": "code",
   "execution_count": 3,
   "metadata": {
    "collapsed": false
   },
   "outputs": [
    {
     "name": "stdout",
     "output_type": "stream",
     "text": [
      "['abc', 'abc', 'abc']\n"
     ]
    }
   ],
   "source": [
    "print (re.findall(pattern,ex1))"
   ]
  },
  {
   "cell_type": "markdown",
   "metadata": {},
   "source": [
    "You can also compile your regex ahead of time. There are many performance reasons to do this. Additionally, you can create lists of these objects and iterate over both strings and patterns more easily, using `finditer` Here's an example:"
   ]
  },
  {
   "cell_type": "code",
   "execution_count": 4,
   "metadata": {
    "collapsed": false
   },
   "outputs": [
    {
     "name": "stdout",
     "output_type": "stream",
     "text": [
      "Searching r\"abc\" in abc123xyz define123 var g = 123\n",
      "00-03: abc\n",
      "Searching r\"123\" in abc123xyz define123 var g = 123\n",
      "03-06: 123\n",
      "Searching r\"123\" in abc123xyz define123 var g = 123\n",
      "16-19: 123\n",
      "Searching r\"123\" in abc123xyz define123 var g = 123\n",
      "28-31: 123\n",
      "Searching r\"abc\" in abc abcde abcdefg\n",
      "00-03: abc\n",
      "Searching r\"abc\" in abc abcde abcdefg\n",
      "04-07: abc\n",
      "Searching r\"abc\" in abc abcde abcdefg\n",
      "10-13: abc\n"
     ]
    }
   ],
   "source": [
    "strings = ['abc123xyz define123 var g = 123', \"abc abcde abcdefg\"]\n",
    "\n",
    "patterns = [re.compile('abc'), re.compile('123')]\n",
    "\n",
    "for string in strings:\n",
    "    for pattern in patterns:\n",
    "        for m in re.finditer(pattern, string):\n",
    "            print (\"Searching r\\\"\"+pattern.pattern+\"\\\" in \" + string)\n",
    "            print ('%02d-%02d: %s' % (m.start(), m.end(), m.group(0)))\n",
    "    "
   ]
  },
  {
   "cell_type": "markdown",
   "metadata": {},
   "source": [
    "<H3> Summary of terms for regular expressions </H3>\n",
    "<ul>\n",
    "     <p><strong>'[ ]'</strong> - one element inside has to match.</p>\n",
    "<p><strong>'|'</strong> - or element.</p>\n",
    "<p><strong>'( )'</strong> - all inside has to be matched.</p>\n",
    "<p><strong>'{ }'</strong> - to set an interval or number of times repetition.</p>\n",
    "<p><strong>'\\'</strong> - identify next character as a character and not regular expression symbol.</p>\n",
    "<p><strong>'.'(Dot.)</strong> - In the default mode, this matches any character except a newline. </p>\n",
    "<p><strong>'^'(Caret.)</strong> - Matches the start of the string, and in MULTILINE mode also matches immediately after each newline.</p>\n",
    "<p><strong>'$'</strong> - Matches the end of the string or just before the newline at the end of the string, and in MULTILINE mode also matches before a newline. </p>\n",
    "<p><strong>'\\*'</strong> - Causes the resulting RE to match 0 or more repetitions of the preceding RE, as many repetitions as are possible. ab* will match ‘a’ or ‘ab’ followed by any number of ‘b’s.</p>\n",
    "<p><strong>'+'</strong>- Causes the resulting RE to match 1 or more repetitions of the preceding RE. ab+ will match ‘a’ followed by any non-zero number of ‘b’s; it will not match just ‘a’.</p>\n",
    "<p><strong>'?'</strong> - Causes the resulting RE to match 0 or 1 repetitions of the preceding RE. ab? will match either ‘a’ or ‘ab’.</p>\n",
    "\n",
    "***?, +?, ??** - The **'*'**, **'+'**, and **'?'** qualifiers are all greedy; they match as much text as possible. Sometimes this behaviour isn’t desired; if the RE `<.*>` is matched against `<a>` b `<c>`, it will match the entire string, and not just `<a>`. Adding ? after the qualifier makes it perform the match in non-greedy or minimal fashion; as few characters as possible will be matched. Using the RE `<.*?>` will match only `<a>`.\n",
    "\n",
    "**\\d** - Matches any decimal digit; this is equivalent to the class [0-9].\n",
    "\n",
    "**\\D** - Matches any non-digit character; this is equivalent to the class [^0-9].\n",
    "\n",
    "**\\s** - Matches any whitespace character; this is equivalent to the class [ \\t\\n\\r\\f\\v].\n",
    "\n",
    "**\\S** - Matches any non-whitespace character; this is equivalent to the class [^ \\t\\n\\r\\f\\v]\n",
    "\n",
    "**\\w** - Matches any alphanumeric character; this is equivalent to the class [a-zA-Z0-9_].\n",
    "\n",
    "**\\W** - Matches any non-alphanumeric character; this is equivalent to the class [^a-zA-Z0-9_].\n",
    "\n",
    "**\\b** - Matches the boundary (white spaces) between a word character and a non-word character.\n",
    "\n",
    "<p>For more comprehesive and complete documentation with (?...) extensions, ref: <a href=\"http://docs.python.org/2/library/re.html#resyntax\">http://docs.python.org/2/library/re.html#re-syntax</a>\n"
   ]
  },
  {
   "cell_type": "code",
   "execution_count": 5,
   "metadata": {
    "collapsed": false
   },
   "outputs": [
    {
     "name": "stdout",
     "output_type": "stream",
     "text": [
      "07-16: carefully\n",
      "40-47: quickly\n"
     ]
    }
   ],
   "source": [
    "#Find all adverbs (words ended by ly)\n",
    "import re\n",
    "text = \"He was carefully disguised but captured quickly by police ly.\"\n",
    "for m in re.finditer(r\"\\w+ly\", text):\n",
    "    print ('%02d-%02d: %s' % (m.start(), m.end(), m.group(0)))"
   ]
  },
  {
   "cell_type": "markdown",
   "metadata": {},
   "source": [
    "\n",
    "<ul>\n",
    "     <li>Optional values can be given by the question mark sign. The preceding character will be optional, e.g. cats? stands for cat and cats.</li>\n",
    "     <li>Another way of checking for specific options is to use square brackets. For example *[abc]* will match only a, b, or c.</li>\n",
    "     <li>We can negate a set in square brackets *[^abc]*</li>\n",
    "     <li>We can select ranges, such as *[a-z]*, *[A-Z]* or *[0-9]*</li>\n",
    "</ul>\n"
   ]
  },
  {
   "cell_type": "code",
   "execution_count": 6,
   "metadata": {
    "collapsed": false
   },
   "outputs": [
    {
     "name": "stdout",
     "output_type": "stream",
     "text": [
      "00-22: file_a_record_file.pdf\n",
      "23-41: file_yesterday.pdf\n"
     ]
    }
   ],
   "source": [
    "#Find files starting with \"file\" and finishing with .pdf\n",
    "#All of them start with file, thus it is a boundary, \n",
    "#then any amount of arbirtary characters and finally it will end with .pdf\n",
    "import re\n",
    "text = 'file_a_record_file.pdf file_yesterday.pdf test_file_fake.pdf.tmp' \n",
    "for m in re.finditer(r\"\\bfile\\w*\\.pdf\", text):\n",
    "    print ('%02d-%02d: %s' % (m.start(), m.end(), m.group(0)))"
   ]
  },
  {
   "cell_type": "markdown",
   "metadata": {},
   "source": [
    "\n",
    "<ul>\n",
    "     <li>Another interesting feature is capturing. In parenthesis we can define the group or set of data we want to return. In python we can access these data by indexing the match. At the first position we will get the first capture, in the second position the nested capture or group, etc.</li>\n",
    "</ul>\n",
    "</div>"
   ]
  },
  {
   "cell_type": "code",
   "execution_count": 7,
   "metadata": {
    "collapsed": false
   },
   "outputs": [
    {
     "name": "stdout",
     "output_type": "stream",
     "text": [
      "15-42: Masters of Ba Gua Zhang    \n",
      "00-42:                Masters of Ba Gua Zhang    \n"
     ]
    }
   ],
   "source": [
    "#Trim starting and ending spaces\n",
    "\n",
    "text = \"               Masters of Ba Gua Zhang    \"\n",
    "\n",
    "for m in re.finditer(r\"\\s*(.+)\\s*\", text):\n",
    "    print ('%02d-%02d: %s' % (m.start(1), m.end(1), m.group(1)))\n",
    "    print ('%02d-%02d: %s' % (m.start(0), m.end(0), m.group(0)))\n",
    "#Note that we use group(1), group(0) is the complete match without capture"
   ]
  },
  {
   "cell_type": "markdown",
   "metadata": {},
   "source": [
    "Check what happens if we change index 1 for index 0 in the former example."
   ]
  },
  {
   "cell_type": "code",
   "execution_count": 8,
   "metadata": {
    "collapsed": false
   },
   "outputs": [
    {
     "name": "stdout",
     "output_type": "stream",
     "text": [
      "00-42:                Masters of Ba Gua Zhang    \n"
     ]
    }
   ],
   "source": [
    "#Trim starting and ending spaces\n",
    "\n",
    "text = \"               Masters of Ba Gua Zhang    \"\n",
    "\n",
    "for m in re.finditer(r\"\\s*(.+)\\s*\", text):\n",
    "    print ('%02d-%02d: %s' % (m.start(0), m.end(0), m.group(0)))\n",
    "#Note that we use group(1), group(0) is the complete match without capture"
   ]
  },
  {
   "cell_type": "code",
   "execution_count": 9,
   "metadata": {
    "collapsed": false
   },
   "outputs": [
    {
     "name": "stdout",
     "output_type": "stream",
     "text": [
      "['3.1452', '-255.34', '128', '1.9e10', '12,334.00']\n"
     ]
    }
   ],
   "source": [
    "#Match any number \n",
    "numbers = '3.1452 -255.34 128 1.9e10 12,334.00 720p'\n",
    "\n",
    "\n",
    "print (re.findall(r\"-?\\d+[\\.,]?\\d*[\\.e]?\\d*\\b\", numbers))"
   ]
  },
  {
   "cell_type": "markdown",
   "metadata": {},
   "source": [
    "### Regular Expressions in an html page\n",
    "\n",
    "Find all the links in web site:"
   ]
  },
  {
   "cell_type": "code",
   "execution_count": 10,
   "metadata": {
    "collapsed": false
   },
   "outputs": [
    {
     "name": "stdout",
     "output_type": "stream",
     "text": [
      "760-834: http://maxcdn.bootstrapcdn.com/font-awesome/4.3.0/css/font-awesome.min.css\n",
      "870-891: css/themify-icons.css\n",
      "927-995: http://maxcdn.bootstrapcdn.com/bootstrap/3.3.2/css/bootstrap.min.css\n",
      "1108-1195: http://fonts.googleapis.com/css?family=Roboto+Condensed:300,700%7COpen+Sans:300,400,700\n",
      "1260-1281: css/style.default.css\n",
      "2044-2050: #intro\n",
      "2413-2421: #contact\n",
      "3035-3042: master/\n",
      "3369-3374: deep/\n",
      "3668-3680: postgraduate\n",
      "6959-7000: http://bootstrapious.com/portfolio-themes\n"
     ]
    }
   ],
   "source": [
    "html = open(\"Data Science - Universitat de Barcelona.htm\").read()\n",
    "\n",
    "for m in re.finditer(r\"href=\\\"(\\S+)\\\"\", html):\n",
    "    print ('%02d-%02d: %s' % (m.start(1), m.end(1), m.group(1)))"
   ]
  },
  {
   "cell_type": "markdown",
   "metadata": {},
   "source": [
    "### Regular Expressions in PANDAS\n",
    "\n",
    "You can use Regular Expressions for working in text data inside a Series, that make it easy to operate on each element of the array. These methods exclude missing/NA values automatically. These are accessed via the `str` attribute"
   ]
  },
  {
   "cell_type": "code",
   "execution_count": 11,
   "metadata": {
    "collapsed": false
   },
   "outputs": [
    {
     "data": {
      "text/html": [
       "<div>\n",
       "<style>\n",
       "    .dataframe thead tr:only-child th {\n",
       "        text-align: right;\n",
       "    }\n",
       "\n",
       "    .dataframe thead th {\n",
       "        text-align: left;\n",
       "    }\n",
       "\n",
       "    .dataframe tbody tr th {\n",
       "        vertical-align: top;\n",
       "    }\n",
       "</style>\n",
       "<table border=\"1\" class=\"dataframe\">\n",
       "  <thead>\n",
       "    <tr style=\"text-align: right;\">\n",
       "      <th></th>\n",
       "      <th>TIME</th>\n",
       "      <th>GEO</th>\n",
       "      <th>INDIC_ED</th>\n",
       "      <th>Value</th>\n",
       "      <th>Flag and Footnotes</th>\n",
       "    </tr>\n",
       "  </thead>\n",
       "  <tbody>\n",
       "    <tr>\n",
       "      <th>0</th>\n",
       "      <td>2000</td>\n",
       "      <td>European Union (28 countries)</td>\n",
       "      <td>Total public expenditure on education as % of ...</td>\n",
       "      <td>NaN</td>\n",
       "      <td>NaN</td>\n",
       "    </tr>\n",
       "    <tr>\n",
       "      <th>1</th>\n",
       "      <td>2001</td>\n",
       "      <td>European Union (28 countries)</td>\n",
       "      <td>Total public expenditure on education as % of ...</td>\n",
       "      <td>NaN</td>\n",
       "      <td>NaN</td>\n",
       "    </tr>\n",
       "    <tr>\n",
       "      <th>2</th>\n",
       "      <td>2002</td>\n",
       "      <td>European Union (28 countries)</td>\n",
       "      <td>Total public expenditure on education as % of ...</td>\n",
       "      <td>5.00</td>\n",
       "      <td>e</td>\n",
       "    </tr>\n",
       "    <tr>\n",
       "      <th>3</th>\n",
       "      <td>2003</td>\n",
       "      <td>European Union (28 countries)</td>\n",
       "      <td>Total public expenditure on education as % of ...</td>\n",
       "      <td>5.03</td>\n",
       "      <td>e</td>\n",
       "    </tr>\n",
       "    <tr>\n",
       "      <th>4</th>\n",
       "      <td>2004</td>\n",
       "      <td>European Union (28 countries)</td>\n",
       "      <td>Total public expenditure on education as % of ...</td>\n",
       "      <td>4.95</td>\n",
       "      <td>e</td>\n",
       "    </tr>\n",
       "  </tbody>\n",
       "</table>\n",
       "</div>"
      ],
      "text/plain": [
       "   TIME                            GEO  \\\n",
       "0  2000  European Union (28 countries)   \n",
       "1  2001  European Union (28 countries)   \n",
       "2  2002  European Union (28 countries)   \n",
       "3  2003  European Union (28 countries)   \n",
       "4  2004  European Union (28 countries)   \n",
       "\n",
       "                                            INDIC_ED  Value Flag and Footnotes  \n",
       "0  Total public expenditure on education as % of ...    NaN                NaN  \n",
       "1  Total public expenditure on education as % of ...    NaN                NaN  \n",
       "2  Total public expenditure on education as % of ...   5.00                  e  \n",
       "3  Total public expenditure on education as % of ...   5.03                  e  \n",
       "4  Total public expenditure on education as % of ...   4.95                  e  "
      ]
     },
     "execution_count": 11,
     "metadata": {},
     "output_type": "execute_result"
    }
   ],
   "source": [
    "import pandas as pd\n",
    "df = pd.read_csv('./educ_figdp_1_Data.csv',na_values=':')\n",
    "df.head(5)"
   ]
  },
  {
   "cell_type": "code",
   "execution_count": 12,
   "metadata": {
    "collapsed": false
   },
   "outputs": [
    {
     "data": {
      "text/plain": [
       "0     28 countries\n",
       "1     28 countries\n",
       "2     28 countries\n",
       "3     28 countries\n",
       "4     28 countries\n",
       "5     28 countries\n",
       "6     28 countries\n",
       "7     28 countries\n",
       "8     28 countries\n",
       "9     28 countries\n",
       "10    28 countries\n",
       "11    28 countries\n",
       "12    27 countries\n",
       "13    27 countries\n",
       "14    27 countries\n",
       "15    27 countries\n",
       "16    27 countries\n",
       "17    27 countries\n",
       "18    27 countries\n",
       "19    27 countries\n",
       "20    27 countries\n",
       "21    27 countries\n",
       "22    27 countries\n",
       "23    27 countries\n",
       "24    25 countries\n",
       "25    25 countries\n",
       "26    25 countries\n",
       "27    25 countries\n",
       "28    25 countries\n",
       "29    25 countries\n",
       "          ...     \n",
       "54    17 countries\n",
       "55    17 countries\n",
       "56    17 countries\n",
       "57    17 countries\n",
       "58    17 countries\n",
       "59    17 countries\n",
       "60    15 countries\n",
       "61    15 countries\n",
       "62    15 countries\n",
       "63    15 countries\n",
       "64    15 countries\n",
       "65    15 countries\n",
       "66    15 countries\n",
       "67    15 countries\n",
       "68    15 countries\n",
       "69    15 countries\n",
       "70    15 countries\n",
       "71    15 countries\n",
       "72    13 countries\n",
       "73    13 countries\n",
       "74    13 countries\n",
       "75    13 countries\n",
       "76    13 countries\n",
       "77    13 countries\n",
       "78    13 countries\n",
       "79    13 countries\n",
       "80    13 countries\n",
       "81    13 countries\n",
       "82    13 countries\n",
       "83    13 countries\n",
       "Name: European_Union, Length: 84, dtype: object"
      ]
     },
     "execution_count": 12,
     "metadata": {},
     "output_type": "execute_result"
    }
   ],
   "source": [
    "pattern = \"\\((?P<European_Union>\\d+ countries)\\)\" # A group can be named using ?P<nom of group>\n",
    "s = df[\"GEO\"].str.extract(pattern, expand= False) # Returns a Serie.\n",
    "s.dropna()"
   ]
  },
  {
   "cell_type": "code",
   "execution_count": 13,
   "metadata": {
    "collapsed": false
   },
   "outputs": [
    {
     "data": {
      "text/html": [
       "<div>\n",
       "<style>\n",
       "    .dataframe thead tr:only-child th {\n",
       "        text-align: right;\n",
       "    }\n",
       "\n",
       "    .dataframe thead th {\n",
       "        text-align: left;\n",
       "    }\n",
       "\n",
       "    .dataframe tbody tr th {\n",
       "        vertical-align: top;\n",
       "    }\n",
       "</style>\n",
       "<table border=\"1\" class=\"dataframe\">\n",
       "  <thead>\n",
       "    <tr style=\"text-align: right;\">\n",
       "      <th></th>\n",
       "      <th>European_Union</th>\n",
       "    </tr>\n",
       "  </thead>\n",
       "  <tbody>\n",
       "    <tr>\n",
       "      <th>0</th>\n",
       "      <td>28 countries</td>\n",
       "    </tr>\n",
       "    <tr>\n",
       "      <th>1</th>\n",
       "      <td>28 countries</td>\n",
       "    </tr>\n",
       "    <tr>\n",
       "      <th>2</th>\n",
       "      <td>28 countries</td>\n",
       "    </tr>\n",
       "    <tr>\n",
       "      <th>3</th>\n",
       "      <td>28 countries</td>\n",
       "    </tr>\n",
       "    <tr>\n",
       "      <th>4</th>\n",
       "      <td>28 countries</td>\n",
       "    </tr>\n",
       "    <tr>\n",
       "      <th>5</th>\n",
       "      <td>28 countries</td>\n",
       "    </tr>\n",
       "    <tr>\n",
       "      <th>6</th>\n",
       "      <td>28 countries</td>\n",
       "    </tr>\n",
       "    <tr>\n",
       "      <th>7</th>\n",
       "      <td>28 countries</td>\n",
       "    </tr>\n",
       "    <tr>\n",
       "      <th>8</th>\n",
       "      <td>28 countries</td>\n",
       "    </tr>\n",
       "    <tr>\n",
       "      <th>9</th>\n",
       "      <td>28 countries</td>\n",
       "    </tr>\n",
       "    <tr>\n",
       "      <th>10</th>\n",
       "      <td>28 countries</td>\n",
       "    </tr>\n",
       "    <tr>\n",
       "      <th>11</th>\n",
       "      <td>28 countries</td>\n",
       "    </tr>\n",
       "    <tr>\n",
       "      <th>12</th>\n",
       "      <td>27 countries</td>\n",
       "    </tr>\n",
       "    <tr>\n",
       "      <th>13</th>\n",
       "      <td>27 countries</td>\n",
       "    </tr>\n",
       "    <tr>\n",
       "      <th>14</th>\n",
       "      <td>27 countries</td>\n",
       "    </tr>\n",
       "    <tr>\n",
       "      <th>15</th>\n",
       "      <td>27 countries</td>\n",
       "    </tr>\n",
       "    <tr>\n",
       "      <th>16</th>\n",
       "      <td>27 countries</td>\n",
       "    </tr>\n",
       "    <tr>\n",
       "      <th>17</th>\n",
       "      <td>27 countries</td>\n",
       "    </tr>\n",
       "    <tr>\n",
       "      <th>18</th>\n",
       "      <td>27 countries</td>\n",
       "    </tr>\n",
       "    <tr>\n",
       "      <th>19</th>\n",
       "      <td>27 countries</td>\n",
       "    </tr>\n",
       "    <tr>\n",
       "      <th>20</th>\n",
       "      <td>27 countries</td>\n",
       "    </tr>\n",
       "    <tr>\n",
       "      <th>21</th>\n",
       "      <td>27 countries</td>\n",
       "    </tr>\n",
       "    <tr>\n",
       "      <th>22</th>\n",
       "      <td>27 countries</td>\n",
       "    </tr>\n",
       "    <tr>\n",
       "      <th>23</th>\n",
       "      <td>27 countries</td>\n",
       "    </tr>\n",
       "    <tr>\n",
       "      <th>24</th>\n",
       "      <td>25 countries</td>\n",
       "    </tr>\n",
       "    <tr>\n",
       "      <th>25</th>\n",
       "      <td>25 countries</td>\n",
       "    </tr>\n",
       "    <tr>\n",
       "      <th>26</th>\n",
       "      <td>25 countries</td>\n",
       "    </tr>\n",
       "    <tr>\n",
       "      <th>27</th>\n",
       "      <td>25 countries</td>\n",
       "    </tr>\n",
       "    <tr>\n",
       "      <th>28</th>\n",
       "      <td>25 countries</td>\n",
       "    </tr>\n",
       "    <tr>\n",
       "      <th>29</th>\n",
       "      <td>25 countries</td>\n",
       "    </tr>\n",
       "    <tr>\n",
       "      <th>...</th>\n",
       "      <td>...</td>\n",
       "    </tr>\n",
       "    <tr>\n",
       "      <th>354</th>\n",
       "      <td>NaN</td>\n",
       "    </tr>\n",
       "    <tr>\n",
       "      <th>355</th>\n",
       "      <td>NaN</td>\n",
       "    </tr>\n",
       "    <tr>\n",
       "      <th>356</th>\n",
       "      <td>NaN</td>\n",
       "    </tr>\n",
       "    <tr>\n",
       "      <th>357</th>\n",
       "      <td>NaN</td>\n",
       "    </tr>\n",
       "    <tr>\n",
       "      <th>358</th>\n",
       "      <td>NaN</td>\n",
       "    </tr>\n",
       "    <tr>\n",
       "      <th>359</th>\n",
       "      <td>NaN</td>\n",
       "    </tr>\n",
       "    <tr>\n",
       "      <th>360</th>\n",
       "      <td>NaN</td>\n",
       "    </tr>\n",
       "    <tr>\n",
       "      <th>361</th>\n",
       "      <td>NaN</td>\n",
       "    </tr>\n",
       "    <tr>\n",
       "      <th>362</th>\n",
       "      <td>NaN</td>\n",
       "    </tr>\n",
       "    <tr>\n",
       "      <th>363</th>\n",
       "      <td>NaN</td>\n",
       "    </tr>\n",
       "    <tr>\n",
       "      <th>364</th>\n",
       "      <td>NaN</td>\n",
       "    </tr>\n",
       "    <tr>\n",
       "      <th>365</th>\n",
       "      <td>NaN</td>\n",
       "    </tr>\n",
       "    <tr>\n",
       "      <th>366</th>\n",
       "      <td>NaN</td>\n",
       "    </tr>\n",
       "    <tr>\n",
       "      <th>367</th>\n",
       "      <td>NaN</td>\n",
       "    </tr>\n",
       "    <tr>\n",
       "      <th>368</th>\n",
       "      <td>NaN</td>\n",
       "    </tr>\n",
       "    <tr>\n",
       "      <th>369</th>\n",
       "      <td>NaN</td>\n",
       "    </tr>\n",
       "    <tr>\n",
       "      <th>370</th>\n",
       "      <td>NaN</td>\n",
       "    </tr>\n",
       "    <tr>\n",
       "      <th>371</th>\n",
       "      <td>NaN</td>\n",
       "    </tr>\n",
       "    <tr>\n",
       "      <th>372</th>\n",
       "      <td>NaN</td>\n",
       "    </tr>\n",
       "    <tr>\n",
       "      <th>373</th>\n",
       "      <td>NaN</td>\n",
       "    </tr>\n",
       "    <tr>\n",
       "      <th>374</th>\n",
       "      <td>NaN</td>\n",
       "    </tr>\n",
       "    <tr>\n",
       "      <th>375</th>\n",
       "      <td>NaN</td>\n",
       "    </tr>\n",
       "    <tr>\n",
       "      <th>376</th>\n",
       "      <td>NaN</td>\n",
       "    </tr>\n",
       "    <tr>\n",
       "      <th>377</th>\n",
       "      <td>NaN</td>\n",
       "    </tr>\n",
       "    <tr>\n",
       "      <th>378</th>\n",
       "      <td>NaN</td>\n",
       "    </tr>\n",
       "    <tr>\n",
       "      <th>379</th>\n",
       "      <td>NaN</td>\n",
       "    </tr>\n",
       "    <tr>\n",
       "      <th>380</th>\n",
       "      <td>NaN</td>\n",
       "    </tr>\n",
       "    <tr>\n",
       "      <th>381</th>\n",
       "      <td>NaN</td>\n",
       "    </tr>\n",
       "    <tr>\n",
       "      <th>382</th>\n",
       "      <td>NaN</td>\n",
       "    </tr>\n",
       "    <tr>\n",
       "      <th>383</th>\n",
       "      <td>NaN</td>\n",
       "    </tr>\n",
       "  </tbody>\n",
       "</table>\n",
       "<p>384 rows × 1 columns</p>\n",
       "</div>"
      ],
      "text/plain": [
       "    European_Union\n",
       "0     28 countries\n",
       "1     28 countries\n",
       "2     28 countries\n",
       "3     28 countries\n",
       "4     28 countries\n",
       "5     28 countries\n",
       "6     28 countries\n",
       "7     28 countries\n",
       "8     28 countries\n",
       "9     28 countries\n",
       "10    28 countries\n",
       "11    28 countries\n",
       "12    27 countries\n",
       "13    27 countries\n",
       "14    27 countries\n",
       "15    27 countries\n",
       "16    27 countries\n",
       "17    27 countries\n",
       "18    27 countries\n",
       "19    27 countries\n",
       "20    27 countries\n",
       "21    27 countries\n",
       "22    27 countries\n",
       "23    27 countries\n",
       "24    25 countries\n",
       "25    25 countries\n",
       "26    25 countries\n",
       "27    25 countries\n",
       "28    25 countries\n",
       "29    25 countries\n",
       "..             ...\n",
       "354            NaN\n",
       "355            NaN\n",
       "356            NaN\n",
       "357            NaN\n",
       "358            NaN\n",
       "359            NaN\n",
       "360            NaN\n",
       "361            NaN\n",
       "362            NaN\n",
       "363            NaN\n",
       "364            NaN\n",
       "365            NaN\n",
       "366            NaN\n",
       "367            NaN\n",
       "368            NaN\n",
       "369            NaN\n",
       "370            NaN\n",
       "371            NaN\n",
       "372            NaN\n",
       "373            NaN\n",
       "374            NaN\n",
       "375            NaN\n",
       "376            NaN\n",
       "377            NaN\n",
       "378            NaN\n",
       "379            NaN\n",
       "380            NaN\n",
       "381            NaN\n",
       "382            NaN\n",
       "383            NaN\n",
       "\n",
       "[384 rows x 1 columns]"
      ]
     },
     "execution_count": 13,
     "metadata": {},
     "output_type": "execute_result"
    }
   ],
   "source": [
    "df[\"GEO\"].str.extract(pattern, expand= True) #returns a Dataframe "
   ]
  },
  {
   "cell_type": "markdown",
   "metadata": {},
   "source": [
    "### Regular expresions Methods for `str`\n",
    "+ `findall()`\tCompute list of all occurrences of pattern/regex for each string\n",
    "+ `match()`\tCall re.match on each element, returning matched groups as list\n",
    "+ `extract()`\tCall re.search on each element, returning DataFrame with one row for each element and one column for each regex capture group\n",
    "+ `extractall()` Call re.findall on each element, returning DataFrame with one row for each match and one column for each regex capture group"
   ]
  },
  {
   "cell_type": "markdown",
   "metadata": {},
   "source": [
    "### Cheching matches\n",
    "\n",
    "If we don't want to return the substring, instead we want just to check if a string matchs a pattern, we can use the `re.match` function and check if it is None or not:\n",
    "\n",
    "For example, if we want to check if a string is a well formed URL:"
   ]
  },
  {
   "cell_type": "code",
   "execution_count": 14,
   "metadata": {
    "collapsed": false
   },
   "outputs": [
    {
     "name": "stdout",
     "output_type": "stream",
     "text": [
      "https://github.com is a True URL\n",
      "http://github.com is a True URL\n",
      "www.github.com is a True URL\n",
      "https://www.github.com/rasbt is a True URL\n",
      "//testmail.com is a False URL\n",
      "http:testmailcom is a False URL\n"
     ]
    }
   ],
   "source": [
    "import re\n",
    "pattern = '^((https?:\\/\\/)|www\\.)([\\da-z\\.-]+)\\.([\\/\\w\\.-]*)$'\n",
    "\n",
    "str_true = ('https://github.com', \n",
    "            'http://github.com',\n",
    "            'www.github.com',\n",
    "            'https://www.github.com/rasbt'\n",
    "            )\n",
    "            \n",
    "str_false = ('//testmail.com', 'http:testmailcom', )\n",
    "\n",
    "strings = str_true + str_false\n",
    "\n",
    "for t in strings:\n",
    "    f = bool(re.match(pattern, t))\n",
    "    print ('%s is a %s URL' % (t,f))"
   ]
  },
  {
   "cell_type": "markdown",
   "metadata": {},
   "source": [
    "# Exercices"
   ]
  },
  {
   "cell_type": "markdown",
   "metadata": {},
   "source": [
    "* A regular expression that check most email addresses:"
   ]
  },
  {
   "cell_type": "code",
   "execution_count": null,
   "metadata": {
    "collapsed": false
   },
   "outputs": [],
   "source": [
    "import re\n",
    "pattern = r\"\"\n",
    "\n",
    "str_true = ('l-l.l@mail.Aom',)\n",
    "            \n",
    "str_false = ('testmail.com','test@mail.com.', '@testmail.com', 'test@mailcom')\n",
    "\n",
    "strings = str_true + str_false\n",
    "for t in strings:\n",
    "    f = bool(re.match(pattern, t))\n",
    "    print ('%s is a %s mail address' % (t,f))"
   ]
  },
  {
   "cell_type": "markdown",
   "metadata": {},
   "source": [
    "Validates dates in mm/dd/yyyy format. "
   ]
  },
  {
   "cell_type": "code",
   "execution_count": null,
   "metadata": {
    "collapsed": false
   },
   "outputs": [],
   "source": [
    "import re\n",
    "pattern = r\"\"\n",
    "str_true = ('01/08/2014', '12/30/2014', )\n",
    "            \n",
    "str_false = ('22/08/2014', '-123', '1/8/2014', '1/08/2014', '01/8/2014')\n",
    "\n",
    "strings = str_true + str_false\n",
    "for t in strings:\n",
    "    f = bool(re.match(pattern, t))\n",
    "    print ('%s is a %s data format' % (t,f))"
   ]
  },
  {
   "cell_type": "markdown",
   "metadata": {},
   "source": [
    "* 12-Hour format"
   ]
  },
  {
   "cell_type": "code",
   "execution_count": null,
   "metadata": {
    "collapsed": false
   },
   "outputs": [],
   "source": [
    "import re\n",
    "pattern = r''\n",
    "str_true = ('2:00pm', '7:30 AM', '12:05 am', )\n",
    "            \n",
    "str_false = ('22:00pm', '14:00', '3:12', '03:12pm', )\n",
    "strings = str_true + str_false\n",
    "for t in strings:\n",
    "    f = bool(re.match(pattern, t))\n",
    "    print ('%s is a %s 12-hour format' % (t,f))"
   ]
  },
  {
   "cell_type": "markdown",
   "metadata": {},
   "source": [
    "* Checking for HTML/XML, etc. tags (a very simple approach)"
   ]
  },
  {
   "cell_type": "code",
   "execution_count": null,
   "metadata": {
    "collapsed": false
   },
   "outputs": [],
   "source": [
    "import re\n",
    "pattern = r\"\"\n",
    "str_true = ('<a>', '<a href=\"somethinG\">', '</a>', '<img src>')\n",
    "            \n",
    "str_false = ('a>', '<a ', '< a >')\n",
    "strings = str_true + str_false\n",
    "for t in strings:\n",
    "    f = bool(re.match(pattern, t))\n",
    "    print ('%s is a %s HTML/XML file' % (t,f))"
   ]
  }
 ],
 "metadata": {
  "kernelspec": {
   "display_name": "Python 3",
   "language": "python",
   "name": "python3"
  },
  "language_info": {
   "codemirror_mode": {
    "name": "ipython",
    "version": 3
   },
   "file_extension": ".py",
   "mimetype": "text/x-python",
   "name": "python",
   "nbconvert_exporter": "python",
   "pygments_lexer": "ipython3",
   "version": "3.5.1"
  }
 },
 "nbformat": 4,
 "nbformat_minor": 0
}
