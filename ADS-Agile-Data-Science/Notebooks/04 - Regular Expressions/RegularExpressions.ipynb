{
 "cells": [
  {
   "cell_type": "markdown",
   "source": [
    "### A short practical introduction to RegEx"
   ],
   "metadata": {}
  },
  {
   "cell_type": "markdown",
   "source": [
    "The concept Regular Expression arose in the 1950s, when the American mathematician Stephen Kleene formalized the description of a regular language, and came into common use with the Unix text processing utilities ed, and grep (global regular expression print)\n",
    "\n",
    "A regular expression processor translates a regular expression into a nondeterministic finite automaton (NFA) (where several states can be the output of a given state and symbol), which is then made deterministic (only one possible state transition for a particular symbol) and run on the target text string to recognize substrings that match the regular expression.\n",
    "\n",
    "You write regular expressions (regex) to match patterns in strings. When you are processing text, you may want to extract a substring of some predictable structure: a phone number, an email address, or something more specific to your research or task. You may also want to clean your text of some kind of junk: maybe there are repetitive formatting errors due to some transcription process that you need to remove.\n",
    "\n",
    "In these cases and in many others like them, writing the right regex will be a good choice.\n",
    "\n",
    "[<img src=\"RE.png\">](https://xkcd.com/208/)\n",
    "\n",
    "\n"
   ],
   "metadata": {}
  },
  {
   "cell_type": "markdown",
   "source": [
    "<div class = \"alert alert-info\" style = \"border-radius:10px;border-width:3px;border-color:darkblue;font-family:Verdana,sans-serif;font-size:16px;\">\n",
    "<ul>\n",
    "    <li> Regular expressions are pattern matching rules. In essence everything is a character and the regular expression are a set of rules of the character patterns to seek.</li>\n",
    "    <li> If we provide a raw set of characters it will look for exact matches, e.g. 'aBc1' </li>\n",
    "</ul>\n",
    "</div>"
   ],
   "metadata": {}
  },
  {
   "cell_type": "code",
   "execution_count": 12,
   "source": [
    "import re #the regex module in the python standard library\r\n",
    "\r\n",
    "#strings to be searched for matching regex patterns\r\n",
    "#Match the three strings\r\n",
    "ex1 = 'abc abcde abcdefg'\r\n",
    "pattern = 'abc'\r\n",
    "match = re.search(pattern,ex1)\r\n",
    "\r\n",
    "print (\"First match:\" + match.group())"
   ],
   "outputs": [
    {
     "output_type": "stream",
     "name": "stdout",
     "text": [
      "First match:abc\n"
     ]
    }
   ],
   "metadata": {
    "collapsed": false
   }
  },
  {
   "cell_type": "markdown",
   "source": [
    "the `search` method returns an object SRE_Match if find some match for the given pattern, otherwise it returns None. The `group()` method in SRE_Match object returns the substring that matched the pattern defined.\n",
    "\n",
    "Note that since we are using re.search, only a single substrign is returned. That's because of the following:\n",
    "\n",
    "+ We only defined a single string pattern \n",
    "+ `re.search` finds the first possible match and then doesn't look for any more.\n",
    "\n",
    "If you want to find all possible matches in a string, you can use re.findall(), which will return a list of all strings that match:"
   ],
   "metadata": {}
  },
  {
   "cell_type": "code",
   "execution_count": 13,
   "source": [
    "print (re.findall(pattern,ex1))"
   ],
   "outputs": [
    {
     "output_type": "stream",
     "name": "stdout",
     "text": [
      "['abc', 'abc', 'abc']\n"
     ]
    }
   ],
   "metadata": {
    "collapsed": false
   }
  },
  {
   "cell_type": "markdown",
   "source": [
    "You can also compile your regex ahead of time. There are many performance reasons to do this. Additionally, you can create lists of these objects and iterate over both strings and patterns more easily, using `finditer` Here's an example:"
   ],
   "metadata": {}
  },
  {
   "cell_type": "code",
   "execution_count": 14,
   "source": [
    "strings = ['abc123xyz define123 var g = 123', \"abc abcde abcdefg\"]\r\n",
    "\r\n",
    "patterns = [re.compile('abc'), re.compile('123')]\r\n",
    "\r\n",
    "for string in strings:\r\n",
    "    for pattern in patterns:\r\n",
    "        for m in re.finditer(pattern, string): # This is a find all but iterated, if you ever want to do anything after each match\r\n",
    "            print (\"Searching r\\\"\"+pattern.pattern+\"\\\" in \" + string)\r\n",
    "            print ('%02d-%02d: %s' % (m.start(), m.end(), m.group(0)))\r\n",
    "    \r\n",
    "# r=<pattern>"
   ],
   "outputs": [
    {
     "output_type": "stream",
     "name": "stdout",
     "text": [
      "Searching r\"abc\" in abc123xyz define123 var g = 123\n",
      "00-03: abc\n",
      "Searching r\"123\" in abc123xyz define123 var g = 123\n",
      "03-06: 123\n",
      "Searching r\"123\" in abc123xyz define123 var g = 123\n",
      "16-19: 123\n",
      "Searching r\"123\" in abc123xyz define123 var g = 123\n",
      "28-31: 123\n",
      "Searching r\"abc\" in abc abcde abcdefg\n",
      "00-03: abc\n",
      "Searching r\"abc\" in abc abcde abcdefg\n",
      "04-07: abc\n",
      "Searching r\"abc\" in abc abcde abcdefg\n",
      "10-13: abc\n"
     ]
    }
   ],
   "metadata": {
    "collapsed": false
   }
  },
  {
   "cell_type": "markdown",
   "source": [
    "<H3> Summary of terms for regular expressions </H3>\n",
    "<ul>\n",
    "     <p><strong>'[ ]'</strong> - one element inside has to match.</p>\n",
    "<p><strong>'|'</strong> - or element.</p>\n",
    "<p><strong>'( )'</strong> - all inside has to be matched.</p>\n",
    "<p><strong>'{ }'</strong> - to set an interval or number of times repetition.</p>\n",
    "<p><strong>'\\'</strong> - identify next character as a character and not regular expression symbol.</p>\n",
    "<p><strong>'.'(Dot.)</strong> - In the default mode, this matches any character except a newline. </p>\n",
    "<p><strong>'^'(Caret.)</strong> - Matches the start of the string, and in MULTILINE mode also matches immediately after each newline.</p>\n",
    "<p><strong>'$'</strong> - Matches the end of the string or just before the newline at the end of the string, and in MULTILINE mode also matches before a newline. </p>\n",
    "<p><strong>'\\*'</strong> - Causes the resulting RE to match 0 or more repetitions of the preceding RE, as many repetitions as are possible. ab* will match ‘a’ or ‘ab’ followed by any number of ‘b’s.</p>\n",
    "<p><strong>'+'</strong>- Causes the resulting RE to match 1 or more repetitions of the preceding RE. ab+ will match ‘a’ followed by any non-zero number of ‘b’s; it will not match just ‘a’.</p>\n",
    "<p><strong>'?'</strong> - Causes the resulting RE to match 0 or 1 repetitions of the preceding RE. ab? will match either ‘a’ or ‘ab’.</p>\n",
    "\n",
    "***?, +?, ??** - The **'*'**, **'+'**, and **'?'** qualifiers are all greedy; they match as much text as possible. Sometimes this behaviour isn’t desired; if the RE `<.*>` is matched against `<a>` b `<c>`, it will match the entire string, and not just `<a>`. Adding ? after the qualifier makes it perform the match in non-greedy or minimal fashion; as few characters as possible will be matched. Using the RE `<.*?>` will match only `<a>`.\n",
    "\n",
    "**\\d** - Matches any decimal digit; this is equivalent to the class [0-9].\n",
    "\n",
    "**\\D** - Matches any non-digit character; this is equivalent to the class [^0-9].\n",
    "\n",
    "**\\s** - Matches any whitespace character; this is equivalent to the class [ \\t\\n\\r\\f\\v].\n",
    "\n",
    "**\\S** - Matches any non-whitespace character; this is equivalent to the class [^ \\t\\n\\r\\f\\v]\n",
    "\n",
    "**\\w** - Matches any alphanumeric character; this is equivalent to the class [a-zA-Z0-9_].\n",
    "\n",
    "**\\W** - Matches any non-alphanumeric character; this is equivalent to the class [^a-zA-Z0-9_].\n",
    "\n",
    "**\\b** - Matches the boundary (white spaces) between a word character and a non-word character.\n",
    "\n",
    "<p>For more comprehesive and complete documentation with (?...) extensions, ref: <a href=\"http://docs.python.org/2/library/re.html#resyntax\">http://docs.python.org/2/library/re.html#re-syntax</a>\n"
   ],
   "metadata": {}
  },
  {
   "cell_type": "code",
   "execution_count": 1,
   "source": [
    "#Find all adverbs (words ended by ly)\r\n",
    "import re\r\n",
    "text = \"He was carefully disguised but captured quickly by police ly.\"\r\n",
    "for m in re.finditer(r\"\\w+ly\", text):\r\n",
    "    print ('%02d-%02d: %s' % (m.start(), m.end(), m.group(0)))"
   ],
   "outputs": [
    {
     "output_type": "stream",
     "name": "stdout",
     "text": [
      "07-16: carefully\n",
      "40-47: quickly\n"
     ]
    }
   ],
   "metadata": {
    "collapsed": false
   }
  },
  {
   "cell_type": "markdown",
   "source": [
    "\n",
    "<ul>\n",
    "     <li>Optional values can be given by the question mark sign. The preceding character will be optional, e.g. cats? stands for cat and cats.</li>\n",
    "     <li>Another way of checking for specific options is to use square brackets. For example *[abc]* will match only a, b, or c.</li>\n",
    "     <li>We can negate a set in square brackets *[^abc]*</li>\n",
    "     <li>We can select ranges, such as *[a-z]*, *[A-Z]* or *[0-9]*</li>\n",
    "</ul>\n"
   ],
   "metadata": {}
  },
  {
   "cell_type": "code",
   "execution_count": 2,
   "source": [
    "#Find files starting with \"file\" and finishing with .pdf\r\n",
    "#All of them start with file, thus it is a boundary, \r\n",
    "#then any amount of arbirtary characters and finally it will end with .pdf\r\n",
    "import re\r\n",
    "text = 'file_a_record_file.pdf file_yesterday.pdf test_file_fake.pdf.tmp' \r\n",
    "for m in re.finditer(r\"\\bfile\\w*\\.pdf\", text):\r\n",
    "    print ('%02d-%02d: %s' % (m.start(), m.end(), m.group(0)))"
   ],
   "outputs": [
    {
     "output_type": "stream",
     "name": "stdout",
     "text": [
      "00-22: file_a_record_file.pdf\n",
      "23-41: file_yesterday.pdf\n"
     ]
    }
   ],
   "metadata": {
    "collapsed": false
   }
  },
  {
   "cell_type": "markdown",
   "source": [
    "\n",
    "<ul>\n",
    "     <li>Another interesting feature is capturing. In parenthesis we can define the group or set of data we want to return. In python we can access these data by indexing the match. At the first position we will get the first capture, in the second position the nested capture or group, etc.</li>\n",
    "</ul>\n",
    "</div>"
   ],
   "metadata": {}
  },
  {
   "cell_type": "code",
   "execution_count": 3,
   "source": [
    "#Trim starting and ending spaces\r\n",
    "\r\n",
    "text = \"               Masters of Ba Gua Zhang    \"\r\n",
    "\r\n",
    "for m in re.finditer(r\"\\s*(.+)\\s*\", text):\r\n",
    "    print ('%02d-%02d: %s' % (m.start(1), m.end(1), m.group(1)))\r\n",
    "    print ('%02d-%02d: %s' % (m.start(0), m.end(0), m.group(0)))\r\n",
    "#Note that we use group(1), group(0) is the complete match without capture"
   ],
   "outputs": [
    {
     "output_type": "stream",
     "name": "stdout",
     "text": [
      "15-42: Masters of Ba Gua Zhang    \n",
      "00-42:                Masters of Ba Gua Zhang    \n"
     ]
    }
   ],
   "metadata": {
    "collapsed": false
   }
  },
  {
   "cell_type": "markdown",
   "source": [
    "Check what happens if we change index 1 for index 0 in the former example."
   ],
   "metadata": {}
  },
  {
   "cell_type": "code",
   "execution_count": 4,
   "source": [
    "#Trim starting and ending spaces\r\n",
    "\r\n",
    "text = \"               Masters of Ba Gua Zhang    \"\r\n",
    "\r\n",
    "for m in re.finditer(r\"\\s*(.+)\\s*\", text):\r\n",
    "    print ('%02d-%02d: %s' % (m.start(0), m.end(0), m.group(0)))\r\n",
    "#Note that we use group(1), group(0) is the complete match without capture"
   ],
   "outputs": [
    {
     "output_type": "stream",
     "name": "stdout",
     "text": [
      "00-42:                Masters of Ba Gua Zhang    \n"
     ]
    }
   ],
   "metadata": {
    "collapsed": false
   }
  },
  {
   "cell_type": "code",
   "execution_count": 5,
   "source": [
    "#Match any number \r\n",
    "numbers = '3.1452 -255.34 128 1.9e10 12,334.00 720p'\r\n",
    "\r\n",
    "\r\n",
    "print (re.findall(r\"-?\\d+[\\.,]?\\d*[\\.e]?\\d*\\b\", numbers))"
   ],
   "outputs": [
    {
     "output_type": "stream",
     "name": "stdout",
     "text": [
      "['3.1452', '-255.34', '128', '1.9e10', '12,334.00']\n"
     ]
    }
   ],
   "metadata": {
    "collapsed": false
   }
  },
  {
   "cell_type": "markdown",
   "source": [
    "### Regular Expressions in an html page\n",
    "\n",
    "Find all the links in web site:"
   ],
   "metadata": {}
  },
  {
   "cell_type": "code",
   "execution_count": 6,
   "source": [
    "html = open(\"Data Science - Universitat de Barcelona.htm\").read()\r\n",
    "\r\n",
    "for m in re.finditer(r\"href=\\\"(\\S+)\\\"\", html):\r\n",
    "    print ('%02d-%02d: %s' % (m.start(1), m.end(1), m.group(1)))"
   ],
   "outputs": [
    {
     "output_type": "stream",
     "name": "stdout",
     "text": [
      "760-834: http://maxcdn.bootstrapcdn.com/font-awesome/4.3.0/css/font-awesome.min.css\n",
      "870-891: css/themify-icons.css\n",
      "927-995: http://maxcdn.bootstrapcdn.com/bootstrap/3.3.2/css/bootstrap.min.css\n",
      "1108-1195: http://fonts.googleapis.com/css?family=Roboto+Condensed:300,700%7COpen+Sans:300,400,700\n",
      "1260-1281: css/style.default.css\n",
      "2044-2050: #intro\n",
      "2413-2421: #contact\n",
      "3035-3042: master/\n",
      "3369-3374: deep/\n",
      "3668-3680: postgraduate\n",
      "6960-7001: http://bootstrapious.com/portfolio-themes\n"
     ]
    }
   ],
   "metadata": {
    "collapsed": false
   }
  },
  {
   "cell_type": "markdown",
   "source": [
    "### Regular Expressions in PANDAS\n",
    "\n",
    "You can use Regular Expressions for working in text data inside a Series, that make it easy to operate on each element of the array. These methods exclude missing/NA values automatically. These are accessed via the `str` attribute"
   ],
   "metadata": {}
  },
  {
   "cell_type": "code",
   "execution_count": 7,
   "source": [
    "import pandas as pd\r\n",
    "df = pd.read_csv('./educ_figdp_1_Data.csv',na_values=':')\r\n",
    "df.head(5)"
   ],
   "outputs": [
    {
     "output_type": "execute_result",
     "data": {
      "text/html": [
       "<div>\n",
       "<style scoped>\n",
       "    .dataframe tbody tr th:only-of-type {\n",
       "        vertical-align: middle;\n",
       "    }\n",
       "\n",
       "    .dataframe tbody tr th {\n",
       "        vertical-align: top;\n",
       "    }\n",
       "\n",
       "    .dataframe thead th {\n",
       "        text-align: right;\n",
       "    }\n",
       "</style>\n",
       "<table border=\"1\" class=\"dataframe\">\n",
       "  <thead>\n",
       "    <tr style=\"text-align: right;\">\n",
       "      <th></th>\n",
       "      <th>TIME</th>\n",
       "      <th>GEO</th>\n",
       "      <th>INDIC_ED</th>\n",
       "      <th>Value</th>\n",
       "      <th>Flag and Footnotes</th>\n",
       "    </tr>\n",
       "  </thead>\n",
       "  <tbody>\n",
       "    <tr>\n",
       "      <th>0</th>\n",
       "      <td>2000</td>\n",
       "      <td>European Union (28 countries)</td>\n",
       "      <td>Total public expenditure on education as % of ...</td>\n",
       "      <td>NaN</td>\n",
       "      <td>NaN</td>\n",
       "    </tr>\n",
       "    <tr>\n",
       "      <th>1</th>\n",
       "      <td>2001</td>\n",
       "      <td>European Union (28 countries)</td>\n",
       "      <td>Total public expenditure on education as % of ...</td>\n",
       "      <td>NaN</td>\n",
       "      <td>NaN</td>\n",
       "    </tr>\n",
       "    <tr>\n",
       "      <th>2</th>\n",
       "      <td>2002</td>\n",
       "      <td>European Union (28 countries)</td>\n",
       "      <td>Total public expenditure on education as % of ...</td>\n",
       "      <td>5.00</td>\n",
       "      <td>e</td>\n",
       "    </tr>\n",
       "    <tr>\n",
       "      <th>3</th>\n",
       "      <td>2003</td>\n",
       "      <td>European Union (28 countries)</td>\n",
       "      <td>Total public expenditure on education as % of ...</td>\n",
       "      <td>5.03</td>\n",
       "      <td>e</td>\n",
       "    </tr>\n",
       "    <tr>\n",
       "      <th>4</th>\n",
       "      <td>2004</td>\n",
       "      <td>European Union (28 countries)</td>\n",
       "      <td>Total public expenditure on education as % of ...</td>\n",
       "      <td>4.95</td>\n",
       "      <td>e</td>\n",
       "    </tr>\n",
       "  </tbody>\n",
       "</table>\n",
       "</div>"
      ],
      "text/plain": [
       "   TIME                            GEO  \\\n",
       "0  2000  European Union (28 countries)   \n",
       "1  2001  European Union (28 countries)   \n",
       "2  2002  European Union (28 countries)   \n",
       "3  2003  European Union (28 countries)   \n",
       "4  2004  European Union (28 countries)   \n",
       "\n",
       "                                            INDIC_ED  Value Flag and Footnotes  \n",
       "0  Total public expenditure on education as % of ...    NaN                NaN  \n",
       "1  Total public expenditure on education as % of ...    NaN                NaN  \n",
       "2  Total public expenditure on education as % of ...   5.00                  e  \n",
       "3  Total public expenditure on education as % of ...   5.03                  e  \n",
       "4  Total public expenditure on education as % of ...   4.95                  e  "
      ]
     },
     "metadata": {},
     "execution_count": 7
    }
   ],
   "metadata": {
    "collapsed": false
   }
  },
  {
   "cell_type": "code",
   "execution_count": 8,
   "source": [
    "pattern = \"\\((?P<European_Union>\\d+ countries)\\)\" # A group can be named using ?P<nom of group>\r\n",
    "s = df[\"GEO\"].str.extract(pattern, expand= False) # Returns a Serie.\r\n",
    "s.dropna()"
   ],
   "outputs": [
    {
     "output_type": "execute_result",
     "data": {
      "text/plain": [
       "0     28 countries\n",
       "1     28 countries\n",
       "2     28 countries\n",
       "3     28 countries\n",
       "4     28 countries\n",
       "          ...     \n",
       "79    13 countries\n",
       "80    13 countries\n",
       "81    13 countries\n",
       "82    13 countries\n",
       "83    13 countries\n",
       "Name: European_Union, Length: 84, dtype: object"
      ]
     },
     "metadata": {},
     "execution_count": 8
    }
   ],
   "metadata": {
    "collapsed": false
   }
  },
  {
   "cell_type": "code",
   "execution_count": 9,
   "source": [
    "df[\"GEO\"].str.extract(pattern, expand= True) #returns a Dataframe "
   ],
   "outputs": [
    {
     "output_type": "execute_result",
     "data": {
      "text/html": [
       "<div>\n",
       "<style scoped>\n",
       "    .dataframe tbody tr th:only-of-type {\n",
       "        vertical-align: middle;\n",
       "    }\n",
       "\n",
       "    .dataframe tbody tr th {\n",
       "        vertical-align: top;\n",
       "    }\n",
       "\n",
       "    .dataframe thead th {\n",
       "        text-align: right;\n",
       "    }\n",
       "</style>\n",
       "<table border=\"1\" class=\"dataframe\">\n",
       "  <thead>\n",
       "    <tr style=\"text-align: right;\">\n",
       "      <th></th>\n",
       "      <th>European_Union</th>\n",
       "    </tr>\n",
       "  </thead>\n",
       "  <tbody>\n",
       "    <tr>\n",
       "      <th>0</th>\n",
       "      <td>28 countries</td>\n",
       "    </tr>\n",
       "    <tr>\n",
       "      <th>1</th>\n",
       "      <td>28 countries</td>\n",
       "    </tr>\n",
       "    <tr>\n",
       "      <th>2</th>\n",
       "      <td>28 countries</td>\n",
       "    </tr>\n",
       "    <tr>\n",
       "      <th>3</th>\n",
       "      <td>28 countries</td>\n",
       "    </tr>\n",
       "    <tr>\n",
       "      <th>4</th>\n",
       "      <td>28 countries</td>\n",
       "    </tr>\n",
       "    <tr>\n",
       "      <th>...</th>\n",
       "      <td>...</td>\n",
       "    </tr>\n",
       "    <tr>\n",
       "      <th>379</th>\n",
       "      <td>NaN</td>\n",
       "    </tr>\n",
       "    <tr>\n",
       "      <th>380</th>\n",
       "      <td>NaN</td>\n",
       "    </tr>\n",
       "    <tr>\n",
       "      <th>381</th>\n",
       "      <td>NaN</td>\n",
       "    </tr>\n",
       "    <tr>\n",
       "      <th>382</th>\n",
       "      <td>NaN</td>\n",
       "    </tr>\n",
       "    <tr>\n",
       "      <th>383</th>\n",
       "      <td>NaN</td>\n",
       "    </tr>\n",
       "  </tbody>\n",
       "</table>\n",
       "<p>384 rows × 1 columns</p>\n",
       "</div>"
      ],
      "text/plain": [
       "    European_Union\n",
       "0     28 countries\n",
       "1     28 countries\n",
       "2     28 countries\n",
       "3     28 countries\n",
       "4     28 countries\n",
       "..             ...\n",
       "379            NaN\n",
       "380            NaN\n",
       "381            NaN\n",
       "382            NaN\n",
       "383            NaN\n",
       "\n",
       "[384 rows x 1 columns]"
      ]
     },
     "metadata": {},
     "execution_count": 9
    }
   ],
   "metadata": {
    "collapsed": false
   }
  },
  {
   "cell_type": "markdown",
   "source": [
    "### Regular expresions Methods for `str`\n",
    "+ `findall()`\tCompute list of all occurrences of pattern/regex for each string\n",
    "+ `match()`\tCall re.match on each element, returning matched groups as list\n",
    "+ `extract()`\tCall re.search on each element, returning DataFrame with one row for each element and one column for each regex capture group\n",
    "+ `extractall()` Call re.findall on each element, returning DataFrame with one row for each match and one column for each regex capture group"
   ],
   "metadata": {}
  },
  {
   "cell_type": "markdown",
   "source": [
    "### Cheching matches\n",
    "\n",
    "If we don't want to return the substring, instead we want just to check if a string matchs a pattern, we can use the `re.match` function and check if it is None or not:\n",
    "\n",
    "For example, if we want to check if a string is a well formed URL:"
   ],
   "metadata": {}
  },
  {
   "cell_type": "code",
   "execution_count": 10,
   "source": [
    "import re\r\n",
    "pattern = '^((https?:\\/\\/)|www\\.)([\\da-z\\.-]+)\\.([\\/\\w\\.-]*)$'\r\n",
    "\r\n",
    "str_true = ('https://github.com', \r\n",
    "            'http://github.com',\r\n",
    "            'www.github.com',\r\n",
    "            'https://www.github.com/rasbt'\r\n",
    "            )\r\n",
    "            \r\n",
    "str_false = ('//testmail.com', 'http:testmailcom', )\r\n",
    "\r\n",
    "strings = str_true + str_false\r\n",
    "\r\n",
    "for t in strings:\r\n",
    "    f = bool(re.match(pattern, t))\r\n",
    "    print ('%s is a %s URL' % (t,f))"
   ],
   "outputs": [
    {
     "output_type": "stream",
     "name": "stdout",
     "text": [
      "https://github.com is a True URL\n",
      "http://github.com is a True URL\n",
      "www.github.com is a True URL\n",
      "https://www.github.com/rasbt is a True URL\n",
      "//testmail.com is a False URL\n",
      "http:testmailcom is a False URL\n"
     ]
    }
   ],
   "metadata": {
    "collapsed": false
   }
  },
  {
   "cell_type": "markdown",
   "source": [
    "# Exercices"
   ],
   "metadata": {}
  },
  {
   "cell_type": "markdown",
   "source": [
    "* A regular expression that check most email addresses:"
   ],
   "metadata": {}
  },
  {
   "cell_type": "code",
   "execution_count": 26,
   "source": [
    "import re\r\n",
    "pattern = r\"\\S+@\\w+\\.\\w+$\"\r\n",
    "\r\n",
    "str_true = ('l-l.l@mail.Aom',)\r\n",
    "            \r\n",
    "str_false = ('testmail.com','test@mail.com.', '@testmail.com', 'test@mailcom')\r\n",
    "\r\n",
    "strings = str_true + str_false\r\n",
    "for t in strings:\r\n",
    "    f = bool(re.match(pattern, t))\r\n",
    "    print ('%s is a %s mail address' % (t,f))"
   ],
   "outputs": [
    {
     "output_type": "stream",
     "name": "stdout",
     "text": [
      "l-l.l@mail.Aom is a True mail address\n",
      "testmail.com is a False mail address\n",
      "test@mail.com. is a False mail address\n",
      "@testmail.com is a False mail address\n",
      "test@mailcom is a False mail address\n"
     ]
    }
   ],
   "metadata": {
    "collapsed": false
   }
  },
  {
   "cell_type": "markdown",
   "source": [
    "Validates dates in mm/dd/yyyy format. "
   ],
   "metadata": {}
  },
  {
   "cell_type": "code",
   "execution_count": 43,
   "source": [
    "import re\r\n",
    "pattern = r\"(0[1-9]|1[012])/(0[1-9]|[12]\\d|3[01])/\\d\\d\\d\\d\"\r\n",
    "str_true = ('01/08/2014', '12/30/2014', )\r\n",
    "            \r\n",
    "str_false = ('22/08/2014', '-123', '1/8/2014', '1/08/2014', '01/8/2014')\r\n",
    "\r\n",
    "strings = str_true + str_false\r\n",
    "for t in strings:\r\n",
    "    f = bool(re.match(pattern, t))\r\n",
    "    print ('%s is a %s data format' % (t,f))"
   ],
   "outputs": [
    {
     "output_type": "stream",
     "name": "stdout",
     "text": [
      "01/08/2014 is a True data format\n",
      "12/30/2014 is a True data format\n",
      "22/08/2014 is a False data format\n",
      "-123 is a False data format\n",
      "1/8/2014 is a False data format\n",
      "1/08/2014 is a False data format\n",
      "01/8/2014 is a False data format\n"
     ]
    }
   ],
   "metadata": {
    "collapsed": false
   }
  },
  {
   "cell_type": "markdown",
   "source": [
    "* 12-Hour format"
   ],
   "metadata": {}
  },
  {
   "cell_type": "code",
   "execution_count": 72,
   "source": [
    "import re\r\n",
    "pattern = r'(1[0-2])|\\d:[0-5]\\d\\s?[(a)|(A)|(p)|(P)][(m)|(M)]'\r\n",
    "str_true = ('2:00pm', '7:30 AM', '12:05 am', )\r\n",
    "            \r\n",
    "str_false = ('22:00pm', '14:00', '3:12', '03:12pm', )\r\n",
    "strings = str_true + str_false\r\n",
    "for t in strings:\r\n",
    "    f = bool(re.match(pattern, t))\r\n",
    "    print ('%s is a %s 12-hour format' % (t,f))"
   ],
   "outputs": [
    {
     "output_type": "stream",
     "name": "stdout",
     "text": [
      "2:00pm is a True 12-hour format\n",
      "7:30 AM is a True 12-hour format\n",
      "12:05 am is a True 12-hour format\n",
      "22:00pm is a False 12-hour format\n",
      "14:00 is a False 12-hour format\n",
      "3:12 is a False 12-hour format\n",
      "03:12pm is a False 12-hour format\n"
     ]
    }
   ],
   "metadata": {
    "collapsed": false
   }
  },
  {
   "cell_type": "markdown",
   "source": [
    "* Checking for HTML/XML, etc. tags (a very simple approach)"
   ],
   "metadata": {}
  },
  {
   "cell_type": "code",
   "execution_count": 61,
   "source": [
    "import re\r\n",
    "pattern = r\"<\\S.*>\"\r\n",
    "str_true = ('<a>', '<a href=\"somethinG\">', '</a>', '<img src>')\r\n",
    "            \r\n",
    "str_false = ('a>', '<a ', '< a >')\r\n",
    "strings = str_true + str_false\r\n",
    "for t in strings:\r\n",
    "    f = bool(re.match(pattern, t))\r\n",
    "    print ('%s is a %s HTML/XML file' % (t,f))"
   ],
   "outputs": [
    {
     "output_type": "stream",
     "name": "stdout",
     "text": [
      "<a> is a True HTML/XML file\n",
      "<a href=\"somethinG\"> is a True HTML/XML file\n",
      "</a> is a True HTML/XML file\n",
      "<img src> is a True HTML/XML file\n",
      "a> is a False HTML/XML file\n",
      "<a  is a False HTML/XML file\n",
      "< a > is a False HTML/XML file\n"
     ]
    }
   ],
   "metadata": {
    "collapsed": false
   }
  }
 ],
 "metadata": {
  "kernelspec": {
   "name": "python3",
   "display_name": "Python 3.8.8 64-bit ('base': conda)"
  },
  "language_info": {
   "codemirror_mode": {
    "name": "ipython",
    "version": 3
   },
   "file_extension": ".py",
   "mimetype": "text/x-python",
   "name": "python",
   "nbconvert_exporter": "python",
   "pygments_lexer": "ipython3",
   "version": "3.8.8"
  },
  "interpreter": {
   "hash": "cef9e06bb236b2a8629b07e87a04b187b952a0f661eff5533360a155783f0c33"
  }
 },
 "nbformat": 4,
 "nbformat_minor": 2
}