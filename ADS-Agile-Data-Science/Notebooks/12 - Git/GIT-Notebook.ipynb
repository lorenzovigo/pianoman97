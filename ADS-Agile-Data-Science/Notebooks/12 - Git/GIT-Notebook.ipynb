{
 "cells": [
  {
   "cell_type": "markdown",
   "metadata": {
    "slideshow": {
     "slide_type": "slide"
    }
   },
   "source": [
    "Version Control with Git\n",
    "========================\n",
    "<center>\n",
    "<img src=\"https://github.githubassets.com/images/modules/logos_page/GitHub-Mark.png\">\n",
    "</center>\n",
    "<H3> <p align=\"left\">  Eloi Puertas i Prats </p> </H3>"
   ]
  },
  {
   "cell_type": "markdown",
   "metadata": {
    "slideshow": {
     "slide_type": "slide"
    }
   },
   "source": [
    "Version control also known as Revision control, source control is the\n",
    "**management of changes to documents, programs, and other information stored as computer files.**\n",
    "\n",
    "They are used in virtually all software development and in all environments, by everyone and everywhere VCS can used on almost any digital content, so it is not only restricted to software development, and is also very useful for manuscript files, figures, data and notebooks!\n",
    "\n",
    "Without a VCS, it happens situations like these:"
   ]
  },
  {
   "cell_type": "markdown",
   "metadata": {
    "slideshow": {
     "slide_type": "slide"
    }
   },
   "source": [
    "<img src=\"http://www.phdcomics.com/comics/archive/phd101212s.gif\">\n",
    "\"Piled Higher and Deeper\" by Jorge Cham, http://www.phdcomics.com"
   ]
  },
  {
   "cell_type": "markdown",
   "metadata": {
    "slideshow": {
     "slide_type": "slide"
    }
   },
   "source": [
    "<img src=\"http://www.phdcomics.com/comics/archive/phd052810s.gif\">\n",
    "\n",
    "\"Piled Higher and Deeper\" by Jorge Cham, http://www.phdcomics.com"
   ]
  },
  {
   "cell_type": "markdown",
   "metadata": {
    "slideshow": {
     "slide_type": "slide"
    }
   },
   "source": [
    "There are two main purposes of VCS systems:\n",
    "\n",
    "1. Keep track of changes in the source code.\n",
    "    * Allow reverting back to an older revision if something goes wrong.\n",
    "    * Work on several \"branches\" of the software concurrently.\n",
    "    * Tags revisions to keep track of which version of the software that was used for what (for example, \"release-1.0\")\n",
    "2. Make it possible for serveral people to collaboratively work on the same code base simultaneously.\n",
    "    * Allow many authors to make changes to the code.\n",
    "    * Clearly communicating and visualizing changes in the code base to everyone involved."
   ]
  },
  {
   "cell_type": "markdown",
   "metadata": {
    "slideshow": {
     "slide_type": "slide"
    }
   },
   "source": [
    "### Basic Terminology\n",
    "\n",
    "In an VCS, the source code or digital content is stored in a **repository**. \n",
    "\n",
    "* The repository does not only contain the latest version of all files, but the complete history of all changes to the files since they were added to the repository. \n",
    "\n",
    "* A user can **checkout** the repository, and obtain a local working copy of the files. All changes are made to the files in the local working directory, where files can be added, removed and updated. \n",
    "\n",
    "* When a task has been completed, the changes to the local files are **commited** (saved to the repository).\n",
    "\n",
    "* If someone else has been making changes to the same files, a **conflict** can occur. In many cases conflicts can be **resolved** automatically by the system, but in some cases we might manually have to **merge** different changes together.\n",
    "\n",
    "* It is often useful to create a new **branch** in a repository, or a **fork** or **clone** of an entire repository, when we doing larger experimental development. The main branch in a repository is called often **master** or **trunk**. When work on a branch or fork is completed, it can be merged in to the master branch/repository."
   ]
  },
  {
   "cell_type": "markdown",
   "metadata": {
    "slideshow": {
     "slide_type": "subslide"
    }
   },
   "source": [
    "### Client-Server VCS\n",
    "In Client-Server VCS the **repository** is hosted by a server. A client program is used for managing versions of the local working copy \n",
    "\n",
    "The most important client-server open-source VCS are:\n",
    "\n",
    "* CVS  ([Concurrent Version System](http://www.nongnu.org/cvs/))\n",
    "* SVN  ([Subversion](http://subversion.apache.org/)) "
   ]
  },
  {
   "cell_type": "markdown",
   "metadata": {
    "slideshow": {
     "slide_type": "subslide"
    }
   },
   "source": [
    "### Distributed VCS\n",
    "In Distrubutd VCS code is shared by different **repositories**. In general, it exists a local repository along the local working copy, and a remote repository for collaborating. \n",
    "\n",
    "With distributed VCS we can **pull** and **push** changesets between different repositories. For example, between the local copy of the repository to a central online reposistory (for example on a community repository host site like github.com).\n",
    "\n",
    "The most important distributed open-source VCS are:\n",
    "\n",
    "* [Git](http://git-scm.com/)\n",
    "* [Mercurial](http://mercurial.selenic.com/)"
   ]
  },
  {
   "cell_type": "markdown",
   "metadata": {
    "slideshow": {
     "slide_type": "subslide"
    }
   },
   "source": [
    "<img src=\"./GitCommands.png\">"
   ]
  },
  {
   "cell_type": "markdown",
   "metadata": {
    "slideshow": {
     "slide_type": "slide"
    }
   },
   "source": [
    "## Working with a distant repository \n",
    "\n",
    "With a hosted repository it easy to collaborate with colleagues on the same code base, and you get a graphical user interface where you can browse the code and look at commit logs, track issues etc.\n",
    "\n",
    "Some good hosted repositories are\n",
    "\n",
    "* [Github](http://www.github.com)\n",
    "* [Bitbucket](http://www.bitbucket.org)\n",
    "\n",
    "Github.com is a web hosting plateform for git projects. It provide free git repository for opensource projects (private ones can be purchased, or asked for free for [students](https://education.github.com/discount_requests/new)) as well as it provides great tools to review code, manage projects, release packages and publish documentation. Most of the scientific python code you will use in this course are hosted on github.\n",
    "\n",
    "Bitbucket.com provides unlimited private code repositories for free for teams up to 5 developers\n",
    "\n",
    "There are also a number of graphical users interfaces for GIT. The available options vary a little bit from platform to platform:\n",
    "\n",
    "* http://git-scm.com/downloads/guis\n",
    "\n",
    "If you preffer, you can use the command line:\n",
    "\n",
    "    git\n"
   ]
  },
  {
   "cell_type": "markdown",
   "metadata": {
    "slideshow": {
     "slide_type": "subslide"
    }
   },
   "source": [
    "Now, let’s go on github.com, and create an account:\n",
    "\n",
    "https://github.com/join"
   ]
  },
  {
   "cell_type": "markdown",
   "metadata": {
    "slideshow": {
     "slide_type": "fragment"
    }
   },
   "source": [
    "Once this is done, we can easily create a new project by cliking on the green button, on the main page:"
   ]
  },
  {
   "cell_type": "markdown",
   "metadata": {
    "slideshow": {
     "slide_type": "fragment"
    }
   },
   "source": [
    "https://github.com/new\n",
    "\n",
    "Github redirects you to a page, where you specify the name of the repository and a few information. By default, git repositories hosted on github will be public. \n",
    "Github then displays a page with a url, and some information on how to proceed to configure your local repository. Note that if you decide to create a README file, a Licence or a .gitignore on github, it will automatically commit."
   ]
  },
  {
   "cell_type": "markdown",
   "metadata": {
    "slideshow": {
     "slide_type": "subslide"
    }
   },
   "source": [
    "**Hands On**\n",
    "\n",
    "Create a Repository called `DataScience` in your github account"
   ]
  },
  {
   "cell_type": "markdown",
   "metadata": {
    "slideshow": {
     "slide_type": "fragment"
    }
   },
   "source": [
    "First, we have to **clone** the remote repository.\n",
    "The name of the repository can be found at the right part of the screen:\n",
    "\n",
    "<img src=\"./GitHub.png\">\n",
    "\n",
    "### Using desktop client\n",
    "\n",
    "You can **clone** the repository through you Github Desktop client by clicking in button `Clone in Desktop`\n",
    "\n",
    "Next, your Github Desktop will open. You will be asked for what directory you want to clone the repository. Then the Github Desktop will open. \n",
    "\n",
    "From now on, all changes to this repository will be shown in the `Changes` tab. \n",
    "\n",
    "### Using command line\n",
    "\n",
    "Just type:\n",
    "\n",
    "    git clone <https://github.com/name of repository>\n",
    "    \n",
    "The first time you will use the git command line you should configure it:\n",
    "\n",
    "https://git-scm.com/book/en/v2/Getting-Started-First-Time-Git-Setup\n"
   ]
  },
  {
   "cell_type": "markdown",
   "metadata": {
    "slideshow": {
     "slide_type": "subslide"
    }
   },
   "source": [
    "**Hands On**\n",
    "\n",
    "Download this notebook as .py file. Put your code in a directory called `DataScience-lessons` inside your `DataScience` repository "
   ]
  },
  {
   "cell_type": "markdown",
   "metadata": {
    "slideshow": {
     "slide_type": "fragment"
    }
   },
   "source": [
    "### Using desktop client:\n",
    "Now you can observe that exists changes in your local copy. The first thing to do, is add this document to the Local Repository. In your Desktop client it would by tagged as New. Now write a comment on the `Summary` text area  and commit the changes to your **Local** repository. This can be done by pressing the `commit` button.\n",
    "### Using command line:\n",
    "You can observe that exists changes in your local copy using\n",
    "\n",
    "    git status\n",
    "The first thing to do, is add this document for tracking. Type\n",
    "\n",
    "    git add <archive>\n",
    "Next is to commit changes to your Local Repository using\n",
    "\n",
    "    git commit -m \"Some informative message\" <archive>\n"
   ]
  },
  {
   "cell_type": "markdown",
   "metadata": {
    "slideshow": {
     "slide_type": "fragment"
    }
   },
   "source": [
    "The changes have not been upload to remote repostitory yet. If you check your repository on github.com, you'll see that the changes are not present. To do this you need to `push` your changes. \n",
    "\n",
    "\n",
    "### Using desktop client:\n",
    "\n",
    "In the menu `Repository` select `Push` option. Now the changes are published to the remote repository\n",
    "\n",
    "### Using command line:\n",
    "\n",
    "Type:\n",
    "\n",
    "    git push\n",
    "Now the changes are published to the remote repository"
   ]
  },
  {
   "cell_type": "markdown",
   "metadata": {
    "slideshow": {
     "slide_type": "slide"
    }
   },
   "source": [
    "### Collaborating\n",
    "\n",
    "**Hands On**\n",
    "\n",
    "Now we're going to form teams of 6 students. Choose one github user of your team for work with. \n",
    "Go to `Settings` [page](https://github.com/eloipuertas/ES2013Dimarts/settings) and add your other team members. "
   ]
  },
  {
   "cell_type": "markdown",
   "metadata": {
    "slideshow": {
     "slide_type": "subslide"
    }
   },
   "source": [
    "Now follow the next steps:\n",
    "* Clone your team user `DataScience` Repository\n",
    "* Go to `DataScience-Lessons` file and execute it.\n",
    "* Create a new commentary on the beggining of the file\n",
    "* Commit changes.\n",
    "* Push changes.\n",
    "\n",
    "What happens ?\n"
   ]
  },
  {
   "cell_type": "markdown",
   "metadata": {
    "slideshow": {
     "slide_type": "subslide"
    }
   },
   "source": [
    "`Pull` the repository to update the changes in your local repositories. (In desktop client,  in the menu `Repository` select `Pull` option) (In command line: `git pull`)\n",
    "\n",
    "It have ocurred any **conflict**?\n",
    "If it does,\n",
    "* Revise `history` tab to see the different updates of the repository. Who made what. (In command line: `git log`)\n",
    "* See the differences between yor working tree and last version on your Local Repository. (In command line: `git diff`)\n",
    "* Revert your changes, or resolve and commit it. \n",
    "    * Revert changes: \n",
    "        * Restore working directory file: `git checkout -- <file>`\n",
    "        * Revert add file, before commit: `git reset -- <file>`\n",
    "        * Revert last commit without changing working tree: `git reset --soft HEAD~1`\n",
    "        * (Warning!) Revert last commit changing working tree: `git reset --hard HEAD~1`\n",
    "    * Resolve conflict:\n",
    "        * Merge: (Warning!) it makes a \"bridge\" commit, with differences of both versions. The code will be modified and will not work until someone clean it.\n",
    "        * Rebase: it applies *Your* changes in the remote repository, after last commit. Rebasing re-writes the project history by creating brand new commits for each commit in the original branch. `git rebase -i master` makes rebasing interactive, so you can see which commits will be created. The golden rule of git rebase is to never use it on shared branches.\n",
    "    \n",
    "\n",
    "<img src=\"./GitRebase.jpeg\">\n",
    "        \n",
    "   "
   ]
  },
  {
   "cell_type": "markdown",
   "metadata": {
    "slideshow": {
     "slide_type": "subslide"
    }
   },
   "source": [
    "      \n",
    "### What kind of conflicts may exist?\n",
    "\n",
    "* Two people are editing the same file:\n",
    "    * If editing takes place in different parts of file, git can resolve automatically.\n",
    "    * else, it must to be handled manually.  To complete this type of merge, use your text editor to resolve the conflict, then add the file and commit it to complete the merge.\n",
    "    \n",
    "* A file has been removed while you were editing it. \n",
    "    * It has to be pushed again or removed from your working directory. You can resolve this by adding the file back, and committing it once more. On the other hand you can resolve it by removing the file completely, so do that with the `git rm`.\n",
    "\n",
    "\n",
    "\n",
    "\n",
    "* A Binary file changed remotely and locally.\n",
    "    * One of two versions have to be accepted. \n",
    "    \n",
    "\n",
    "\n",
    "Now do the same thing but using the notebook file instead of the python file. Upload your version of notebook, and the rest of the group change it, putting news cells with comments and avalauation.\n",
    "\n",
    "* It have ocurred any **conflict**? If it does, resolve them.\n",
    "\n",
    "You can see in the github repository how your collaborative notebook looks like."
   ]
  },
  {
   "cell_type": "markdown",
   "metadata": {
    "slideshow": {
     "slide_type": "subslide"
    }
   },
   "source": [
    "### Tips for Collaborative coding:\n",
    "\n",
    "* If there is a conflict, talk with last person that change the file, and decides which changes are valids.\n",
    "\n",
    "* Work in one file at same time and commit very frequently.\n",
    "\n",
    "* When conflicts Keep Calm and Ask for Help\n",
    "\n",
    "\n",
    "<img src=\"./keepcalm.png\">\n",
    "\n",
    "* **NEVER EVER** git push --force\n",
    "\n",
    "\n",
    "<img src=\"./pushforce.gif\">\n",
    "<img src=\"./pushforce.jpeg\">\n",
    "\n",
    "\n",
    "* <H3> Use feature branching\n"
   ]
  },
  {
   "cell_type": "markdown",
   "metadata": {
    "slideshow": {
     "slide_type": "slide"
    }
   },
   "source": [
    "### Branches\n",
    "* You can keep stable code in one branch (master) and develop in other branches.\n",
    "* Reduce the number of conflicts, while developing.\n",
    "\n",
    "How to build a branch:\n",
    "* `git branch <branch_name>`\n",
    "\n",
    "How to change to an other branch:\n",
    "* `git checkout <branch_name>`\n",
    "\n",
    "How to do the above two together:\n",
    "* `git checkout -b <branch_name>`\n",
    "\n",
    "How to delete a branch:\n",
    "* `git branch -d <branch_name>`\n",
    "\n",
    "How to change the name of a branch:\n",
    "* `git branch -m <new_branch_name>`\n",
    "\n",
    "How to merge a branch to the current branch:\n",
    "\n",
    "* `git merge <branch_to_merge>`\n",
    "\n",
    "\n",
    "\n",
    "\n",
    "\n",
    "\n",
    "\n",
    "\n"
   ]
  },
  {
   "cell_type": "markdown",
   "metadata": {
    "slideshow": {
     "slide_type": "subslide"
    }
   },
   "source": [
    "### Steps for feature branching\n",
    "\n",
    "1. Create new branch for the specific feature and change to it:\n",
    "            git checkout -b add_start_button\n",
    "\n",
    "2. Work in this branch until the end of implementation and testing.\n",
    "3. Merge branch to dev: \n",
    "            git merge dev\n",
    "4. Fix merge conflicts.\n",
    "\n",
    "    \n",
    "    "
   ]
  },
  {
   "cell_type": "markdown",
   "metadata": {
    "slideshow": {
     "slide_type": "slide"
    }
   },
   "source": [
    "## Working with a local repository\n",
    "\n",
    "\n",
    "You can create a local repository in your machine instead of using a distant repository.\n",
    "In the GitHub Desktop client press the `+` symbol and go to the `Create` tab. It ask you for a repository name and the local path. Once create it you can commit new versions."
   ]
  },
  {
   "cell_type": "markdown",
   "metadata": {
    "slideshow": {
     "slide_type": "fragment"
    }
   },
   "source": [
    "**Hands On**\n",
    "\n",
    "* create a new git local repository called gitdemo\n",
    "\n",
    "* Add your notebook files.\n",
    "\n",
    "* Commit them\n",
    "\n",
    "* Push them "
   ]
  }
 ],
 "metadata": {
  "celltoolbar": "Slideshow",
  "kernelspec": {
   "display_name": "Python 3",
   "language": "python",
   "name": "python3"
  },
  "language_info": {
   "codemirror_mode": {
    "name": "ipython",
    "version": 2
   },
   "file_extension": ".py",
   "mimetype": "text/x-python",
   "name": "python",
   "nbconvert_exporter": "python",
   "pygments_lexer": "ipython2",
   "version": "2.7.15"
  }
 },
 "nbformat": 4,
 "nbformat_minor": 0
}
