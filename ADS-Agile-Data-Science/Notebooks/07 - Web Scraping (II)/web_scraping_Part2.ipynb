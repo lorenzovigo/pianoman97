{
 "cells": [
  {
   "cell_type": "markdown",
   "metadata": {},
   "source": [
    "## 2. Making your own API: Web scraping\n",
    "\n",
    "Sometimes data is on the web but there is no API to grant access to it, the API is lacking functionalities or the terms of service are not adequate. In those cases because as humans we have visual access to the data we might wonder how to extract that data automatically. The discipline for doing so is **Web Scraping**. \n",
    "\n",
    "Before we start, it is useful to understand a little how web pages are created and data stored. In this section a brief introduction to web front-end development is presented. We will focus on two basic aspects:\n",
    "\n",
    "+ Basic HTML + CSS static pages.\n",
    "+ Dynamic HTML (a basic JavaScript example using JQuery).\n"
   ]
  },
  {
   "cell_type": "markdown",
   "metadata": {},
   "source": [
    "### 2.1 Basic HTML + CSS 101\n",
    "\n",
    "The most basic web pages are built upon HTML + CSS technology. This division stnds for content and design, respectively. **HTML (Hypertext markup language)** is used to give websites structure and stores the contents. This is our target for scraping. On the other hand **CSS (Cascading Style Sheets)** gives format to the content, sigles out content for visualization purposes, i.e. defines the style (e.g. font, color, family, borders, image style, relative positioning of the content, etc). HTML files include tags and references to style, thus it is worthwhile to understand a little bit of both technologies which can help us to scrap data more efficiently.\n"
   ]
  },
  {
   "cell_type": "markdown",
   "metadata": {},
   "source": [
    "HTML is a tagged language usually rendered by a browser. Tags are specified in the following format:\n",
    "\n",
    "<p style=\"text-align: center\">&lt;tag_name *attributes*&gt; content &lt;/tag_name&gt;<p>\n",
    "\n",
    "<p>\n",
    "<div class = \"alert alert-info\" style = \"border-radius:10px;border-width:3px;border-color:darkblue;font-family:Verdana,sans-serif;font-size:16px;\">STRUCTURE of an HTML file:\n",
    "\n",
    "<ul>\n",
    "    <li> HTML files start with the <!DOCTYPE html>. This tells the browser that we will use HTML5. In former versions of HTML standard there were different versions. </li>\n",
    "    <li> The first tag in a web page is &lt;html&gt; and its corresponding &lt;/html&gt; closing tag. All the web page is found inside these tags. </li>\n",
    "    <li> HTML files have a &lt;head&gt; and a &lt;body&gt; </li>\n",
    "    <li> In the head, we have the &lt;title&gt; tags, and we use this to specify the webpage's name. We can also find references to CSS stylesheets (&lt;link&gt;) used for formating the page and links to javascript files (&lt;script&gt;)that give the web page dynamic behavior.</li>\n",
    "    <li> In the body we find the content of the page. </li> \n",
    "        <ul>\n",
    "            <li> Headings and text paragraphs can be created using &lt;h#&gt; (# is a natural number) and &lt;p&gt; ,respectively. </li>\n",
    "            <li> Hyperlinks (links) are given in the <strong>href</strong> attribute of the &lt;a&gt; (anchor) tag. </li>\n",
    "            <li> Images can be embedded using the &lt;img&gt; tag and setting the <strong>src</strong> attribute to the resource. Caution: img is an special tag and it does not have a closing tag, e.g. &lt;img src = \"my_pic.jpg\" /&gt; </li>\n",
    "        </ul>\n",
    "</ul>\n",
    "</div>\n",
    "</p>"
   ]
  },
  {
   "cell_type": "markdown",
   "metadata": {},
   "source": [
    "<div class = \"alert alert-success\" style = \"border-radius:10px;border-width:3px;border-color:darkgreen;font-family:Verdana,sans-serif;font-size:16px;\">\n",
    "\n",
    "Let us build a basic HTML web page, adding the following tags. Remember that nearly all tags require to be closed using &lt;/tag&gt;\n",
    "\n",
    "+ DOCTYPE\n",
    "+ html\n",
    "+ head\n",
    "+ title\n",
    "+ body\n",
    "\n",
    "<ol>\n",
    "<li>Create a file 'example.html' in your favorite editor.</li>\n",
    "<li>Create a basic html web page containing a *title*, *h1*, *p*, *img* and *a* tags.</li>\n",
    "</ol>\n",
    "</div>"
   ]
  },
  {
   "cell_type": "markdown",
   "metadata": {},
   "source": [
    "If you are lazy go to the files folder and double-click on \"example.html\". You can check the html code in the following cell."
   ]
  },
  {
   "cell_type": "markdown",
   "metadata": {},
   "source": [
    "<html>\n",
    "\t<head>\n",
    "\t\t<title>\n",
    "\t\t\tBasic knowledge for web scraping.\n",
    "\t\t</title>\t\n",
    "\t</head>\n",
    "\t<body>\n",
    "\t\t<h1>About HTML\n",
    "\t\t</h1>\n",
    "\t\t<p>Html (Hypertext markdown language) is the basic language to provide contents in the web. It is a tagged language. You can check more about it in <a href=\"http://www.w3.org/community/webed/wiki/HTML\">World Wide Web Consortium.</a></p>\n",
    "        \n",
    "        <p> One of the following rubberduckies is clickable\n",
    "\t</p>\n",
    "\t<p>\n",
    "            <img src = \"files/rubberduck.jpg\"/>\n",
    "        \n",
    "            <a href=\"http://www.pinterest.com/misscannabliss/rubber-duck-mania/\"><img src = \"files/rubberduck.jpg\"/></a>\n",
    "        </p>\n",
    "\t</body>\n",
    "</html>\n"
   ]
  },
  {
   "cell_type": "markdown",
   "metadata": {},
   "source": [
    "Because Ipython notebook cells directly interpret markdown and HTML we can use the cell as an interactive editor for our HTML understanding.\n"
   ]
  },
  {
   "cell_type": "code",
   "execution_count": 1,
   "metadata": {},
   "outputs": [
    {
     "data": {
      "text/html": [
       "<!DOCTYPE html>\n",
       "<html>\n",
       "\t<head>\n",
       "\t\t<title>\n",
       "\t\t\tBasic knowledge for web scraping.\n",
       "\t\t</title>\t\n",
       "\t</head>\n",
       "\t<body>\n",
       "\t\t<h1>About HTML\n",
       "\t\t</h1>\n",
       "\t\t<p>Html (Hypertext markdown language) is the basic language to provide contents in the web. It is a tagged language. You can check more about it in <a href=\"http://www.w3.org/community/webed/wiki/HTML\">World Wide Web Consortium.</a></p>\n",
       "        \n",
       "        <p> One of the following rubberduckies is clickable\n",
       "\t</p>\n",
       "\t<p>\n",
       "            <img src = \"files/rubberduck.jpg\"/>\n",
       "        \n",
       "            <a href=\"http://www.pinterest.com/misscannabliss/rubber-duck-mania/\"><img src = \"files/rubberduck.jpg\"/></a>\n",
       "        </p>\n",
       "\t</body>\n",
       "</html>\n"
      ],
      "text/plain": [
       "<IPython.core.display.HTML object>"
      ]
     },
     "execution_count": 1,
     "metadata": {},
     "output_type": "execute_result"
    }
   ],
   "source": [
    "from IPython.core.display import HTML\n",
    "\n",
    "HTML(\"files/example.html\")"
   ]
  },
  {
   "cell_type": "markdown",
   "metadata": {},
   "source": [
    "<div class = \"alert alert-info\" style = \"border-radius:10px;border-width:3px;border-color:darkblue;font-family:Verdana,sans-serif;font-size:16px;\">\n",
    "**Old style HTML** static pages rely heavily on tables and lists: \n",
    "\n",
    "<ul>\n",
    "<li> Making ordered and unordered lists is simple: *ol* (ordered list), *ul* (unordered list) are the main tags. Each item is inserted as *li* (list item) </li>\n",
    "<li> *table* is the containing tag for building tables, each table row is given as *tr* and columns depend on the table data elements *td*. Tables may have a head (*thead*) and a body (*tbody*). *th* is the same as *td* but for the header. If you want a multi column cell then use colspan=number of cells to cover.\n",
    "</li>\n",
    "</ul>\n",
    "</div>"
   ]
  },
  {
   "cell_type": "markdown",
   "metadata": {},
   "source": [
    "The next example shows a simple table build. Check the markdown code."
   ]
  },
  {
   "cell_type": "markdown",
   "metadata": {},
   "source": [
    "<table>\n",
    "<thead>\n",
    "<tr><th colspan = 2>A table</th><tr>\n",
    "</thead>\n",
    "<tbody>\n",
    "<tr>\n",
    "<td>Hello I am element 1.1</td><td>Hello I am element 1.2</td>\n",
    "</tr>\n",
    "<tr>\n",
    "<td colspan=2>Hello I am element 2.1 and 2.2</td>\n",
    "</tr>\n",
    "</tbody>\n",
    "</table>"
   ]
  },
  {
   "cell_type": "markdown",
   "metadata": {},
   "source": [
    "<div class = \"alert alert-info\" style = \"border-radius:10px;border-width:3px;border-color:darkblue;font-family:Verdana,sans-serif;font-size:16px;\">\n",
    "**Current HTML** static pages rely heavily on containers and style: \n",
    "\n",
    "<ul>\n",
    "<li> *div* stands for division and mark a block of content.\n",
    "</li>\n",
    "<li> *span* is used to single out an element of a block content.\n",
    "</li>\n",
    "</ul>\n",
    "\n",
    "</div>\n",
    "\n",
    "By themselves they are not much but when combined with the *style* attribute they become interesting.\n",
    "\n",
    "For example, consider the following example of code:"
   ]
  },
  {
   "cell_type": "markdown",
   "metadata": {},
   "source": [
    "<div style = \"width:100px;height:100px;background-color:red;padding:10px;font-family:Verdana;font-size:24;color:pink;display:inline-block\">  Box 1\n",
    "</div>\n",
    "<div style = \"width:100px;height:100px;background-color:blue;padding:10px;font-family:Futura;font-size:24;color:lightblue;display:inline-block\">  Box 2\n",
    "</div>\n",
    "<div style = \"width:100px;height:100px;background-color:yellow;padding:10px;font-family:Garamond;font-size:24;color:orange;display:inline-block\">  Box 3\n",
    "</div>\n",
    "<div style = \"width:100px;height:100px;background-color:green;padding:10px;font-family:ArialNarrow;font-size:24;color:lightgreen;display:inline-block\">  Box 4\n",
    "</div>"
   ]
  },
  {
   "cell_type": "markdown",
   "metadata": {},
   "source": [
    "The attribute *style* is also referred as *inline CSS* and let us give the skeleton some skin and makeup."
   ]
  },
  {
   "cell_type": "markdown",
   "metadata": {},
   "source": [
    "<div class = \"alert alert-success\" style = \"border-radius:10px;border-width:3px;border-color:darkgreen;font-family:Verdana,sans-serif;font-size:16px;\">\n",
    "\n",
    "Let us build a basic HTML web page and check the magic of CSS in action before going in detail into CSS.\n",
    "<ol>\n",
    "<li>Create a file 'example2.html' using your favorite editor.</li>\n",
    "<li>Fill the header and body basic HTML structure</li>\n",
    "<li>Let us add three containers *div* in the body.</li> \n",
    "<li>Select one of them. This will be used as a navigation bar and will contain an unordered list with three elememnts: Home, Brief Bio, Hobbies</li>\n",
    "<li>Select another division and create a table inside. Each row will contain information about your profile, e.g. the first row may contain Name: Your Name, the second row Position: Your current position, etc</li>\n",
    "<li>The last one will contain an image of youself and a paragraph with your contact info (email)</li>\n",
    "</ol>\n",
    "<p>\n",
    "Check the [result](files/example2.html). Nearly professional, doesn't it?\n",
    "</p>\n",
    "</div>"
   ]
  },
  {
   "cell_type": "markdown",
   "metadata": {},
   "source": [
    "<div class = \"alert alert-success\" style = \"border-radius:10px;border-width:3px;border-color:darkgreen;font-family:Verdana,sans-serif;font-size:16px;\">\n",
    "\n",
    "Let us add some style.\n",
    "<ol>\n",
    "<li>Add the class \"navbar\" as an attribute to the *div* containing the list. (eg. class = \"navbar\")</li>\n",
    "<li>Add the class \"head\" to the *div* containing the image and the email.</li>\n",
    "<li>Add the class \"right\" to the *div* containing the table.</li>\n",
    "<li>Add the identifier \"email\" to the paragraph containing the email. (eg. id = \"email\")</li>\n",
    "<li>Finally, let us link the class and ids definitions we have just writen by adding to the head tag the following line:\n",
    "<p>< link type=\"text/css\" rel=\"stylesheet\" href=\"stylesheet.css\"/ ></p>\n",
    "</li>\n",
    "</ol>\n",
    "<p>\n",
    "Check the [result](files/example2f.html) now. Do not forget to hover over your navigation bar.\n",
    "</p>\n",
    "</div>"
   ]
  },
  {
   "cell_type": "markdown",
   "metadata": {},
   "source": [
    "The former exercise is an extremely simple exercise showing the separation between the content and the styling. Observe that the html file you have created does not have any explicit styling. However, we have added two new elements to the mix, classes and identifiers as attributes of the tags. As you can imagine styling rules are given for each class and ID and are compactly found on the stylesheet.css we have just linked."
   ]
  },
  {
   "cell_type": "markdown",
   "metadata": {},
   "source": [
    "<div class = \"alert alert-warning\" style = \"border-radius:10px;border-width:3px;border-color:orange;font-family:Verdana,sans-serif;font-size:16px;\">**COMMENT:**\n",
    "Very simple formating can be also given using html markers. For example *strong* and *em* tags refers to bold and italics fonts.\n",
    "</div>"
   ]
  },
  {
   "cell_type": "markdown",
   "metadata": {},
   "source": [
    "### HTML Structure\n",
    "\n",
    "The html document can be seen as a tree structure. The root of the tree is the *html* tag. This has two children *head* and *body*. Head may have different children such as *title*, *link*, or *script*. Body may have any combination of tags, *divs*, *p*, *a*, etc. These tags can be nested, e.g. we can find a *div* inside a *div* inside a *div*. In the example we have seen how to refer to nested elements. The elements can be html tags or classes or identifiers.\n",
    "    + \"elem1 elem2\" refers to any elem2 inside any other elem1 disregarding the degree of nesting (it may have any arbitrary set of elementes in between both).\n",
    "    + \"elem1>elem2\" specifically refers to any elem2 children of a direct parent with tag elem1."
   ]
  },
  {
   "cell_type": "markdown",
   "metadata": {},
   "source": [
    "#### Exploring HTML Strucuture using Inspection with your browser:"
   ]
  },
  {
   "cell_type": "markdown",
   "metadata": {},
   "source": [
    "#### Dumping HTML file using request:"
   ]
  },
  {
   "cell_type": "code",
   "execution_count": 1,
   "metadata": {},
   "outputs": [
    {
     "data": {
      "text/plain": [
       "'<!DOCTYPE html>\\n<html>\\n\\t<head>\\n\\t\\t<title>\\n\\t\\t\\tMy profile\\n\\t\\t</title>\\n\\t\\t<link type=\"text/css\" rel=\"stylesheet\" href=\"stylesheet.css\"/>\\n\\t</head>\\n\\t<body>\\n\\t\\t<div class = \"navbar\">\\n\\t\\t\\t<ul>\\n\\t\\t\\t\\t<li>Home</li>\\n\\t\\t\\t\\t<li>Short Bio</li>\\n\\t\\t\\t\\t<li>Hobbies</li>\\n\\t\\t\\t</ul>\\n\\t\\t</div>\\n\\t\\t<div class = \"right\">\\n\\t\\t\\t<table>\\n\\t\\t\\t\\t<tr><th>Name:</th><td>Rubber</td></tr>\\n\\t\\t\\t\\t<tr><th>Profession:</th><td>Good fellow</td></tr>\\n\\t\\t\\t</table>\\n\\t\\t</div>\\n\\t\\t<div class = \"head\">\\n\\t\\t\\t<img src=\"files/rubberduck.jpg\"/>\\n\\t\\t\\t<p id=\"email\"> duckie@rubberduckies.com</p>\\n\\t\\t</div>\\n\\t</body>\\n</html>\\n'"
      ]
     },
     "execution_count": 1,
     "metadata": {},
     "output_type": "execute_result"
    }
   ],
   "source": [
    "from urllib.request import urlopen\n",
    "socket = urlopen(\"file:./files/example2f.html\")\n",
    "#convert bytes to src\n",
    "#html = str(socket.read()) # Don't do it directly, or b' would be part of the string also\n",
    "html = socket.read().decode()\n",
    "html"
   ]
  },
  {
   "cell_type": "markdown",
   "metadata": {},
   "source": [
    "#### Scraping something  in the HTML (get parts of the text  using Regular Experessions):\n"
   ]
  },
  {
   "cell_type": "code",
   "execution_count": 2,
   "metadata": {},
   "outputs": [
    {
     "data": {
      "text/plain": [
       "'stylesheet.css'"
      ]
     },
     "execution_count": 2,
     "metadata": {},
     "output_type": "execute_result"
    }
   ],
   "source": [
    "import re\n",
    "from urllib.request import urlopen\n",
    "source = urlopen(\"file:./files/example2f.html\")\n",
    "\n",
    "pattern = r'href=\"(.*)\"' #Get everything between href=\" and \" \n",
    "m = re.search(pattern,source.read().decode())\n",
    "\n",
    "m.group(1) #Group inside ()"
   ]
  },
  {
   "cell_type": "markdown",
   "metadata": {},
   "source": [
    "#### Scraping something  in the HTML (crawl html structure using LXML):\n",
    "Different web-focused parsing libraries allow to use CSS selection. In this course we will see a couple of them. The first one is **LXML**. \n",
    "\n",
    "LXML is build upon the C libraries libxml2 and libxslt. These libraries brings standards-compliant XML support as wells as support for (broken) HTML and are very, very fast!\n",
    "\n",
    "LXML allows to use CSS selection. Let us make some drills with lxml."
   ]
  },
  {
   "cell_type": "markdown",
   "metadata": {},
   "source": [
    "`pip install cssselect`\n",
    "`pip install lxml`"
   ]
  },
  {
   "cell_type": "markdown",
   "metadata": {},
   "source": [
    "<div class = \"alert alert-success\" style = \"border-radius:10px;border-width:3px;border-color:darkgreen;font-family:Verdana,sans-serif;font-size:16px;\">**LXML PRACTICE** With the source of python.org\n",
    "<ol>\n",
    "<li>How many paragraphs are on the page?</li>\n",
    "<li>What is the text content of the div wiht the class \"shrubbery\"? What are the links in that same div?</li>\n",
    "\n",
    "</ol>\n",
    "</div>"
   ]
  },
  {
   "cell_type": "code",
   "execution_count": 4,
   "metadata": {},
   "outputs": [
    {
     "data": {
      "text/plain": [
       "<Element html at 0x103bb7220>"
      ]
     },
     "execution_count": 4,
     "metadata": {},
     "output_type": "execute_result"
    }
   ],
   "source": [
    "from urllib.request import urlopen\n",
    "\n",
    "source = urlopen('http://python.org')\n",
    "\n",
    "\n",
    "from lxml import html\n",
    "from lxml import cssselect\n",
    "tree = html.document_fromstring(source.read())\n",
    "tree\n"
   ]
  },
  {
   "cell_type": "code",
   "execution_count": 9,
   "metadata": {},
   "outputs": [
    {
     "name": "stdout",
     "output_type": "stream",
     "text": [
      "1- How many paragraphs are on the page?  23\n"
     ]
    }
   ],
   "source": [
    "# Add your code here. Use tree.cssselect(\"\")\n",
    "#How many paragraphs are on the page?<\n",
    "# Be aware of comments!\n",
    "count = 0\n",
    "\n",
    "for el in tree.iter():\n",
    "    if el.tag == \"p\":\n",
    "        count += 1\n",
    "print (\"1- How many paragraphs are on the page? \", count)\n",
    "\n"
   ]
  },
  {
   "cell_type": "code",
   "execution_count": 6,
   "metadata": {},
   "outputs": [
    {
     "name": "stdout",
     "output_type": "stream",
     "text": [
      "2- What is the text content of the div whithin the class \"shrubbery\"? What are the links in that same div?\n",
      "\n",
      "                        \n",
      "                            Latest News\n",
      "                            More\n",
      "                            \n",
      "                            \n",
      "                                \n",
      "                                \n",
      "                                \n",
      "2021-09-23\n",
      " Katia Lira Awarded the PSF Community Service Award for Q2 2020\n",
      "                                \n",
      "                                \n",
      "2021-09-17\n",
      " Tereza Iofciu Awarded the PSF Community Service Award for Q1 2021\n",
      "                                \n",
      "                                \n",
      "2021-09-07\n",
      " Python 3.10.0rc2 is available\n",
      "                                \n",
      "                                \n",
      "2021-09-04\n",
      " Python 3.7.12 and 3.6.15 security updates now available\n",
      "                                \n",
      "                                \n",
      "2021-08-30\n",
      " Python 3.9.7 and 3.8.12 are now available\n",
      "                                \n",
      "                            \n",
      "                        \n",
      "\n",
      "                        \n",
      "                            Upcoming Events\n",
      "                            More\n",
      "                            \n",
      "                            \n",
      "                                \n",
      "                                \n",
      "                                \n",
      "                                \n",
      "2021-10-02\n",
      " PyConTW 2021\n",
      "                                \n",
      "                                \n",
      "                                \n",
      "                                \n",
      "2021-10-07\n",
      " PyCon ZA 2021\n",
      "                                \n",
      "                                \n",
      "                                \n",
      "                                \n",
      "2021-10-21\n",
      " PyCon Sweden 2021\n",
      "                                \n",
      "                                \n",
      "                                \n",
      "                                \n",
      "2021-10-23\n",
      " Plone Conference 2021 Online\n",
      "                                \n",
      "                                \n",
      "                                \n",
      "                                \n",
      "2021-10-28\n",
      " PyData Global 2021\n",
      "                                \n",
      "                                \n",
      "                            \n",
      "                        \n",
      "\n",
      "                            \n",
      "\n",
      "                            Success Stories\n",
      "                            More\n",
      "\n",
      "                            \n",
      "                            \n",
      "\n",
      "                            \n",
      "                                When an Open Data standard is created and promoted, it’s important to think why - what change is this trying to drive? What will people do with this data that they couldn’t do before?\n",
      "                            \n",
      "\n",
      "                            \n",
      "                                \n",
      "                                    \n",
      "                                        \n",
      "                                        Saving the world with Open Data and Python by James Baster\n",
      "                                    \n",
      "                                \n",
      "                            \n",
      "                            \n",
      "                            \n",
      "\n",
      "                        \n",
      "\n",
      "                            Use Python for…\r\n",
      "More\r\n",
      "\r\n",
      "\r\n",
      "    Web Development:\r\n",
      "        Django, Pyramid, Bottle, Tornado, Flask, web2py\r\n",
      "    GUI Development:\r\n",
      "        tkInter, PyGObject, PyQt, PySide, Kivy, wxPython\r\n",
      "    Scientific and Numeric:\r\n",
      "        \r\n",
      "SciPy, Pandas, IPython\r\n",
      "    Software Development:\r\n",
      "        Buildbot, Trac, Roundup\r\n",
      "    System Administration:\r\n",
      "        Ansible, Salt, OpenStack, xonsh\r\n",
      "\n",
      "                        \n"
     ]
    }
   ],
   "source": [
    "import urllib\n",
    "source = urllib.request.urlopen('http://python.org')\n",
    "tree = html.document_fromstring(source.read())\n",
    "print (\"2- What is the text content of the div whithin the class \\\"shrubbery\\\"? What are the links in that same div?\")\n",
    "for el in tree.iter():\n",
    "    if el.tag == \"div\" and el.attrib.get(\"class\")==\"shrubbery\":\n",
    "           print (el.text_content())\n",
    "\n",
    "            \n",
    "       \n"
   ]
  },
  {
   "cell_type": "code",
   "execution_count": 13,
   "metadata": {},
   "outputs": [
    {
     "name": "stdout",
     "output_type": "stream",
     "text": [
      "3- What is the text in the code tags?\n",
      "# Python 3: Fibonacci series up to n\r\n",
      ">>> def fib(n):\r\n",
      ">>>     a, b = 0, 1\r\n",
      ">>>     while a < n:\r\n",
      ">>>         print(a, end=' ')\r\n",
      ">>>         a, b = b, a+b\r\n",
      ">>>     print()\r\n",
      ">>> fib(1000)\r\n",
      "0 1 1 2 3 5 8 13 21 34 55 89 144 233 377 610 987\n",
      "# Python 3: List comprehensions\r\n",
      ">>> fruits = ['Banana', 'Apple', 'Lime']\r\n",
      ">>> loud_fruits = [fruit.upper() for fruit in fruits]\r\n",
      ">>> print(loud_fruits)\r\n",
      "['BANANA', 'APPLE', 'LIME']\r\n",
      "\r\n",
      "# List and the enumerate function\r\n",
      ">>> list(enumerate(fruits))\r\n",
      "[(0, 'Banana'), (1, 'Apple'), (2, 'Lime')]\n",
      "# Python 3: Simple arithmetic\r\n",
      ">>> 1 / 2\r\n",
      "0.5\r\n",
      ">>> 2 ** 3\r\n",
      "8\r\n",
      ">>> 17 / 3  # classic division returns a float\r\n",
      "5.666666666666667\r\n",
      ">>> 17 // 3  # floor division\r\n",
      "5\n",
      "+\n",
      "-\n",
      "*\n",
      "/\n",
      "()\n",
      "# Python 3: Simple output (with Unicode)\r\n",
      ">>> print(\"Hello, I'm Python!\")\r\n",
      "Hello, I'm Python!\r\n",
      "\r\n",
      "# Input, assignment\r\n",
      ">>> name = input('What is your name?\\n')\r\n",
      ">>> print('Hi, %s.' % name)\r\n",
      "What is your name?\r\n",
      "Python\r\n",
      "Hi, Python.\n",
      "# For loop on a list\r\n",
      ">>> numbers = [2, 4, 6, 8]\r\n",
      ">>> product = 1\r\n",
      ">>> for number in numbers:\r\n",
      "...    product = product * number\r\n",
      "... \r\n",
      ">>> print('The product is:', product)\r\n",
      "The product is: 384\n",
      "if\n",
      "for\n",
      "while\n",
      "range\n"
     ]
    }
   ],
   "source": [
    "print (\"3- What is the text in the code tags?\")\n",
    "for el in tree.iter():\n",
    "    if el.tag == \"code\":\n",
    "           print (el.text_content())"
   ]
  },
  {
   "cell_type": "markdown",
   "metadata": {},
   "source": [
    "#### Scraping something  in the HTML (find elements using BeautifulSoup):\n",
    "\n",
    "`pip install beautifulsoup4`"
   ]
  },
  {
   "cell_type": "code",
   "execution_count": 3,
   "metadata": {},
   "outputs": [
    {
     "ename": "ModuleNotFoundError",
     "evalue": "No module named 'bs4'",
     "output_type": "error",
     "traceback": [
      "\u001b[0;31m---------------------------------------------------------------------------\u001b[0m",
      "\u001b[0;31mModuleNotFoundError\u001b[0m                       Traceback (most recent call last)",
      "\u001b[0;32m<ipython-input-3-907b23140363>\u001b[0m in \u001b[0;36m<module>\u001b[0;34m\u001b[0m\n\u001b[0;32m----> 1\u001b[0;31m \u001b[0;32mfrom\u001b[0m \u001b[0mbs4\u001b[0m \u001b[0;32mimport\u001b[0m \u001b[0mBeautifulSoup\u001b[0m\u001b[0;34m\u001b[0m\u001b[0;34m\u001b[0m\u001b[0m\n\u001b[0m\u001b[1;32m      2\u001b[0m \u001b[0;34m\u001b[0m\u001b[0m\n\u001b[1;32m      3\u001b[0m \u001b[0msource\u001b[0m \u001b[0;34m=\u001b[0m \u001b[0murlopen\u001b[0m\u001b[0;34m(\u001b[0m\u001b[0;34m\"file:./files/example2f.html\"\u001b[0m\u001b[0;34m)\u001b[0m\u001b[0;34m\u001b[0m\u001b[0;34m\u001b[0m\u001b[0m\n\u001b[1;32m      4\u001b[0m \u001b[0mcontent\u001b[0m \u001b[0;34m=\u001b[0m \u001b[0mBeautifulSoup\u001b[0m\u001b[0;34m(\u001b[0m\u001b[0msource\u001b[0m\u001b[0;34m,\u001b[0m\u001b[0;34m\"html.parser\"\u001b[0m\u001b[0;34m)\u001b[0m\u001b[0;34m\u001b[0m\u001b[0;34m\u001b[0m\u001b[0m\n\u001b[1;32m      5\u001b[0m \u001b[0mcontent\u001b[0m\u001b[0;34m.\u001b[0m\u001b[0mfind\u001b[0m\u001b[0;34m(\u001b[0m\u001b[0;34m'link'\u001b[0m\u001b[0;34m)\u001b[0m\u001b[0;34m[\u001b[0m\u001b[0;34m\"href\"\u001b[0m\u001b[0;34m]\u001b[0m\u001b[0;34m\u001b[0m\u001b[0;34m\u001b[0m\u001b[0m\n",
      "\u001b[0;31mModuleNotFoundError\u001b[0m: No module named 'bs4'"
     ]
    }
   ],
   "source": [
    "from bs4 import BeautifulSoup\n",
    "\n",
    "source = urlopen(\"file:./files/example2f.html\")\n",
    "content = BeautifulSoup(source,\"html.parser\")\n",
    "content.find('link')[\"href\"]"
   ]
  },
  {
   "cell_type": "markdown",
   "metadata": {},
   "source": [
    "# 3 Advanced scraping using automation tools\n",
    "\n",
    "\n",
    "As a simple exercise try to scrap the numerical value in the text box of the hidden.html file."
   ]
  },
  {
   "cell_type": "code",
   "execution_count": 14,
   "metadata": {},
   "outputs": [
    {
     "name": "stderr",
     "output_type": "stream",
     "text": [
      "/Users/eloi/Dropbox/DatatonArxius/ds/lib/python3.9/site-packages/IPython/core/display.py:724: UserWarning: Consider using IPython.display.IFrame instead\n",
      "  warnings.warn(\"Consider using IPython.display.IFrame instead\")\n"
     ]
    },
    {
     "data": {
      "text/html": [
       "<iframe src=./files/hidden.html width=700 height=300></iframe>"
      ],
      "text/plain": [
       "<IPython.core.display.HTML object>"
      ]
     },
     "execution_count": 14,
     "metadata": {},
     "output_type": "execute_result"
    }
   ],
   "source": [
    "from IPython.display import HTML\n",
    "HTML('<iframe src=./files/hidden.html width=700 height=300></iframe>')"
   ]
  },
  {
   "cell_type": "code",
   "execution_count": 15,
   "metadata": {},
   "outputs": [
    {
     "name": "stdout",
     "output_type": "stream",
     "text": [
      "b'<!DOCTYPE html>\\n<html>\\n<head>\\n<title>The hidden scraper</title>\\n<link rel=\\'stylesheet\\' type=\\'text/css\\' href=\\'hiddenstylesheet.css\\'/>\\n        <script type=\\'text/javascript\\' src=\"http://ajax.googleapis.com/ajax/libs/jquery/2.0.0/jquery.min.js\">\\n</script>\\n        <script type=\\'text/javascript\\' src=\\'hiddenscript.js\\'></script>\\n</head>\\n<body>\\n<div></div>\\n</body>\\n</html>\\n'\n"
     ]
    }
   ],
   "source": [
    "import urllib.request\n",
    "socket = urlopen(\"file:./files/hidden.html\")\n",
    "print (socket.read())"
   ]
  },
  {
   "cell_type": "markdown",
   "metadata": {},
   "source": [
    "... and the value?"
   ]
  },
  {
   "cell_type": "markdown",
   "metadata": {},
   "source": [
    "Problems and limitations of LXML and basic scraping techniques,\n",
    "\n",
    "     + DOM loaded content. The page finishes loading and it is being acquired when the response is closed. Any further data will be not loaded.\n",
    "     + Really broken HTML/XML\n",
    "     + Proprietary and login required can be difficult depending on the log and flow of the page.\n",
    "     + JS form interaction"
   ]
  },
  {
   "cell_type": "markdown",
   "metadata": {},
   "source": [
    "\n",
    "We see the data in our web browser but the data is not directly found in the html. However \"Data is out there\". This is due to the fact that it has been dinamically generated with a function call. Thus, we see that we have two versions of the web page. The first contains static data and function calls, the second contains static data after the interpretation of the function calls. The question now is how we can access this post interpretation data. There are many different ways. One way could be opting for running our own interpreter such as node.js. Another way is to take advantage of the browser interpretation capabilities and run it as an interpreter.\n",
    "\n",
    "Automation tools such as mechanize or selenium are suites with the goal of testing web interfaces automatically from scripts. They allow to start a browser and interact with the web page in the same way a human user would do. We can use these tools for our scraping purposes.\n"
   ]
  },
  {
   "cell_type": "markdown",
   "metadata": {},
   "source": [
    "## 3.1 Starting with Selenium \n",
    "\n",
    "+ Requirements\n",
    "        'pip install selenium'\n",
    "  \n",
    "If you want to use Chrome you need the Chrome webdriver interface 'chromedriver'. \n",
    "\n",
    "+ Download 'chromedriver'  https://sites.google.com/chromium.org/driver/\n",
    "\n",
    "+ When create the webdriver put the path to chromedriver\n",
    "\n",
    "Check the following code\n",
    "\n"
   ]
  },
  {
   "cell_type": "markdown",
   "metadata": {},
   "source": [
    "## The Cepstral demo and our new goal.\n",
    "<small>An updated version of the case study of Asheesh Laroia (PaulProtheus at Github)</small>\n",
    "\n",
    "Our new goal is to deal with dynamically generated data. Our goal is to be able to perform a web scraping as the following case. Cepstral is a text-to-speech provider. Let us check the web page."
   ]
  },
  {
   "cell_type": "code",
   "execution_count": 18,
   "metadata": {},
   "outputs": [
    {
     "name": "stdout",
     "output_type": "stream",
     "text": [
      "Collecting selenium\n",
      "  Using cached selenium-3.141.0-py2.py3-none-any.whl (904 kB)\n",
      "Requirement already satisfied: urllib3 in /Users/eloi/Dropbox/DatatonArxius/ds/lib/python3.9/site-packages (from selenium) (1.26.4)\n",
      "Installing collected packages: selenium\n",
      "Successfully installed selenium-3.141.0\n",
      "\u001b[33mWARNING: You are using pip version 21.0.1; however, version 21.2.4 is available.\n",
      "You should consider upgrading via the '/Users/eloi/Dropbox/DatatonArxius/ds/bin/python3 -m pip install --upgrade pip' command.\u001b[0m\n"
     ]
    },
    {
     "data": {
      "text/html": [
       "<iframe src=\"http://cepstral.com\" width=700 height=350></iframe>"
      ],
      "text/plain": [
       "<IPython.core.display.HTML object>"
      ]
     },
     "execution_count": 18,
     "metadata": {},
     "output_type": "execute_result"
    }
   ],
   "source": [
    "from IPython.display import HTML\n",
    "HTML('<iframe src=\"http://cepstral.com\" width=700 height=350></iframe>')"
   ]
  },
  {
   "cell_type": "markdown",
   "metadata": {},
   "source": [
    "Our goal is to retrieve the audio file that has been played using web scraping techniques. Let us check how can we do it."
   ]
  },
  {
   "cell_type": "code",
   "execution_count": 25,
   "metadata": {},
   "outputs": [],
   "source": [
    "#CEPSTRAL DEMO\n",
    "%reset -f\n",
    "#!/usr/bin/python\n",
    "# -*- coding: utf-8 -*-\n",
    "\n",
    "# Download Chrome driver: https://sites.google.com/a/chromium.org/chromedriver/downloads\n",
    "\n",
    "\n",
    "from selenium import webdriver\n",
    "import time,os\n",
    "\n",
    "\n",
    "url = 'http://www.cepstral.com/en/demos' #Poseu el nom de la pàgina web\n",
    "browser = webdriver.Chrome(\"/Users/eloi/chromedriver\") #Obrir un navegador Chrome"
   ]
  },
  {
   "cell_type": "code",
   "execution_count": 26,
   "metadata": {},
   "outputs": [],
   "source": [
    "browser.get(url)"
   ]
  },
  {
   "cell_type": "code",
   "execution_count": 27,
   "metadata": {},
   "outputs": [],
   "source": [
    "element = browser.find_element_by_css_selector(\"#demo_text\")\n",
    "element.clear()\n",
    "s='My name is Eloi and I am so cool!!!'\n",
    "element.send_keys(s)"
   ]
  },
  {
   "cell_type": "code",
   "execution_count": 28,
   "metadata": {},
   "outputs": [],
   "source": [
    "browser.find_element_by_id('demo_submit').click()\n",
    "browser.implicitly_wait(5)\n",
    "browser.find_element_by_css_selector('audio')\n",
    "html=browser.page_source\n",
    "#Preventing they can delete the file!\n",
    "browser.quit()"
   ]
  },
  {
   "cell_type": "code",
   "execution_count": 29,
   "metadata": {},
   "outputs": [
    {
     "name": "stdout",
     "output_type": "stream",
     "text": [
      "/demos/audio/5um4mp6oplrbtatb7dhva261m1.1632999013227.mp3\n"
     ]
    }
   ],
   "source": [
    "#Check the data is in\n",
    "chunks=html.split('\"')\n",
    "for chunk in chunks:\n",
    "    if '.mp3' in chunk:\n",
    "        break\n",
    "print (chunk)"
   ]
  },
  {
   "cell_type": "code",
   "execution_count": 30,
   "metadata": {},
   "outputs": [
    {
     "name": "stdout",
     "output_type": "stream",
     "text": [
      "http://www.cepstral.com/demos/audio/5um4mp6oplrbtatb7dhva261m1.1632999013227.mp3\n"
     ]
    }
   ],
   "source": [
    "from urllib.parse import urljoin\n",
    "furl=urljoin(url,chunk)\n",
    "print (furl)"
   ]
  },
  {
   "cell_type": "code",
   "execution_count": 31,
   "metadata": {},
   "outputs": [
    {
     "data": {
      "text/plain": [
       "0"
      ]
     },
     "execution_count": 31,
     "metadata": {},
     "output_type": "execute_result"
    }
   ],
   "source": [
    "import os\n",
    "\n",
    "player = \"mpv \" \n",
    "\n",
    "##Replace with mplayer for Linux. \n",
    "#MPV has been installed in MAC OSX using homebrew.\n",
    "#Mplayer has not been installed because of dependency troubles.\n",
    "#brew tap mpv-player/mpv\n",
    "#brew install --HEAD mpv-player/mpv/libass-ct\n",
    "#brew install mpv\n",
    "\n",
    "os.system(player+furl)"
   ]
  },
  {
   "cell_type": "markdown",
   "metadata": {},
   "source": [
    "**Element Selection in Selenium:**\n",
    " \n",
    "   * find_element(s)... [**element** will return the first, **elements** the complete list]\n",
    "       * ..._by_id - (only element) Use this when you know the id attribute of an element. \n",
    "       * ..._by_name - Use this when you know the name attribute of an element.\n",
    "       * ..._by_link_text('foo') - Use this when you know the link text used within an anchor tag\n",
    "       * ..._by_partial_link_text() - Use this when you know a partial part of the link text used within an anchor tag\n",
    "       * ..._by_css_selector() - Use this when you want to locate an element using CSS selector syntax.\n",
    "       * ..._by_tag_name() - Use this when you want to locate an element by HTML tag name\n",
    "       * ..._by_xpath()   - One of the main reasons for using XPath is when you don’t have a suitable id or name attribute for the element you wish to locate. \n",
    "       * ..._by_class_name() - Use this when you want to locate an element by class attribute name\n",
    "\n",
    "More info in https://selenium-python.readthedocs.io/locating-elements.html"
   ]
  },
  {
   "cell_type": "markdown",
   "metadata": {},
   "source": [
    "**Element manipulation in Selenium:**\n",
    "<p>\n",
    "Consider the result of a selection, e.g. \n",
    "\n",
    "<span style = \"font-family:Courier;\">element = browser.find_element_by_css_selector('div')</span>\n",
    "\n",
    "We can do several things on it.\n",
    "<ul>\n",
    "<li>element.click() - click on a selected element</li>\n",
    "<li>Element properties:\n",
    "<ul>\n",
    "<li>element.location: x, y location</li>\n",
    "<li>element.parent: parent element</li>\n",
    "<li>element.tag_name: The tag of the element</li>\n",
    "<li>element.text: text of the element and childs</li>\n",
    "</ul>\n",
    "</li>\n",
    "   \n",
    "</ul>\n",
    "\n",
    "\n"
   ]
  },
  {
   "cell_type": "markdown",
   "metadata": {},
   "source": [
    "**Form input with Selenium:**\n",
    "<ul>\n",
    "<li> element.send_keys() - Keys, commands, arrows, etc </li>\n",
    "<li> element.clear() - clear the element</li>\n",
    "</ul>\n",
    "<p>\n",
    "\n",
    "\n",
    "</div>"
   ]
  },
  {
   "cell_type": "markdown",
   "metadata": {},
   "source": [
    "**Basic manipulation in Selenium:**\n",
    "<p>\n",
    "A webdriver instance allows to manipulate the web session, control cookies, retrieve the html code or find elements in the source code.\n",
    "</p>\n",
    "Given a webdriver instance (e.g.<span style = \"font-family:Courier;\">\n",
    "            browser = webdriver.Firefox()</span>) the most relevant methods\n",
    "\n",
    "\n",
    "* **Open URL:**  .get(url) (e.g.\n",
    "<span style = \"font-family:Courier;\"> browser.get(url)</span>)\n",
    "\n",
    "* **Retrieve source:** .page_source\n",
    "  \n",
    "\n"
   ]
  },
  {
   "cell_type": "markdown",
   "metadata": {},
   "source": [
    "**Scrolling and moving:**\n",
    "Moving around the page is tricky, be prepared for displaying a little patience.\n",
    "\n",
    "<ul>\n",
    "<li>move_by_offset(x,y)</li>\n",
    "<li>move_to_element() - for highlighting, hovering, rollover, etc.</li>\n",
    "<li>move_to_elemnte_by_offset(elem, x, y)</li>\n",
    "</ul>\n",
    "\n",
    "ActionChains provide a way of stringing together one or more actions and then implementing them.\n",
    "\n",
    "`ActionChains(driver).move_to_element(menu).click(hidden_submenu).perform()`\n",
    "\n",
    "\n",
    "\n",
    "\n"
   ]
  },
  {
   "cell_type": "markdown",
   "metadata": {},
   "source": [
    "**Wait**\n",
    "\n",
    "We can distinguish two types of waiting strategies, namely, implicit and explicit waits.\n",
    "\n",
    "*Implicit waits* set up a timeout that will last for the full life of the web driver. On the other hand, *explicit waits* tell the driver to poll the DOM until some condition is met, e.g. a certain element has finished loading on the page. \n",
    "\n",
    "Example:\n",
    "<p style=\"font-family:Courier;\">\n",
    "try: <br>\n",
    "movie_info = webdriverwait(browser,10).until(EC.element_to_be_clickable((By.ID,'BotMovie')))<br>\n",
    "title = movie_info.find_element_by_class_name('title').text<br>\n",
    "link = movie_info.find_element_by_class_name('mdpLink').get_attribute('href')<br>\n",
    "except:<br>\n",
    " print 'taking too long!!'<br>\n",
    " </p>\n",
    " \n",
    "*EC* stands for Expected Condition and are the basis of explicit waits (see http://selenium-python.readthedocs.org for more information)\n",
    "</div>"
   ]
  },
  {
   "cell_type": "markdown",
   "metadata": {},
   "source": [
    "**Other web driver utilities:**\n",
    "<ul>\n",
    "<li>browser.execute_script('window.close()') - execute any javascript on a load page</li>\n",
    "<li>brosers.save_screenshot('foo.png')</li>\n",
    "<li>browser.switch_to_alert(): handle pop-ups automatically</li>\n",
    "<li>browser.forward() / browser.back(): navigation</li>\n",
    "</ul>\n",
    "</div>"
   ]
  },
  {
   "cell_type": "markdown",
   "metadata": {},
   "source": [
    "\n",
    "**Selenium EXERCISE 1:** <BR>\n",
    "<ul>\n",
    "<li> Open a browser \n",
    "\n",
    "<li>Go to tripadvisor/Restaurants\n",
    "\n",
    "<li>Find the search text box\n",
    "\n",
    "<li>Clear it, input the query \"Sant Cugat\" and send it\n",
    "\n",
    "<li>Go to \"Restarurants\" and get all the links and names of top 10 restaurants in Sant cugat\n",
    "<li> Store them into mongoDB database\n",
    "</ul>\n",
    "\n",
    "</div>"
   ]
  },
  {
   "cell_type": "code",
   "execution_count": 7,
   "metadata": {},
   "outputs": [
    {
     "name": "stdout",
     "output_type": "stream",
     "text": [
      "Requirement already satisfied: selenium in c:\\anaconda3\\lib\\site-packages (3.141.0)\n",
      "Requirement already satisfied: urllib3 in c:\\anaconda3\\lib\\site-packages (from selenium) (1.26.4)\n"
     ]
    }
   ],
   "source": [
    "!pip install selenium"
   ]
  },
  {
   "cell_type": "code",
   "execution_count": 18,
   "metadata": {},
   "outputs": [],
   "source": [
    "chrome_driver_path = \"C:\\\\Users\\\\loren\\\\Downloads\\\\Setups\\\\chromedriver.exe\""
   ]
  },
  {
   "cell_type": "code",
   "execution_count": 27,
   "metadata": {},
   "outputs": [
    {
     "data": {
      "text/plain": [
       "[{'name': 'Piaceri D’ Italia Ristorante Pizzeria',\n",
       "  'link': 'https://www.tripadvisor.es/Restaurant_Review-g1080422-d19084243-Reviews-Piaceri_D_Italia_Ristorante_Pizzeria-Sant_Cugat_del_Valles_Catalonia.html'},\n",
       " {'name': 'Restaurant Brau',\n",
       "  'link': 'https://www.tripadvisor.es/Restaurant_Review-g1080422-d10195584-Reviews-Restaurant_Brau-Sant_Cugat_del_Valles_Catalonia.html'},\n",
       " {'name': 'Sabàtic',\n",
       "  'link': 'https://www.tripadvisor.es/Restaurant_Review-g1080422-d10167691-Reviews-Sabatic-Sant_Cugat_del_Valles_Catalonia.html'},\n",
       " {'name': 'Némesis Gastronomia',\n",
       "  'link': 'https://www.tripadvisor.es/Restaurant_Review-g1080422-d11892809-Reviews-Nemesis-Sant_Cugat_del_Valles_Catalonia.html'},\n",
       " {'name': 'Dakidaya',\n",
       "  'link': 'https://www.tripadvisor.es/Restaurant_Review-g1080422-d4546707-Reviews-Dakidaya-Sant_Cugat_del_Valles_Catalonia.html'},\n",
       " {'name': '9Reinas Sant Cugat',\n",
       "  'link': 'https://www.tripadvisor.es/Restaurant_Review-g1080422-d7155184-Reviews-9Reinas_Sant_Cugat-Sant_Cugat_del_Valles_Catalonia.html'},\n",
       " {'name': 'Kitsune Sushi Bar',\n",
       "  'link': 'https://www.tripadvisor.es/Restaurant_Review-g1080422-d5966644-Reviews-Kitsune_Sushi_Bar-Sant_Cugat_del_Valles_Catalonia.html'},\n",
       " {'name': 'La Rampa 23',\n",
       "  'link': 'https://www.tripadvisor.es/Restaurant_Review-g1080422-d4043880-Reviews-La_Rampa_23-Sant_Cugat_del_Valles_Catalonia.html'},\n",
       " {'name': 'La Rita',\n",
       "  'link': 'https://www.tripadvisor.es/Restaurant_Review-g1080422-d10365477-Reviews-La_Rita-Sant_Cugat_del_Valles_Catalonia.html'},\n",
       " {'name': 'El vi de deu',\n",
       "  'link': 'https://www.tripadvisor.es/Restaurant_Review-g1080422-d7076969-Reviews-El_Vi_de_Deu-Sant_Cugat_del_Valles_Catalonia.html'}]"
      ]
     },
     "execution_count": 27,
     "metadata": {},
     "output_type": "execute_result"
    }
   ],
   "source": [
    "from selenium import webdriver\n",
    "from selenium.webdriver.common.by import By\n",
    "from selenium.webdriver.common.keys import Keys\n",
    "from selenium.webdriver.support.ui import WebDriverWait\n",
    "from selenium.webdriver.support import expected_conditions as EC\n",
    "\n",
    "browser = webdriver.Chrome(chrome_driver_path)\n",
    "\n",
    "browser.get(\"https://www.tripadvisor.es/Restaurants\")\n",
    "accept_cookies_btn = browser.find_element_by_id(\"_evidon-accept-button\")\n",
    "accept_cookies_btn.click()\n",
    "\n",
    "search_input_text_box = browser.find_element_by_xpath(\"//input[@placeholder='Ciudad o nombre del restaurante']\")\n",
    "search_input_text_box.send_keys(\"Sant Cugat\")\n",
    "\n",
    "correct_result = WebDriverWait(browser, 30).until(EC.element_to_be_clickable((By.XPATH, \"//div[contains(string(), 'Sant Cugat del Vallès')]\")))\n",
    "try:\n",
    "    correct_result.click()\n",
    "except:\n",
    "    correct_result = browser.find_element_by_xpath(\"//div[contains(string(), 'Sant Cugat del Vallès')]\")\n",
    "    correct_result.click()\n",
    "\n",
    "restaurant_list = WebDriverWait(browser, 30).until(EC.presence_of_element_located((By.XPATH, \"//div[@data-test-target='restaurants-list']\")))\n",
    "restaurants = restaurant_list.find_elements_by_tag_name(\"a\")\n",
    "\n",
    "dictList = []\n",
    "for restaurant in restaurants:\n",
    "    if len(dictList) == 10:\n",
    "        break\n",
    "\n",
    "    name = restaurant.text\n",
    "\n",
    "    if str(len(dictList) + 1) + '.' in name:\n",
    "        dictList.append({\n",
    "            'name': name[name.find(\". \") + 2 : len(name)],\n",
    "            'link': restaurant.get_attribute(\"href\")\n",
    "        })\n",
    "\n",
    "browser.close()\n",
    "dictList"
   ]
  },
  {
   "cell_type": "code",
   "execution_count": 28,
   "metadata": {},
   "outputs": [
    {
     "name": "stdout",
     "output_type": "stream",
     "text": [
      "Requirement already satisfied: certifi in c:\\anaconda3\\lib\\site-packages (2020.12.5)\n"
     ]
    }
   ],
   "source": [
    "# Requirement needed by some of us to connect to MongoDB correctly.\n",
    "!pip install certifi"
   ]
  },
  {
   "cell_type": "code",
   "execution_count": 30,
   "metadata": {},
   "outputs": [
    {
     "name": "stdout",
     "output_type": "stream",
     "text": [
      "Connected successfully!!!\n"
     ]
    },
    {
     "data": {
      "text/plain": [
       "Database(MongoClient(host=['ads-shard-00-01.trb7f.mongodb.net:27017', 'ads-shard-00-00.trb7f.mongodb.net:27017', 'ads-shard-00-02.trb7f.mongodb.net:27017'], document_class=dict, tz_aware=False, connect=True, retrywrites=True, w='majority', authsource='admin', replicaset='atlas-r513ol-shard-0', ssl=True, ssl_ca_certs='C:\\\\anaconda3\\\\lib\\\\site-packages\\\\certifi\\\\cacert.pem'), 'ads')"
      ]
     },
     "execution_count": 30,
     "metadata": {},
     "output_type": "execute_result"
    }
   ],
   "source": [
    "# Method seen in class to connect to MongoDB\n",
    "# ATTENTION: Remember to add your current IP as valid IP access in your MongoDB network dashboard.\n",
    "import pymongo, certifi\n",
    "\n",
    "try:\n",
    "    #create a credentials.txt file in this folder:\n",
    "    #first line: Database username (not account username)\n",
    "    #second line: Database username password (not account password)\n",
    "    #third line: Databse url with port (you can find it in the cloud dashboard)\n",
    "    #fourth lin: Database name\n",
    "    if 'conn' in globals():\n",
    "        conn.close()\n",
    "        print(\"Closing\")\n",
    "    \n",
    "    with open(\"credentials.txt\", 'r') as f:\n",
    "        [name,password,url,dbname]=f.read().splitlines()\n",
    "    # Next line was changed in order to use certifi and connect correctly\n",
    "    conn=pymongo.MongoClient(\"mongodb+srv://{}:{}@{}\".format(name,password,url), tlsCAFile=certifi.where())\n",
    "    print (\"Connected successfully!!!\")\n",
    "    \n",
    "except pymongo.errors.ConnectionFailure as e:\n",
    "    print (\"Could not connect to MongoDB: %s\" % e) \n",
    "conn\n",
    "db = conn[dbname]\n",
    "db"
   ]
  },
  {
   "cell_type": "code",
   "execution_count": 33,
   "metadata": {},
   "outputs": [
    {
     "data": {
      "text/plain": [
       "<pymongo.results.InsertManyResult at 0x157f278a4c0>"
      ]
     },
     "execution_count": 33,
     "metadata": {},
     "output_type": "execute_result"
    }
   ],
   "source": [
    "# We connect to the collection (or create it if it does not exist)\n",
    "collection = db.top5SantCugat\n",
    "# Delete the previous results added in previous executions\n",
    "collection.delete_many({})\n",
    "# We add all the items (dicts) in the list to the collection\n",
    "collection.insert_many(dictList)"
   ]
  },
  {
   "cell_type": "code",
   "execution_count": 34,
   "metadata": {},
   "outputs": [
    {
     "data": {
      "text/plain": [
       "[{'_id': ObjectId('61631a6d97ac54f301286713'),\n",
       "  'name': 'Piaceri D’ Italia Ristorante Pizzeria',\n",
       "  'link': 'https://www.tripadvisor.es/Restaurant_Review-g1080422-d19084243-Reviews-Piaceri_D_Italia_Ristorante_Pizzeria-Sant_Cugat_del_Valles_Catalonia.html'},\n",
       " {'_id': ObjectId('61631a6d97ac54f301286714'),\n",
       "  'name': 'Restaurant Brau',\n",
       "  'link': 'https://www.tripadvisor.es/Restaurant_Review-g1080422-d10195584-Reviews-Restaurant_Brau-Sant_Cugat_del_Valles_Catalonia.html'},\n",
       " {'_id': ObjectId('61631a6d97ac54f301286715'),\n",
       "  'name': 'Sabàtic',\n",
       "  'link': 'https://www.tripadvisor.es/Restaurant_Review-g1080422-d10167691-Reviews-Sabatic-Sant_Cugat_del_Valles_Catalonia.html'},\n",
       " {'_id': ObjectId('61631a6d97ac54f301286716'),\n",
       "  'name': 'Némesis Gastronomia',\n",
       "  'link': 'https://www.tripadvisor.es/Restaurant_Review-g1080422-d11892809-Reviews-Nemesis-Sant_Cugat_del_Valles_Catalonia.html'},\n",
       " {'_id': ObjectId('61631a6d97ac54f301286717'),\n",
       "  'name': 'Dakidaya',\n",
       "  'link': 'https://www.tripadvisor.es/Restaurant_Review-g1080422-d4546707-Reviews-Dakidaya-Sant_Cugat_del_Valles_Catalonia.html'},\n",
       " {'_id': ObjectId('61631a6d97ac54f301286718'),\n",
       "  'name': '9Reinas Sant Cugat',\n",
       "  'link': 'https://www.tripadvisor.es/Restaurant_Review-g1080422-d7155184-Reviews-9Reinas_Sant_Cugat-Sant_Cugat_del_Valles_Catalonia.html'},\n",
       " {'_id': ObjectId('61631a6d97ac54f301286719'),\n",
       "  'name': 'Kitsune Sushi Bar',\n",
       "  'link': 'https://www.tripadvisor.es/Restaurant_Review-g1080422-d5966644-Reviews-Kitsune_Sushi_Bar-Sant_Cugat_del_Valles_Catalonia.html'},\n",
       " {'_id': ObjectId('61631a6d97ac54f30128671a'),\n",
       "  'name': 'La Rampa 23',\n",
       "  'link': 'https://www.tripadvisor.es/Restaurant_Review-g1080422-d4043880-Reviews-La_Rampa_23-Sant_Cugat_del_Valles_Catalonia.html'},\n",
       " {'_id': ObjectId('61631a6d97ac54f30128671b'),\n",
       "  'name': 'La Rita',\n",
       "  'link': 'https://www.tripadvisor.es/Restaurant_Review-g1080422-d10365477-Reviews-La_Rita-Sant_Cugat_del_Valles_Catalonia.html'},\n",
       " {'_id': ObjectId('61631a6d97ac54f30128671c'),\n",
       "  'name': 'El vi de deu',\n",
       "  'link': 'https://www.tripadvisor.es/Restaurant_Review-g1080422-d7076969-Reviews-El_Vi_de_Deu-Sant_Cugat_del_Valles_Catalonia.html'}]"
      ]
     },
     "execution_count": 34,
     "metadata": {},
     "output_type": "execute_result"
    }
   ],
   "source": [
    "# Check if items were added to the collection\n",
    "collection.find()\n",
    "[d for d in collection.find()] "
   ]
  },
  {
   "cell_type": "markdown",
   "metadata": {},
   "source": [
    "**Selenium EXERCISE 2:**"
   ]
  },
  {
   "cell_type": "markdown",
   "metadata": {},
   "source": [
    "* Go to Eix Macià Cinemes web Site. ('http://www.cinemeseixmacia.com/')\n",
    "* Find all the movies that are currently playing in the Cinema.\n",
    "* Filter those movies that starts from at specific time (i.e. 18PM) to 1h and half later and are recomended for a specific age audience (i.e 18 y.o).\n",
    "* Search in themoviedb the average ratings for those movies and select the best one. \n",
    "* Play the movie trailer "
   ]
  },
  {
   "cell_type": "code",
   "execution_count": 78,
   "metadata": {},
   "outputs": [],
   "source": [
    "start_time_hour = 17\n",
    "start_time_mins = 45\n",
    "max_age = 17"
   ]
  },
  {
   "cell_type": "code",
   "execution_count": 120,
   "metadata": {},
   "outputs": [
    {
     "name": "stdout",
     "output_type": "stream",
     "text": [
      " 22 30\n",
      " 22 30\n",
      "{'title': 'DUNE', 'trailer_element': <selenium.webdriver.remote.webelement.WebElement (session=\"2287828863bbf5364d218be8e6c34982\", element=\"8b2ffc02-78c1-4c68-8b31-7f5a50796062\")>, 'age': '12', 'starting_time': '19:00'}\n"
     ]
    }
   ],
   "source": [
    "from datetime import datetime\n",
    "from datetime import timedelta\n",
    "from urllib.request import urlopen\n",
    "from urllib.parse import quote_plus\n",
    "import json\n",
    "import operator\n",
    "import time\n",
    "\n",
    "with open('api_key', 'r') as f:\n",
    "    api_key = f.read()\n",
    "f.closed\n",
    "\n",
    "browser = webdriver.Chrome(chrome_driver_path)\n",
    "browser.get('http://www.cinemeseixmacia.com/')\n",
    "\n",
    "browser.find_element_by_xpath(\"//button[@class='fas fa-th-list button boto_format boto_f_llista tooltip2 tooltipstered']\").click()\n",
    "movies = browser.find_elements_by_xpath(\"//div[@class=' zitem']\")\n",
    "\n",
    "movie_list = []\n",
    "for movie_div in movies:\n",
    "    info = movie_div.find_element_by_id(\"dadespeli\")\n",
    "    session_hours = movie_div.find_elements_by_class_name(\"horasessio\")\n",
    "\n",
    "    age = info.text[info.text.find(\"ó: \") + 3 : info.text.find(\" AÑOS\")]\n",
    "    try:\n",
    "        int(age)\n",
    "    except:\n",
    "        age = 0\n",
    "    \n",
    "    should_be_added = False\n",
    "    now = datetime.now()\n",
    "\n",
    "    if int(age) <= max_age:\n",
    "        for session_hour in session_hours: \n",
    "            try:\n",
    "                [hour, mins] = session_hour.text.split(':')\n",
    "            except:\n",
    "                print(movie_div.find_element_by_tag_name(\"h4\").text, hour, mins)\n",
    "            session_time = now.replace(hour = int(hour), minute = int(mins))\n",
    "            min_session_time = now.replace(hour = start_time_hour, minute = start_time_mins)\n",
    "            max_session_time = min_session_time + timedelta(minutes=91)\n",
    "\n",
    "            if (session_time >= min_session_time and session_time < max_session_time):\n",
    "                movie_list.append({\n",
    "                    'title' : movie_div.find_element_by_tag_name(\"h4\").text.replace(\"ATMOS \", \"\").replace(\"VOSE \", \"\"),\n",
    "                    'trailer_element' : movie_div.find_element_by_class_name(\"peli-botons\").find_elements_by_tag_name(\"button\")[0],\n",
    "                    'age': age,\n",
    "                    'starting_time': session_hour.text\n",
    "                })\n",
    "\n",
    "ratings = []\n",
    "for movie in movie_list:\n",
    "    source = urlopen('https://api.themoviedb.org/3/search/movie?api_key=' + api_key + '&language=es&query=' + quote_plus(movie['title']) + '&page=1&include_adult=true')\n",
    "    json_obj = json.loads(source.read())\n",
    "    movie_results = json_obj['results']\n",
    "\n",
    "    try:\n",
    "        ratings.append(movie_results[0].get('vote_average'))\n",
    "    except:\n",
    "        ratings.append(0)\n",
    "\n",
    "index, value = max(enumerate(ratings), key=operator.itemgetter(1))\n",
    "print(movie_list[index])\n",
    "movie_list[index]['trailer_element'].click()\n",
    "time.sleep(3)\n",
    "yt_iframe = browser.find_element_by_xpath(\"//div[@class='lity-content']\")\n",
    "yt_iframe.click()\n"
   ]
  },
  {
   "cell_type": "markdown",
   "metadata": {},
   "source": [
    "\n",
    "**Wrap-up**\n",
    "<ul>\n",
    "<li>We understood how data is usually stored in the web site and how to access it using different kinds of accessors, namely API and direct selectors.</li>\n",
    "<li>We have seen how to capture different kinds of data types(text, audio and pictures).</li>\n",
    "<li>We are now familiar with JSON data and basic No-SQL databases.</li>\n",
    "</ul>\n",
    "</div>"
   ]
  },
  {
   "cell_type": "markdown",
   "metadata": {},
   "source": []
  }
 ],
 "metadata": {
  "interpreter": {
   "hash": "cef9e06bb236b2a8629b07e87a04b187b952a0f661eff5533360a155783f0c33"
  },
  "kernelspec": {
   "display_name": "Python 3.8.8 64-bit ('base': conda)",
   "name": "python3"
  },
  "language_info": {
   "codemirror_mode": {
    "name": "ipython",
    "version": 3
   },
   "file_extension": ".py",
   "mimetype": "text/x-python",
   "name": "python",
   "nbconvert_exporter": "python",
   "pygments_lexer": "ipython3",
   "version": "3.8.8"
  }
 },
 "nbformat": 4,
 "nbformat_minor": 1
}
