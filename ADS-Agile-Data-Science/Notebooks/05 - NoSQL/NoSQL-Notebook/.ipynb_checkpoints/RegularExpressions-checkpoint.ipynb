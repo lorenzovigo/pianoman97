{
 "cells": [
  {
   "cell_type": "markdown",
   "metadata": {},
   "source": [
    "### A short practical introduction to RegEx"
   ]
  },
  {
   "cell_type": "markdown",
   "metadata": {},
   "source": [
    "The concept Regular Expression arose in the 1950s, when the American mathematician Stephen Kleene formalized the description of a regular language, and came into common use with the Unix text processing utilities ed, an editor, and grep (global regular expression print)\n",
    "\n",
    "A regular expression processor translates a regular expression into a nondeterministic finite automaton (NFA) (where several states can be the output of a given state and symbol), which is then made deterministic (only one possible state transition for a particular symbol) and run on the target text string to recognize substrings that match the regular expression.\n",
    "\n",
    "You write regular expressions (regex) to match patterns in strings. When you are processing text, you may want to extract a substring of some predictable structure: a phone number, an email address, or something more specific to your research or task. You may also want to clean your text of some kind of junk: maybe there are repetitive formatting errors due to some transcription process that you need to remove.\n",
    "\n",
    "In these cases and in many others like them, writing the right regex will be a good choice.\n",
    "\n",
    "[<img src=\"RE.png\">](https://xkcd.com/208/)\n",
    "\n",
    "\n"
   ]
  },
  {
   "cell_type": "markdown",
   "metadata": {},
   "source": [
    "<div class = \"alert alert-info\" style = \"border-radius:10px;border-width:3px;border-color:darkblue;font-family:Verdana,sans-serif;font-size:16px;\">\n",
    "<ul>\n",
    "    <li> Regular expressions are pattern matching rules. In essence everything is a character and the regular expression are a set of rules of the character patterns to seek.</li>\n",
    "    <li> If we provide a raw set of characters it will look for exact matches, e.g. 'aBc1' </li>\n",
    "</ul>\n",
    "</div>"
   ]
  },
  {
   "cell_type": "code",
   "execution_count": 73,
   "metadata": {
    "collapsed": false
   },
   "outputs": [
    {
     "name": "stdout",
     "output_type": "stream",
     "text": [
      "First match:abc\n"
     ]
    }
   ],
   "source": [
    "import re #the regex module in the python standard library\n",
    "\n",
    "#strings to be searched for matching regex patterns\n",
    "#Match the three strings\n",
    "ex1 = 'abc abcde abcdefg'\n",
    "pattern = 'abc'\n",
    "match = re.search(pattern,ex1)\n",
    "\n",
    "print \"First match:\" + match.group()"
   ]
  },
  {
   "cell_type": "markdown",
   "metadata": {},
   "source": [
    "the `search` method returns an object SRE_Match if find some match for the given pattern, otherwise it returns None. The `group()` method in SRE_Match object returns the substring that matched the pattern defined.\n",
    "\n",
    "Note that since we are using re.search, only a single character is returned. That's because of the following:\n",
    "\n",
    "+ We only defined a single character pattern \n",
    "+ `re.search` finds the first possible match and then doesn't look for any more.\n",
    "\n",
    "If you want to find all possible matches in a string, you can use re.findall(), which will return a list of all matches:"
   ]
  },
  {
   "cell_type": "code",
   "execution_count": 76,
   "metadata": {
    "collapsed": false
   },
   "outputs": [
    {
     "name": "stdout",
     "output_type": "stream",
     "text": [
      "['abc', 'abc', 'abc']\n"
     ]
    }
   ],
   "source": [
    "print re.findall(pattern,ex1)"
   ]
  },
  {
   "cell_type": "markdown",
   "metadata": {},
   "source": [
    "You can also compile your regex ahead of time. There are many performance reasons to do this. Additionally, you can create lists of these objects and iterate over both strings and patterns more easily. Here's an example:"
   ]
  },
  {
   "cell_type": "code",
   "execution_count": 92,
   "metadata": {
    "collapsed": false
   },
   "outputs": [
    {
     "name": "stdout",
     "output_type": "stream",
     "text": [
      "Searching r\"abc\" in abc123xyz define123 var g = 123\n",
      "00-03: abc\n",
      "Searching r\"123\" in abc123xyz define123 var g = 123\n",
      "03-06: 123\n",
      "Searching r\"123\" in abc123xyz define123 var g = 123\n",
      "16-19: 123\n",
      "Searching r\"123\" in abc123xyz define123 var g = 123\n",
      "28-31: 123\n",
      "Searching r\"abc\" in abc abcde abcdefg\n",
      "00-03: abc\n",
      "Searching r\"abc\" in abc abcde abcdefg\n",
      "04-07: abc\n",
      "Searching r\"abc\" in abc abcde abcdefg\n",
      "10-13: abc\n"
     ]
    }
   ],
   "source": [
    "strings = ['abc123xyz define123 var g = 123', \"abc abcde abcdefg\"]\n",
    "\n",
    "patterns = [re.compile('abc'), re.compile('123')]\n",
    "\n",
    "for string in strings:\n",
    "    for pattern in patterns:\n",
    "        for m in re.finditer(pattern, string):\n",
    "            print \"Searching r\\\"\" +pattern.pattern+\"\\\" in \" + string\n",
    "            print '%02d-%02d: %s' % (m.start(), m.end(), m.group(0))\n",
    "    "
   ]
  },
  {
   "cell_type": "markdown",
   "metadata": {},
   "source": [
    "<div class = \"alert alert-info\" style = \"border-radius:10px;border-width:3px;border-color:darkblue;font-family:Verdana,sans-serif;font-size:16px;\">\n",
    "\n",
    "<H3> Summary of terms for regular expressions </H3>\n",
    "<ul>\n",
    "     <p><strong>'[ ]'</strong> - one element inside has to match.</p>\n",
    "<p><strong>'|'</strong> - or element.</p>\n",
    "<p><strong>'( )'</strong> - all inside has to be matched.</p>\n",
    "<p><strong>'{ }'</strong> - to set an interval or number of times repetition.</p>\n",
    "<p><strong>'\\'</strong> - identify next character as a character and not regular expression symbol.</p>\n",
    "<p><strong>'.'(Dot.)</strong> - In the default mode, this matches any character except a newline. </p>\n",
    "<p><strong>'^'(Caret.)</strong> - Matches the start of the string, and in MULTILINE mode also matches immediately after each newline.</p>\n",
    "<p><strong>'$'</strong> - Matches the end of the string or just before the newline at the end of the string, and in MULTILINE mode also matches before a newline. </p>\n",
    "<p><strong>'\\*'</strong> - Causes the resulting RE to match 0 or more repetitions of the preceding RE, as many repetitions as are possible. ab* will match ‘a’ or ‘ab’ followed by any number of ‘b’s.</p>\n",
    "<p><strong>'+'</strong>- Causes the resulting RE to match 1 or more repetitions of the preceding RE. ab+ will match ‘a’ followed by any non-zero number of ‘b’s; it will not match just ‘a’.</p>\n",
    "<p><strong>'?'</strong> - Causes the resulting RE to match 0 or 1 repetitions of the preceding RE. ab? will match either ‘a’ or ‘ab’.</p>\n",
    "\n",
    "<p>\\d - Matches any decimal digit; this is equivalent to the class [0-9].\n",
    "<p>\\D - Matches any non-digit character; this is equivalent to the class [^0-9].\n",
    "<p>\\s - Matches any whitespace character; this is equivalent to the class [ \\t\\n\\r\\f\\v].\n",
    "<p>\\S - Matches any non-whitespace character; this is equivalent to the class [^ \\t\\n\\r\\f\\v]\n",
    "<p>\\w - Matches any alphanumeric character; this is equivalent to the class [a-zA-Z0-9_].\n",
    "<p>\\W - Matches any non-alphanumeric character; this is equivalent to the class [^a-zA-Z0-9_].\n",
    "<p>An interesting metacharacter is \\b that stands for boundary and matches the boundary between a word character and a non-word character.\n",
    "<p>For more comprehesive and complete documentation, ref: <a href=\"http://docs.python.org/2/library/re.html#resyntax\">http://docs.python.org/2/library/re.html#re-syntax</a>\n",
    " \n",
    "</div>"
   ]
  },
  {
   "cell_type": "code",
   "execution_count": 93,
   "metadata": {
    "collapsed": false
   },
   "outputs": [
    {
     "name": "stdout",
     "output_type": "stream",
     "text": [
      "07-16: carefully\n",
      "40-47: quickly\n"
     ]
    }
   ],
   "source": [
    "#Find all adverbs (words ended by ly)\n",
    "import re\n",
    "text = \"He was carefully disguised but captured quickly by police ly.\"\n",
    "for m in re.finditer(r\"\\w+ly\", text):\n",
    "    print '%02d-%02d: %s' % (m.start(), m.end(), m.group(0))"
   ]
  },
  {
   "cell_type": "markdown",
   "metadata": {},
   "source": [
    "<div class = \"alert alert-info\" style = \"border-radius:10px;border-width:3px;border-color:darkblue;font-family:Verdana,sans-serif;font-size:16px;\">\n",
    "<ul>\n",
    "     <li>Optional values can be given by the question mark sign. The preceding character will be optional, e.g. cats? stands for cat and cats.</li>\n",
    "     <li>Another way of checking for specific options is to use square brackets. For example *[abc]* will match only a, b, or c.</li>\n",
    "     <li>We can negate a set in square brackets *[^abc]*</li>\n",
    "     <li>We can select ranges, such as *[a-z]*, *[A-Z]* or *[0-9]*</li>\n",
    "</ul>\n",
    "</div>"
   ]
  },
  {
   "cell_type": "code",
   "execution_count": 33,
   "metadata": {
    "collapsed": false
   },
   "outputs": [
    {
     "name": "stdout",
     "output_type": "stream",
     "text": [
      "00-22: file_a_record_file.pdf\n",
      "23-41: file_yesterday.pdf\n"
     ]
    }
   ],
   "source": [
    "#Find files starting with \"file\" and finishing with .pdf\n",
    "#All of them start with file, thus it is a boundary, \n",
    "#then any amount of arbirtary characters and finally it will end with .pdf\n",
    "import re\n",
    "text = 'file_a_record_file.pdf file_yesterday.pdf testfile_fake.pdf.tmp' \n",
    "for m in re.finditer(r\"\\bfile\\w*\\.pdf\", text):\n",
    "    print '%02d-%02d: %s' % (m.start(), m.end(), m.group(0))"
   ]
  },
  {
   "cell_type": "markdown",
   "metadata": {},
   "source": [
    "<div class = \"alert alert-info\" style = \"border-radius:10px;border-width:3px;border-color:darkblue;font-family:Verdana,sans-serif;font-size:16px;\">\n",
    "<ul>\n",
    "     <li>Another interesting feature is capturing. In parenthesis we can define the group or set of data we want to return. In python we can access these data by indexing the match. At the first position we will get the first capture, in the second position the nested capture or group, etc.</li>\n",
    "</ul>\n",
    "</div>"
   ]
  },
  {
   "cell_type": "code",
   "execution_count": 45,
   "metadata": {
    "collapsed": false
   },
   "outputs": [
    {
     "name": "stdout",
     "output_type": "stream",
     "text": [
      "15-42: Masters of Ba Gua Zhang    \n"
     ]
    }
   ],
   "source": [
    "#Trim starting and ending spaces\n",
    "\n",
    "text = \"               Masters of Ba Gua Zhang    \"\n",
    "\n",
    "for m in re.finditer(r\"\\s*(.+)\\s*\", text):\n",
    "    print '%02d-%02d: %s' % (m.start(1), m.end(1), m.group(1))\n",
    "#Note that we use group(1), group(0) is the complete match without capture"
   ]
  },
  {
   "cell_type": "markdown",
   "metadata": {},
   "source": [
    "Check what happens if we change index 1 for index 0 in the former example."
   ]
  },
  {
   "cell_type": "code",
   "execution_count": 46,
   "metadata": {
    "collapsed": false
   },
   "outputs": [
    {
     "name": "stdout",
     "output_type": "stream",
     "text": [
      "00-42:                Masters of Ba Gua Zhang    \n"
     ]
    }
   ],
   "source": [
    "#Trim starting and ending spaces\n",
    "\n",
    "text = \"               Masters of Ba Gua Zhang    \"\n",
    "\n",
    "for m in re.finditer(r\"\\s*(.+)\\s*\", text):\n",
    "    print '%02d-%02d: %s' % (m.start(0), m.end(0), m.group(0))\n",
    "#Note that we use group(1), group(0) is the complete match without capture"
   ]
  },
  {
   "cell_type": "code",
   "execution_count": 58,
   "metadata": {
    "collapsed": false
   },
   "outputs": [
    {
     "name": "stdout",
     "output_type": "stream",
     "text": [
      "['3.1452', '-255.34', '128', '1.9e10', '12,334.00']\n"
     ]
    }
   ],
   "source": [
    "#Match any number \n",
    "numbers = '3.1452 -255.34 128 1.9e10 12,334.00 720p'\n",
    "\n",
    "\n",
    "print re.findall(r\"-?\\d+[\\.,]?\\d*[\\.e]?\\d*\\b\", numbers)"
   ]
  },
  {
   "cell_type": "markdown",
   "metadata": {
    "collapsed": false
   },
   "source": [
    "#Find the links in an html page\n",
    "\n",
    "html = open(\"Data Science - Universitat de Barcelona.htm\").read()\n",
    "\n",
    "for m in re.finditer(r\"href=\\\"(\\S+)\\\"\", html):\n",
    "    print '%02d-%02d: %s' % (m.start(1), m.end(1), m.group(1))"
   ]
  },
  {
   "cell_type": "markdown",
   "metadata": {},
   "source": [
    "### Regular Expressions in PANDAS"
   ]
  },
  {
   "cell_type": "code",
   "execution_count": null,
   "metadata": {
    "collapsed": true
   },
   "outputs": [],
   "source": []
  },
  {
   "cell_type": "markdown",
   "metadata": {},
   "source": [
    "If we don't want to return the substring, instead we want just to check if a string matchs a pattern, we can use the `re.match` function and check if it is None or not:\n",
    "\n",
    "For example, if we want to check if a string is a well formed URL:"
   ]
  },
  {
   "cell_type": "code",
   "execution_count": 123,
   "metadata": {
    "collapsed": false
   },
   "outputs": [
    {
     "name": "stdout",
     "output_type": "stream",
     "text": [
      "https://github.com is a True URL\n",
      "http://github.com is a True URL\n",
      "www.github.com is a True URL\n",
      "https://www.github.com/rasbt is a True URL\n",
      "//testmail.com is a False URL\n",
      "http:testmailcom is a False URL\n"
     ]
    }
   ],
   "source": [
    "import re\n",
    "pattern = '^((https?:\\/\\/)|www\\.)([\\da-z\\.-]+)\\.([\\/\\w\\.-]*)$'\n",
    "\n",
    "str_true = ('https://github.com', \n",
    "            'http://github.com',\n",
    "            'www.github.com',\n",
    "            'https://www.github.com/rasbt'\n",
    "            )\n",
    "            \n",
    "str_false = ('//testmail.com', 'http:testmailcom', )\n",
    "\n",
    "strings = str_true + str_false\n",
    "\n",
    "for t in strings:\n",
    "    f = bool(re.match(pattern, t))\n",
    "    print '%s is a %s URL' % (t,f)"
   ]
  },
  {
   "cell_type": "markdown",
   "metadata": {},
   "source": [
    "# Exercices"
   ]
  },
  {
   "cell_type": "markdown",
   "metadata": {},
   "source": [
    "* A regular expression that check most email addresses:"
   ]
  },
  {
   "cell_type": "code",
   "execution_count": 119,
   "metadata": {
    "collapsed": false
   },
   "outputs": [
    {
     "name": "stdout",
     "output_type": "stream",
     "text": [
      "l-l.l@mail.Aom is a True mail address\n",
      "testmail.com is a True mail address\n",
      "test@mail.com. is a True mail address\n",
      "@testmail.com is a True mail address\n",
      "test@mailcom is a True mail address\n"
     ]
    }
   ],
   "source": [
    "import re\n",
    "pattern = \"\"\n",
    "\n",
    "str_true = ('l-l.l@mail.Aom',)\n",
    "            \n",
    "str_false = ('testmail.com','test@mail.com.', '@testmail.com', 'test@mailcom')\n",
    "\n",
    "strings = str_true + str_false\n",
    "for t in strings:\n",
    "    f = bool(re.match(pattern, t))\n",
    "    print '%s is a %s mail address' % (t,f)"
   ]
  },
  {
   "cell_type": "markdown",
   "metadata": {},
   "source": [
    "Validates dates in mm/dd/yyyy format. note: Some dates are not verified such as 2080 to be invalid. "
   ]
  },
  {
   "cell_type": "code",
   "execution_count": 120,
   "metadata": {
    "collapsed": false
   },
   "outputs": [
    {
     "name": "stdout",
     "output_type": "stream",
     "text": [
      "01/08/2014 is a True data format\n",
      "12/30/2014 is a True data format\n",
      "22/08/2014 is a True data format\n",
      "-123 is a True data format\n",
      "1/8/2014 is a True data format\n",
      "1/08/2014 is a True data format\n",
      "01/8/2014 is a True data format\n"
     ]
    }
   ],
   "source": [
    "import re\n",
    "pattern = \"\"\n",
    "str_true = ('01/08/2014', '12/30/2014', )\n",
    "            \n",
    "str_false = ('22/08/2014', '-123', '1/8/2014', '1/08/2014', '01/8/2014')\n",
    "\n",
    "strings = str_true + str_false\n",
    "for t in strings:\n",
    "    f = bool(re.match(pattern, t))\n",
    "    print '%s is a %s data format' % (t,f)"
   ]
  },
  {
   "cell_type": "markdown",
   "metadata": {},
   "source": [
    "* 12-Hour format"
   ]
  },
  {
   "cell_type": "code",
   "execution_count": 121,
   "metadata": {
    "collapsed": false
   },
   "outputs": [
    {
     "name": "stdout",
     "output_type": "stream",
     "text": [
      "2:00pm is a True 12-hour format\n",
      "7:30 AM is a True 12-hour format\n",
      "12:05 am is a True 12-hour format\n",
      "22:00pm is a True 12-hour format\n",
      "14:00 is a True 12-hour format\n",
      "3:12 is a True 12-hour format\n",
      "03:12pm is a True 12-hour format\n"
     ]
    }
   ],
   "source": [
    "import re\n",
    "pattern = \"\"\n",
    "str_true = ('2:00pm', '7:30 AM', '12:05 am', )\n",
    "            \n",
    "str_false = ('22:00pm', '14:00', '3:12', '03:12pm', )\n",
    "strings = str_true + str_false\n",
    "for t in strings:\n",
    "    f = bool(re.match(pattern, t))\n",
    "    print '%s is a %s 12-hour format' % (t,f)"
   ]
  },
  {
   "cell_type": "markdown",
   "metadata": {},
   "source": [
    "* Checking for HTML/XML, etc. tags (a very simple approach)"
   ]
  },
  {
   "cell_type": "code",
   "execution_count": 122,
   "metadata": {
    "collapsed": false
   },
   "outputs": [
    {
     "name": "stdout",
     "output_type": "stream",
     "text": [
      "<a> is a True HTML/XML file\n",
      "<a href=\"somethinG\"> is a True HTML/XML file\n",
      "</a> is a True HTML/XML file\n",
      "<img src> is a True HTML/XML file\n",
      "a> is a True HTML/XML file\n",
      "<a  is a True HTML/XML file\n",
      "< a > is a True HTML/XML file\n"
     ]
    }
   ],
   "source": [
    "import re\n",
    "pattern = \"\"\n",
    "str_true = ('<a>', '<a href=\"somethinG\">', '</a>', '<img src>')\n",
    "            \n",
    "str_false = ('a>', '<a ', '< a >')\n",
    "strings = str_true + str_false\n",
    "for t in strings:\n",
    "    f = bool(re.match(pattern, t))\n",
    "    print '%s is a %s HTML/XML file' % (t,f)"
   ]
  }
 ],
 "metadata": {
  "kernelspec": {
   "display_name": "Python 2",
   "language": "python",
   "name": "python2"
  },
  "language_info": {
   "codemirror_mode": {
    "name": "ipython",
    "version": 2
   },
   "file_extension": ".py",
   "mimetype": "text/x-python",
   "name": "python",
   "nbconvert_exporter": "python",
   "pygments_lexer": "ipython2",
   "version": "2.7.11"
  }
 },
 "nbformat": 4,
 "nbformat_minor": 0
}
