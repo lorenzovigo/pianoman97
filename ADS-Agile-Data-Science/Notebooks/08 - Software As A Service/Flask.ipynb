{
 "cells": [
  {
   "cell_type": "markdown",
   "metadata": {},
   "source": [
    "# FLASK\n",
    "\n",
    "Flask is a microframework for Python\n",
    "\n",
    "* built-in development server and debugger\n",
    "* integrated unit testing support\n",
    "* RESTful request dispatching\n",
    "* uses Jinja2 templating\n",
    "* support for secure cookies (client side sessions)\n",
    "* 100% WSGI 1.0 compliant\n",
    "* Unicode based\n",
    "* extensively documented"
   ]
  },
  {
   "cell_type": "markdown",
   "metadata": {},
   "source": [
    "1. Open a terminal in the directory where you would like your project to be located.\n",
    "2. Create a virtual environment: \n",
    "    + Without Conda:\n",
    "        + pip install virtualenv\n",
    "        + virtualenv flask\n",
    "        + source venv/bin/activate\n",
    "        + pip install flask\n",
    "    + With Conda:\n",
    "        + conda create --name flask flask\n",
    "        + source activate flask\n",
    "3. Verify whether Flask is installed with a simple smoke test,\n",
    "\n",
    "    python -m flask.config\n",
    "\n",
    "Nothing will be displayed if Flask is installed."
   ]
  },
  {
   "cell_type": "markdown",
   "metadata": {
    "collapsed": true
   },
   "source": [
    "### Documentation\n",
    "* Flask docs available at: flask.pocoo.org/docs/.\n",
    "\n",
    "* Werkzeug docs available at: werkzeug.pocoo.org/docs/. Werkzeug is Flask's underlying web service implementation.\n",
    "\n",
    "* Jinja docs available at: jinja.pocoo.org/docs/. Jinja is Flask's default template engine.\n",
    "\n",
    "\n",
    "    "
   ]
  },
  {
   "cell_type": "markdown",
   "metadata": {},
   "source": [
    "### First web aplication"
   ]
  },
  {
   "cell_type": "markdown",
   "metadata": {
    "collapsed": true
   },
   "source": [
    "* Put this code into a file named `hello.py` :\n",
    "\n",
    "``` python\n",
    "from flask import Flask\n",
    "app = Flask(__name__)\n",
    "\n",
    "@app.route('/')\n",
    "def hello():\n",
    "    return 'Hello, world!'\n",
    "\n",
    "if __name__ == '__main__':\n",
    "    app.run()\n",
    "```"
   ]
  },
  {
   "cell_type": "markdown",
   "metadata": {},
   "source": [
    "* Run this application from the console:\n",
    "\n",
    "    `$ python hello.py`\n"
   ]
  },
  {
   "cell_type": "markdown",
   "metadata": {},
   "source": [
    "* If this runs correctly, you will see:\n",
    "\n",
    "    \\* Running on http://127.0.0.1:5000/\n",
    "\n",
    "This is a URL, which you can visit in your browser. When you do, your browser will display a plain page which says \"Hello, world!\" (without quotes).\n",
    "\n",
    "Note that the address 127.0.0.1 refers to localhost, such that Flask will only respond to requests from the host running the code."
   ]
  },
  {
   "cell_type": "markdown",
   "metadata": {},
   "source": [
    "### Step by step:"
   ]
  },
  {
   "cell_type": "code",
   "execution_count": 1,
   "metadata": {},
   "outputs": [],
   "source": [
    "from flask import Flask\n",
    "app = Flask(__name__)"
   ]
  },
  {
   "cell_type": "markdown",
   "metadata": {},
   "source": [
    "This creates a Python object app, which is a WSGI application. WSGI stands for Web Service Gateway Interface, and is the Python community's standard interface for hosting web projects. \n",
    "\n",
    "The next block sets up a function to handle web requests to the '/' URL:"
   ]
  },
  {
   "cell_type": "code",
   "execution_count": 2,
   "metadata": {},
   "outputs": [],
   "source": [
    "@app.route('/')\n",
    "def hello():\n",
    "  return 'Hello, world!'\n"
   ]
  },
  {
   "cell_type": "markdown",
   "metadata": {},
   "source": [
    "Every time Flask gets a request to the '/' URL, it will call the hello function. The Python web community calls these routed functions view functions. In general, view functions in Flask return strings for web responses, and here we provide a simple \"Hello, world!\" response for all the requests, to prove that things are working.\n",
    "\n",
    "The final block tells Python to run a development web server, but to only do so if the current .py file is being called directly, (not imported):\n",
    "\n",
    "**Alert:** stop the server before run it again, elsewhere it will raise an *\"Address Already in Use\"* error. \n",
    "\n",
    "**Press stop button** for finish *run* process\n"
   ]
  },
  {
   "cell_type": "code",
   "execution_count": 3,
   "metadata": {
    "collapsed": true
   },
   "outputs": [],
   "source": [
    "if __name__ == '__main__':\n",
    "  app.run()"
   ]
  },
  {
   "cell_type": "markdown",
   "metadata": {},
   "source": [
    "### Development server\n"
   ]
  },
  {
   "cell_type": "markdown",
   "metadata": {},
   "source": [
    "If you need to access your Flask application from another machine on the network, use:"
   ]
  },
  {
   "cell_type": "code",
   "execution_count": 7,
   "metadata": {
    "collapsed": true
   },
   "outputs": [],
   "source": [
    "app.run('0.0.0.0')"
   ]
  },
  {
   "cell_type": "markdown",
   "metadata": {},
   "source": [
    "The default port for Flask's development server is 5000, and we will use localhost on port 5000 throughout this book. If this is already in use, or you would like to use a different port, you can set it via the second argument to the run method, as follows."
   ]
  },
  {
   "cell_type": "code",
   "execution_count": 9,
   "metadata": {
    "collapsed": true
   },
   "outputs": [],
   "source": [
    "app.run('0.0.0.0', 8080)"
   ]
  },
  {
   "cell_type": "markdown",
   "metadata": {},
   "source": [
    "The development server given by app.run is for development only. When you are ready to publish your application, use a industrial web server.  Because we are using app.run for development only, let's turn on the debug mode, which will provide an interactive debugger in the web browser when uncaught exceptions occur and will reload code on changes to existing Python files in your project. You should only use '0.0.0.0' and/or debug mode on a trusted network. Add debug=True to the run line, keeping any other arguments you already added:"
   ]
  },
  {
   "cell_type": "code",
   "execution_count": 10,
   "metadata": {
    "collapsed": true
   },
   "outputs": [],
   "source": [
    "app.run(debug=True)"
   ]
  }
 ],
 "metadata": {
  "kernelspec": {
   "display_name": "Python 3",
   "language": "python",
   "name": "python3"
  },
  "language_info": {
   "codemirror_mode": {
    "name": "ipython",
    "version": 3
   },
   "file_extension": ".py",
   "mimetype": "text/x-python",
   "name": "python",
   "nbconvert_exporter": "python",
   "pygments_lexer": "ipython3",
   "version": "3.9.4"
  }
 },
 "nbformat": 4,
 "nbformat_minor": 1
}
