{
 "cells": [
  {
   "cell_type": "markdown",
   "metadata": {},
   "source": [
    "# Deploying Dash application using [Heroku](https://dashboard.heroku.com/apps)"
   ]
  },
  {
   "cell_type": "markdown",
   "metadata": {},
   "source": [
    "Heroku was one of the first platform as a service providers. It started as a hosting option for Ruby based applications, but then grew to support many other languages like Java, Node.js and our favorite, Python.\n",
    "\n",
    "In essence, deploying a web application to Heroku requires just uploading the application using git. Heroku looks for a file called Procfile in the application's root directory for instructions on how to execute the application. For Python projects Heroku also expects a requirements.txt file that lists all the module dependencies that need to be installed."
   ]
  },
  {
   "cell_type": "markdown",
   "metadata": {},
   "source": [
    "**Step 1. Create an account in [Github](http://www.github.com)**\n",
    "\n",
    "<a href=\"https://github.com/join\"  class=\"btn btn-sm btn-primary\" data-ga-click=\"Dashboard, click, Sidebar header new repo button - context:user\">Sign up for GitHub</a>\n",
    "\n",
    "\n",
    "<p><strong> Step 2. Create a new Repository in </strong></p>\n",
    "\n",
    "<a href=\"http://www.github.com/new\" class=\"btn btn-sm btn-primary\" data-ga-click=\"Dashboard, click, Sidebar header new repo button - context:user\">New repository</a>\n",
    "\n",
    "\n",
    "* call it `dash_app_example`\n",
    "* Check: `Initialize this repository with a README``\n",
    "* Add .gitignore: Python\n",
    "\n",
    "<p><strong> Step 3. Clone your repository </strong></p>\n",
    "\n",
    "* Find this button:\n",
    "\n",
    "<details class=\"get-repo-select-menu js-menu-container float-right position-relative dropdown-details details-reset\" open=\"\">\n",
    "  <summary class=\"btn btn-sm btn-primary\">\n",
    "    Clone or download\n",
    "    <span class=\"dropdown-caret\"></span>\n",
    "  </summary>\n",
    "</details>\n",
    "\n",
    "* And select Open in Desktop. Shortly the github desktop application will be downloaded. \n",
    "* Choose a local folder called `dash_app_example` for cloning the remote repository\n",
    "\n",
    "\n",
    "<p><strong>Step 4. Download your app notebook as py :</strong></p>\n",
    "\n",
    "* Create a notebook with only one cell where your Dash application is written. \n",
    "* Go to  `app = dash.Dash()` line and replace it with:\n",
    "```\n",
    "    app = dash.Dash(__name__)\n",
    "    server = app.server\n",
    "```\n",
    "* add an external css adding this line, after previous one :\n",
    "\n",
    "```\n",
    "    app.css.append_css({\"external_url\": \"https://codepen.io/chriddyp/pen/bWLwgP.css\"})\n",
    "\n",
    "```\n",
    "* Go to File -> Download as -> Python (.py) \n",
    "* save as `app.py` into `dash_app_example` folder\n"
   ]
  },
  {
   "cell_type": "markdown",
   "metadata": {},
   "source": [
    "<strong>Step 5. Creating Heroku account</strong>\n",
    "\n",
    "Before we can deploy to Heroku we need to have an account with them. So head over to [www.heroku.com](http://www.heroku.com) and create an account.\n",
    "Once you are logged in you have access to a dashboard, where all your apps can be managed. \n"
   ]
  },
  {
   "cell_type": "markdown",
   "metadata": {},
   "source": [
    "<strong>Step 7 Creating a Heroku app</strong>\n",
    "\n",
    "To create a new Heroku app just clicking the **NEW** button in Heroku web application\n",
    "\n",
    "Of course the name dask-app-example is now taken, so make sure you use a different app name."
   ]
  },
  {
   "cell_type": "markdown",
   "metadata": {},
   "source": [
    "<strong>Step 8. Creating the requirements.txt file</strong>\n",
    "\n",
    "* create a requirements.txt file with all pyhon packages dependences (check your own packages versions using `pip freeze`)\n",
    "\n",
    "```\n",
    "dash==1.6.0  # The core dash backend\n",
    "dash-daq==0.2.1  # DAQ components (newly open-sourced!)\n",
    "pandas==0.25.2\n",
    "gunicorn==19.9.0\n",
    "```\n",
    "\n",
    "\n",
    "Heroku does not provide a web server. Instead, it expects the application to start its own server on the port number given in environment variable $PORT.\n",
    "\n",
    "We know the Flask web server is not good for production use because it is single process and single threaded, so we need a better server. The Heroku tutorial for Python suggests `gunicorn`, a pre-fork style web server written in Python, so that's the one we'll use.\n",
    "\n",
    "The `gunicorn` web server needs to be added to the `requirements.txt` inside the app directory\n",
    "\n"
   ]
  },
  {
   "cell_type": "markdown",
   "metadata": {},
   "source": [
    "<strong>Step 9. Creating Procfile file</strong>\n",
    "\n",
    "The last requirement is to tell Heroku how to run the application. For this Heroku requires a file called `Procfile` in the root folder of the application.\n",
    "\n",
    "This file is extremely simple, it just defines process names and the commands associated with them (file `Procfile`):\n",
    "\n",
    "    web: gunicorn app:server\n",
    "\n",
    "(Note that app refers to the module `app` in the file `app.py`, and `server` refers to the variable server inside that module. The web label is associated with the web server. Heroku expects this task and will use it to start our application.)\n"
   ]
  },
  {
   "cell_type": "markdown",
   "metadata": {},
   "source": [
    "    \n",
    "<p><strong>Step 10. Push changes to remote repository:</strong></p>\n",
    "\n",
    "Go to Github Desktop and commit and push the new files:\n",
    "* Add a Summary (a message telling what modifications you did to your code)\n",
    "* Click the commit to master button\n",
    "* Click on the push origin tab "
   ]
  },
  {
   "cell_type": "markdown",
   "metadata": {},
   "source": [
    "<p><strong>Step 11. Deploying the application:</strong></p>\n",
    "\n",
    "And now, we push the application to our Heroku hosting account. It can be done using the heroku web application:\n",
    "*  Go to the deployment panel (up arrow) \n",
    "* Scroll down until you find \"Deployment method\" and select GITHUB\n",
    "* Find your repo and connect it\n",
    "* Pick the master branch and deploy it\n",
    "\n",
    "\n",
    "If the process worked well, now the application is online: \n",
    "\n",
    "    Your app was successfully deployed.\n",
    "\n",
    "[https://eloi-puertas-dash-example.herokuapp.com/](https://eloi-puertas-dash-example.herokuapp.com/)"
   ]
  }
 ],
 "metadata": {
  "kernelspec": {
   "display_name": "Python 3",
   "language": "python",
   "name": "python3"
  },
  "language_info": {
   "codemirror_mode": {
    "name": "ipython",
    "version": 3
   },
   "file_extension": ".py",
   "mimetype": "text/x-python",
   "name": "python",
   "nbconvert_exporter": "python",
   "pygments_lexer": "ipython3",
   "version": "3.9.4"
  }
 },
 "nbformat": 4,
 "nbformat_minor": 2
}
