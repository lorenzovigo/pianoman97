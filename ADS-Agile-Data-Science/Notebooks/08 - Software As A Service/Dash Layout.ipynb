{
 "cells": [
  {
   "cell_type": "markdown",
   "metadata": {},
   "source": [
    "<div><div><div><div><h1>Dash Installation</h1><p><!-- react-text: 18130 -->In your terminal, install several dash libraries.\n",
    "These libraries are under active development,\n",
    "    \n",
    "<code>\n",
    "pip install dash==1.6.0  # The core dash backend\n",
    "pip install dash-daq==0.2.1  # DAQ components (newly open-sourced!)\n",
    "</code>"
   ]
  },
  {
   "cell_type": "markdown",
   "metadata": {},
   "source": [
    "<div><hr><h4>Generating HTML with Dash</h4><p><!-- react-text: 18300 -->Dash apps are composed of two parts. The first part is the \"<!-- /react-text --><code>layout</code><!-- react-text: 18302 -->\" of\n",
    "the app and it describes what the application looks like.\n",
    "The second part describes the interactivity of the application.<!-- /react-text --></p><p><!-- react-text: 18304 -->Dash provides Python classes for all of the visual components of\n",
    "the application. We maintain a set of components in the\n",
    "<!-- /react-text --><code>dash_core_components</code><!-- react-text: 18306 --> and the <!-- /react-text --><code>dash_html_components</code><!-- react-text: 18308 --> library\n",
    "</p></div>"
   ]
  },
  {
   "cell_type": "code",
   "execution_count": 3,
   "metadata": {},
   "outputs": [
    {
     "name": "stdout",
     "output_type": "stream",
     "text": [
      "Dash is running on http://127.0.0.1:8050/\n",
      "\n",
      "Dash is running on http://127.0.0.1:8050/\n",
      "\n",
      "Dash is running on http://127.0.0.1:8050/\n",
      "\n",
      " * Serving Flask app '__main__' (lazy loading)\n",
      " * Environment: production\n",
      "\u001b[31m   WARNING: This is a development server. Do not use it in a production deployment.\u001b[0m\n",
      "\u001b[2m   Use a production WSGI server instead.\u001b[0m\n",
      " * Debug mode: off\n"
     ]
    },
    {
     "name": "stderr",
     "output_type": "stream",
     "text": [
      " * Running on http://127.0.0.1:8050/ (Press CTRL+C to quit)\n"
     ]
    }
   ],
   "source": [
    "#Here's a quick example\n",
    "\n",
    "import dash\n",
    "import dash_core_components as dcc\n",
    "import dash_html_components as html\n",
    "\n",
    "app = dash.Dash()\n",
    "\n",
    "app.layout = html.Div(children=[\n",
    "    html.H1(children='Hello Dash'),\n",
    "\n",
    "    html.Div(children='''\n",
    "        Dash: A web application framework for Python.\n",
    "    '''),\n",
    "\n",
    "    dcc.Graph(\n",
    "        id='example-graph',\n",
    "        figure={\n",
    "            'data': [\n",
    "                {'x': [1, 2, 3], 'y': [4, 1, 2], 'type': 'line', 'name': 'SF'},\n",
    "                {'x': [1, 2, 3], 'y': [2, 4, 5], 'type': 'line', 'name': u'Montréal'},\n",
    "            ],\n",
    "            'layout': {\n",
    "                'title': 'Dash Data Visualization'\n",
    "            }\n",
    "        }\n",
    "    )\n",
    "])\n",
    "\n",
    "if __name__ == '__main__':\n",
    "    app.run_server(debug=False)"
   ]
  },
  {
   "cell_type": "markdown",
   "metadata": {},
   "source": [
    "<link rel=\"stylesheet\" href=\"https://maxcdn.bootstrapcdn.com/font-awesome/4.3.0/css/font-awesome.min.css\">\n",
    "\n",
    "[http://localhost:8050](http://localhost:8050)\n",
    "\n",
    "Press  <i class=\"fa fa-stop\"></i>  in the tool bar before execute the next cell"
   ]
  },
  {
   "cell_type": "markdown",
   "metadata": {},
   "source": [
    "Note:\n",
    "<ol><li><!-- react-text: 515 -->The <!-- /react-text --><code>layout</code><!-- react-text: 517 --> is composed of a tree of \"components\" like <!-- /react-text --><code>html.Div</code><!-- react-text: 519 -->\n",
    "and <!-- /react-text --><code>dcc.Graph</code><!-- react-text: 521 -->.<!-- /react-text --></li><li><!-- react-text: 523 -->The <!-- /react-text --><code>dash_html_components</code><!-- react-text: 525 --> library has a component for every HTML\n",
    "tag. The <!-- /react-text --><code>html.H1(children='Hello Dash')</code><!-- react-text: 527 --> component generates\n",
    "a <!-- /react-text --><code>&lt;h1&gt;Hello Dash&lt;/h1&gt;</code><!-- react-text: 529 --> HTML element in your application.<!-- /react-text --></li><li><!-- react-text: 531 -->Not all components are pure HTML. The <!-- /react-text --><code>dash_core_components</code><!-- react-text: 533 --> describe\n",
    "higher-level components that are interactive and are generated with\n",
    "JavaScript, HTML, and CSS through the React.js library.<!-- /react-text --></li><li><!-- react-text: 535 -->Each component is described entirely through keyword attributes.\n",
    "Dash is <!-- /react-text --><em><!-- react-text: 537 -->declarative<!-- /react-text --></em><!-- react-text: 538 -->: you will primarily describe your application\n",
    "through these attributes.<!-- /react-text --></li><li><!-- react-text: 540 -->The <!-- /react-text --><code>children</code><!-- react-text: 542 --> property is special. By convention, it's always the\n",
    "first attribute which means that you can omit it:\n",
    "<!-- /react-text --><code>html.H1(children='Hello Dash')</code><!-- react-text: 544 --> is the same as <!-- /react-text --><code>html.H1('Hello Dash')</code><!-- react-text: 546 -->.\n",
    "Also, it can contain a string, a number, a single component, or a\n",
    "list of components.<!-- /react-text --></li><li><!-- react-text: 548 -->The fonts in your application will look a little bit different than\n",
    "what is displayed here. This application is using a\n",
    "custom CSS stylesheet to modify the default styles of the elements, add<!-- /react-text --><pre><code>app.css.append_css({\"external_url\": \"https://codepen.io/chriddyp/pen/bWLwgP.css\"})\n",
    "</code></pre><!-- react-text: 554 -->to your file to get the same look and feel of these examples.<!-- /react-text --></li></ol>"
   ]
  },
  {
   "cell_type": "markdown",
   "metadata": {},
   "source": [
    "<h4>More about HTML</h4>\n",
    "\n",
    "<p><!-- react-text: 557 -->The <!-- /react-text --><code>dash_html_components</code><!-- react-text: 559 --> library contains a component class for every\n",
    "HTML tag as well as keyword arguments for all of the HTML arguments.<!-- /react-text --></p>"
   ]
  },
  {
   "cell_type": "code",
   "execution_count": 4,
   "metadata": {},
   "outputs": [
    {
     "name": "stdout",
     "output_type": "stream",
     "text": [
      "Dash is running on http://127.0.0.1:8050/\n",
      "\n",
      "Dash is running on http://127.0.0.1:8050/\n",
      "\n",
      "Dash is running on http://127.0.0.1:8050/\n",
      "\n",
      "Dash is running on http://127.0.0.1:8050/\n",
      "\n",
      " * Serving Flask app '__main__' (lazy loading)\n",
      " * Environment: production\n",
      "\u001b[31m   WARNING: This is a development server. Do not use it in a production deployment.\u001b[0m\n",
      "\u001b[2m   Use a production WSGI server instead.\u001b[0m\n",
      " * Debug mode: off\n"
     ]
    },
    {
     "name": "stderr",
     "output_type": "stream",
     "text": [
      " * Running on http://127.0.0.1:8050/ (Press CTRL+C to quit)\n",
      "/Users/eloi/Dropbox/DatatonArxius/ds/lib/python3.9/site-packages/dash/resources.py:63: UserWarning:\n",
      "\n",
      "You have set your config to `serve_locally=True` but A local version of https://codepen.io/chriddyp/pen/bWLwgP.css is not available.\n",
      "If you added this file with `app.scripts.append_script` or `app.css.append_css`, use `external_scripts` or `external_stylesheets` instead.\n",
      "See https://dash.plotly.com/external-resources\n",
      "\n",
      "127.0.0.1 - - [07/Oct/2021 23:40:44] \"GET / HTTP/1.1\" 200 -\n",
      "127.0.0.1 - - [07/Oct/2021 23:40:46] \"GET /_dash-dependencies HTTP/1.1\" 200 -\n",
      "127.0.0.1 - - [07/Oct/2021 23:40:46] \"GET /_dash-layout HTTP/1.1\" 200 -\n"
     ]
    }
   ],
   "source": [
    "#Here's a quick example that generates a `Table` from a Pandas dataframe.\n",
    "import dash\n",
    "import dash_core_components as dcc\n",
    "import dash_html_components as html\n",
    "\n",
    "import pandas as pd\n",
    "\n",
    "df = pd.read_csv(\n",
    "    'https://gist.githubusercontent.com/chriddyp/'\n",
    "    'c78bf172206ce24f77d6363a2d754b59/raw/'\n",
    "    'c353e8ef842413cae56ae3920b8fd78468aa4cb2/'\n",
    "    'usa-agricultural-exports-2011.csv')\n",
    "\n",
    "def generate_table(dataframe, max_rows=10):\n",
    "    return html.Table(\n",
    "        # Header\n",
    "        [html.Tr([html.Th(col) for col in dataframe.columns])] +\n",
    "\n",
    "        # Body\n",
    "        [html.Tr([\n",
    "            html.Td(dataframe.iloc[i][col]) for col in dataframe.columns\n",
    "        ]) for i in range(min(len(dataframe), max_rows))]\n",
    "    )\n",
    "\n",
    "app = dash.Dash()\n",
    "app.css.append_css({\"external_url\": \"https://codepen.io/chriddyp/pen/bWLwgP.css\"})\n",
    "\n",
    "app.layout = html.Div(children=[\n",
    "    html.H4(children='US Agriculture Exports (2011)'),\n",
    "    generate_table(df)\n",
    "])\n",
    "\n",
    "if __name__ == '__main__':\n",
    "    app.run_server(debug=False)"
   ]
  },
  {
   "cell_type": "markdown",
   "metadata": {},
   "source": [
    "<link rel=\"stylesheet\" href=\"https://maxcdn.bootstrapcdn.com/font-awesome/4.3.0/css/font-awesome.min.css\">\n",
    "\n",
    "[http://localhost:8050](http://localhost:8050)\n",
    "\n",
    "Press  <i class=\"fa fa-stop\"></i>  in the tool bar before execute the next cell"
   ]
  },
  {
   "cell_type": "markdown",
   "metadata": {},
   "source": [
    "<div><h4>More about Visualization</h4><p><!-- react-text: 1082 -->The <!-- /react-text --><code>dash_core_components</code><!-- react-text: 1084 --> library includes a component called <!-- /react-text --><code>Graph</code><!-- react-text: 1086 -->.<!-- /react-text --></p><p><code>Graph</code><!-- react-text: 1089 --> renders interactive data visualizations using the open source\n",
    "<!-- /react-text --><a href=\"https://github.com/plotly/plotly.js\"><!-- react-text: 1091 -->plotly.js<!-- /react-text --></a><!-- react-text: 1092 --> JavaScript graphing\n",
    "library. Plotly.js supports over 35 chart types and renders charts in\n",
    "both vector-quality SVG and high-performance WebGL.<!-- /react-text --></p><p><!-- react-text: 1094 -->The <!-- /react-text --><code>figure</code><!-- react-text: 1096 --> argument in the <!-- /react-text --><code>dash_core_components.Graph</code><!-- react-text: 1098 --> component is\n",
    "the same <!-- /react-text --><code>figure</code><!-- react-text: 1100 --> argument that is used by <!-- /react-text --><code>plotly.py</code><!-- react-text: 1102 -->, Plotly's\n",
    "open source Python graphing library.\n",
    "Check out the <!-- /react-text --><a href=\"https://plot.ly/python\"><!-- react-text: 1104 -->plotly.py documentation and gallery<!-- /react-text --></a><!-- react-text: 1105 -->\n",
    "to learn more.<!-- /react-text --></p></div>"
   ]
  },
  {
   "cell_type": "code",
   "execution_count": 5,
   "metadata": {},
   "outputs": [
    {
     "name": "stdout",
     "output_type": "stream",
     "text": [
      "Dash is running on http://127.0.0.1:8050/\n",
      "\n",
      "Dash is running on http://127.0.0.1:8050/\n",
      "\n",
      "Dash is running on http://127.0.0.1:8050/\n",
      "\n",
      "Dash is running on http://127.0.0.1:8050/\n",
      "\n",
      "Dash is running on http://127.0.0.1:8050/\n",
      "\n",
      " * Serving Flask app '__main__' (lazy loading)\n",
      " * Environment: production\n",
      "\u001b[31m   WARNING: This is a development server. Do not use it in a production deployment.\u001b[0m\n",
      "\u001b[2m   Use a production WSGI server instead.\u001b[0m\n",
      " * Debug mode: off\n"
     ]
    },
    {
     "name": "stderr",
     "output_type": "stream",
     "text": [
      " * Running on http://127.0.0.1:8050/ (Press CTRL+C to quit)\n",
      "127.0.0.1 - - [07/Oct/2021 23:41:14] \"GET / HTTP/1.1\" 200 -\n",
      "127.0.0.1 - - [07/Oct/2021 23:41:16] \"GET /_dash-layout HTTP/1.1\" 200 -\n",
      "127.0.0.1 - - [07/Oct/2021 23:41:16] \"GET /_dash-dependencies HTTP/1.1\" 200 -\n",
      "127.0.0.1 - - [07/Oct/2021 23:41:16] \"GET /_dash-component-suites/dash/dcc/async-graph.js HTTP/1.1\" 200 -\n",
      "127.0.0.1 - - [07/Oct/2021 23:41:16] \"GET /_dash-component-suites/dash/dcc/async-plotlyjs.js HTTP/1.1\" 200 -\n"
     ]
    }
   ],
   "source": [
    "import dash\n",
    "import dash_core_components as dcc\n",
    "import dash_html_components as html\n",
    "import plotly.graph_objs as go\n",
    "import pandas as pd\n",
    "\n",
    "app = dash.Dash()\n",
    "app.css.append_css({\"external_url\": \"https://codepen.io/chriddyp/pen/bWLwgP.css\"})\n",
    "\n",
    "\n",
    "df = pd.read_csv(\n",
    "    'https://gist.githubusercontent.com/chriddyp/' +\n",
    "    '5d1ea79569ed194d432e56108a04d188/raw/' +\n",
    "    'a9f9e8076b837d541398e999dcbac2b2826a81f8/'+\n",
    "    'gdp-life-exp-2007.csv')\n",
    "\n",
    "app.layout = html.Div([\n",
    "    dcc.Graph(\n",
    "        id='life-exp-vs-gdp',\n",
    "        figure={\n",
    "            'data': [\n",
    "                go.Scatter(\n",
    "                    x=df[df['continent'] == i]['gdp per capita'],\n",
    "                    y=df[df['continent'] == i]['life expectancy'],\n",
    "                    text=df[df['continent'] == i]['country'],\n",
    "                    mode='markers',\n",
    "                    opacity=0.7,\n",
    "                    marker={\n",
    "                        'size': 15,\n",
    "                        'line': {'width': 0.5, 'color': 'white'}\n",
    "                    },\n",
    "                    name=i\n",
    "                ) for i in df.continent.unique()\n",
    "            ],\n",
    "            'layout': go.Layout(\n",
    "                xaxis={'type': 'log', 'title': 'GDP Per Capita'},\n",
    "                yaxis={'title': 'Life Expectancy'},\n",
    "                margin={'l': 40, 'b': 40, 't': 10, 'r': 10},\n",
    "                legend={'x': 0, 'y': 1},\n",
    "                hovermode='closest'\n",
    "            )\n",
    "        }\n",
    "    )\n",
    "])\n",
    "\n",
    "if __name__ == '__main__':\n",
    "    app.run_server()"
   ]
  },
  {
   "cell_type": "markdown",
   "metadata": {},
   "source": [
    "<link rel=\"stylesheet\" href=\"https://maxcdn.bootstrapcdn.com/font-awesome/4.3.0/css/font-awesome.min.css\">\n",
    "\n",
    "[http://localhost:8050](http://localhost:8050)\n",
    "\n",
    "Press  <i class=\"fa fa-stop\"></i>  in the tool bar before execute the next cell"
   ]
  },
  {
   "cell_type": "markdown",
   "metadata": {},
   "source": [
    "<div><h4>Core Components</h4><p><!-- react-text: 1341 -->The <!-- /react-text --><code>dash_core_components</code><!-- react-text: 1343 --> includes a set a higher-level components like\n",
    "dropdowns, graphs, markdown blocks, and more.<!-- /react-text --></p><p><!-- react-text: 1345 -->Like all Dash components, they are described entirely declaratively.\n",
    "Every option that is configurable is available as a keyword argument\n",
    "of the component.<!-- /react-text --></p></div>\n",
    "\n",
    "Here are a few of the available components:"
   ]
  },
  {
   "cell_type": "code",
   "execution_count": 6,
   "metadata": {},
   "outputs": [
    {
     "name": "stdout",
     "output_type": "stream",
     "text": [
      "Dash is running on http://127.0.0.1:8050/\n",
      "\n",
      "Dash is running on http://127.0.0.1:8050/\n",
      "\n",
      "Dash is running on http://127.0.0.1:8050/\n",
      "\n",
      "Dash is running on http://127.0.0.1:8050/\n",
      "\n",
      "Dash is running on http://127.0.0.1:8050/\n",
      "\n",
      "Dash is running on http://127.0.0.1:8050/\n",
      "\n",
      " * Serving Flask app '__main__' (lazy loading)\n",
      " * Environment: production\n",
      "\u001b[31m   WARNING: This is a development server. Do not use it in a production deployment.\u001b[0m\n",
      "\u001b[2m   Use a production WSGI server instead.\u001b[0m\n",
      " * Debug mode: off\n"
     ]
    },
    {
     "name": "stderr",
     "output_type": "stream",
     "text": [
      " * Running on http://127.0.0.1:8050/ (Press CTRL+C to quit)\n",
      "127.0.0.1 - - [07/Oct/2021 23:41:49] \"GET / HTTP/1.1\" 200 -\n",
      "127.0.0.1 - - [07/Oct/2021 23:41:50] \"GET /_dash-layout HTTP/1.1\" 200 -\n",
      "127.0.0.1 - - [07/Oct/2021 23:41:50] \"GET /_dash-dependencies HTTP/1.1\" 200 -\n",
      "127.0.0.1 - - [07/Oct/2021 23:41:50] \"GET /_dash-component-suites/dash/dcc/async-dropdown.js HTTP/1.1\" 200 -\n",
      "127.0.0.1 - - [07/Oct/2021 23:41:50] \"GET /_dash-component-suites/dash/dcc/async-slider.js HTTP/1.1\" 200 -\n"
     ]
    }
   ],
   "source": [
    "import dash\n",
    "import dash_html_components as html\n",
    "import dash_core_components as dcc\n",
    "\n",
    "app = dash.Dash()\n",
    "app.css.append_css({\"external_url\": \"https://codepen.io/chriddyp/pen/bWLwgP.css\"})\n",
    "\n",
    "\n",
    "app.layout = html.Div([\n",
    "    html.Label('Dropdown'),\n",
    "    dcc.Dropdown(\n",
    "        options=[\n",
    "            {'label': 'New York City', 'value': 'NYC'},\n",
    "            {'label': u'Montréal', 'value': 'MTL'},\n",
    "            {'label': 'San Francisco', 'value': 'SF'}\n",
    "        ],\n",
    "        value='MTL'\n",
    "    ),\n",
    "\n",
    "    html.Label('Multi-Select Dropdown'),\n",
    "    dcc.Dropdown(\n",
    "        options=[\n",
    "            {'label': 'New York City', 'value': 'NYC'},\n",
    "            {'label': u'Montréal', 'value': 'MTL'},\n",
    "            {'label': 'San Francisco', 'value': 'SF'}\n",
    "        ],\n",
    "        value=['MTL', 'SF'],\n",
    "        multi=True\n",
    "    ),\n",
    "\n",
    "    html.Label('Radio Items'),\n",
    "    dcc.RadioItems(\n",
    "        options=[\n",
    "            {'label': 'New York City', 'value': 'NYC'},\n",
    "            {'label': u'Montréal', 'value': 'MTL'},\n",
    "            {'label': 'San Francisco', 'value': 'SF'}\n",
    "        ],\n",
    "        value='MTL'\n",
    "    ),\n",
    "\n",
    "    html.Label('Checkboxes'),\n",
    "    dcc.Checklist(\n",
    "        options=[\n",
    "            {'label': 'New York City', 'value': 'NYC'},\n",
    "            {'label': u'Montréal', 'value': 'MTL'},\n",
    "            {'label': 'San Francisco', 'value': 'SF'}\n",
    "        ],\n",
    "        value=['MTL', 'SF']\n",
    "    ),\n",
    "\n",
    "    html.Label('Text Input'),\n",
    "    dcc.Input(value='MTL', type='text'),\n",
    "\n",
    "    html.Label('Slider'),\n",
    "    dcc.Slider(\n",
    "        min=1,\n",
    "        max=8,\n",
    "        marks={i: 'Label {}'.format(i) if i == 1 else str(i) for i in range(1, 9)},\n",
    "        value=5,\n",
    "    ),\n",
    "])\n",
    "\n",
    "if __name__ == '__main__':\n",
    "    app.run_server(debug=False)"
   ]
  },
  {
   "cell_type": "markdown",
   "metadata": {},
   "source": [
    "<link rel=\"stylesheet\" href=\"https://maxcdn.bootstrapcdn.com/font-awesome/4.3.0/css/font-awesome.min.css\">\n",
    "\n",
    "[http://localhost:8050](http://localhost:8050)\n",
    "\n",
    "Press  <i class=\"fa fa-stop\"></i>  in the tool bar before execute the next cell"
   ]
  },
  {
   "cell_type": "markdown",
   "metadata": {},
   "source": [
    "<div><h3>Summary</h3><p><!-- react-text: 1702 -->The <!-- /react-text --><code>layout</code><!-- react-text: 1704 --> of a Dash app describes what the app looks like.\n",
    "The <!-- /react-text --><code>layout</code><!-- react-text: 1706 --> is a hierarchical tree of components.\n",
    "The <!-- /react-text --><code>dash_html_components</code><!-- react-text: 1708 --> library provides classes for all of the HTML\n",
    "tags and the keyword arguments describe the HTML attributes like <!-- /react-text --><code>style</code><!-- react-text: 1710 -->,\n",
    "<!-- /react-text --><code>className</code><!-- react-text: 1712 -->, and <!-- /react-text --><code>id</code><!-- react-text: 1714 -->.\n",
    "The <!-- /react-text --><code>dash_core_components</code><!-- react-text: 1716 --> library generates higher-level\n",
    "components like controls and graphs.<!-- /react-text --></p><p><!-- react-text: 1718 -->For reference, see:<!-- /react-text --></p></div>\n",
    "\n",
    "<ul>\n",
    "<li><code>dash_core_components</code> <a href = https://plot.ly/dash/dash-core-components> gallery<!-- /react-text --></a></li>\n",
    "<li><code>dash_html_components</code> <a href = https://plot.ly/dash/dash-html-components> gallery<!-- /react-text --></a></li></ul>"
   ]
  }
 ],
 "metadata": {
  "kernelspec": {
   "display_name": "ds",
   "language": "python",
   "name": "ds"
  },
  "language_info": {
   "codemirror_mode": {
    "name": "ipython",
    "version": 3
   },
   "file_extension": ".py",
   "mimetype": "text/x-python",
   "name": "python",
   "nbconvert_exporter": "python",
   "pygments_lexer": "ipython3",
   "version": "3.9.4"
  }
 },
 "nbformat": 4,
 "nbformat_minor": 1
}
