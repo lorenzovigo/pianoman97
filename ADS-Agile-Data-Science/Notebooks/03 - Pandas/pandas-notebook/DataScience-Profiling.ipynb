{
 "cells": [
  {
   "cell_type": "markdown",
   "metadata": {},
   "source": [
    "# Profiling"
   ]
  },
  {
   "cell_type": "markdown",
   "metadata": {},
   "source": [
    "Profiling can help to find useless calculations:"
   ]
  },
  {
   "cell_type": "code",
   "execution_count": 2,
   "metadata": {
    "collapsed": false
   },
   "outputs": [
    {
     "name": "stdout",
     "output_type": "stream",
     "text": [
      "0        One Flew Over the Cuckoo's Nest (1975)\n",
      "4201                       Bug's Life, A (1998)\n",
      "8222                             Ben-Hur (1959)\n",
      "8926                  Christmas Story, A (1983)\n",
      "12759               Beauty and the Beast (1991)\n",
      "15859                Sound of Music, The (1965)\n",
      "19503                         Awakenings (1990)\n",
      "23270                 Back to the Future (1985)\n",
      "25853                   Schindler's List (1993)\n",
      "28501                         Pocahontas (1995)\n",
      "37204            Last Days of Disco, The (1998)\n",
      "37339                         Cinderella (1950)\n",
      "40375                          Apollo 13 (1995)\n",
      "41626                          Toy Story (1995)\n",
      "43703                           Rain Man (1988)\n",
      "49748                       Mary Poppins (1964)\n",
      "50759                              Dumbo (1941)\n",
      "52255                Saving Private Ryan (1998)\n",
      "Name: title, dtype: object\n",
      "[\"One Flew Over the Cuckoo's Nest (1975)\"]\n"
     ]
    }
   ],
   "source": [
    "import pandas as pd\n",
    "import numpy as np\n",
    "unames = ['user_id', 'gender', 'age', 'occupation', 'zip']\n",
    "users = pd.read_table('./ml-1m/users.dat', sep='::', header=None, names=unames, engine='python')\n",
    "rnames = ['user_id', 'movie_id', 'rating', 'timestamp']\n",
    "ratings = pd.read_table('./ml-1m/ratings.dat', sep='::', header=None, names=rnames,  engine='python')\n",
    "mnames = ['movie_id', 'title', 'genres']\n",
    "movies = pd.read_table('./ml-1m/movies.dat', sep='::', header=None, names=mnames,  engine='python')\n",
    "data = pd.merge(pd.merge(ratings, users), movies)\n",
    "\n",
    "def top_movies(dataFrame,usr):\n",
    "    user= dataFrame[dataFrame.user_id == usr]\n",
    "    max_i = user.rating.max()\n",
    "    return user[user.rating == max_i].title\n",
    "\n",
    "def compareTopMovies(data,usr1, usr2):\n",
    "    movi1= top_movies(data,usr1).values\n",
    "    movi2 = top_movies(data,usr2).values\n",
    "    hits=np.intersect1d(movi1,movi2)\n",
    "    return hits\n",
    "\n",
    "#Top Movies for user 1\n",
    "print (top_movies(data,1))\n",
    "#Compare TopMovies shared by two users:\n",
    "print (compareTopMovies(data,1,2))"
   ]
  },
  {
   "cell_type": "code",
   "execution_count": 3,
   "metadata": {
    "collapsed": false
   },
   "outputs": [
    {
     "name": "stdout",
     "output_type": "stream",
     "text": [
      " \n",
      "*** Profile stats marshalled to file 'compare.prof'. \n"
     ]
    }
   ],
   "source": [
    "#Compare all users between them. Profiling\n",
    "%prun -D compare.prof {x:compareTopMovies(data,1,x) for x in users.user_id[:200] if x!=1}"
   ]
  },
  {
   "cell_type": "code",
   "execution_count": 5,
   "metadata": {
    "collapsed": false
   },
   "outputs": [
    {
     "name": "stdout",
     "output_type": "stream",
     "text": [
      "Mon Oct 16 17:57:41 2017    compare.prof\n",
      "\n",
      "         660884 function calls (647352 primitive calls) in 2.714 seconds\n",
      "\n",
      "   Ordered by: cumulative time\n",
      "   List reduced from 246 to 50 due to restriction <50>\n",
      "\n",
      "   ncalls  tottime  percall  cumtime  percall filename:lineno(function)\n",
      "        1    0.000    0.000    2.714    2.714 {built-in method builtins.exec}\n",
      "        1    0.000    0.000    2.713    2.713 <string>:1(<module>)\n",
      "        1    0.003    0.003    2.713    2.713 <string>:1(<dictcomp>)\n",
      "      199    0.011    0.000    2.710    0.014 <ipython-input-2-a74443488279>:16(compareTopMovies)\n",
      "      398    0.023    0.000    2.664    0.007 <ipython-input-2-a74443488279>:11(top_movies)\n",
      "     2389    0.056    0.000    1.379    0.001 /usr/local/lib/python3.5/site-packages/pandas/core/frame.py:1940(__getitem__)\n",
      "      796    0.013    0.000    1.110    0.001 /usr/local/lib/python3.5/site-packages/pandas/core/frame.py:1983(_getitem_array)\n",
      "      796    0.031    0.000    1.082    0.001 /usr/local/lib/python3.5/site-packages/pandas/core/ops.py:809(wrapper)\n",
      "      796    0.021    0.000    0.817    0.001 /usr/local/lib/python3.5/site-packages/pandas/core/generic.py:1909(take)\n",
      "      796    0.639    0.001    0.750    0.001 /usr/local/lib/python3.5/site-packages/pandas/core/ops.py:755(na_op)\n",
      "      796    0.020    0.000    0.698    0.001 /usr/local/lib/python3.5/site-packages/pandas/core/internals.py:3990(take)\n",
      "      796    0.012    0.000    0.550    0.001 /usr/local/lib/python3.5/site-packages/pandas/core/internals.py:3860(reindex_indexer)\n",
      "      796    0.017    0.000    0.380    0.000 /usr/local/lib/python3.5/site-packages/pandas/core/internals.py:3895(<listcomp>)\n",
      "     1592    0.026    0.000    0.362    0.000 /usr/local/lib/python3.5/site-packages/pandas/core/internals.py:1025(take_nd)\n",
      "     1592    0.046    0.000    0.288    0.000 /usr/local/lib/python3.5/site-packages/pandas/core/algorithms.py:1375(take_nd)\n",
      "4778/3982    0.041    0.000    0.282    0.000 /usr/local/lib/python3.5/site-packages/pandas/core/generic.py:3067(__getattr__)\n",
      "     1593    0.025    0.000    0.269    0.000 /usr/local/lib/python3.5/site-packages/pandas/core/series.py:139(__init__)\n",
      "      796    0.163    0.000    0.163    0.000 {method 'nonzero' of 'numpy.ndarray' objects}\n",
      "     1593    0.005    0.000    0.160    0.000 /usr/local/lib/python3.5/site-packages/pandas/core/frame.py:1966(_getitem_column)\n",
      "      796    0.008    0.000    0.155    0.000 /usr/local/lib/python3.5/site-packages/pandas/core/internals.py:2779(__init__)\n",
      "     1593    0.010    0.000    0.155    0.000 /usr/local/lib/python3.5/site-packages/pandas/core/generic.py:1640(_get_item_cache)\n",
      "      398    0.005    0.000    0.136    0.000 /usr/local/lib/python3.5/site-packages/pandas/core/generic.py:6328(stat_func)\n",
      "      398    0.011    0.000    0.130    0.000 /usr/local/lib/python3.5/site-packages/pandas/core/series.py:2364(_reduce)\n",
      "   127990    0.080    0.000    0.130    0.000 {built-in method builtins.isinstance}\n",
      "      796    0.015    0.000    0.111    0.000 /usr/local/lib/python3.5/site-packages/pandas/core/series.py:2894(_sanitize_array)\n",
      "      796    0.027    0.000    0.094    0.000 /usr/local/lib/python3.5/site-packages/pandas/core/internals.py:2876(_rebuild_blknos_and_blklocs)\n",
      "      398    0.002    0.000    0.092    0.000 /usr/local/lib/python3.5/site-packages/pandas/core/nanops.py:89(f)\n",
      "      398    0.003    0.000    0.089    0.000 /usr/local/lib/python3.5/site-packages/pandas/core/nanops.py:447(reduction)\n",
      "      796    0.015    0.000    0.087    0.000 /usr/local/lib/python3.5/site-packages/pandas/core/indexing.py:1928(check_bool_indexer)\n",
      "      796    0.028    0.000    0.081    0.000 /usr/local/lib/python3.5/site-packages/pandas/core/internals.py:3583(get)\n",
      "      398    0.007    0.000    0.074    0.000 /usr/local/lib/python3.5/site-packages/pandas/core/nanops.py:188(_get_values)\n",
      "6966/6170    0.054    0.000    0.073    0.000 {built-in method numpy.core.multiarray.array}\n",
      "     2786    0.006    0.000    0.073    0.000 /usr/local/lib/python3.5/site-packages/pandas/core/dtypes/common.py:1334(needs_i8_conversion)\n",
      "      796    0.007    0.000    0.071    0.000 /usr/local/lib/python3.5/site-packages/pandas/core/series.py:2911(_try_cast)\n",
      "     2587    0.006    0.000    0.068    0.000 /usr/local/lib/python3.5/site-packages/numpy/core/numeric.py:414(asarray)\n",
      "    19902    0.029    0.000    0.067    0.000 /usr/local/lib/python3.5/site-packages/pandas/core/dtypes/dtypes.py:84(is_dtype)\n",
      "     1592    0.016    0.000    0.065    0.000 /usr/local/lib/python3.5/site-packages/pandas/core/dtypes/cast.py:251(maybe_promote)\n",
      "     3980    0.022    0.000    0.065    0.000 /usr/local/lib/python3.5/site-packages/numpy/core/numeric.py:2576(seterr)\n",
      "     4378    0.007    0.000    0.065    0.000 {method 'any' of 'numpy.ndarray' objects}\n",
      "     3185    0.021    0.000    0.064    0.000 /usr/local/lib/python3.5/site-packages/pandas/core/internals.py:2683(make_block)\n",
      "     5174    0.059    0.000    0.059    0.000 {method 'reduce' of 'numpy.ufunc' objects}\n",
      "     4378    0.005    0.000    0.058    0.000 /usr/local/lib/python3.5/site-packages/numpy/core/_methods.py:37(_any)\n",
      "     5573    0.008    0.000    0.056    0.000 /usr/local/lib/python3.5/site-packages/pandas/core/dtypes/common.py:222(is_datetimetz)\n",
      "      796    0.005    0.000    0.056    0.000 /usr/local/lib/python3.5/site-packages/pandas/core/frame.py:2305(_box_item_values)\n",
      "     2388    0.013    0.000    0.055    0.000 /usr/local/lib/python3.5/site-packages/pandas/core/internals.py:214(make_block_same_class)\n",
      "      796    0.031    0.000    0.055    0.000 /usr/local/lib/python3.5/site-packages/pandas/core/indexing.py:1981(maybe_convert_indices)\n",
      "     1990    0.002    0.000    0.055    0.000 /usr/local/lib/python3.5/site-packages/pandas/core/dtypes/missing.py:26(isnull)\n",
      "     3184    0.021    0.000    0.054    0.000 /usr/local/lib/python3.5/site-packages/pandas/core/internals.py:2820(shape)\n",
      "42592/30652    0.042    0.000    0.054    0.000 {built-in method builtins.len}\n",
      "     1990    0.007    0.000    0.052    0.000 /usr/local/lib/python3.5/site-packages/pandas/core/dtypes/missing.py:47(_isnull_new)\n",
      "\n",
      "\n"
     ]
    },
    {
     "data": {
      "text/plain": [
       "<pstats.Stats at 0x1159b08d0>"
      ]
     },
     "execution_count": 5,
     "metadata": {},
     "output_type": "execute_result"
    }
   ],
   "source": [
    "import pstats\n",
    "stats = pstats.Stats('compare.prof')\n",
    "stats.sort_stats('cumtime').print_stats(50) #50 rows"
   ]
  },
  {
   "cell_type": "markdown",
   "metadata": {},
   "source": [
    "We can realize that TopMovie is called 2 times per each user in the table, inside compareTopMovies.\n",
    "Lets see these functions line per line "
   ]
  },
  {
   "cell_type": "markdown",
   "metadata": {},
   "source": [
    "### Line Profiler\n",
    "\n",
    "`pip install line_profiler`"
   ]
  },
  {
   "cell_type": "markdown",
   "metadata": {},
   "source": [
    "See how long it took each line in a function to run.  Functions to profile this way must be passed by name with -f."
   ]
  },
  {
   "cell_type": "code",
   "execution_count": 7,
   "metadata": {
    "collapsed": false
   },
   "outputs": [],
   "source": [
    "%load_ext line_profiler"
   ]
  },
  {
   "cell_type": "code",
   "execution_count": 8,
   "metadata": {
    "collapsed": false
   },
   "outputs": [],
   "source": [
    "%lprun?\n",
    "%lprun -f top_movies top_movies(data,1) "
   ]
  },
  {
   "cell_type": "code",
   "execution_count": 9,
   "metadata": {
    "collapsed": false
   },
   "outputs": [],
   "source": [
    "%lprun -f compareTopMovies compareTopMovies(data,1,2)"
   ]
  },
  {
   "cell_type": "markdown",
   "metadata": {},
   "source": [
    "### Memory profiler\n"
   ]
  },
  {
   "cell_type": "markdown",
   "metadata": {},
   "source": [
    "Now let's take a look into memory profiling. \n",
    "\n",
    "        pip install psutil\n",
    "        pip install memory-profiler"
   ]
  },
  {
   "cell_type": "code",
   "execution_count": 12,
   "metadata": {
    "collapsed": false
   },
   "outputs": [],
   "source": [
    "##pip install psutil\n",
    "##pip install memory-profiler\n",
    "%load_ext memory_profiler"
   ]
  },
  {
   "cell_type": "markdown",
   "metadata": {},
   "source": [
    "See how much memory a script uses line by line. Let’s take a look at the compareTopUsers function that we profiled with %prun - except this time we’re interested in incremental memory usage and not execution time. NOTE: %mprun can only be used on functions defined in physical files, and not in the IPython environment."
   ]
  },
  {
   "cell_type": "code",
   "execution_count": 14,
   "metadata": {
    "collapsed": false
   },
   "outputs": [
    {
     "name": "stderr",
     "output_type": "stream",
     "text": [
      "UsageError: Could not find function 'pandasExample.test'.\n",
      "AttributeError: module 'pandasExample' has no attribute 'test'"
     ]
    }
   ],
   "source": [
    "%mprun?\n",
    "#clear all variables\n",
    "#%reset \n",
    "import pandasExample\n",
    "%mprun -f pandasExample.test pandasExample.test()"
   ]
  },
  {
   "cell_type": "markdown",
   "metadata": {},
   "source": [
    "See how much memory a script uses overall. %memit works a lot like %timeit except that the number of iterations is set with -r instead of -n."
   ]
  },
  {
   "cell_type": "code",
   "execution_count": 6,
   "metadata": {
    "collapsed": false
   },
   "outputs": [
    {
     "name": "stdout",
     "output_type": "stream",
     "text": [
      "0        One Flew Over the Cuckoo's Nest (1975)\n",
      "4201                       Bug's Life, A (1998)\n",
      "8222                             Ben-Hur (1959)\n",
      "8926                  Christmas Story, A (1983)\n",
      "12759               Beauty and the Beast (1991)\n",
      "15859                Sound of Music, The (1965)\n",
      "19503                         Awakenings (1990)\n",
      "23270                 Back to the Future (1985)\n",
      "25853                   Schindler's List (1993)\n",
      "28501                         Pocahontas (1995)\n",
      "37204            Last Days of Disco, The (1998)\n",
      "37339                         Cinderella (1950)\n",
      "40375                          Apollo 13 (1995)\n",
      "41626                          Toy Story (1995)\n",
      "43703                           Rain Man (1988)\n",
      "49748                       Mary Poppins (1964)\n",
      "50759                              Dumbo (1941)\n",
      "52255                Saving Private Ryan (1998)\n",
      "Name: title, dtype: object\n",
      "[\"One Flew Over the Cuckoo's Nest (1975)\"]\n",
      "0        One Flew Over the Cuckoo's Nest (1975)\n",
      "4201                       Bug's Life, A (1998)\n",
      "8222                             Ben-Hur (1959)\n",
      "8926                  Christmas Story, A (1983)\n",
      "12759               Beauty and the Beast (1991)\n",
      "15859                Sound of Music, The (1965)\n",
      "19503                         Awakenings (1990)\n",
      "23270                 Back to the Future (1985)\n",
      "25853                   Schindler's List (1993)\n",
      "28501                         Pocahontas (1995)\n",
      "37204            Last Days of Disco, The (1998)\n",
      "37339                         Cinderella (1950)\n",
      "40375                          Apollo 13 (1995)\n",
      "41626                          Toy Story (1995)\n",
      "43703                           Rain Man (1988)\n",
      "49748                       Mary Poppins (1964)\n",
      "50759                              Dumbo (1941)\n",
      "52255                Saving Private Ryan (1998)\n",
      "Name: title, dtype: object\n",
      "[\"One Flew Over the Cuckoo's Nest (1975)\"]\n",
      "0        One Flew Over the Cuckoo's Nest (1975)\n",
      "4201                       Bug's Life, A (1998)\n",
      "8222                             Ben-Hur (1959)\n",
      "8926                  Christmas Story, A (1983)\n",
      "12759               Beauty and the Beast (1991)\n",
      "15859                Sound of Music, The (1965)\n",
      "19503                         Awakenings (1990)\n",
      "23270                 Back to the Future (1985)\n",
      "25853                   Schindler's List (1993)\n",
      "28501                         Pocahontas (1995)\n",
      "37204            Last Days of Disco, The (1998)\n",
      "37339                         Cinderella (1950)\n",
      "40375                          Apollo 13 (1995)\n",
      "41626                          Toy Story (1995)\n",
      "43703                           Rain Man (1988)\n",
      "49748                       Mary Poppins (1964)\n",
      "50759                              Dumbo (1941)\n",
      "52255                Saving Private Ryan (1998)\n",
      "Name: title, dtype: object\n",
      "[\"One Flew Over the Cuckoo's Nest (1975)\"]\n",
      "peak memory: 668.39 MiB, increment: 238.45 MiB\n"
     ]
    }
   ],
   "source": [
    "%memit -r 3  pandasExample.test()"
   ]
  },
  {
   "cell_type": "markdown",
   "metadata": {},
   "source": [
    "## Challenges\n",
    "\n",
    "1. Change the sieve Of Eratosthenes implemantion, such that its performances would be better. Hint: use Numpy arrays and boolean filters.\n",
    "\n",
    "2. Change function compareTopMovies in order to get better performance, by reducing useless code. Hint: reuse before recalculate."
   ]
  }
 ],
 "metadata": {
  "kernelspec": {
   "display_name": "Python 3",
   "language": "python",
   "name": "python3"
  },
  "language_info": {
   "codemirror_mode": {
    "name": "ipython",
    "version": 3
   },
   "file_extension": ".py",
   "mimetype": "text/x-python",
   "name": "python",
   "nbconvert_exporter": "python",
   "pygments_lexer": "ipython3",
   "version": "3.5.1"
  }
 },
 "nbformat": 4,
 "nbformat_minor": 0
}
