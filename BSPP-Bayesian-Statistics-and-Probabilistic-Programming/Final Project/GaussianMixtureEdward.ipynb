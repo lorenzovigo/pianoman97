{
  "nbformat": 4,
  "nbformat_minor": 0,
  "metadata": {
    "colab": {
      "name": "GaussianMixtureEdward.ipynb",
      "provenance": [],
      "collapsed_sections": []
    },
    "kernelspec": {
      "name": "python3",
      "display_name": "Python 3"
    },
    "language_info": {
      "name": "python"
    }
  },
  "cells": [
    {
      "cell_type": "markdown",
      "source": [
        "# Mixture of Gaussians with Edward2"
      ],
      "metadata": {
        "id": "DLFdD0ULI97y"
      }
    },
    {
      "cell_type": "code",
      "execution_count": 43,
      "metadata": {
        "colab": {
          "base_uri": "https://localhost:8080/"
        },
        "id": "vsfM9YAUBHFp",
        "outputId": "040138a5-7d45-4ce7-f087-5c2d3dde01d4"
      },
      "outputs": [
        {
          "output_type": "stream",
          "name": "stdout",
          "text": [
            "Looking in indexes: https://pypi.org/simple, https://us-python.pkg.dev/colab-wheels/public/simple/\n",
            "Collecting edward\n",
            "  Downloading edward-1.3.5.tar.gz (63 kB)\n",
            "\u001b[K     |████████████████████████████████| 63 kB 1.5 MB/s \n",
            "\u001b[?25hRequirement already satisfied: numpy>=1.7 in /usr/local/lib/python3.7/dist-packages (from edward) (1.21.6)\n",
            "Requirement already satisfied: six>=1.10.0 in /usr/local/lib/python3.7/dist-packages (from edward) (1.15.0)\n",
            "Building wheels for collected packages: edward\n",
            "  Building wheel for edward (setup.py) ... \u001b[?25l\u001b[?25hdone\n",
            "  Created wheel for edward: filename=edward-1.3.5-py3-none-any.whl size=90385 sha256=2d02dd2c57df7909127b2ab9276a8880c07244034270ab5314759428d7f90ef7\n",
            "  Stored in directory: /root/.cache/pip/wheels/c0/d0/6f/298c809cc8db6573b8642d1473c668868a67b9ad297c2e8b65\n",
            "Successfully built edward\n",
            "Installing collected packages: edward\n",
            "Successfully installed edward-1.3.5\n",
            "Looking in indexes: https://pypi.org/simple, https://us-python.pkg.dev/colab-wheels/public/simple/\n",
            "Requirement already satisfied: edward2 in /usr/local/lib/python3.7/dist-packages (0.0.2)\n"
          ]
        }
      ],
      "source": [
        "!pip install edward\n",
        "!pip install edward2"
      ]
    },
    {
      "cell_type": "code",
      "source": [
        "import matplotlib.pyplot as plt\n",
        "import tensorflow_probability as tfp\n",
        "import tensorflow as tf\n",
        "import edward2 as ed\n",
        "import pandas as pd\n",
        "import numpy as np\n",
        "tfd = tfp.distributions"
      ],
      "metadata": {
        "id": "5B0Zo1bMCwqi"
      },
      "execution_count": 3,
      "outputs": []
    },
    {
      "cell_type": "markdown",
      "source": [
        "Since Tensorflow 2, Edward uses Tensorflow's Mixture class instead of its own class. So we will declare the mixture of gaussians in the same way as we did when working with Tensorflow Probability. (Reference: http://edwardlib.org/api/ed/models/Mixture)"
      ],
      "metadata": {
        "id": "0HsCLJNTBZbo"
      }
    },
    {
      "cell_type": "code",
      "source": [
        "sample_size = 20000 # Number of experiments we will perform\n",
        "n_throws = 10 # Number of times each coin is flipped\n",
        "m_heads = 3 # Number of heads obtained\n",
        "\n",
        "# Generate the thetas given from the Mixture of the three Beta distributions\n",
        "gmm = tfd.Mixture(\n",
        "    cat=tfd.Categorical(probs=[0.5, 0.2, 0.3]),\n",
        "    components=[\n",
        "        tfd.Beta(10,20),\n",
        "        tfd.Beta(15,15),\n",
        "        tfd.Beta(20,10),\n",
        "    ]\n",
        ")\n",
        "thetas = gmm.sample(sample_size)\n",
        "\n",
        "# Simulated prior\n",
        "plt.title('Histogram of thetas')\n",
        "plt.xlabel('Thetas')\n",
        "plt.ylabel('Frequency')\n",
        "plt.hist(thetas, bins=50, ec='black')\n",
        "plt.show()\n"
      ],
      "metadata": {
        "colab": {
          "base_uri": "https://localhost:8080/",
          "height": 295
        },
        "id": "kEdVNlqjBI8V",
        "outputId": "6b03d764-642a-4401-ede4-9fda0b424b17"
      },
      "execution_count": 31,
      "outputs": [
        {
          "output_type": "display_data",
          "data": {
            "text/plain": [
              "<Figure size 432x288 with 1 Axes>"
            ],
            "image/png": "[encoded data removed]"
          },
          "metadata": {
            "needs_background": "light"
          }
        }
      ]
    },
    {
      "cell_type": "markdown",
      "source": [
        "Now we can simulate the coin tossing with Edward2. Each coin will be thrown `n_throws` times."
      ],
      "metadata": {
        "id": "30vRMBkmHVVg"
      }
    },
    {
      "cell_type": "code",
      "source": [
        "# Number of heads in m trials\n",
        "heads = ed.Binomial(total_count=n_throws, probs=thetas)"
      ],
      "metadata": {
        "id": "tBT4PJ3FC-fO"
      },
      "execution_count": 32,
      "outputs": []
    },
    {
      "cell_type": "markdown",
      "source": [
        "Next, show the frequency of heads and the prior predictive pmf for the simulation. We can follow the same steps as in the previous implementations."
      ],
      "metadata": {
        "id": "N-uxGSsEIJqZ"
      }
    },
    {
      "cell_type": "code",
      "source": [
        "# Group by the number of heads\n",
        "unique, counts = np.unique(heads.numpy(), return_counts=True)\n",
        "heads_table = pd.DataFrame({\n",
        "    'counts': counts, \n",
        "    'frequency': counts/sample_size\n",
        "    }, index=pd.Index(unique, name='heads'))"
      ],
      "metadata": {
        "id": "hQxdok0qEjX2"
      },
      "execution_count": 33,
      "outputs": []
    },
    {
      "cell_type": "code",
      "source": [
        "print(\"Absolute Frequencies\")\n",
        "heads_table[['counts']].T\n"
      ],
      "metadata": {
        "colab": {
          "base_uri": "https://localhost:8080/",
          "height": 98
        },
        "id": "m2UnKiGSG_7E",
        "outputId": "c9ed8048-ecc5-485b-a195-0e4562d280d1"
      },
      "execution_count": 34,
      "outputs": [
        {
          "output_type": "stream",
          "name": "stdout",
          "text": [
            "Absolute Frequencies\n"
          ]
        },
        {
          "output_type": "execute_result",
          "data": {
            "text/plain": [
              "heads   0.0   1.0   2.0   3.0   4.0   5.0   6.0   7.0   8.0   9.0   10.0\n",
              "counts   302  1195  2267  2873  3124  2997  2630  2151  1460   763   238"
            ],
            "text/html": [
              "\n",
              "  <div id=\"df-465afa16-0b9c-439a-af6f-42dd7ea4bf86\">\n",
              "    <div class=\"colab-df-container\">\n",
              "      <div>\n",
              "<style scoped>\n",
              "    .dataframe tbody tr th:only-of-type {\n",
              "        vertical-align: middle;\n",
              "    }\n",
              "\n",
              "    .dataframe tbody tr th {\n",
              "        vertical-align: top;\n",
              "    }\n",
              "\n",
              "    .dataframe thead th {\n",
              "        text-align: right;\n",
              "    }\n",
              "</style>\n",
              "<table border=\"1\" class=\"dataframe\">\n",
              "  <thead>\n",
              "    <tr style=\"text-align: right;\">\n",
              "      <th>heads</th>\n",
              "      <th>0.0</th>\n",
              "      <th>1.0</th>\n",
              "      <th>2.0</th>\n",
              "      <th>3.0</th>\n",
              "      <th>4.0</th>\n",
              "      <th>5.0</th>\n",
              "      <th>6.0</th>\n",
              "      <th>7.0</th>\n",
              "      <th>8.0</th>\n",
              "      <th>9.0</th>\n",
              "      <th>10.0</th>\n",
              "    </tr>\n",
              "  </thead>\n",
              "  <tbody>\n",
              "    <tr>\n",
              "      <th>counts</th>\n",
              "      <td>302</td>\n",
              "      <td>1195</td>\n",
              "      <td>2267</td>\n",
              "      <td>2873</td>\n",
              "      <td>3124</td>\n",
              "      <td>2997</td>\n",
              "      <td>2630</td>\n",
              "      <td>2151</td>\n",
              "      <td>1460</td>\n",
              "      <td>763</td>\n",
              "      <td>238</td>\n",
              "    </tr>\n",
              "  </tbody>\n",
              "</table>\n",
              "</div>\n",
              "      <button class=\"colab-df-convert\" onclick=\"convertToInteractive('df-465afa16-0b9c-439a-af6f-42dd7ea4bf86')\"\n",
              "              title=\"Convert this dataframe to an interactive table.\"\n",
              "              style=\"display:none;\">\n",
              "        \n",
              "  <svg xmlns=\"http://www.w3.org/2000/svg\" height=\"24px\"viewBox=\"0 0 24 24\"\n",
              "       width=\"24px\">\n",
              "    <path d=\"M0 0h24v24H0V0z\" fill=\"none\"/>\n",
              "    <path d=\"M18.56 5.44l.94 2.06.94-2.06 2.06-.94-2.06-.94-.94-2.06-.94 2.06-2.06.94zm-11 1L8.5 8.5l.94-2.06 2.06-.94-2.06-.94L8.5 2.5l-.94 2.06-2.06.94zm10 10l.94 2.06.94-2.06 2.06-.94-2.06-.94-.94-2.06-.94 2.06-2.06.94z\"/><path d=\"M17.41 7.96l-1.37-1.37c-.4-.4-.92-.59-1.43-.59-.52 0-1.04.2-1.43.59L10.3 9.45l-7.72 7.72c-.78.78-.78 2.05 0 2.83L4 21.41c.39.39.9.59 1.41.59.51 0 1.02-.2 1.41-.59l7.78-7.78 2.81-2.81c.8-.78.8-2.07 0-2.86zM5.41 20L4 18.59l7.72-7.72 1.47 1.35L5.41 20z\"/>\n",
              "  </svg>\n",
              "      </button>\n",
              "      \n",
              "  <style>\n",
              "    .colab-df-container {\n",
              "      display:flex;\n",
              "      flex-wrap:wrap;\n",
              "      gap: 12px;\n",
              "    }\n",
              "\n",
              "    .colab-df-convert {\n",
              "      background-color: #E8F0FE;\n",
              "      border: none;\n",
              "      border-radius: 50%;\n",
              "      cursor: pointer;\n",
              "      display: none;\n",
              "      fill: #1967D2;\n",
              "      height: 32px;\n",
              "      padding: 0 0 0 0;\n",
              "      width: 32px;\n",
              "    }\n",
              "\n",
              "    .colab-df-convert:hover {\n",
              "      background-color: #E2EBFA;\n",
              "      box-shadow: 0px 1px 2px rgba(60, 64, 67, 0.3), 0px 1px 3px 1px rgba(60, 64, 67, 0.15);\n",
              "      fill: #174EA6;\n",
              "    }\n",
              "\n",
              "    [theme=dark] .colab-df-convert {\n",
              "      background-color: #3B4455;\n",
              "      fill: #D2E3FC;\n",
              "    }\n",
              "\n",
              "    [theme=dark] .colab-df-convert:hover {\n",
              "      background-color: #434B5C;\n",
              "      box-shadow: 0px 1px 3px 1px rgba(0, 0, 0, 0.15);\n",
              "      filter: drop-shadow(0px 1px 2px rgba(0, 0, 0, 0.3));\n",
              "      fill: #FFFFFF;\n",
              "    }\n",
              "  </style>\n",
              "\n",
              "      <script>\n",
              "        const buttonEl =\n",
              "          document.querySelector('#df-465afa16-0b9c-439a-af6f-42dd7ea4bf86 button.colab-df-convert');\n",
              "        buttonEl.style.display =\n",
              "          google.colab.kernel.accessAllowed ? 'block' : 'none';\n",
              "\n",
              "        async function convertToInteractive(key) {\n",
              "          const element = document.querySelector('#df-465afa16-0b9c-439a-af6f-42dd7ea4bf86');\n",
              "          const dataTable =\n",
              "            await google.colab.kernel.invokeFunction('convertToInteractive',\n",
              "                                                     [key], {});\n",
              "          if (!dataTable) return;\n",
              "\n",
              "          const docLinkHtml = 'Like what you see? Visit the ' +\n",
              "            '<a target=\"_blank\" href=https://colab.research.google.com/notebooks/data_table.ipynb>data table notebook</a>'\n",
              "            + ' to learn more about interactive tables.';\n",
              "          element.innerHTML = '';\n",
              "          dataTable['output_type'] = 'display_data';\n",
              "          await google.colab.output.renderOutput(dataTable, element);\n",
              "          const docLink = document.createElement('div');\n",
              "          docLink.innerHTML = docLinkHtml;\n",
              "          element.appendChild(docLink);\n",
              "        }\n",
              "      </script>\n",
              "    </div>\n",
              "  </div>\n",
              "  "
            ]
          },
          "metadata": {},
          "execution_count": 34
        }
      ]
    },
    {
      "cell_type": "code",
      "source": [
        "print(\"Relative Frequencies\")\n",
        "heads_table[['frequency']].T"
      ],
      "metadata": {
        "colab": {
          "base_uri": "https://localhost:8080/",
          "height": 98
        },
        "id": "gvAP7PlLIIEd",
        "outputId": "833f347a-ceff-428b-a33b-e47e40837028"
      },
      "execution_count": 35,
      "outputs": [
        {
          "output_type": "stream",
          "name": "stdout",
          "text": [
            "Relative Frequencies\n"
          ]
        },
        {
          "output_type": "execute_result",
          "data": {
            "text/plain": [
              "heads        0.0      1.0      2.0      3.0     4.0      5.0     6.0   \\\n",
              "frequency  0.0151  0.05975  0.11335  0.14365  0.1562  0.14985  0.1315   \n",
              "\n",
              "heads         7.0    8.0      9.0     10.0  \n",
              "frequency  0.10755  0.073  0.03815  0.0119  "
            ],
            "text/html": [
              "\n",
              "  <div id=\"df-3cb23b7a-ed27-4a32-bbbc-8c3c9df9e2e3\">\n",
              "    <div class=\"colab-df-container\">\n",
              "      <div>\n",
              "<style scoped>\n",
              "    .dataframe tbody tr th:only-of-type {\n",
              "        vertical-align: middle;\n",
              "    }\n",
              "\n",
              "    .dataframe tbody tr th {\n",
              "        vertical-align: top;\n",
              "    }\n",
              "\n",
              "    .dataframe thead th {\n",
              "        text-align: right;\n",
              "    }\n",
              "</style>\n",
              "<table border=\"1\" class=\"dataframe\">\n",
              "  <thead>\n",
              "    <tr style=\"text-align: right;\">\n",
              "      <th>heads</th>\n",
              "      <th>0.0</th>\n",
              "      <th>1.0</th>\n",
              "      <th>2.0</th>\n",
              "      <th>3.0</th>\n",
              "      <th>4.0</th>\n",
              "      <th>5.0</th>\n",
              "      <th>6.0</th>\n",
              "      <th>7.0</th>\n",
              "      <th>8.0</th>\n",
              "      <th>9.0</th>\n",
              "      <th>10.0</th>\n",
              "    </tr>\n",
              "  </thead>\n",
              "  <tbody>\n",
              "    <tr>\n",
              "      <th>frequency</th>\n",
              "      <td>0.0151</td>\n",
              "      <td>0.05975</td>\n",
              "      <td>0.11335</td>\n",
              "      <td>0.14365</td>\n",
              "      <td>0.1562</td>\n",
              "      <td>0.14985</td>\n",
              "      <td>0.1315</td>\n",
              "      <td>0.10755</td>\n",
              "      <td>0.073</td>\n",
              "      <td>0.03815</td>\n",
              "      <td>0.0119</td>\n",
              "    </tr>\n",
              "  </tbody>\n",
              "</table>\n",
              "</div>\n",
              "      <button class=\"colab-df-convert\" onclick=\"convertToInteractive('df-3cb23b7a-ed27-4a32-bbbc-8c3c9df9e2e3')\"\n",
              "              title=\"Convert this dataframe to an interactive table.\"\n",
              "              style=\"display:none;\">\n",
              "        \n",
              "  <svg xmlns=\"http://www.w3.org/2000/svg\" height=\"24px\"viewBox=\"0 0 24 24\"\n",
              "       width=\"24px\">\n",
              "    <path d=\"M0 0h24v24H0V0z\" fill=\"none\"/>\n",
              "    <path d=\"M18.56 5.44l.94 2.06.94-2.06 2.06-.94-2.06-.94-.94-2.06-.94 2.06-2.06.94zm-11 1L8.5 8.5l.94-2.06 2.06-.94-2.06-.94L8.5 2.5l-.94 2.06-2.06.94zm10 10l.94 2.06.94-2.06 2.06-.94-2.06-.94-.94-2.06-.94 2.06-2.06.94z\"/><path d=\"M17.41 7.96l-1.37-1.37c-.4-.4-.92-.59-1.43-.59-.52 0-1.04.2-1.43.59L10.3 9.45l-7.72 7.72c-.78.78-.78 2.05 0 2.83L4 21.41c.39.39.9.59 1.41.59.51 0 1.02-.2 1.41-.59l7.78-7.78 2.81-2.81c.8-.78.8-2.07 0-2.86zM5.41 20L4 18.59l7.72-7.72 1.47 1.35L5.41 20z\"/>\n",
              "  </svg>\n",
              "      </button>\n",
              "      \n",
              "  <style>\n",
              "    .colab-df-container {\n",
              "      display:flex;\n",
              "      flex-wrap:wrap;\n",
              "      gap: 12px;\n",
              "    }\n",
              "\n",
              "    .colab-df-convert {\n",
              "      background-color: #E8F0FE;\n",
              "      border: none;\n",
              "      border-radius: 50%;\n",
              "      cursor: pointer;\n",
              "      display: none;\n",
              "      fill: #1967D2;\n",
              "      height: 32px;\n",
              "      padding: 0 0 0 0;\n",
              "      width: 32px;\n",
              "    }\n",
              "\n",
              "    .colab-df-convert:hover {\n",
              "      background-color: #E2EBFA;\n",
              "      box-shadow: 0px 1px 2px rgba(60, 64, 67, 0.3), 0px 1px 3px 1px rgba(60, 64, 67, 0.15);\n",
              "      fill: #174EA6;\n",
              "    }\n",
              "\n",
              "    [theme=dark] .colab-df-convert {\n",
              "      background-color: #3B4455;\n",
              "      fill: #D2E3FC;\n",
              "    }\n",
              "\n",
              "    [theme=dark] .colab-df-convert:hover {\n",
              "      background-color: #434B5C;\n",
              "      box-shadow: 0px 1px 3px 1px rgba(0, 0, 0, 0.15);\n",
              "      filter: drop-shadow(0px 1px 2px rgba(0, 0, 0, 0.3));\n",
              "      fill: #FFFFFF;\n",
              "    }\n",
              "  </style>\n",
              "\n",
              "      <script>\n",
              "        const buttonEl =\n",
              "          document.querySelector('#df-3cb23b7a-ed27-4a32-bbbc-8c3c9df9e2e3 button.colab-df-convert');\n",
              "        buttonEl.style.display =\n",
              "          google.colab.kernel.accessAllowed ? 'block' : 'none';\n",
              "\n",
              "        async function convertToInteractive(key) {\n",
              "          const element = document.querySelector('#df-3cb23b7a-ed27-4a32-bbbc-8c3c9df9e2e3');\n",
              "          const dataTable =\n",
              "            await google.colab.kernel.invokeFunction('convertToInteractive',\n",
              "                                                     [key], {});\n",
              "          if (!dataTable) return;\n",
              "\n",
              "          const docLinkHtml = 'Like what you see? Visit the ' +\n",
              "            '<a target=\"_blank\" href=https://colab.research.google.com/notebooks/data_table.ipynb>data table notebook</a>'\n",
              "            + ' to learn more about interactive tables.';\n",
              "          element.innerHTML = '';\n",
              "          dataTable['output_type'] = 'display_data';\n",
              "          await google.colab.output.renderOutput(dataTable, element);\n",
              "          const docLink = document.createElement('div');\n",
              "          docLink.innerHTML = docLinkHtml;\n",
              "          element.appendChild(docLink);\n",
              "        }\n",
              "      </script>\n",
              "    </div>\n",
              "  </div>\n",
              "  "
            ]
          },
          "metadata": {},
          "execution_count": 35
        }
      ]
    },
    {
      "cell_type": "code",
      "source": [
        "plt.xlabel('Number of heads')\n",
        "plt.ylabel('Relative frequency')\n",
        "plt.title('Simulated prior predictive pmf')\n",
        "plt.stem(heads_table.index, heads_table['frequency'], basefmt=\" \")\n",
        "plt.show()"
      ],
      "metadata": {
        "colab": {
          "base_uri": "https://localhost:8080/",
          "height": 350
        },
        "id": "12cZAGA5Is7A",
        "outputId": "9dfaef64-ce9f-4321-9f35-c0c527e3fd0d"
      },
      "execution_count": null,
      "outputs": [
        {
          "output_type": "stream",
          "name": "stderr",
          "text": [
            "/usr/local/lib/python3.7/dist-packages/ipykernel_launcher.py:4: UserWarning: In Matplotlib 3.3 individual lines on a stem plot will be added as a LineCollection instead of individual lines. This significantly improves the performance of a stem plot. To remove this warning and switch to the new behaviour, set the \"use_line_collection\" keyword argument to True.\n",
            "  after removing the cwd from sys.path.\n"
          ]
        },
        {
          "output_type": "display_data",
          "data": {
            "text/plain": [
              "<Figure size 432x288 with 1 Axes>"
            ],
            "image/png": "[encoded data removed]"
          },
          "metadata": {
            "needs_background": "light"
          }
        }
      ]
    },
    {
      "cell_type": "markdown",
      "source": [
        "To finish, the histogram of thetas that produce exactly 3 heads can be replicated."
      ],
      "metadata": {
        "id": "xnJ6sKwpI48n"
      }
    },
    {
      "cell_type": "code",
      "source": [
        "# Cases in which we get m=3 heads\n",
        "num_m_heads_heads = heads_table.loc[m_heads, 'counts']\n",
        "print('Number of times we get {} heads: {}'.format(m_heads, num_m_heads_heads))\n",
        "\n",
        "# Proportion of cases in which we get m=3 heads\n",
        "print(\"Proportion of samples with m=3 heads: \", heads_table.loc[m_heads, 'frequency'])\n",
        "\n",
        "# Thetas that have generated m=3 heads\n",
        "thetas_m_heads = thetas[heads == m_heads]\n",
        "\n",
        "# The histogram shows the theta values generating m=3 heads\n",
        "plt.title('Histogram of thetas producing m=3 heads')\n",
        "plt.xlabel('Thetas generating m=3 heads')\n",
        "plt.ylabel('Density')\n",
        "hist = plt.hist(thetas_m_heads, bins=50, ec='black', density=True)\n",
        "plt.show()"
      ],
      "metadata": {
        "colab": {
          "base_uri": "https://localhost:8080/",
          "height": 330
        },
        "id": "aJJGhFsWIuyH",
        "outputId": "f784bde9-32af-459b-de2b-3f336097de27"
      },
      "execution_count": 36,
      "outputs": [
        {
          "output_type": "stream",
          "name": "stdout",
          "text": [
            "Number of times we get 3 heads: 2873\n",
            "Proportion of samples with m=3 heads:  0.14365\n"
          ]
        },
        {
          "output_type": "display_data",
          "data": {
            "text/plain": [
              "<Figure size 432x288 with 1 Axes>"
            ],
            "image/png": "[encoded data removed]"
          },
          "metadata": {
            "needs_background": "light"
          }
        }
      ]
    },
    {
      "cell_type": "markdown",
      "source": [
        "## Map estimator of $\\theta$"
      ],
      "metadata": {
        "id": "gNfF1hTGLjbU"
      }
    },
    {
      "cell_type": "markdown",
      "source": [
        "Given the simulations performed before, the MAP can be estimated as the theta value with maximal density. Edward used to include MAP estimation as inference (http://edwardlib.org/api/ed/MAP), but it is still not available in Edward2. Sadly, we will have to continue imitating what has been done with Tensorflow Probability."
      ],
      "metadata": {
        "id": "J4ikLxTPLrT_"
      }
    },
    {
      "cell_type": "code",
      "source": [
        "# Do not work because of not found\n",
        "# from edward2 import MAP\n",
        "# from edward2.VariationalInference import MAP\n",
        "# from edward2.inferences import MAP\n",
        "\n",
        "# Do not work because of \"No module named 'tensorflow.contrib'\" (compatibility issues)\n",
        "# from edward import MAP\n",
        "# from edward.VariationalInference import MAP\n",
        "# from edward.inferences import MAP"
      ],
      "metadata": {
        "id": "8D18ite-MhGd"
      },
      "execution_count": 50,
      "outputs": []
    },
    {
      "cell_type": "code",
      "source": [
        "# Finding the maximum a posteriori (MAP)\n",
        "# Finding MAP\n",
        "theta_MAP = hist[1][np.argmax(hist[0])]\n",
        "print(\"MAP: \", theta_MAP)\n",
        "# Plot over histogram\n",
        "plt.title('Histogram of thetas producing m=3 heads')\n",
        "plt.xlabel('Thetas generating m=3 heads')\n",
        "plt.ylabel('Density')\n",
        "plt.hist(thetas_m_heads, bins=50, ec='black', density=True)\n",
        "plt.axvline(theta_MAP, color='red', linestyle='dashed', linewidth=2, label='MAP')\n",
        "plt.legend()\n",
        "plt.show()"
      ],
      "metadata": {
        "colab": {
          "base_uri": "https://localhost:8080/",
          "height": 312
        },
        "id": "qHSfIDNsLhkA",
        "outputId": "50671df8-a9a4-4aa6-f742-64706be728be"
      },
      "execution_count": 46,
      "outputs": [
        {
          "output_type": "stream",
          "name": "stdout",
          "text": [
            "MAP:  0.34611142\n"
          ]
        },
        {
          "output_type": "display_data",
          "data": {
            "text/plain": [
              "<Figure size 432x288 with 1 Axes>"
            ],
            "image/png": "[encoded data removed]"
          },
          "metadata": {
            "needs_background": "light"
          }
        }
      ]
    },
    {
      "cell_type": "markdown",
      "source": [
        "The following computations are expected to be computed in the same way as in our Tensorflow Probability implementation. (Reference: https://github.com/google/edward2/blob/main/Upgrading_From_Edward_To_Edward2.md)"
      ],
      "metadata": {
        "id": "-xfItNEYomym"
      }
    },
    {
      "cell_type": "markdown",
      "source": [
        "## Posterior Expectation"
      ],
      "metadata": {
        "id": "vzixusP4L3CR"
      }
    },
    {
      "cell_type": "code",
      "source": [
        "# Simulated Expectation \n",
        "print(\"Simulation based posterior expectation: \", tf.reduce_mean(thetas_m_heads).numpy())"
      ],
      "metadata": {
        "colab": {
          "base_uri": "https://localhost:8080/"
        },
        "id": "sSdfTXQFLvH6",
        "outputId": "105a82cb-2b0e-4d6d-82a5-9f932c830b32"
      },
      "execution_count": 51,
      "outputs": [
        {
          "output_type": "stream",
          "name": "stdout",
          "text": [
            "Simulation based posterior expectation:  0.36187643\n"
          ]
        }
      ]
    },
    {
      "cell_type": "markdown",
      "source": [
        "## Posterior Variance"
      ],
      "metadata": {
        "id": "3juo1fA1L5vD"
      }
    },
    {
      "cell_type": "code",
      "source": [
        "# Simulated Variance\n",
        "print(\"Simulation based posterior variance: \", tf.math.reduce_variance(thetas_m_heads).numpy())"
      ],
      "metadata": {
        "id": "GIk06y_RL7S8",
        "colab": {
          "base_uri": "https://localhost:8080/"
        },
        "outputId": "ddaa31fb-6fa4-462a-e141-4cdff8705f34"
      },
      "execution_count": 52,
      "outputs": [
        {
          "output_type": "stream",
          "name": "stdout",
          "text": [
            "Simulation based posterior variance:  0.010641968\n"
          ]
        }
      ]
    }
  ]
}