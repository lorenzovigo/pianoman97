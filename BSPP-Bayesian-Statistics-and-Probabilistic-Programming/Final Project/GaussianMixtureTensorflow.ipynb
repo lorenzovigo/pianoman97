{
 "cells": [
  {
   "cell_type": "markdown",
   "metadata": {},
   "source": [
    "# Mixture of Gaussians with Tensorflow Probability"
   ]
  },
  {
   "cell_type": "code",
   "execution_count": 1,
   "metadata": {},
   "outputs": [],
   "source": [
    "import os\n",
    "os.environ['TF_CPP_MIN_LOG_LEVEL'] = '3'\n",
    "os.environ['CUDA_VISIBLE_DEVICES'] = '-1'\n",
    "import numpy as np\n",
    "import pandas as pd\n",
    "import matplotlib.pyplot as plt\n",
    "import tensorflow_probability as tfp\n",
    "import tensorflow as tf\n",
    "tfd = tfp.distributions"
   ]
  },
  {
   "cell_type": "markdown",
   "metadata": {},
   "source": [
    "First of all, let's define the parameters of the problem to be solved."
   ]
  },
  {
   "cell_type": "code",
   "execution_count": 2,
   "metadata": {},
   "outputs": [],
   "source": [
    "sample_size = 20000 # Number of experiments we will perform\n",
    "n_throws = 10 # Number of times each coin is flipped\n",
    "m_heads = 3 # Number of heads obtained"
   ]
  },
  {
   "cell_type": "markdown",
   "metadata": {},
   "source": [
    "Define the Mixture of Beta distributions"
   ]
  },
  {
   "cell_type": "code",
   "execution_count": 3,
   "metadata": {},
   "outputs": [
    {
     "data": {
      "image/png": "[encoded data removed]",
      "text/plain": [
       "<Figure size 432x288 with 1 Axes>"
      ]
     },
     "metadata": {
      "needs_background": "light"
     },
     "output_type": "display_data"
    }
   ],
   "source": [
    "# Generate the thetas given from the Mixture of the three Beta distributions\n",
    "gmm = tfd.Mixture(\n",
    "    cat=tfd.Categorical(probs=[0.5, 0.2, 0.3]),\n",
    "    components=[\n",
    "        tfd.Beta(10,20),\n",
    "        tfd.Beta(15,15),\n",
    "        tfd.Beta(20,10),\n",
    "    ]\n",
    ")\n",
    "thetas = gmm.sample(sample_size)\n",
    "\n",
    "# Simulated prior\n",
    "plt.title('Histogram of thetas')\n",
    "plt.xlabel('Thetas')\n",
    "plt.ylabel('Frequency')\n",
    "plt.hist(thetas, bins=50, ec='black')\n",
    "plt.show()"
   ]
  },
  {
   "cell_type": "markdown",
   "metadata": {},
   "source": [
    "Flip a coin `m` times and output the frequency of heads and the priopr predictive pmf for the simulation"
   ]
  },
  {
   "cell_type": "code",
   "execution_count": 4,
   "metadata": {},
   "outputs": [],
   "source": [
    "# Number of heads in m trials\n",
    "heads = tf.cast(tfd.Binomial(n_throws, probs=thetas).sample(), tf.int32)"
   ]
  },
  {
   "cell_type": "code",
   "execution_count": 5,
   "metadata": {},
   "outputs": [],
   "source": [
    "# Group by the number of heads\n",
    "unique, counts = np.unique(heads.numpy(), return_counts=True)\n",
    "heads_table = pd.DataFrame({\n",
    "    'counts': counts, \n",
    "    'frequency': counts/sample_size\n",
    "    }, index=pd.Index(unique, name='heads'))"
   ]
  },
  {
   "cell_type": "code",
   "execution_count": 6,
   "metadata": {},
   "outputs": [
    {
     "name": "stdout",
     "output_type": "stream",
     "text": [
      "Absolute Frequencies\n"
     ]
    },
    {
     "data": {
      "text/html": [
       "<div>\n",
       "<style scoped>\n",
       "    .dataframe tbody tr th:only-of-type {\n",
       "        vertical-align: middle;\n",
       "    }\n",
       "\n",
       "    .dataframe tbody tr th {\n",
       "        vertical-align: top;\n",
       "    }\n",
       "\n",
       "    .dataframe thead th {\n",
       "        text-align: right;\n",
       "    }\n",
       "</style>\n",
       "<table border=\"1\" class=\"dataframe\">\n",
       "  <thead>\n",
       "    <tr style=\"text-align: right;\">\n",
       "      <th>heads</th>\n",
       "      <th>0</th>\n",
       "      <th>1</th>\n",
       "      <th>2</th>\n",
       "      <th>3</th>\n",
       "      <th>4</th>\n",
       "      <th>5</th>\n",
       "      <th>6</th>\n",
       "      <th>7</th>\n",
       "      <th>8</th>\n",
       "      <th>9</th>\n",
       "      <th>10</th>\n",
       "    </tr>\n",
       "  </thead>\n",
       "  <tbody>\n",
       "    <tr>\n",
       "      <th>counts</th>\n",
       "      <td>319</td>\n",
       "      <td>1190</td>\n",
       "      <td>2214</td>\n",
       "      <td>2940</td>\n",
       "      <td>3131</td>\n",
       "      <td>2912</td>\n",
       "      <td>2714</td>\n",
       "      <td>2159</td>\n",
       "      <td>1515</td>\n",
       "      <td>708</td>\n",
       "      <td>198</td>\n",
       "    </tr>\n",
       "  </tbody>\n",
       "</table>\n",
       "</div>"
      ],
      "text/plain": [
       "heads    0     1     2     3     4     5     6     7     8    9    10\n",
       "counts  319  1190  2214  2940  3131  2912  2714  2159  1515  708  198"
      ]
     },
     "execution_count": 6,
     "metadata": {},
     "output_type": "execute_result"
    }
   ],
   "source": [
    "print(\"Absolute Frequencies\")\n",
    "heads_table[['counts']].T"
   ]
  },
  {
   "cell_type": "code",
   "execution_count": 7,
   "metadata": {},
   "outputs": [
    {
     "name": "stdout",
     "output_type": "stream",
     "text": [
      "Relative Frequencies\n"
     ]
    },
    {
     "data": {
      "text/html": [
       "<div>\n",
       "<style scoped>\n",
       "    .dataframe tbody tr th:only-of-type {\n",
       "        vertical-align: middle;\n",
       "    }\n",
       "\n",
       "    .dataframe tbody tr th {\n",
       "        vertical-align: top;\n",
       "    }\n",
       "\n",
       "    .dataframe thead th {\n",
       "        text-align: right;\n",
       "    }\n",
       "</style>\n",
       "<table border=\"1\" class=\"dataframe\">\n",
       "  <thead>\n",
       "    <tr style=\"text-align: right;\">\n",
       "      <th>heads</th>\n",
       "      <th>0</th>\n",
       "      <th>1</th>\n",
       "      <th>2</th>\n",
       "      <th>3</th>\n",
       "      <th>4</th>\n",
       "      <th>5</th>\n",
       "      <th>6</th>\n",
       "      <th>7</th>\n",
       "      <th>8</th>\n",
       "      <th>9</th>\n",
       "      <th>10</th>\n",
       "    </tr>\n",
       "  </thead>\n",
       "  <tbody>\n",
       "    <tr>\n",
       "      <th>frequency</th>\n",
       "      <td>0.01595</td>\n",
       "      <td>0.0595</td>\n",
       "      <td>0.1107</td>\n",
       "      <td>0.147</td>\n",
       "      <td>0.15655</td>\n",
       "      <td>0.1456</td>\n",
       "      <td>0.1357</td>\n",
       "      <td>0.10795</td>\n",
       "      <td>0.07575</td>\n",
       "      <td>0.0354</td>\n",
       "      <td>0.0099</td>\n",
       "    </tr>\n",
       "  </tbody>\n",
       "</table>\n",
       "</div>"
      ],
      "text/plain": [
       "heads           0       1       2      3        4       5       6        7   \\\n",
       "frequency  0.01595  0.0595  0.1107  0.147  0.15655  0.1456  0.1357  0.10795   \n",
       "\n",
       "heads           8       9       10  \n",
       "frequency  0.07575  0.0354  0.0099  "
      ]
     },
     "execution_count": 7,
     "metadata": {},
     "output_type": "execute_result"
    }
   ],
   "source": [
    "print(\"Relative Frequencies\")\n",
    "heads_table[['frequency']].T"
   ]
  },
  {
   "cell_type": "code",
   "execution_count": 8,
   "metadata": {},
   "outputs": [
    {
     "data": {
      "image/png": "[encoded data removed]",
      "text/plain": [
       "<Figure size 432x288 with 1 Axes>"
      ]
     },
     "metadata": {
      "needs_background": "light"
     },
     "output_type": "display_data"
    }
   ],
   "source": [
    "plt.xlabel('Number of heads')\n",
    "plt.ylabel('Relative frequency')\n",
    "plt.title('Simulated prior predictive pmf')\n",
    "plt.stem(heads_table.index, heads_table['frequency'], basefmt=\" \")\n",
    "plt.show()"
   ]
  },
  {
   "cell_type": "markdown",
   "metadata": {},
   "source": [
    "Finally, with the aim to study the probability of having $m=3$ heads given theta, all cases resulting in $m=3$ heads are picked and the histogram of thetas producing `m` heads is plotted."
   ]
  },
  {
   "cell_type": "code",
   "execution_count": 74,
   "metadata": {},
   "outputs": [
    {
     "name": "stdout",
     "output_type": "stream",
     "text": [
      "Number of times we get 3 heads: 2940\n",
      "Proportion of samples with m=3 heads:  0.147\n"
     ]
    },
    {
     "data": {
      "image/png": "[encoded data removed]",
      "text/plain": [
       "<Figure size 432x288 with 1 Axes>"
      ]
     },
     "metadata": {
      "needs_background": "light"
     },
     "output_type": "display_data"
    }
   ],
   "source": [
    "# Cases in which we get m=3 heads\n",
    "num_m_heads_heads = heads_table.loc[m_heads, 'counts']\n",
    "print('Number of times we get {} heads: {}'.format(m_heads, num_m_heads_heads))\n",
    "\n",
    "# Proportion of cases in which we get m=3 heads\n",
    "print(\"Proportion of samples with m=3 heads: \", heads_table.loc[m_heads, 'frequency'])\n",
    "\n",
    "# Thetas that have generated m=3 heads\n",
    "thetas_m_heads = thetas[heads == m_heads]\n",
    "\n",
    "# The histogram shows the theta values generating m=3 heads\n",
    "plt.title('Histogram of thetas producing m=3 heads')\n",
    "plt.xlabel('Thetas generating m=3 heads')\n",
    "plt.ylabel('Density')\n",
    "hist = plt.hist(thetas_m_heads, bins=50, ec='black', density=True)\n",
    "plt.show()"
   ]
  },
  {
   "cell_type": "markdown",
   "metadata": {},
   "source": [
    "Given this experiments, we can make the **analysis of the posterior quantities**.\n",
    "\n",
    "### MAP estimator of $\\theta$\n",
    "Given the simulation performed before, we can estimate the MAP as the theta value with maximal density."
   ]
  },
  {
   "cell_type": "code",
   "execution_count": 75,
   "metadata": {},
   "outputs": [
    {
     "name": "stdout",
     "output_type": "stream",
     "text": [
      "MAP:  0.30966967\n"
     ]
    },
    {
     "data": {
      "image/png": "[encoded data removed]",
      "text/plain": [
       "<Figure size 432x288 with 1 Axes>"
      ]
     },
     "metadata": {
      "needs_background": "light"
     },
     "output_type": "display_data"
    }
   ],
   "source": [
    "# Finding the maximum a posteriori (MAP)\n",
    "# Finding MAP\n",
    "theta_MAP = hist[1][np.argmax(hist[0])]\n",
    "print(\"MAP: \", theta_MAP)\n",
    "# Plot over histogram\n",
    "plt.title('Histogram of thetas producing m=3 heads')\n",
    "plt.xlabel('Thetas generating m=3 heads')\n",
    "plt.ylabel('Density')\n",
    "plt.hist(thetas_m_heads, bins=50, ec='black', density=True)\n",
    "plt.axvline(theta_MAP, color='red', linestyle='dashed', linewidth=2, label='MAP')\n",
    "plt.legend()\n",
    "plt.show()"
   ]
  },
  {
   "cell_type": "markdown",
   "metadata": {},
   "source": [
    "### Posterior Expectation\n",
    "Again, the simulation allows us to compute the posterior expectation as shown in the following cell."
   ]
  },
  {
   "cell_type": "code",
   "execution_count": 83,
   "metadata": {},
   "outputs": [
    {
     "name": "stdout",
     "output_type": "stream",
     "text": [
      "Simulation based posterior expectation:  0.35975873\n"
     ]
    }
   ],
   "source": [
    "# Simulated Expectation \n",
    "print(\"Simulation based posterior expectation: \", tf.reduce_mean(thetas_m_heads).numpy())"
   ]
  },
  {
   "cell_type": "markdown",
   "metadata": {},
   "source": [
    "### Posterior Variance\n",
    "And also the posterior variance as shown in the following cell."
   ]
  },
  {
   "cell_type": "code",
   "execution_count": 87,
   "metadata": {},
   "outputs": [
    {
     "name": "stdout",
     "output_type": "stream",
     "text": [
      "Simulation based posterior variance:  0.010362837\n"
     ]
    }
   ],
   "source": [
    "# Simulated Variance\n",
    "print(\"Simulation based posterior variance: \", tf.math.reduce_variance(thetas_m_heads).numpy())"
   ]
  }
 ],
 "metadata": {
  "kernelspec": {
   "display_name": "Python 3.8.10 ('venv': venv)",
   "language": "python",
   "name": "python3"
  },
  "language_info": {
   "codemirror_mode": {
    "name": "ipython",
    "version": 3
   },
   "file_extension": ".py",
   "mimetype": "text/x-python",
   "name": "python",
   "nbconvert_exporter": "python",
   "pygments_lexer": "ipython3",
   "version": "3.8.10"
  },
  "orig_nbformat": 4,
  "vscode": {
   "interpreter": {
    "hash": "5042ae95971415e9c359b6ef9ab9d440958f0bfe6b8bb2fbccb99fec1e349eac"
   }
  }
 },
 "nbformat": 4,
 "nbformat_minor": 2
}
