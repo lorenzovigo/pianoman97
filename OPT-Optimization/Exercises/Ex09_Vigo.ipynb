{
 "cells": [
  {
   "cell_type": "code",
   "execution_count": 252,
   "metadata": {},
   "outputs": [],
   "source": [
    "from random import uniform, random, randint\n",
    "from math import sin, pi, ceil, log\n",
    "import matplotlib.pyplot as plt"
   ]
  },
  {
   "cell_type": "markdown",
   "metadata": {},
   "source": [
    "First of all, we will define the function we have to maximize"
   ]
  },
  {
   "cell_type": "code",
   "execution_count": 253,
   "metadata": {},
   "outputs": [],
   "source": [
    "# Define the function given in the exercise\n",
    "def f(x, y):\n",
    "    return 21.5 + x + sin(4*pi*x)+ y * sin(20*pi*y) "
   ]
  },
  {
   "cell_type": "markdown",
   "metadata": {},
   "source": [
    "In order to implement a genetic algorithm, we have to define a class that represents the concept of **chromosome**. It should the current point it is in (x and y) and all that is needed in order to represent those numbers in base 2 (boundaries, number of bits, precision). Later on, during the implementation of the algorithm, we realized it is convenient to include also the selection and cumulative probabilities. Also, we added a method to calculate the fitness (in this case, the value of f in the current point)"
   ]
  },
  {
   "cell_type": "code",
   "execution_count": 254,
   "metadata": {},
   "outputs": [],
   "source": [
    "# Precision defined by the number of wanted decimals\n",
    "class Chromosome:\n",
    "    def __init__(self, x_min, x_max, y_min, y_max, decimals):\n",
    "        # Straight-forward constructor logic\n",
    "        self.precision = decimals\n",
    "        self.x_min = x_min\n",
    "        self.x_max = x_max\n",
    "        self.y_min = y_min\n",
    "        self.y_max = y_max\n",
    "\n",
    "        # Selection probability\n",
    "        self.probability = 0\n",
    "        self.cumulative = 0\n",
    "\n",
    "        # Number of needed bits\n",
    "        self.bits_x = ceil(log(abs(x_max - x_min) * (10**decimals),2))\n",
    "        self.bits_y = ceil(log(abs(y_max - y_min) * (10**decimals),2))\n",
    "\n",
    "        # Initialize current x and y depending on constraints\n",
    "        self.x = uniform(self.x_min, self.x_max)\n",
    "        self.y = uniform(self.y_min, self.y_max)\n",
    "\n",
    "    # Get string representation from decimal representation\n",
    "    def get_binaries(self):\n",
    "        bin_x = round((self.x - self.x_min) * (2**self.bits_x - 1) / abs(self.x_max - self.x_min))\n",
    "        bin_y = round((self.y - self.y_min) * (2**self.bits_y - 1) / abs(self.y_max - self.y_min))\n",
    "        return \"{0:b}\".format(bin_x), \"{0:b}\".format(bin_y)\n",
    "\n",
    "    # Set decimal representation given a binary\n",
    "    def set_decimals(self, bin_x, bin_y):\n",
    "        self.x = abs(self.x_max - self.x_min) * int(bin_x, 2) / (2**self.bits_x - 1) + self.x_min\n",
    "        self.y = abs(self.y_max - self.y_min) * int(bin_y, 2) / (2**self.bits_y - 1) + self.y_min\n",
    "        return self.x, self.y\n",
    "    \n",
    "    # Fitness is function evaluation\n",
    "    def fitness(self):\n",
    "        return f(self.x, self.y)"
   ]
  },
  {
   "cell_type": "markdown",
   "metadata": {},
   "source": [
    "Before implementing the main workflow of the algorithm, we should implement methods that take care of the need subroutines: mutation, over-crossing and wheeling."
   ]
  },
  {
   "cell_type": "code",
   "execution_count": 255,
   "metadata": {},
   "outputs": [],
   "source": [
    "# Function in charge of mutating given chromosomes for a given mutation rate\n",
    "def mutate(population, rate):\n",
    "    # For each chromosome\n",
    "    for chr in population:\n",
    "        # For the given rate\n",
    "        if rate > random():\n",
    "            # Get binaries\n",
    "            bin_x, bin_y = chr.get_binaries()\n",
    "\n",
    "            # Choose a random bit to mutate from x and y\n",
    "            index_x = randint(0, len(bin_x) - 1)\n",
    "            index_y = randint(0, len(bin_y) - 1)\n",
    "\n",
    "            # Swap the position's value\n",
    "            list_x = list(bin_x)\n",
    "            list_x[index_x] = str(1 - int(bin_x[index_x]))\n",
    "            bin_x = ''.join(list_x)\n",
    "\n",
    "            list_y = list(bin_y)\n",
    "            list_y[index_y] = str(1 - int(bin_y[index_y]))\n",
    "            bin_y = ''.join(list_y)\n",
    "\n",
    "            # Update the values in the chromosome\n",
    "            chr.set_decimals(bin_x, bin_y)"
   ]
  },
  {
   "cell_type": "code",
   "execution_count": 256,
   "metadata": {},
   "outputs": [],
   "source": [
    "# Function in charge of crossing two chromosomes over\n",
    "def crossover(population, rate):\n",
    "    # For each chromosome \n",
    "    for chr in population:\n",
    "        # For the given rate\n",
    "        if rate > random():\n",
    "            # Choose a random chromosome to cross over with\n",
    "            chr2_index = randint(0, len(population) - 1)\n",
    "            chr2 = population[chr2_index]\n",
    "\n",
    "            # Choose a random bit to split both x and y\n",
    "            index_x = randint(0, chr.bits_x - 1)\n",
    "            index_y = randint(0, chr.bits_y - 1)\n",
    "\n",
    "            # Get binaries\n",
    "            bin_x1, bin_y1 = chr.get_binaries()\n",
    "            bin_x2, bin_y2 = chr2.get_binaries()\n",
    "            \n",
    "            # Perform the cross over in both chromosomes\n",
    "            aux_x1 = bin_x1[:index_x] + bin_x2[index_x:] \n",
    "            aux_y1 = bin_y1[:index_y] + bin_y2[index_y:]\n",
    "        \n",
    "            aux_x2 = bin_x2[:index_x] + bin_x1[index_x:]\n",
    "            aux_y2 = bin_y2[:index_y] + bin_y1[index_y:]\n",
    "            \n",
    "            # Update the values in both chromosomes\n",
    "            chr.set_decimals(aux_x1, aux_y1)\n",
    "            chr2.set_decimals(aux_x2, aux_y2)"
   ]
  },
  {
   "cell_type": "code",
   "execution_count": 257,
   "metadata": {},
   "outputs": [],
   "source": [
    "# Roulette wheel with slots\n",
    "def roulette_wheel(population):           \n",
    "    # Find the total fitness\n",
    "    total_fitness = 0\n",
    "    for chr in population:\n",
    "        total_fitness += chr.fitness()\n",
    "    \n",
    "    # Selection probability for each chromosome\n",
    "    for chr in population:\n",
    "        chr.probability = chr.fitness() / total_fitness\n",
    "\n",
    "    # Cumulative proabability for each chromosome\n",
    "    cumulative = 0\n",
    "    for chr in population:\n",
    "        cumulative += chr.probability\n",
    "        chr.cumulative = cumulative\n",
    "        \n",
    "    # Selection process\n",
    "    new_population = []\n",
    "    for spin in range(len(population)):\n",
    "        r = random()  \n",
    "\n",
    "        # Depending on the cumulative prob of the selected chromosome\n",
    "        # First chromosome is a corner case\n",
    "        if r < population[0].cumulative:\n",
    "            new_population.append(population[0])\n",
    "        # Otherwise, general case check\n",
    "        else:\n",
    "            for j in range(1,len(population)):\n",
    "                if population[j-1].cumulative < r <= population[j].cumulative:\n",
    "                    new_population.append(population[j])\n",
    "                    break\n",
    "                \n",
    "    return new_population"
   ]
  },
  {
   "cell_type": "markdown",
   "metadata": {},
   "source": [
    "As the main workflow, we will present a method that generates a first population of random chromosomes. Then each iteration, we will mutate, cross over and wheel. We will keep the best chromosome fitness in each iteration and then return the best point at the end."
   ]
  },
  {
   "cell_type": "code",
   "execution_count": 262,
   "metadata": {},
   "outputs": [],
   "source": [
    "def genetic_algorithm(x_min, x_max, y_min, y_max, decimals, mut_rate, cross_rate, M, gens):\n",
    "    # First population\n",
    "    population = []\n",
    "    for i in range(M):\n",
    "        chr = Chromosome(x_min, x_max, y_min, y_max, decimals)\n",
    "        population.append(chr)\n",
    "\n",
    "    # Execute for the given number of generations\n",
    "    best_fitness = []\n",
    "    best_overall = 0 # Function always positive\n",
    "    for gen in range(gens):\n",
    "        # Check best fitness among all chromosomes and keep the best one\n",
    "        best_val = population[0].fitness()\n",
    "        for chr in population:\n",
    "            if best_val < chr.fitness():\n",
    "                best_val = chr.fitness()\n",
    "                if best_overall < best_val:\n",
    "                    best_overall = best_val\n",
    "                    print(\"New best fitness at gen\", gen, \":\", best_val)\n",
    "                    print(\"Evaluating at:\", chr.x, chr.y)\n",
    "        best_fitness.append(best_val)\n",
    "        \n",
    "        # Main Iteration\n",
    "        mutate(population, mut_rate)\n",
    "        crossover(population, cross_rate)\n",
    "        population = roulette_wheel(population)\n",
    "    \n",
    "    # Plot results\n",
    "    plt.figure()\n",
    "    x = range(gens)\n",
    "    plt.plot(x, best_fitness)\n",
    "    plt.show()"
   ]
  },
  {
   "cell_type": "markdown",
   "metadata": {},
   "source": [
    "We will show in a plot the best fitness for each iteration. It is observable that the best fitness is always reached in the first iterations and then the algorithm converges to a way worse point. We could consider implementing an early stopping mechanism in order to avoid running the algorithm for useless generations. The algorithm generally returns a fitness over 38 and many times over 39, when the maximum is rather closer to 40. We could also take into account the possibility of running the same algorithm several times with different fresh populations and get the best result obtained by them all, this way we would overcome the handicap of starting with a randomly 'worse' population."
   ]
  },
  {
   "cell_type": "code",
   "execution_count": 277,
   "metadata": {},
   "outputs": [
    {
     "name": "stdout",
     "output_type": "stream",
     "text": [
      "New best fitness at gen 0 : 33.500857541432424\n",
      "Evaluating at: 5.641834514767037 5.423024821637526\n",
      "New best fitness at gen 0 : 35.978775545972155\n",
      "Evaluating at: 10.28824012376856 4.919733104503717\n",
      "New best fitness at gen 0 : 37.20156468721815\n",
      "Evaluating at: 11.961132585410045 5.015850935863773\n",
      "New best fitness at gen 1 : 39.89059931879073\n",
      "Evaluating at: 12.092477350148583 5.423005554538241\n"
     ]
    },
    {
     "data": {
      "image/png": "[encoded data removed]",
      "text/plain": [
       "<Figure size 432x288 with 1 Axes>"
      ]
     },
     "metadata": {
      "needs_background": "light"
     },
     "output_type": "display_data"
    }
   ],
   "source": [
    "# Using the precision, rates and num of generations used in the example\n",
    "genetic_algorithm(-3, 12.11, 4.5, 5.8, 4, 0.01, 0.25, 50, 1000)"
   ]
  }
 ],
 "metadata": {
  "interpreter": {
   "hash": "cef9e06bb236b2a8629b07e87a04b187b952a0f661eff5533360a155783f0c33"
  },
  "kernelspec": {
   "display_name": "Python 3.8.8 64-bit ('base': conda)",
   "language": "python",
   "name": "python3"
  },
  "language_info": {
   "codemirror_mode": {
    "name": "ipython",
    "version": 3
   },
   "file_extension": ".py",
   "mimetype": "text/x-python",
   "name": "python",
   "nbconvert_exporter": "python",
   "pygments_lexer": "ipython3",
   "version": "3.8.8"
  },
  "orig_nbformat": 4
 },
 "nbformat": 4,
 "nbformat_minor": 2
}
