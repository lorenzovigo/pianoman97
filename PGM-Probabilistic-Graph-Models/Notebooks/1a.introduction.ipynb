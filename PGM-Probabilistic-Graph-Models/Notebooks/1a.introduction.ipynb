{
 "cells": [
  {
   "cell_type": "markdown",
   "metadata": {},
   "source": [
    "# Probabilistic approach\n",
    "\n",
    "In machine learning, we would like to build models that describe different real-world phenomena that we are interested in modeling. To build the model, we use data.\n",
    "\n",
    "Without loss of generality, let us assume that we are interested in a classification problem."
   ]
  },
  {
   "cell_type": "markdown",
   "metadata": {},
   "source": [
    "## Different ways of learning from data\n",
    "\n",
    "Let's play with the classical Iris problem: we want to predict the type of flower for a new given data point that describes a new flower. "
   ]
  },
  {
   "cell_type": "code",
   "execution_count": 1,
   "metadata": {},
   "outputs": [],
   "source": [
    "%load_ext autoreload\n",
    "%autoreload 2\n",
    "%matplotlib inline"
   ]
  },
  {
   "cell_type": "code",
   "execution_count": 2,
   "metadata": {},
   "outputs": [],
   "source": [
    "import matplotlib.pyplot as plt\n",
    "import numpy as np\n",
    "from scripts.utils import load_data"
   ]
  },
  {
   "cell_type": "code",
   "execution_count": 3,
   "metadata": {},
   "outputs": [
    {
     "data": {
      "text/html": [
       "<div>\n",
       "<style scoped>\n",
       "    .dataframe tbody tr th:only-of-type {\n",
       "        vertical-align: middle;\n",
       "    }\n",
       "\n",
       "    .dataframe tbody tr th {\n",
       "        vertical-align: top;\n",
       "    }\n",
       "\n",
       "    .dataframe thead th {\n",
       "        text-align: right;\n",
       "    }\n",
       "</style>\n",
       "<table border=\"1\" class=\"dataframe\">\n",
       "  <thead>\n",
       "    <tr style=\"text-align: right;\">\n",
       "      <th></th>\n",
       "      <th>attr.a</th>\n",
       "      <th>attr.b</th>\n",
       "      <th>attr.c</th>\n",
       "      <th>attr.d</th>\n",
       "      <th>class</th>\n",
       "    </tr>\n",
       "  </thead>\n",
       "  <tbody>\n",
       "    <tr>\n",
       "      <th>count</th>\n",
       "      <td>150.000000</td>\n",
       "      <td>150.000000</td>\n",
       "      <td>150.000000</td>\n",
       "      <td>150.000000</td>\n",
       "      <td>150.000000</td>\n",
       "    </tr>\n",
       "    <tr>\n",
       "      <th>mean</th>\n",
       "      <td>0.806667</td>\n",
       "      <td>0.880000</td>\n",
       "      <td>0.853333</td>\n",
       "      <td>0.893333</td>\n",
       "      <td>1.000000</td>\n",
       "    </tr>\n",
       "    <tr>\n",
       "      <th>std</th>\n",
       "      <td>0.563982</td>\n",
       "      <td>0.432256</td>\n",
       "      <td>0.708403</td>\n",
       "      <td>0.743172</td>\n",
       "      <td>0.819232</td>\n",
       "    </tr>\n",
       "    <tr>\n",
       "      <th>min</th>\n",
       "      <td>0.000000</td>\n",
       "      <td>0.000000</td>\n",
       "      <td>0.000000</td>\n",
       "      <td>0.000000</td>\n",
       "      <td>0.000000</td>\n",
       "    </tr>\n",
       "    <tr>\n",
       "      <th>25%</th>\n",
       "      <td>0.000000</td>\n",
       "      <td>1.000000</td>\n",
       "      <td>0.000000</td>\n",
       "      <td>0.000000</td>\n",
       "      <td>0.000000</td>\n",
       "    </tr>\n",
       "    <tr>\n",
       "      <th>50%</th>\n",
       "      <td>1.000000</td>\n",
       "      <td>1.000000</td>\n",
       "      <td>1.000000</td>\n",
       "      <td>1.000000</td>\n",
       "      <td>1.000000</td>\n",
       "    </tr>\n",
       "    <tr>\n",
       "      <th>75%</th>\n",
       "      <td>1.000000</td>\n",
       "      <td>1.000000</td>\n",
       "      <td>1.000000</td>\n",
       "      <td>1.000000</td>\n",
       "      <td>2.000000</td>\n",
       "    </tr>\n",
       "    <tr>\n",
       "      <th>max</th>\n",
       "      <td>2.000000</td>\n",
       "      <td>2.000000</td>\n",
       "      <td>2.000000</td>\n",
       "      <td>2.000000</td>\n",
       "      <td>2.000000</td>\n",
       "    </tr>\n",
       "  </tbody>\n",
       "</table>\n",
       "</div>"
      ],
      "text/plain": [
       "           attr.a      attr.b      attr.c      attr.d       class\n",
       "count  150.000000  150.000000  150.000000  150.000000  150.000000\n",
       "mean     0.806667    0.880000    0.853333    0.893333    1.000000\n",
       "std      0.563982    0.432256    0.708403    0.743172    0.819232\n",
       "min      0.000000    0.000000    0.000000    0.000000    0.000000\n",
       "25%      0.000000    1.000000    0.000000    0.000000    0.000000\n",
       "50%      1.000000    1.000000    1.000000    1.000000    1.000000\n",
       "75%      1.000000    1.000000    1.000000    1.000000    2.000000\n",
       "max      2.000000    2.000000    2.000000    2.000000    2.000000"
      ]
     },
     "execution_count": 3,
     "metadata": {},
     "output_type": "execute_result"
    }
   ],
   "source": [
    "samples = load_data()\n",
    "samples.describe()"
   ]
  },
  {
   "cell_type": "code",
   "execution_count": 4,
   "metadata": {},
   "outputs": [
    {
     "data": {
      "text/plain": [
       "<matplotlib.collections.PathCollection at 0x7f9f64262f28>"
      ]
     },
     "execution_count": 4,
     "metadata": {},
     "output_type": "execute_result"
    },
    {
     "data": {
      "image/png": "[encoded data removed]",
      "text/plain": [
       "<Figure size 432x288 with 1 Axes>"
      ]
     },
     "metadata": {
      "needs_background": "light"
     },
     "output_type": "display_data"
    }
   ],
   "source": [
    "# Adding a bit of noise so that it's easier to visualize\n",
    "data_with_noise = samples.iloc[:, :2] + np.random.normal(loc=0, scale=0.1, size=(150, 2))\n",
    "plt.scatter(data_with_noise.iloc[:,0], data_with_noise.iloc[:,1], c=[ \"bgr\"[k] for k in samples.iloc[:,4] ], s=200, alpha=0.3)"
   ]
  },
  {
   "cell_type": "markdown",
   "metadata": {},
   "source": [
    "\n",
    "<hr>\n",
    "\n",
    "One possible way to learn from data is to try to find a function which directly maps an input vector to a class label. There are lots of algorithms for finding such a mapping function. For example, Decision Trees try to find a set of rules on individual attributes combined in a tree to classify data samples. \n",
    "\n",
    "Let's try to learn a Decision Tree from this dataset. "
   ]
  },
  {
   "cell_type": "code",
   "execution_count": 5,
   "metadata": {},
   "outputs": [
    {
     "name": "stdout",
     "output_type": "stream",
     "text": [
      "Mean accuracy: 0.6866666666666666 +- 0.03399346342395189\n"
     ]
    }
   ],
   "source": [
    "from sklearn.tree import DecisionTreeClassifier\n",
    "from sklearn.model_selection import train_test_split, StratifiedKFold\n",
    "\n",
    "desc_features=range(2) # we will use only two descriptive variables\n",
    "class_feature=4\n",
    "skf = StratifiedKFold(n_splits=5)\n",
    "skf.get_n_splits(samples.iloc[:,desc_features], samples.iloc[:,class_feature])\n",
    "\n",
    "accs=[]\n",
    "for train_index, test_index in skf.split(samples.iloc[:,desc_features], samples.iloc[:,class_feature]):\n",
    "    X_train, X_test = samples.iloc[train_index,desc_features], samples.iloc[test_index,desc_features]\n",
    "    y_train, y_test = samples.iloc[train_index,class_feature], samples.iloc[test_index,class_feature]\n",
    "    \n",
    "    classifier = DecisionTreeClassifier(max_depth=4)\n",
    "    classifier.fit(X_train, y_train)\n",
    "    accs.append(classifier.score(X_test, y_test))\n",
    "    \n",
    "print(\"Mean accuracy:\",np.mean(accs),\"+-\",np.std(accs))"
   ]
  },
  {
   "cell_type": "markdown",
   "metadata": {},
   "source": [
    "## A probabilistic approach to machine learning\n",
    "\n",
    "We could try to learn the joint probability distribution that models the relationship between all the variables, both descritive and the class. If we were able to infer this information, we could just perform basic probability operations (marginalization, reduction) given a new data point to get the probabilities of classes."
   ]
  },
  {
   "cell_type": "code",
   "execution_count": 6,
   "metadata": {},
   "outputs": [],
   "source": [
    "train_index = np.random.choice(150,size=120,replace=False)\n",
    "\n",
    "Xy_train, Xy_test = samples.iloc[train_index,:], samples.loc[~samples.index.isin(train_index),:]"
   ]
  },
  {
   "cell_type": "code",
   "execution_count": 7,
   "metadata": {},
   "outputs": [
    {
     "data": {
      "text/plain": [
       "attr.a  attr.b  class\n",
       "0       0       0        0.008333\n",
       "                1        0.025000\n",
       "                2        0.008333\n",
       "        1       0        0.225000\n",
       "1       0       1        0.083333\n",
       "                2        0.025000\n",
       "        1       0        0.058333\n",
       "                1        0.250000\n",
       "                2        0.225000\n",
       "        2       0        0.041667\n",
       "2       0       2        0.008333\n",
       "        1       2        0.041667\n",
       "dtype: float64"
      ]
     },
     "execution_count": 7,
     "metadata": {},
     "output_type": "execute_result"
    }
   ],
   "source": [
    "# Computing the joint probability distribution from the training data\n",
    "joint_prob = Xy_train.groupby([*samples.columns[desc_features], 'class']).size() / 120\n",
    "joint_prob"
   ]
  },
  {
   "cell_type": "code",
   "execution_count": 8,
   "metadata": {},
   "outputs": [
    {
     "name": "stdout",
     "output_type": "stream",
     "text": [
      "0.7333333333333333\n"
     ]
    }
   ],
   "source": [
    "# Predicting values\n",
    "\n",
    "# Selecting just the feature variables.\n",
    "X_test = Xy_test.iloc[:, desc_features].values\n",
    "y_test = Xy_test.iloc[:, class_feature].values\n",
    "\n",
    "predicted_values = []\n",
    "for i in X_test:\n",
    "    predicted_values.append(joint_prob[i[0], i[1]].idxmax())\n",
    "predicted_values = np.array(predicted_values)\n",
    "score = (predicted_values == y_test).sum() / len(predicted_values)\n",
    "print(score)"
   ]
  },
  {
   "cell_type": "markdown",
   "metadata": {
    "collapsed": true
   },
   "source": [
    "\n",
    "In this example we saw how the probabilistic approach works. We construct the **joint probability distribution** over the variables of our problem given the data and then condition on the observed variables to compute the marginal distribution. And then we use these values to predict the probability of belonging to each class for new data points.\n",
    "\n",
    "But the problem with this method is that the size of such a joint probability distribution is exponential to the number of possible values (cardinality) of the involved variables. Inference with this type of model quickly becomes unfeasible. "
   ]
  },
  {
   "cell_type": "markdown",
   "metadata": {},
   "source": [
    "<hr>\n",
    "\n",
    "## Probabilistic Graphical Models\n",
    "\n",
    "PGMs provide a way to compactly represent joint probability distributions over random variables by exploiting the (conditional) independencies between the variables. PGMs also provide methods for efficiently making inference over these distributions.\n",
    "\n",
    "Each graphical model is characterized by a (directed or undirected) graph structure (that codifies the independencies) and a set of parameters.\n"
   ]
  },
  {
   "cell_type": "markdown",
   "metadata": {},
   "source": [
    "### Types of Graphical Models\n",
    "\n",
    "There are mainly 2 types of PGMs:\n",
    "1. Bayesian Networks: BN consists of a directed graph and a Conditional Probability Distribution (CPD) associated with each node, $P(node | parents(node))$ [where $ parents(node) $ are the parents of the node in the graph structure].\n",
    "2. Markov Networks: MNs consist of an undirected graph and are parameterized by Factors. Factors represent how much 2 or more variables agree with each other."
   ]
  },
  {
   "cell_type": "code",
   "execution_count": null,
   "metadata": {},
   "outputs": [],
   "source": []
  }
 ],
 "metadata": {
  "kernelspec": {
   "display_name": "Python 3",
   "language": "python",
   "name": "python3"
  },
  "language_info": {
   "codemirror_mode": {
    "name": "ipython",
    "version": 3
   },
   "file_extension": ".py",
   "mimetype": "text/x-python",
   "name": "python",
   "nbconvert_exporter": "python",
   "pygments_lexer": "ipython3",
   "version": "3.6.10"
  }
 },
 "nbformat": 4,
 "nbformat_minor": 1
}
