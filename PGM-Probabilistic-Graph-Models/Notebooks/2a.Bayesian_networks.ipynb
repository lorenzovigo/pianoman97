{
 "cells": [
  {
   "cell_type": "markdown",
   "metadata": {},
   "source": [
    "# Bayesian networks\n",
    "\n",
    "In this notebook, we will have a taste of Bayesian networks (BNs). As you know, BNs have two building blocks: a directed acyclic graph structure and a set of conditional probability distributions.\n",
    "\n",
    "\n",
    "We want to know what it is necessary for an athlete to go to the Olympic games. Our model assumes that given some predisposition (Genetics) and hard work (Practice), an athlete will be able to show her strength in the trials. Depending on her performance in the trials, she will receive or not an offer to join the national team.\n",
    "\n",
    "\n",
    "<img src=\"images/olympicsTrials.png\" style=\"width:200px\" />\n",
    "\n",
    "The joint probability distribution factorizes as follows:\n",
    "\n",
    "$$p(G,P,T,O)=p(O|T)p(T|P,G)p(P)p(G)$$\n",
    "\n",
    "In BNs, one can easily infer the corresponding factorization from the graph as a product of distributions of the form $p($variable${}_i$ | parents${}_i)$.\n",
    "\n",
    "Each of the factors at the RHS of this equation are the CPDs that we need to codify. By now, we assume that these values are given by a domain expert. Let us focus on $p(O|T)$. It will look like this:\n",
    "\n",
    "\n",
    "T O | $p$\n",
    "----|-------\n",
    "0 0 | 0.95\n",
    "0 1 | 0.05\n",
    "1 0 | 0.80\n",
    "1 1 | 0.20\n",
    "2 0 | 0.50\n",
    "2 1 | 0.50\n",
    "\n",
    "\n",
    "\n",
    "This can be implemented easily with a 2D array indexed by the values of the involved variables (conviniently, the values of the different variables are considered to go from 0 to $n_v$):"
   ]
  },
  {
   "cell_type": "code",
   "execution_count": null,
   "metadata": {},
   "outputs": [],
   "source": [
    "import numpy as np\n",
    "\n",
    "cpd_o = np.array([[0.95, 0.8, 0.5],\n",
    "                  [0.05, 0.2, 0.5]])\n",
    "np.sum(cpd_o, axis=0)"
   ]
  },
  {
   "cell_type": "markdown",
   "metadata": {},
   "source": [
    "Each column of this array sums up to 1, that is, it is a probability distribution. Given a value for the parent variable (which indexes throughout the columns of the array), we have a probability distribution over the child variable.\n",
    "\n",
    "This previous addition is the basis of the marginalization operation (in this case, marginizing out the child variable $O$). Reduction, for example, is implemented as a selection. So, when the parent variable $T$ has value 3, this CPD reduces as:"
   ]
  },
  {
   "cell_type": "code",
   "execution_count": null,
   "metadata": {},
   "outputs": [],
   "source": [
    "par_value=2\n",
    "cpd_o[:,par_value]"
   ]
  },
  {
   "cell_type": "markdown",
   "metadata": {},
   "source": [
    "Things get complicated when there are several parent variables, as it is the case in the CPD of T: $p(T|P,G)$. \n",
    "\n",
    "For convinience, it is better to continue working with 2D arrays. However, we need a way to transform a multidimensional index (as many as parent variables) to a single index that, again, goes through the columns, as follows:"
   ]
  },
  {
   "cell_type": "code",
   "execution_count": null,
   "metadata": {},
   "outputs": [],
   "source": [
    "cpd_t = np.array([[.90, .80, .70, .50],\n",
    "                  [.08, .15, .20, .30],\n",
    "                  [.02, .05, .10, .20]])\n",
    "par_g_value=0\n",
    "par_p_value=1\n",
    "\n",
    "ind_par = ### YOUR CODE HERE ### How would you obtain a 1D index from a 2D index?\n",
    "\n",
    "# numpy does it as follows:\n",
    "ind_par = np.ravel_multi_index([par_g_value,par_p_value],(2,2))\n",
    "# Order matters!!! And (2,2) means that both variables take up to 2 different values\n",
    "\n",
    "cpd_t[:,ind_par]"
   ]
  },
  {
   "cell_type": "markdown",
   "metadata": {},
   "source": [
    "A product of factors would involve to create a larger table for all the variables involved, and each cell would be obtained as the product of two cells from the input tables well indexed by the values values of all the variables. \n",
    "\n",
    "We won't code it. Let us use an emerging Python's library to do so: `pgmpy`."
   ]
  },
  {
   "cell_type": "markdown",
   "metadata": {},
   "source": [
    "## Setting up our model with pgmpy\n",
    "We need to codify both elements: the DAG structure and the CPDs."
   ]
  },
  {
   "cell_type": "code",
   "execution_count": null,
   "metadata": {},
   "outputs": [],
   "source": [
    "from pgmpy.factors.discrete import TabularCPD # It implements CPDs\n",
    "from pgmpy.models import BayesianModel        # and a class for Bayesian networks"
   ]
  },
  {
   "cell_type": "markdown",
   "metadata": {},
   "source": [
    "### Set up the structure\n",
    "\n",
    "We codify it as a set of edges. With this simple code, we specify that there are four variables and that the directed edges are: \n",
    "- <i>Genetics $\\rightarrow$ Trials</i>\n",
    "- <i>Practice $\\rightarrow$ Trials</i>, and \n",
    "- <i>Trials $\\rightarrow$ Offer</i>"
   ]
  },
  {
   "cell_type": "code",
   "execution_count": null,
   "metadata": {},
   "outputs": [],
   "source": [
    "olympic_model = BayesianModel([('Genetics', 'Trials'), #### YOUR CODE HERE #### , ]) "
   ]
  },
  {
   "cell_type": "markdown",
   "metadata": {},
   "source": [
    "### Set up the conditional probability distributions (CPDs)\n",
    "\n",
    "Once the structure has been defined, we codify the respective probability distributions. \n",
    "\n",
    "Firstly, the <i>Genetics</i> and <i>Practice</i> variables do not have any parent and the corresponding distributions are marginal probability distributions. <i>Genetics</i> takes two possible values with the following probability distribution:"
   ]
  },
  {
   "cell_type": "code",
   "execution_count": null,
   "metadata": {},
   "outputs": [],
   "source": [
    "genetics_cpd = TabularCPD(\n",
    "                variable = 'Genetics',\n",
    "                variable_card = 2,\n",
    "                values = [[.2],[.8]])"
   ]
  },
  {
   "cell_type": "markdown",
   "metadata": {},
   "source": [
    "\n",
    "<i>Practice</i> also takes two possible values with probability $0.7$ and $0.3$, respectively:"
   ]
  },
  {
   "cell_type": "code",
   "execution_count": null,
   "metadata": {},
   "outputs": [],
   "source": [
    "practice_cpd = TabularCPD(\n",
    "                variable = 'Practice',\n",
    "                variable_card = 2,\n",
    "                values = [[.7],[.3]])"
   ]
  },
  {
   "cell_type": "markdown",
   "metadata": {},
   "source": [
    "That is, having favorable genetics is not very uncommon, at least among people that faces this decision, but having an appropriate practice is not that common.\n",
    "\n",
    "\n",
    "The other two variables, <i>Offer</i> and <i>Trials</i>, do have parents in the DAG and their factors are conditional probability distributions. <i>Trials</i> takes three possible values and has both <i>Genetics</i> and <i>Practice</i> as parents:\n"
   ]
  },
  {
   "cell_type": "code",
   "execution_count": null,
   "metadata": {},
   "outputs": [],
   "source": [
    "trials_cpd = TabularCPD(\n",
    "                        variable = 'Trials', \n",
    "                        variable_card = 3,\n",
    "                        values = [[.90, .80, .70, .50],\n",
    "                                  [.08, .15, .20, .30],\n",
    "                                  [.02, .05, .10, .20]],\n",
    "                        evidence = ['Genetics', 'Practice'],\n",
    "                        evidence_card = [2,2])"
   ]
  },
  {
   "cell_type": "markdown",
   "metadata": {},
   "source": [
    "\n",
    "<i>Offer</i> takes two possible values and has <i>Trials</i> as its only parent. The corresponding conditional probability distribution table is:\n",
    "\n",
    "T O | p\n",
    "----|-----\n",
    "1 1 | 0.95\n",
    "1 2 | 0.05\n",
    "2 1 | 0.80\n",
    "2 2 | 0.20\n",
    "3 1 | 0.50\n",
    "3 2 | 0.50\n"
   ]
  },
  {
   "cell_type": "code",
   "execution_count": null,
   "metadata": {},
   "outputs": [],
   "source": [
    "offer_cpd = TabularCPD(\n",
    "                    variable = 'Offer',\n",
    "                    variable_card = 2,\n",
    "                    values = [[### YOUR CODE ### , , ],  \n",
    "                              [### GOES HERE ### , , ]],\n",
    "                    evidence = ['Trials'],\n",
    "                    evidence_card = [3])"
   ]
  },
  {
   "cell_type": "markdown",
   "metadata": {},
   "source": [
    "\n",
    "Once the CPDs are defined, we only have to include them into the model:\n"
   ]
  },
  {
   "cell_type": "code",
   "execution_count": null,
   "metadata": {},
   "outputs": [],
   "source": [
    "olympic_model.add_cpds (genetics_cpd, practice_cpd, offer_cpd, trials_cpd)"
   ]
  },
  {
   "cell_type": "markdown",
   "metadata": {},
   "source": [
    "\n",
    "Let us examine our model:\n"
   ]
  },
  {
   "cell_type": "code",
   "execution_count": null,
   "metadata": {},
   "outputs": [],
   "source": [
    "olympic_model.get_cpds()"
   ]
  },
  {
   "cell_type": "markdown",
   "metadata": {},
   "source": [
    "## Using our Bayesian network\n",
    "\n",
    "We have already built our model. It is time to use it!\n",
    "\n",
    "We can find <b>active trails</b> in the model that show the flows of probabilistic influence. For example, we can see that, when no variable is observed, between <i>Genetics</i> and <i>Practice</i> there is no active trail:"
   ]
  },
  {
   "cell_type": "code",
   "execution_count": null,
   "metadata": {},
   "outputs": [],
   "source": [
    "olympic_model.is_active_trail('Genetics', 'Practice')"
   ]
  },
  {
   "cell_type": "markdown",
   "metadata": {},
   "source": [
    "\n",
    "However, if variable <i>Offer</i> is observed, the trail between both variables become active: \n"
   ]
  },
  {
   "cell_type": "code",
   "execution_count": null,
   "metadata": {},
   "outputs": [],
   "source": [
    "olympic_model.is_active_trail('Genetics', 'Practice', observed=['Offer'])"
   ]
  },
  {
   "cell_type": "markdown",
   "metadata": {},
   "source": [
    "We can obtain all the nodes reachable through an active trail from a single variable as follows:"
   ]
  },
  {
   "cell_type": "code",
   "execution_count": null,
   "metadata": {},
   "outputs": [],
   "source": [
    "olympic_model.active_trail_nodes('Genetics', observed=['Offer'])"
   ]
  },
  {
   "cell_type": "markdown",
   "metadata": {},
   "source": [
    "\n",
    "We can want to find the local <b>independencies</b> in the model associated to variable <i>Genetics</i>:\n"
   ]
  },
  {
   "cell_type": "code",
   "execution_count": null,
   "metadata": {},
   "outputs": [],
   "source": [
    "olympic_model.local_independencies('Genetics')"
   ]
  },
  {
   "cell_type": "markdown",
   "metadata": {},
   "source": [
    "\n",
    "Regarding the variable <i>Trials</i>, the list of independencies is empty:\n"
   ]
  },
  {
   "cell_type": "code",
   "execution_count": null,
   "metadata": {},
   "outputs": [],
   "source": [
    "olympic_model.local_independencies('Trials')"
   ]
  },
  {
   "cell_type": "markdown",
   "metadata": {},
   "source": [
    "\n",
    "We can simply find all the independencies present in our model as follows:\n"
   ]
  },
  {
   "cell_type": "code",
   "execution_count": null,
   "metadata": {},
   "outputs": [],
   "source": [
    "olympic_model.get_independencies()"
   ]
  },
  {
   "cell_type": "markdown",
   "metadata": {},
   "source": [
    "\n",
    "Note that some of them are repeated. Probably because it looks for the independencies of all the variables one by one.\n"
   ]
  },
  {
   "cell_type": "markdown",
   "metadata": {},
   "source": [
    "## Asking our Bayesian network\n",
    "\n",
    "Later in this course, we will know different approaches for inference in PGMs. However, let us consider the approach known as <i>Variable Elimination</i> to observe how the different reasoning patterns work.\n",
    "\n",
    "We can do probability propagation even when no information is observed:\n"
   ]
  },
  {
   "cell_type": "code",
   "execution_count": null,
   "metadata": {},
   "outputs": [],
   "source": [
    "from pgmpy.inference import VariableElimination\n",
    "olympic_infer = VariableElimination(olympic_model)"
   ]
  },
  {
   "cell_type": "markdown",
   "metadata": {},
   "source": [
    "\n",
    "We can get probability distributions that are not explicitly spelled out in our graph, as the marginal probability distribution of the variable <i>Offer</i>:\n"
   ]
  },
  {
   "cell_type": "code",
   "execution_count": null,
   "metadata": {},
   "outputs": [],
   "source": [
    "prob_offer = olympic_infer.query(variables = ['Offer'])\n",
    "print(prob_offer)"
   ]
  },
  {
   "cell_type": "markdown",
   "metadata": {},
   "source": [
    "\n",
    "or the marginal probability distribution of the variable <i>Trials</i>:\n"
   ]
  },
  {
   "cell_type": "code",
   "execution_count": null,
   "metadata": {},
   "outputs": [],
   "source": [
    "prob_trials = olympic_infer.query(variables = ['Trials'])\n",
    "print(prob_trials)"
   ]
  },
  {
   "cell_type": "markdown",
   "metadata": {},
   "source": [
    "\n",
    "But, the most common use is to propagate the observation of some variables. We can calculate the marginal probability of variable <i>Offer</i> given that the observed individual has no favorable genetics:\n"
   ]
  },
  {
   "cell_type": "code",
   "execution_count": null,
   "metadata": {},
   "outputs": [],
   "source": [
    "prob_offer_bad_genes = olympic_infer.query(\n",
    "                                        variables = ['Offer'], \n",
    "                                        evidence = {'Genetics':0})\n",
    "print(prob_offer_bad_genes)"
   ]
  },
  {
   "cell_type": "markdown",
   "metadata": {},
   "source": [
    "\n",
    "The probability of obtaining an offer increases when the individual has good genetics and does practice:\n"
   ]
  },
  {
   "cell_type": "code",
   "execution_count": null,
   "metadata": {},
   "outputs": [],
   "source": [
    "prob_offer_good_genes_did_practice = olympic_infer.query(\n",
    "                                        variables = ['Offer'], \n",
    "                                        evidence = {'Genetics':1, 'Practice':1})\n",
    "print(prob_offer_good_genes_did_practice)"
   ]
  },
  {
   "cell_type": "markdown",
   "metadata": {},
   "source": [
    "\n",
    "These two queries are examples of <b>causal reasoning</b>.\n",
    "\n",
    "We can also go upstream logically as in <b>evidential reasoning</b>. For example, evidence about a great performance at the Olympic trials affects the probability distribution of <i>Genetics</i> variable:\n"
   ]
  },
  {
   "cell_type": "code",
   "execution_count": null,
   "metadata": {},
   "outputs": [],
   "source": [
    "prob_good_genes_if_amazing_olympic_trials = olympic_infer.query(\n",
    "                                        variables = ['Genetics'], \n",
    "                                        evidence = {'Trials':2})\n",
    "print(prob_good_genes_if_amazing_olympic_trials)"
   ]
  },
  {
   "cell_type": "markdown",
   "metadata": {},
   "source": [
    "\n",
    "Finally, the <b>intercausal reasoning</b> is related with the study of two variables that are parents of a third variables (v-structure of <i>Genetics => Trial <= Practice</i>). \n",
    "\n",
    "If we have evidence only about one of the parents, as they are independent, that evidence would have no effect on the probability distribution of the other variable. \n",
    "\n",
    "Once the variable <i>Trial</i> is also observed, both parents become dependent and the evidence about <i>Practice</i> does affect the marginal probability distribution of <i>Genetics</i>:"
   ]
  },
  {
   "cell_type": "code",
   "execution_count": null,
   "metadata": {},
   "outputs": [],
   "source": [
    "# Practice does not inherently tell us something about Genetics\n",
    "prob_good_genes_if_no_practice = olympic_infer.query(\n",
    "                                        variables = ['Genetics'], \n",
    "                                        evidence = {'Practice':1})\n",
    "print(prob_good_genes_if_no_practice)\n",
    "\n",
    "# Practice does not inherently tell us something about Genetics, but practice+performance does\n",
    "prob_good_genes_if_no_practice_and_great_perf = olympic_infer.query(\n",
    "                                        variables = ['Genetics'], \n",
    "                                        evidence = {'Practice':1,'Trials':2})\n",
    "print(prob_good_genes_if_no_practice_and_great_perf)"
   ]
  },
  {
   "cell_type": "markdown",
   "metadata": {},
   "source": [
    "\n",
    "As one can imagine that, if someone performs great in the Olympic trials without practice, that person must have very favorable genetics!\n",
    "\n",
    "From the point of view of BNs, we are seeing a v-structure in action. P are G are marginally independent. Once we observe T (at the bottom of the v-structure), P and G become dependent. That's why we only observe an update of the probability distribution of G once we observe both P and T.\n"
   ]
  },
  {
   "cell_type": "markdown",
   "metadata": {},
   "source": [
    "<hr />\n",
    "\n",
    "## Exercices\n",
    "\n",
    "- Which is the probability of having a regular-performance trial for someone that does practice but has not appropriate genetics?\n"
   ]
  },
  {
   "cell_type": "code",
   "execution_count": null,
   "metadata": {},
   "outputs": [],
   "source": []
  },
  {
   "cell_type": "markdown",
   "metadata": {},
   "source": [
    "- Which is the probability of receiving an offer just having good genetics? And having bad genetics?\n"
   ]
  },
  {
   "cell_type": "code",
   "execution_count": null,
   "metadata": {},
   "outputs": [],
   "source": []
  },
  {
   "cell_type": "markdown",
   "metadata": {},
   "source": [
    "\n",
    "- Which is the probability of requiring large practice for having a great performance in the Trials without appropriate genetics?"
   ]
  },
  {
   "cell_type": "code",
   "execution_count": null,
   "metadata": {},
   "outputs": [],
   "source": []
  }
 ],
 "metadata": {
  "kernelspec": {
   "display_name": "Python 3",
   "language": "python",
   "name": "python3"
  },
  "language_info": {
   "codemirror_mode": {
    "name": "ipython",
    "version": 3
   },
   "file_extension": ".py",
   "mimetype": "text/x-python",
   "name": "python",
   "nbconvert_exporter": "python",
   "pygments_lexer": "ipython3",
   "version": "3.6.10"
  },
  "widgets": {
   "state": {},
   "version": "1.1.1"
  }
 },
 "nbformat": 4,
 "nbformat_minor": 1
}
